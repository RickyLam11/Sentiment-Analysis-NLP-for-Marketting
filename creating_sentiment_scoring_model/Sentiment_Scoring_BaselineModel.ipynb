{
 "cells": [
  {
   "cell_type": "code",
   "execution_count": 1,
   "metadata": {},
   "outputs": [],
   "source": [
    "import nltk\n",
    "from nltk import sent_tokenize, pos_tag\n",
    "from nltk.tokenize import TreebankWordTokenizer\n",
    "from nltk.stem import WordNetLemmatizer\n",
    "from nltk.corpus import wordnet as wn\n",
    "from nltk.corpus import sentiwordnet as swn\n",
    "from nltk.sentiment.util import mark_negation\n",
    "from string import punctuation\n",
    "from IPython.display import display\n",
    "import pandas as pd\n",
    "import numpy as np\n",
    "import seaborn as sns\n",
    "import matplotlib.pyplot as plt\n",
    "pd.set_option('display.max_columns', None)\n",
    "pd.set_option('display.max_colwidth', None)"
   ]
  },
  {
   "cell_type": "code",
   "execution_count": 2,
   "metadata": {},
   "outputs": [
    {
     "name": "stderr",
     "output_type": "stream",
     "text": [
      "[nltk_data] Downloading package punkt to /Users/rickylam/nltk_data...\n",
      "[nltk_data]   Package punkt is already up-to-date!\n"
     ]
    },
    {
     "data": {
      "text/plain": [
       "True"
      ]
     },
     "execution_count": 2,
     "metadata": {},
     "output_type": "execute_result"
    }
   ],
   "source": [
    "nltk.download('punkt')"
   ]
  },
  {
   "cell_type": "markdown",
   "metadata": {},
   "source": [
    "### Sentiment Scoring Using SentiWordNet"
   ]
  },
  {
   "cell_type": "code",
   "execution_count": 3,
   "metadata": {},
   "outputs": [],
   "source": [
    "def penn_to_wn(tag):\n",
    "    \"\"\"\n",
    "        Convert between the PennTreebank tags to simple Wordnet tags\n",
    "    \"\"\"\n",
    "    if tag.startswith('J'):\n",
    "        return wn.ADJ\n",
    "    elif tag.startswith('N'):\n",
    "        return wn.NOUN\n",
    "    elif tag.startswith('R'):\n",
    "        return wn.ADV\n",
    "    elif tag.startswith('V'):\n",
    "        return wn.VERB\n",
    "    return None"
   ]
  },
  {
   "cell_type": "code",
   "execution_count": 4,
   "metadata": {},
   "outputs": [],
   "source": [
    "def get_sentiment_score(text):\n",
    "    \n",
    "    \"\"\"\n",
    "        This method returns the sentiment score of a given text using SentiWordNet sentiment scores.\n",
    "        input: text\n",
    "        output: numeric (double) score, >0 means positive sentiment and <0 means negative sentiment.\n",
    "    \"\"\"    \n",
    "    total_score = 0\n",
    "    #print(text)\n",
    "    raw_sentences = sent_tokenize(text)\n",
    "    #print(raw_sentences)\n",
    "    \n",
    "    for sentence in raw_sentences:\n",
    "\n",
    "        sent_score = 0     \n",
    "        sentence = str(sentence)\n",
    "        #print(sentence)\n",
    "        sentence = sentence.replace(\"<br />\",\" \").translate(str.maketrans('','',punctuation)).lower()\n",
    "        tokens = TreebankWordTokenizer().tokenize(sentence)\n",
    "        if len(tokens) == 0:\n",
    "            continue\n",
    "        tags = pos_tag(tokens)\n",
    "        for word, tag in tags:\n",
    "            wn_tag = penn_to_wn(tag)\n",
    "            if not wn_tag:\n",
    "                continue\n",
    "            lemma = WordNetLemmatizer().lemmatize(word, pos=wn_tag)\n",
    "            if not lemma:\n",
    "                continue\n",
    "            synsets = wn.synsets(lemma, pos=wn_tag)\n",
    "            if not synsets:\n",
    "                continue\n",
    "            synset = synsets[0]\n",
    "            swn_synset = swn.senti_synset(synset.name())\n",
    "            sent_score += swn_synset.pos_score() - swn_synset.neg_score()\n",
    "\n",
    "        total_score = total_score + (sent_score / len(tokens))\n",
    "\n",
    "    \n",
    "    return (total_score / len(raw_sentences)) * 100"
   ]
  },
  {
   "cell_type": "code",
   "execution_count": 5,
   "metadata": {},
   "outputs": [],
   "source": [
    "def get_sentiment_score_breakdown(text):\n",
    "    \n",
    "    \"\"\"\n",
    "        This method returns the sentiment score of a given text using SentiWordNet sentiment scores.\n",
    "        input: text\n",
    "        output: numeric (double) score, >0 means positive sentiment and <0 means negative sentiment.\n",
    "    \"\"\"    \n",
    "    total_score = 0\n",
    "#     print(text)\n",
    "    raw_sentences = sent_tokenize(text)\n",
    "#     print(raw_sentences)\n",
    "    \n",
    "    for sentence in raw_sentences:\n",
    "        print('=====')\n",
    "        \n",
    "        sent_score = 0     \n",
    "        sentence = str(sentence)\n",
    "        print(f'Processing \"{sentence}\"...')\n",
    "        sentence = sentence.replace(\"<br />\",\" \").translate(str.maketrans('','',punctuation)).lower()\n",
    "        tokens = TreebankWordTokenizer().tokenize(sentence)\n",
    "        tags = pos_tag(tokens)\n",
    "        for word, tag in tags:\n",
    "            wn_tag = penn_to_wn(tag)\n",
    "            if not wn_tag:\n",
    "                continue\n",
    "            lemma = WordNetLemmatizer().lemmatize(word, pos=wn_tag)\n",
    "            if not lemma:\n",
    "                continue\n",
    "            synsets = wn.synsets(lemma, pos=wn_tag)\n",
    "            if not synsets:\n",
    "                continue\n",
    "            synset = synsets[0]\n",
    "            swn_synset = swn.senti_synset(synset.name())\n",
    "            print(f'Score for \"{synset.name()}\" is {swn_synset.pos_score() - swn_synset.neg_score()}')\n",
    "            sent_score += swn_synset.pos_score() - swn_synset.neg_score()\n",
    "\n",
    "        print('\\n')\n",
    "        print(f'Score of \"{sentence}\" is {sent_score}')\n",
    "        print(tokens)\n",
    "        print(f'Sentence len {len(tokens)}')\n",
    "        print(f'Average scorce, of each token, is {sent_score / len(tokens)}')\n",
    "#         this average part is interesting\n",
    "        total_score = total_score + (sent_score / len(tokens))\n",
    "    \n",
    "    print('=====')\n",
    "    print('=====')\n",
    "    print(f'Number of sentence in review text is {len(raw_sentences)}')\n",
    "    print(f'Average scorce, of each sentences, is {total_score / len(raw_sentences)}')\n",
    "    return (total_score / len(raw_sentences)) * 100"
   ]
  },
  {
   "cell_type": "code",
   "execution_count": 6,
   "metadata": {},
   "outputs": [],
   "source": [
    "reviews = pd.read_csv(\"../data/sample_corpus.csv\")"
   ]
  },
  {
   "cell_type": "code",
   "execution_count": 7,
   "metadata": {},
   "outputs": [
    {
     "data": {
      "text/plain": [
       "(4500, 12)"
      ]
     },
     "execution_count": 7,
     "metadata": {},
     "output_type": "execute_result"
    }
   ],
   "source": [
    "reviews.shape"
   ]
  },
  {
   "cell_type": "code",
   "execution_count": 8,
   "metadata": {},
   "outputs": [
    {
     "data": {
      "text/html": [
       "<div>\n",
       "<style scoped>\n",
       "    .dataframe tbody tr th:only-of-type {\n",
       "        vertical-align: middle;\n",
       "    }\n",
       "\n",
       "    .dataframe tbody tr th {\n",
       "        vertical-align: top;\n",
       "    }\n",
       "\n",
       "    .dataframe thead th {\n",
       "        text-align: right;\n",
       "    }\n",
       "</style>\n",
       "<table border=\"1\" class=\"dataframe\">\n",
       "  <thead>\n",
       "    <tr style=\"text-align: right;\">\n",
       "      <th></th>\n",
       "      <th>overall</th>\n",
       "      <th>verified</th>\n",
       "      <th>reviewTime</th>\n",
       "      <th>reviewerID</th>\n",
       "      <th>asin</th>\n",
       "      <th>reviewerName</th>\n",
       "      <th>reviewText</th>\n",
       "      <th>summary</th>\n",
       "      <th>unixReviewTime</th>\n",
       "      <th>vote</th>\n",
       "      <th>style</th>\n",
       "      <th>image</th>\n",
       "    </tr>\n",
       "  </thead>\n",
       "  <tbody>\n",
       "    <tr>\n",
       "      <th>0</th>\n",
       "      <td>1.0</td>\n",
       "      <td>False</td>\n",
       "      <td>01 5, 2001</td>\n",
       "      <td>A1NUEOW1WLQARL</td>\n",
       "      <td>B00004WI4D</td>\n",
       "      <td>Third Shift</td>\n",
       "      <td>You heard right, this game has no SaveGame. It 'saves' only at the end of each of the 13 levels. The levels are huge, and 1 shot can kill you, or raising the alarm, or 50 other things. They say it's for realism, truth is that Eidos wanted this game out by Xmas. Unless you like being very frustrated, and repeating a level from the start time after time after time, buy something else. If you played SOF on hard setting all the way through without saving, go ahead and get IGI, otherwise you'll have to play this game w/it's 'trainer'. It's a hack that gives you unlimited health, but that takes alot of fun out. Design is monotonous with only 10 buildings that just repeat level after level. So overall, close but no cigar. This COULD have been a cool game w/a savegame and more levels, but it's not. Try NoOneLivesForever or something else AT LEAST until Eidos offers a savegame patch. This game is 95% SOF(great game),and 5% cool, new ideas like cameras,alarms,real weapons, but without varied design &amp; all ruined by an unforgiveable mistake. Save your money.</td>\n",
       "      <td>Some good ideas, but No Save Game &amp; other problems</td>\n",
       "      <td>978652800</td>\n",
       "      <td>2.0</td>\n",
       "      <td>NaN</td>\n",
       "      <td>NaN</td>\n",
       "    </tr>\n",
       "    <tr>\n",
       "      <th>1</th>\n",
       "      <td>1.0</td>\n",
       "      <td>False</td>\n",
       "      <td>08 23, 2016</td>\n",
       "      <td>A3U4WRQMUFFQDS</td>\n",
       "      <td>B00ZQB28XK</td>\n",
       "      <td>J. S. Harvey</td>\n",
       "      <td>Wonder why no one is returning NMS??  sound pretty bad everyone here and youtube saying how horrible it is.</td>\n",
       "      <td>sound pretty bad everyone here and youtube saying how horrible it ...</td>\n",
       "      <td>1471910400</td>\n",
       "      <td>NaN</td>\n",
       "      <td>NaN</td>\n",
       "      <td>NaN</td>\n",
       "    </tr>\n",
       "    <tr>\n",
       "      <th>2</th>\n",
       "      <td>1.0</td>\n",
       "      <td>True</td>\n",
       "      <td>09 21, 2015</td>\n",
       "      <td>A1AGVUZU41WHDH</td>\n",
       "      <td>B00129I75I</td>\n",
       "      <td>Mom J.W.</td>\n",
       "      <td>The cords were for the X-Box 360 instead of the original X-Box.  I did get a refund, though.</td>\n",
       "      <td>Wrong cords</td>\n",
       "      <td>1442793600</td>\n",
       "      <td>NaN</td>\n",
       "      <td>NaN</td>\n",
       "      <td>NaN</td>\n",
       "    </tr>\n",
       "    <tr>\n",
       "      <th>3</th>\n",
       "      <td>1.0</td>\n",
       "      <td>False</td>\n",
       "      <td>05 19, 2015</td>\n",
       "      <td>A2TCG2HV1VJP6V</td>\n",
       "      <td>B000SFK0SE</td>\n",
       "      <td>Ryan Sil. (Gamer &amp;amp; PC/Android indie dev)</td>\n",
       "      <td>Why am I the first person on Amazon to give this a negative review? Parents of 2007 and onward, you all should have realized what you just let your children get a hold of; despite the awesome Cartoon Network show this game is based off of, that's about the only good thing the game provides at all. You'd think a game where you play as an imaginary friend and navigate a giant orphanage full of endless wonder would at least make for decent fun, especially considering this is based off of one episode in particular where they play pretend to defeat evil monsters that were accidentally imagined.\\n\\nBut no. Imagination Invaders is awful. Awful, awful, awful. It doesn't even try to live up to its name.\\n\\nYou play as Bloo, and while you do get to roam the halls of Foster's Home, that's pretty much the entire game right there. You go around and search rooms, looking for objects, and then eventually bringing them back to the characters that desired them, and the formula repeats. Yes, I'm serious. This is a Foster's Home for Imaginary Friends game, and that's the best they could come up with. How IMAGINATIVE!\\n\\nThe game tries sprinkling elements that seem like they should matter on top of the \"action\" but they really don't matter. The Space Nut Boogies walking around? They move too slow, so I can just search almost right in front of them without a care. The transitional minigame where you shoot web at them? I can rapidly tap the stylus on them all I want and they won't be able to do jack. The character abilities obtained by gathering allies? You do these on specially marked tiles, and all they do is allow you to continue with your incredibly boring task of searching for things in those areas that require them.\\n\\nThat's the keyword: BORING. This game is that, and with a license of this, BORING is the last thing this game should have ever been!</td>\n",
       "      <td>Where's the imagination?</td>\n",
       "      <td>1431993600</td>\n",
       "      <td>NaN</td>\n",
       "      <td>NaN</td>\n",
       "      <td>NaN</td>\n",
       "    </tr>\n",
       "    <tr>\n",
       "      <th>4</th>\n",
       "      <td>1.0</td>\n",
       "      <td>True</td>\n",
       "      <td>01 1, 2013</td>\n",
       "      <td>A38FTSF7HHCII</td>\n",
       "      <td>B007Z3UUF0</td>\n",
       "      <td>Jack Pacini</td>\n",
       "      <td>I really wanted to like this game. I'm a huge Family Guy fan, so I was excited to see a new Family Guy game. I liked the older one on PS2/XBOX&amp;nbsp;&lt;a data-hook=\"product-link-linked\" class=\"a-link-normal\" href=\"/Family-Guy/dp/B000GDJJP8/ref=cm_cr_arp_d_rvw_txt?ie=UTF8\"&gt;Family Guy&lt;/a&gt;, it wasn't the greatest game ever, but it had enough original material and decent enough gameplay, that it won me over. This game is the polar opposite of that older game.\\n\\nThe voice \"acting\" is mostly sound clips from the show, most of which doesn't even pertain to what's going on around you. Heck most of what Stewie &amp; Brian say during gameplay, I had on a soundboard type key-chain back when the show was in cancellation! Talk about phoned in! I will admit that the cut scenes and mission briefings are original material. The problem is that it makes little to no sense, and is not funny in the slightest.\\n\\nNow the gameplay... Oh gods how could the muck up gameplay so bad? How is a shooter any fun when hoards of enemies constantly run right up to you? How are you supposed to shoot someone who is right up your butt? Not only that but there are endless waves of them coming from all directions! The older game had a similar problem (not nearly this bad), but it was broken up by stealth missions &amp; some platforming. This game has none of that, as far as I played it was constant shooting wave after wave of carbon copies that mindlessly run up on you, faster than you yourself can run I might add.\\n\\nAlso, Bertram has got to go and stay gone! What ever happened to Stewie's nemesis being Lois? That was funny because sometimes it can seem as if a toddler IS out to get it's mother. Bertram is annoying and wore out his welcome after the second episode with him in it. I thought we were finally done with him when he was killed last season, but no, he's back from one of the Multiverses (Multiversi?) with his own Multiverse remote. Hence the plot of this game. Well, I guess if there is anything Family Guy excels at it's beating a dead horse...\\n\\nI feel ashamed of myself for spending $45 on this game. I have no doubt it will be around $10 in a few months as word of how awful it is gets around. I could have picked it up then to put next to my Family Guy DVD collection, because that's all this game is to me now. An oddity that completes my collection, not something to be played and enjoyed, just a case to look at and say \"That is exactly how to make a bad game, right there!\"\\n\\nStill after one mediocre and one horridly awful game I still have faith that there is a decent video game to be made from the Family Guy universe. This however, is absolutely not it! Save your money folks!</td>\n",
       "      <td>Wow! How could the developers find this game fun?</td>\n",
       "      <td>1356998400</td>\n",
       "      <td>5.0</td>\n",
       "      <td>{'Format:': ' Video Game'}</td>\n",
       "      <td>NaN</td>\n",
       "    </tr>\n",
       "  </tbody>\n",
       "</table>\n",
       "</div>"
      ],
      "text/plain": [
       "   overall  verified   reviewTime      reviewerID        asin  \\\n",
       "0      1.0     False   01 5, 2001  A1NUEOW1WLQARL  B00004WI4D   \n",
       "1      1.0     False  08 23, 2016  A3U4WRQMUFFQDS  B00ZQB28XK   \n",
       "2      1.0      True  09 21, 2015  A1AGVUZU41WHDH  B00129I75I   \n",
       "3      1.0     False  05 19, 2015  A2TCG2HV1VJP6V  B000SFK0SE   \n",
       "4      1.0      True   01 1, 2013   A38FTSF7HHCII  B007Z3UUF0   \n",
       "\n",
       "                                   reviewerName  \\\n",
       "0                                   Third Shift   \n",
       "1                                  J. S. Harvey   \n",
       "2                                      Mom J.W.   \n",
       "3  Ryan Sil. (Gamer &amp; PC/Android indie dev)   \n",
       "4                                   Jack Pacini   \n",
       "\n",
       "                                                                                                                                                                                                                                                                                                                                                                                                                                                                                                                                                                                                                                                                                                                                                                                                                                                                                                                                                                                                                                                                                                                                                                                                                                                                                                                                                                                                                                                                                                                                                                                                                                                                                                                                                                                                                                                                                                                                                                                                                                                                                                                                                                                                                                                                                                                                                                                                                                                                                                                                                                                                                                                                                                                                                                                         reviewText  \\\n",
       "0                                                                                                                                                                                                                                                                                                                                                                                                                                                                                                                                                                                                                                                                                                                                                                                                                                                                                                                                                                                                                                                                                                                                                                                                                                                                                                                                                                                                                                                                                                                                                                                                                                                                                            You heard right, this game has no SaveGame. It 'saves' only at the end of each of the 13 levels. The levels are huge, and 1 shot can kill you, or raising the alarm, or 50 other things. They say it's for realism, truth is that Eidos wanted this game out by Xmas. Unless you like being very frustrated, and repeating a level from the start time after time after time, buy something else. If you played SOF on hard setting all the way through without saving, go ahead and get IGI, otherwise you'll have to play this game w/it's 'trainer'. It's a hack that gives you unlimited health, but that takes alot of fun out. Design is monotonous with only 10 buildings that just repeat level after level. So overall, close but no cigar. This COULD have been a cool game w/a savegame and more levels, but it's not. Try NoOneLivesForever or something else AT LEAST until Eidos offers a savegame patch. This game is 95% SOF(great game),and 5% cool, new ideas like cameras,alarms,real weapons, but without varied design & all ruined by an unforgiveable mistake. Save your money.   \n",
       "1                                                                                                                                                                                                                                                                                                                                                                                                                                                                                                                                                                                                                                                                                                                                                                                                                                                                                                                                                                                                                                                                                                                                                                                                                                                                                                                                                                                                                                                                                                                                                                                                                                                                                                                                                                                                                                                                                                                                                                                                                                                                                                                                                                                                                                                                                                                                                                                                                                                                                                                                                                                                                                                                                       Wonder why no one is returning NMS??  sound pretty bad everyone here and youtube saying how horrible it is.   \n",
       "2                                                                                                                                                                                                                                                                                                                                                                                                                                                                                                                                                                                                                                                                                                                                                                                                                                                                                                                                                                                                                                                                                                                                                                                                                                                                                                                                                                                                                                                                                                                                                                                                                                                                                                                                                                                                                                                                                                                                                                                                                                                                                                                                                                                                                                                                                                                                                                                                                                                                                                                                                                                                                                                                                                      The cords were for the X-Box 360 instead of the original X-Box.  I did get a refund, though.   \n",
       "3                                                                                                                                                                                                                                                                                                                                                                                                                                                                                                                                                                                                                                                                                                                                                                                                                                                         Why am I the first person on Amazon to give this a negative review? Parents of 2007 and onward, you all should have realized what you just let your children get a hold of; despite the awesome Cartoon Network show this game is based off of, that's about the only good thing the game provides at all. You'd think a game where you play as an imaginary friend and navigate a giant orphanage full of endless wonder would at least make for decent fun, especially considering this is based off of one episode in particular where they play pretend to defeat evil monsters that were accidentally imagined.\\n\\nBut no. Imagination Invaders is awful. Awful, awful, awful. It doesn't even try to live up to its name.\\n\\nYou play as Bloo, and while you do get to roam the halls of Foster's Home, that's pretty much the entire game right there. You go around and search rooms, looking for objects, and then eventually bringing them back to the characters that desired them, and the formula repeats. Yes, I'm serious. This is a Foster's Home for Imaginary Friends game, and that's the best they could come up with. How IMAGINATIVE!\\n\\nThe game tries sprinkling elements that seem like they should matter on top of the \"action\" but they really don't matter. The Space Nut Boogies walking around? They move too slow, so I can just search almost right in front of them without a care. The transitional minigame where you shoot web at them? I can rapidly tap the stylus on them all I want and they won't be able to do jack. The character abilities obtained by gathering allies? You do these on specially marked tiles, and all they do is allow you to continue with your incredibly boring task of searching for things in those areas that require them.\\n\\nThat's the keyword: BORING. This game is that, and with a license of this, BORING is the last thing this game should have ever been!   \n",
       "4  I really wanted to like this game. I'm a huge Family Guy fan, so I was excited to see a new Family Guy game. I liked the older one on PS2/XBOX&nbsp;<a data-hook=\"product-link-linked\" class=\"a-link-normal\" href=\"/Family-Guy/dp/B000GDJJP8/ref=cm_cr_arp_d_rvw_txt?ie=UTF8\">Family Guy</a>, it wasn't the greatest game ever, but it had enough original material and decent enough gameplay, that it won me over. This game is the polar opposite of that older game.\\n\\nThe voice \"acting\" is mostly sound clips from the show, most of which doesn't even pertain to what's going on around you. Heck most of what Stewie & Brian say during gameplay, I had on a soundboard type key-chain back when the show was in cancellation! Talk about phoned in! I will admit that the cut scenes and mission briefings are original material. The problem is that it makes little to no sense, and is not funny in the slightest.\\n\\nNow the gameplay... Oh gods how could the muck up gameplay so bad? How is a shooter any fun when hoards of enemies constantly run right up to you? How are you supposed to shoot someone who is right up your butt? Not only that but there are endless waves of them coming from all directions! The older game had a similar problem (not nearly this bad), but it was broken up by stealth missions & some platforming. This game has none of that, as far as I played it was constant shooting wave after wave of carbon copies that mindlessly run up on you, faster than you yourself can run I might add.\\n\\nAlso, Bertram has got to go and stay gone! What ever happened to Stewie's nemesis being Lois? That was funny because sometimes it can seem as if a toddler IS out to get it's mother. Bertram is annoying and wore out his welcome after the second episode with him in it. I thought we were finally done with him when he was killed last season, but no, he's back from one of the Multiverses (Multiversi?) with his own Multiverse remote. Hence the plot of this game. Well, I guess if there is anything Family Guy excels at it's beating a dead horse...\\n\\nI feel ashamed of myself for spending $45 on this game. I have no doubt it will be around $10 in a few months as word of how awful it is gets around. I could have picked it up then to put next to my Family Guy DVD collection, because that's all this game is to me now. An oddity that completes my collection, not something to be played and enjoyed, just a case to look at and say \"That is exactly how to make a bad game, right there!\"\\n\\nStill after one mediocre and one horridly awful game I still have faith that there is a decent video game to be made from the Family Guy universe. This however, is absolutely not it! Save your money folks!   \n",
       "\n",
       "                                                                 summary  \\\n",
       "0                     Some good ideas, but No Save Game & other problems   \n",
       "1  sound pretty bad everyone here and youtube saying how horrible it ...   \n",
       "2                                                            Wrong cords   \n",
       "3                                               Where's the imagination?   \n",
       "4                      Wow! How could the developers find this game fun?   \n",
       "\n",
       "   unixReviewTime  vote                       style image  \n",
       "0       978652800   2.0                         NaN   NaN  \n",
       "1      1471910400   NaN                         NaN   NaN  \n",
       "2      1442793600   NaN                         NaN   NaN  \n",
       "3      1431993600   NaN                         NaN   NaN  \n",
       "4      1356998400   5.0  {'Format:': ' Video Game'}   NaN  "
      ]
     },
     "execution_count": 8,
     "metadata": {},
     "output_type": "execute_result"
    }
   ],
   "source": [
    "reviews.head()"
   ]
  },
  {
   "cell_type": "code",
   "execution_count": 9,
   "metadata": {},
   "outputs": [],
   "source": [
    "reviews.dropna(subset=['reviewText'], inplace=True)"
   ]
  },
  {
   "cell_type": "code",
   "execution_count": 10,
   "metadata": {},
   "outputs": [
    {
     "data": {
      "text/plain": [
       "(4500, 12)"
      ]
     },
     "execution_count": 10,
     "metadata": {},
     "output_type": "execute_result"
    }
   ],
   "source": [
    "reviews.shape"
   ]
  },
  {
   "cell_type": "code",
   "execution_count": 11,
   "metadata": {},
   "outputs": [
    {
     "name": "stdout",
     "output_type": "stream",
     "text": [
      "<class 'pandas.core.frame.DataFrame'>\n",
      "Int64Index: 4500 entries, 0 to 4499\n",
      "Data columns (total 12 columns):\n",
      " #   Column          Non-Null Count  Dtype  \n",
      "---  ------          --------------  -----  \n",
      " 0   overall         4500 non-null   float64\n",
      " 1   verified        4500 non-null   bool   \n",
      " 2   reviewTime      4500 non-null   object \n",
      " 3   reviewerID      4500 non-null   object \n",
      " 4   asin            4500 non-null   object \n",
      " 5   reviewerName    4498 non-null   object \n",
      " 6   reviewText      4500 non-null   object \n",
      " 7   summary         4499 non-null   object \n",
      " 8   unixReviewTime  4500 non-null   int64  \n",
      " 9   vote            1342 non-null   float64\n",
      " 10  style           2706 non-null   object \n",
      " 11  image           41 non-null     object \n",
      "dtypes: bool(1), float64(2), int64(1), object(8)\n",
      "memory usage: 426.3+ KB\n"
     ]
    }
   ],
   "source": [
    "reviews.info()"
   ]
  },
  {
   "cell_type": "code",
   "execution_count": 12,
   "metadata": {},
   "outputs": [
    {
     "data": {
      "text/html": [
       "<div>\n",
       "<style scoped>\n",
       "    .dataframe tbody tr th:only-of-type {\n",
       "        vertical-align: middle;\n",
       "    }\n",
       "\n",
       "    .dataframe tbody tr th {\n",
       "        vertical-align: top;\n",
       "    }\n",
       "\n",
       "    .dataframe thead th {\n",
       "        text-align: right;\n",
       "    }\n",
       "</style>\n",
       "<table border=\"1\" class=\"dataframe\">\n",
       "  <thead>\n",
       "    <tr style=\"text-align: right;\">\n",
       "      <th></th>\n",
       "      <th>reviewText</th>\n",
       "    </tr>\n",
       "  </thead>\n",
       "  <tbody>\n",
       "    <tr>\n",
       "      <th>270</th>\n",
       "      <td>The picture shows the pre-2013 version but they are  selling the 2013 Pro version.  Very misleading, especially those of us who prefer the pre-2013 versions.</td>\n",
       "    </tr>\n",
       "    <tr>\n",
       "      <th>970</th>\n",
       "      <td>Game over MAN! Do not play. Don't buy or rent this game, if I could give it no stars that what it would get...</td>\n",
       "    </tr>\n",
       "    <tr>\n",
       "      <th>3059</th>\n",
       "      <td>Love it THANKS!</td>\n",
       "    </tr>\n",
       "    <tr>\n",
       "      <th>4296</th>\n",
       "      <td>TX</td>\n",
       "    </tr>\n",
       "    <tr>\n",
       "      <th>3346</th>\n",
       "      <td>I've been playing COD since MW2 and this is the best out of the group. Zombie modes are great and all the maps are very memorable.</td>\n",
       "    </tr>\n",
       "  </tbody>\n",
       "</table>\n",
       "</div>"
      ],
      "text/plain": [
       "                                                                                                                                                         reviewText\n",
       "270   The picture shows the pre-2013 version but they are  selling the 2013 Pro version.  Very misleading, especially those of us who prefer the pre-2013 versions.\n",
       "970                                                  Game over MAN! Do not play. Don't buy or rent this game, if I could give it no stars that what it would get...\n",
       "3059                                                                                                                                                Love it THANKS!\n",
       "4296                                                                                                                                                             TX\n",
       "3346                             I've been playing COD since MW2 and this is the best out of the group. Zombie modes are great and all the maps are very memorable."
      ]
     },
     "execution_count": 12,
     "metadata": {},
     "output_type": "execute_result"
    }
   ],
   "source": [
    "reviews[reviews['reviewText'].str.len()<=200][['reviewText']].sample(5)"
   ]
  },
  {
   "cell_type": "code",
   "execution_count": 13,
   "metadata": {},
   "outputs": [
    {
     "name": "stdout",
     "output_type": "stream",
     "text": [
      "=====\n",
      "Processing \"I love rechargeable battery packs, but either the charger or the batteries that I got seem to stop charging too early.\"...\n",
      "Score for \"iodine.n.01\" is 0.0\n",
      "Score for \"love.v.01\" is 0.5\n",
      "Score for \"rechargeable.s.01\" is 0.625\n",
      "Score for \"battery.n.01\" is 0.0\n",
      "Score for \"battalion.n.02\" is -0.25\n",
      "Score for \"charger.n.01\" is 0.125\n",
      "Score for \"battery.n.01\" is 0.0\n",
      "Score for \"iodine.n.01\" is 0.0\n",
      "Score for \"get.v.01\" is 0.125\n",
      "Score for \"look.v.02\" is 0.0\n",
      "Score for \"stop.v.01\" is 0.0\n",
      "Score for \"charge.v.01\" is 0.0\n",
      "Score for \"excessively.r.01\" is -0.125\n",
      "Score for \"early.a.01\" is 0.0\n",
      "\n",
      "\n",
      "Score of \"i love rechargeable battery packs but either the charger or the batteries that i got seem to stop charging too early\" is 1.0\n",
      "['i', 'love', 'rechargeable', 'battery', 'packs', 'but', 'either', 'the', 'charger', 'or', 'the', 'batteries', 'that', 'i', 'got', 'seem', 'to', 'stop', 'charging', 'too', 'early']\n",
      "Sentence len 21\n",
      "Average scorce, of each token, is 0.047619047619047616\n",
      "=====\n",
      "Processing \"When I start charging on at least one of the packs, the little \"done charging\" light turns green just a few seconds later and stops charging.\"...\n",
      "Score for \"one.s.01\" is -0.25\n",
      "Score for \"get_down.v.07\" is 0.0\n",
      "Score for \"charge.v.01\" is 0.0\n",
      "Score for \"least.a.01\" is 0.0\n",
      "Score for \"battalion.n.02\" is -0.25\n",
      "Score for \"small.a.01\" is -0.375\n",
      "Score for \"make.v.01\" is 0.0\n",
      "Score for \"charge.v.01\" is 0.0\n",
      "Score for \"light.n.01\" is 0.0\n",
      "Score for \"turn.v.01\" is 0.0\n",
      "Score for \"green.s.01\" is -0.125\n",
      "Score for \"merely.r.01\" is 0.0\n",
      "Score for \"few.a.01\" is 0.0\n",
      "Score for \"second.n.01\" is 0.0\n",
      "Score for \"subsequently.r.01\" is 0.0\n",
      "Score for \"stop.n.01\" is 0.0\n",
      "Score for \"charge.v.01\" is 0.0\n",
      "\n",
      "\n",
      "Score of \"when i start charging on at least one of the packs the little done charging light turns green just a few seconds later and stops charging\" is -1.0\n",
      "['when', 'i', 'start', 'charging', 'on', 'at', 'least', 'one', 'of', 'the', 'packs', 'the', 'little', 'done', 'charging', 'light', 'turns', 'green', 'just', 'a', 'few', 'seconds', 'later', 'and', 'stops', 'charging']\n",
      "Sentence len 26\n",
      "Average scorce, of each token, is -0.038461538461538464\n",
      "=====\n",
      "Processing \"I checked on my Wii to make sure it was charged, but it is not, the think conks out in less than thirty minutes.\"...\n",
      "Score for \"iodine.n.01\" is 0.0\n",
      "Score for \"check.v.01\" is 0.5\n",
      "Score for \"make.v.01\" is 0.0\n",
      "Score for \"certain.a.02\" is -0.25\n",
      "Score for \"be.v.01\" is 0.125\n",
      "Score for \"charge.v.01\" is 0.0\n",
      "Score for \"be.v.01\" is 0.125\n",
      "Score for \"not.r.01\" is -0.625\n",
      "Score for \"think.n.01\" is 0.0\n",
      "Score for \"stall.v.02\" is 0.0\n",
      "Score for \"out.r.01\" is 0.0\n",
      "Score for \"less.a.01\" is -0.5\n",
      "Score for \"thirty.n.01\" is 0.0\n",
      "Score for \"minute.n.01\" is 0.0\n",
      "\n",
      "\n",
      "Score of \"i checked on my wii to make sure it was charged but it is not the think conks out in less than thirty minutes\" is -0.625\n",
      "['i', 'checked', 'on', 'my', 'wii', 'to', 'make', 'sure', 'it', 'was', 'charged', 'but', 'it', 'is', 'not', 'the', 'think', 'conks', 'out', 'in', 'less', 'than', 'thirty', 'minutes']\n",
      "Sentence len 24\n",
      "Average scorce, of each token, is -0.026041666666666668\n",
      "=====\n",
      "Processing \"That just won't fly for a power gamer like me.\"...\n",
      "Score for \"merely.r.01\" is 0.0\n",
      "Score for \"fly.n.01\" is 0.0\n",
      "Score for \"power.n.01\" is 0.0\n",
      "\n",
      "\n",
      "Score of \"that just wont fly for a power gamer like me\" is 0.0\n",
      "['that', 'just', 'wont', 'fly', 'for', 'a', 'power', 'gamer', 'like', 'me']\n",
      "Sentence len 10\n",
      "Average scorce, of each token, is 0.0\n",
      "=====\n",
      "Processing \"Fail.\"...\n",
      "\n",
      "\n",
      "Score of \"fail\" is 0\n",
      "['fail']\n",
      "Sentence len 1\n",
      "Average scorce, of each token, is 0.0\n",
      "=====\n",
      "=====\n",
      "Number of sentence in review text is 5\n",
      "Average scorce, of each sentences, is -0.003376831501831503\n"
     ]
    },
    {
     "data": {
      "text/plain": [
       "-0.33768315018315026"
      ]
     },
     "execution_count": 13,
     "metadata": {},
     "output_type": "execute_result"
    }
   ],
   "source": [
    "get_sentiment_score_breakdown(reviews['reviewText'][304])"
   ]
  },
  {
   "cell_type": "code",
   "execution_count": 14,
   "metadata": {},
   "outputs": [],
   "source": [
    "reviews['swn_score'] = reviews['reviewText'].apply(lambda text : get_sentiment_score(text))"
   ]
  },
  {
   "cell_type": "code",
   "execution_count": 15,
   "metadata": {},
   "outputs": [
    {
     "data": {
      "text/html": [
       "<div>\n",
       "<style scoped>\n",
       "    .dataframe tbody tr th:only-of-type {\n",
       "        vertical-align: middle;\n",
       "    }\n",
       "\n",
       "    .dataframe tbody tr th {\n",
       "        vertical-align: top;\n",
       "    }\n",
       "\n",
       "    .dataframe thead th {\n",
       "        text-align: right;\n",
       "    }\n",
       "</style>\n",
       "<table border=\"1\" class=\"dataframe\">\n",
       "  <thead>\n",
       "    <tr style=\"text-align: right;\">\n",
       "      <th></th>\n",
       "      <th>reviewText</th>\n",
       "      <th>swn_score</th>\n",
       "    </tr>\n",
       "  </thead>\n",
       "  <tbody>\n",
       "    <tr>\n",
       "      <th>385</th>\n",
       "      <td>Single player is interesting. Multiplayer is horrid. Black Ops 3 played better and these new \"rigs\" are a poor substitute for BO3 Specialist.\\nI don't touch Infinite Warfare's Multiplayer because of how bad it's gotten. Map designs are horrendous along side the spawn points.\\nModern Warfare as nostalgic as it is full of campers and the most hardcore k/d obsessed players but still a fun game in general. The player base is adjusting from jumps to boots on the ground.</td>\n",
       "      <td>-4.513889</td>\n",
       "    </tr>\n",
       "    <tr>\n",
       "      <th>3977</th>\n",
       "      <td>Quality over quanity. If you are looking for a simulator with top tier quality look no further, GTsport has less content but quality over the competition. The Gameplay is second to none and with the free 400+ cars dlc to come you cant really complain. Yes there is no traditional campaign, instead there are challenges that teaches you how to become better behind the wheel. This time the focus is the online and while a regular campaign would have been nice, the online gives you more replayability. A problem with previous gran turismos</td>\n",
       "      <td>3.379974</td>\n",
       "    </tr>\n",
       "  </tbody>\n",
       "</table>\n",
       "</div>"
      ],
      "text/plain": [
       "                                                                                                                                                                                                                                                                                                                                                                                                                                                                                                                                                      reviewText  \\\n",
       "385                                                                        Single player is interesting. Multiplayer is horrid. Black Ops 3 played better and these new \"rigs\" are a poor substitute for BO3 Specialist.\\nI don't touch Infinite Warfare's Multiplayer because of how bad it's gotten. Map designs are horrendous along side the spawn points.\\nModern Warfare as nostalgic as it is full of campers and the most hardcore k/d obsessed players but still a fun game in general. The player base is adjusting from jumps to boots on the ground.   \n",
       "3977  Quality over quanity. If you are looking for a simulator with top tier quality look no further, GTsport has less content but quality over the competition. The Gameplay is second to none and with the free 400+ cars dlc to come you cant really complain. Yes there is no traditional campaign, instead there are challenges that teaches you how to become better behind the wheel. This time the focus is the online and while a regular campaign would have been nice, the online gives you more replayability. A problem with previous gran turismos   \n",
       "\n",
       "      swn_score  \n",
       "385   -4.513889  \n",
       "3977   3.379974  "
      ]
     },
     "execution_count": 15,
     "metadata": {},
     "output_type": "execute_result"
    }
   ],
   "source": [
    "reviews[['reviewText','swn_score']].sample(2)"
   ]
  },
  {
   "cell_type": "code",
   "execution_count": 16,
   "metadata": {},
   "outputs": [
    {
     "data": {
      "text/html": [
       "<div>\n",
       "<style scoped>\n",
       "    .dataframe tbody tr th:only-of-type {\n",
       "        vertical-align: middle;\n",
       "    }\n",
       "\n",
       "    .dataframe tbody tr th {\n",
       "        vertical-align: top;\n",
       "    }\n",
       "\n",
       "    .dataframe thead th {\n",
       "        text-align: right;\n",
       "    }\n",
       "</style>\n",
       "<table border=\"1\" class=\"dataframe\">\n",
       "  <thead>\n",
       "    <tr style=\"text-align: right;\">\n",
       "      <th></th>\n",
       "      <th>reviewText</th>\n",
       "      <th>swn_score</th>\n",
       "    </tr>\n",
       "  </thead>\n",
       "  <tbody>\n",
       "    <tr>\n",
       "      <th>3963</th>\n",
       "      <td>That's all I can pretty much say. This game is so realistic, I can't belive my eyes. The graphics are great, the fighting's terrific, and the cops are powerful. Yes, this game's a little, ok a lot, bloody. But this game's not for Christians or protective mothers. This game has some great voice acting. There's some charecters from Sopranos, Twin Peaks, and Time Bandits in this. The radios kick ... also. My favorite is Chatterbox. This game has it all. Amazing.</td>\n",
       "      <td>-0.969517</td>\n",
       "    </tr>\n",
       "    <tr>\n",
       "      <th>2690</th>\n",
       "      <td>The revenant statue is very detailed and feels sturdy. The battery cover on the bottom however was still fused to the bottom plastic therefore I had to carefully cut it to put batteries into mine. Quality control must have taken a brake when this one went by. Other than that everything else worked.\\n\\nThe game play is much better than DOOM 3 was. No more boring prologue. You get jumped right into the game just like the original DOOM. The glory kills where fun at first then they just became repetitive after a while. It took me just over 12.5 hours to be the game on Ultra-Violence and I found about half of the secret items. All in all I really like this game, it's much better than the typical FPS on the market. I tried to play the multiplayer but would not connect to a game so I didn't bother with it.</td>\n",
       "      <td>-0.053647</td>\n",
       "    </tr>\n",
       "  </tbody>\n",
       "</table>\n",
       "</div>"
      ],
      "text/plain": [
       "                                                                                                                                                                                                                                                                                                                                                                                                                                                                                                                                                                                                                                                                                                                                                                                                                                      reviewText  \\\n",
       "3963                                                                                                                                                                                                                                                                                                                                                             That's all I can pretty much say. This game is so realistic, I can't belive my eyes. The graphics are great, the fighting's terrific, and the cops are powerful. Yes, this game's a little, ok a lot, bloody. But this game's not for Christians or protective mothers. This game has some great voice acting. There's some charecters from Sopranos, Twin Peaks, and Time Bandits in this. The radios kick ... also. My favorite is Chatterbox. This game has it all. Amazing.   \n",
       "2690  The revenant statue is very detailed and feels sturdy. The battery cover on the bottom however was still fused to the bottom plastic therefore I had to carefully cut it to put batteries into mine. Quality control must have taken a brake when this one went by. Other than that everything else worked.\\n\\nThe game play is much better than DOOM 3 was. No more boring prologue. You get jumped right into the game just like the original DOOM. The glory kills where fun at first then they just became repetitive after a while. It took me just over 12.5 hours to be the game on Ultra-Violence and I found about half of the secret items. All in all I really like this game, it's much better than the typical FPS on the market. I tried to play the multiplayer but would not connect to a game so I didn't bother with it.   \n",
       "\n",
       "      swn_score  \n",
       "3963  -0.969517  \n",
       "2690  -0.053647  "
      ]
     },
     "execution_count": 16,
     "metadata": {},
     "output_type": "execute_result"
    }
   ],
   "source": [
    "reviews[['reviewText','swn_score']].sample(2)"
   ]
  },
  {
   "cell_type": "markdown",
   "metadata": {},
   "source": [
    "### Simple Graph"
   ]
  },
  {
   "cell_type": "code",
   "execution_count": 17,
   "metadata": {},
   "outputs": [],
   "source": [
    "# we will adjust these number later\n",
    "positiveScore = 1\n",
    "negativeScore = 0.5"
   ]
  },
  {
   "cell_type": "code",
   "execution_count": 18,
   "metadata": {},
   "outputs": [
    {
     "data": {
      "image/png": "[encoded data removed]",
      "text/plain": [
       "<Figure size 1440x720 with 1 Axes>"
      ]
     },
     "metadata": {
      "needs_background": "light"
     },
     "output_type": "display_data"
    }
   ],
   "source": [
    "fig , ax = plt.subplots(nrows=1, ncols=1, figsize=(20,10))\n",
    "sns.histplot(x='swn_score', data=reviews.query(\"swn_score < 8 and swn_score > -8\"), ax=ax)\n",
    "# sns.histplot(x='swn_score', data=reviews.query(\"swn_score > 8\"), ax=ax)\n",
    "# sns.histplot(x='swn_score', data=reviews, ax=ax)\n",
    "plt.show()"
   ]
  },
  {
   "cell_type": "code",
   "execution_count": 19,
   "metadata": {},
   "outputs": [],
   "source": [
    "reviews['swn_sentiment'] = reviews['swn_score'].apply(lambda x:\n",
    "                                                      \"positive\"\n",
    "                                                      if x > positiveScore\n",
    "                                                      else (\"negative\" if x < negativeScore else \"neutral\")\n",
    "                                                     )"
   ]
  },
  {
   "cell_type": "code",
   "execution_count": 20,
   "metadata": {},
   "outputs": [
    {
     "data": {
      "text/plain": [
       "positive    2241\n",
       "negative    1939\n",
       "neutral      320\n",
       "Name: swn_sentiment, dtype: int64"
      ]
     },
     "execution_count": 20,
     "metadata": {},
     "output_type": "execute_result"
    }
   ],
   "source": [
    "reviews['swn_sentiment'].value_counts(dropna=False)"
   ]
  },
  {
   "cell_type": "code",
   "execution_count": 21,
   "metadata": {},
   "outputs": [
    {
     "data": {
      "text/plain": [
       "<AxesSubplot:xlabel='overall', ylabel='count'>"
      ]
     },
     "execution_count": 21,
     "metadata": {},
     "output_type": "execute_result"
    },
    {
     "data": {
      "image/png": "[encoded data removed]",
      "text/plain": [
       "<Figure size 432x288 with 1 Axes>"
      ]
     },
     "metadata": {
      "needs_background": "light"
     },
     "output_type": "display_data"
    }
   ],
   "source": [
    "sns.countplot(x='overall', hue='swn_sentiment' ,data = reviews)"
   ]
  },
  {
   "cell_type": "code",
   "execution_count": 22,
   "metadata": {},
   "outputs": [
    {
     "data": {
      "text/plain": [
       "<AxesSubplot:xlabel='swn_sentiment', ylabel='overall'>"
      ]
     },
     "execution_count": 22,
     "metadata": {},
     "output_type": "execute_result"
    },
    {
     "data": {
      "image/png": "[encoded data removed]",
      "text/plain": [
       "<Figure size 432x288 with 1 Axes>"
      ]
     },
     "metadata": {
      "needs_background": "light"
     },
     "output_type": "display_data"
    }
   ],
   "source": [
    "sns.boxenplot(x='swn_sentiment', y='overall', data = reviews)"
   ]
  },
  {
   "cell_type": "code",
   "execution_count": 23,
   "metadata": {},
   "outputs": [
    {
     "data": {
      "image/png": "[encoded data removed]",
      "text/plain": [
       "<Figure size 864x504 with 1 Axes>"
      ]
     },
     "metadata": {
      "needs_background": "light"
     },
     "output_type": "display_data"
    }
   ],
   "source": [
    "fig, ax = plt.subplots(nrows=1, ncols=1, figsize = (12,7))\n",
    "sns.boxenplot(x='overall', y='swn_score', data = reviews, ax=ax)\n",
    "plt.show()"
   ]
  },
  {
   "cell_type": "code",
   "execution_count": 24,
   "metadata": {},
   "outputs": [],
   "source": [
    "reviews['true_sentiment'] = \\\n",
    "    reviews['overall'].apply(lambda x: \"positive\" if x>=4 else (\"neutral\" if x==3 else \"negative\"))"
   ]
  },
  {
   "cell_type": "code",
   "execution_count": 25,
   "metadata": {},
   "outputs": [
    {
     "data": {
      "text/html": [
       "<div>\n",
       "<style scoped>\n",
       "    .dataframe tbody tr th:only-of-type {\n",
       "        vertical-align: middle;\n",
       "    }\n",
       "\n",
       "    .dataframe tbody tr th {\n",
       "        vertical-align: top;\n",
       "    }\n",
       "\n",
       "    .dataframe thead th {\n",
       "        text-align: right;\n",
       "    }\n",
       "</style>\n",
       "<table border=\"1\" class=\"dataframe\">\n",
       "  <thead>\n",
       "    <tr style=\"text-align: right;\">\n",
       "      <th></th>\n",
       "      <th>reviewText</th>\n",
       "      <th>overall</th>\n",
       "      <th>true_sentiment</th>\n",
       "      <th>swn_score</th>\n",
       "      <th>swn_sentiment</th>\n",
       "    </tr>\n",
       "  </thead>\n",
       "  <tbody>\n",
       "    <tr>\n",
       "      <th>4220</th>\n",
       "      <td>i ordered this few days back and received it pretty quick.. Its almost complete except for the collectors edition tin case and no game.. But for the price i guess its good deal</td>\n",
       "      <td>5.0</td>\n",
       "      <td>positive</td>\n",
       "      <td>4.600694</td>\n",
       "      <td>positive</td>\n",
       "    </tr>\n",
       "    <tr>\n",
       "      <th>4425</th>\n",
       "      <td>My 10 year old grandsons love this game. They sit in a recliner side by side and take turns hunting. They argue, discuss, laugh and just have fun. Often they come find me or their grandpa to come see what they have killed.</td>\n",
       "      <td>5.0</td>\n",
       "      <td>positive</td>\n",
       "      <td>4.270833</td>\n",
       "      <td>positive</td>\n",
       "    </tr>\n",
       "    <tr>\n",
       "      <th>487</th>\n",
       "      <td>No way to filter content.  Probably great for sailors.</td>\n",
       "      <td>1.0</td>\n",
       "      <td>negative</td>\n",
       "      <td>0.000000</td>\n",
       "      <td>negative</td>\n",
       "    </tr>\n",
       "    <tr>\n",
       "      <th>2997</th>\n",
       "      <td>Great game, but lacks replay value. Great for going through 1-2 times and then boxing up for later.</td>\n",
       "      <td>4.0</td>\n",
       "      <td>positive</td>\n",
       "      <td>1.041667</td>\n",
       "      <td>positive</td>\n",
       "    </tr>\n",
       "    <tr>\n",
       "      <th>3356</th>\n",
       "      <td>I have played through this game 3 or 4 complete times now...and it's still fun.  Missions, looting, the never ending quest for better gear.  Funny and chaotic....grab a buddy and play through campaign split screen or on line.  Programmers everywhere, please bring back 2 player co op campaign split screen.  Games used to bring friends together...now they are all on line.  Sit by yourself and play with friends lol  Why not hang out with friends and play in the same room?</td>\n",
       "      <td>5.0</td>\n",
       "      <td>positive</td>\n",
       "      <td>1.974357</td>\n",
       "      <td>positive</td>\n",
       "    </tr>\n",
       "  </tbody>\n",
       "</table>\n",
       "</div>"
      ],
      "text/plain": [
       "                                                                                                                                                                                                                                                                                                                                                                                                                                                                                     reviewText  \\\n",
       "4220                                                                                                                                                                                                                                                                                                           i ordered this few days back and received it pretty quick.. Its almost complete except for the collectors edition tin case and no game.. But for the price i guess its good deal   \n",
       "4425                                                                                                                                                                                                                                                             My 10 year old grandsons love this game. They sit in a recliner side by side and take turns hunting. They argue, discuss, laugh and just have fun. Often they come find me or their grandpa to come see what they have killed.   \n",
       "487                                                                                                                                                                                                                                                                                                                                                                                                                                      No way to filter content.  Probably great for sailors.   \n",
       "2997                                                                                                                                                                                                                                                                                                                                                                                        Great game, but lacks replay value. Great for going through 1-2 times and then boxing up for later.   \n",
       "3356  I have played through this game 3 or 4 complete times now...and it's still fun.  Missions, looting, the never ending quest for better gear.  Funny and chaotic....grab a buddy and play through campaign split screen or on line.  Programmers everywhere, please bring back 2 player co op campaign split screen.  Games used to bring friends together...now they are all on line.  Sit by yourself and play with friends lol  Why not hang out with friends and play in the same room?   \n",
       "\n",
       "      overall true_sentiment  swn_score swn_sentiment  \n",
       "4220      5.0       positive   4.600694      positive  \n",
       "4425      5.0       positive   4.270833      positive  \n",
       "487       1.0       negative   0.000000      negative  \n",
       "2997      4.0       positive   1.041667      positive  \n",
       "3356      5.0       positive   1.974357      positive  "
      ]
     },
     "execution_count": 25,
     "metadata": {},
     "output_type": "execute_result"
    }
   ],
   "source": [
    "reviews[['reviewText', 'overall', 'true_sentiment','swn_score', 'swn_sentiment']].sample(5)"
   ]
  },
  {
   "cell_type": "code",
   "execution_count": 26,
   "metadata": {},
   "outputs": [],
   "source": [
    "y_swn_pred, y_true = reviews['swn_sentiment'].tolist(), reviews['true_sentiment'].tolist()"
   ]
  },
  {
   "cell_type": "code",
   "execution_count": 27,
   "metadata": {},
   "outputs": [
    {
     "data": {
      "text/plain": [
       "(4500, 4500)"
      ]
     },
     "execution_count": 27,
     "metadata": {},
     "output_type": "execute_result"
    }
   ],
   "source": [
    "len(y_swn_pred), len(y_true)"
   ]
  },
  {
   "cell_type": "code",
   "execution_count": 28,
   "metadata": {},
   "outputs": [],
   "source": [
    "from sklearn.metrics import confusion_matrix\n",
    "swn_cm = confusion_matrix(y_true, y_swn_pred)"
   ]
  },
  {
   "cell_type": "code",
   "execution_count": 29,
   "metadata": {},
   "outputs": [
    {
     "data": {
      "image/png": "[encoded data removed]",
      "text/plain": [
       "<Figure size 576x432 with 2 Axes>"
      ]
     },
     "metadata": {
      "needs_background": "light"
     },
     "output_type": "display_data"
    }
   ],
   "source": [
    "fig , ax = plt.subplots(nrows=1, ncols=1, figsize=(8,6))\n",
    "sns.heatmap(swn_cm, cmap='viridis_r', annot=True, fmt='d', square=True, ax=ax)\n",
    "ax.set_xlabel('Predicted')\n",
    "ax.set_ylabel('True');"
   ]
  },
  {
   "cell_type": "markdown",
   "metadata": {},
   "source": [
    "## Performance Assessment"
   ]
  },
  {
   "cell_type": "code",
   "execution_count": 30,
   "metadata": {},
   "outputs": [],
   "source": [
    "swn_cm_list = list(swn_cm.ravel())"
   ]
  },
  {
   "cell_type": "code",
   "execution_count": 31,
   "metadata": {},
   "outputs": [
    {
     "data": {
      "text/plain": [
       "[1194, 164, 642, 206, 44, 250, 539, 112, 1349]"
      ]
     },
     "execution_count": 31,
     "metadata": {},
     "output_type": "execute_result"
    }
   ],
   "source": [
    "swn_cm_list"
   ]
  },
  {
   "cell_type": "markdown",
   "metadata": {},
   "source": [
    "### Negative Sentiment Prediction Assessment\n",
    "\n",
    "Consider 'negative' sentiment result"
   ]
  },
  {
   "cell_type": "code",
   "execution_count": 32,
   "metadata": {},
   "outputs": [],
   "source": [
    "tp = swn_cm_list[0]\n",
    "tn = swn_cm_list[4] + swn_cm_list[5] + swn_cm_list[7] + swn_cm_list[8]\n",
    "fp = swn_cm_list[3] + swn_cm_list[6]\n",
    "fn = swn_cm_list[1] + swn_cm_list[2]"
   ]
  },
  {
   "cell_type": "code",
   "execution_count": 33,
   "metadata": {},
   "outputs": [
    {
     "name": "stdout",
     "output_type": "stream",
     "text": [
      "recall: 0.597\n",
      "specificity: 0.702\n",
      "precision: 0.6157813305827746\n",
      "f1 score: 0.6062452399086062\n"
     ]
    }
   ],
   "source": [
    "recall = tp / (tp + fn)\n",
    "specificity = tn / (tn + fp)\n",
    "precision = tp / (tp + fp)\n",
    "f1 = (2*tp) / (2*tp + fp + fn)\n",
    "\n",
    "print(f\"\"\"recall: {recall}\n",
    "specificity: {specificity}\n",
    "precision: {precision}\n",
    "f1 score: {f1}\"\"\")"
   ]
  },
  {
   "cell_type": "markdown",
   "metadata": {},
   "source": [
    "### Positive Sentiment Prediction Assessment\n",
    "\n",
    "Consider 'positive' sentiment result"
   ]
  },
  {
   "cell_type": "code",
   "execution_count": 34,
   "metadata": {},
   "outputs": [],
   "source": [
    "tp = swn_cm_list[8]\n",
    "tn = swn_cm_list[0] + swn_cm_list[1] + swn_cm_list[3] + swn_cm_list[4]\n",
    "fp = swn_cm_list[2] + swn_cm_list[5]\n",
    "fn = swn_cm_list[6] + swn_cm_list[7]"
   ]
  },
  {
   "cell_type": "code",
   "execution_count": 35,
   "metadata": {},
   "outputs": [
    {
     "name": "stdout",
     "output_type": "stream",
     "text": [
      "recall: 0.6745\n",
      "specificity: 0.6432\n",
      "precision: 0.6019634091923248\n",
      "f1 score: 0.6361707144541382\n"
     ]
    }
   ],
   "source": [
    "recall = tp / (tp + fn)\n",
    "specificity = tn / (tn + fp)\n",
    "precision = tp / (tp + fp)\n",
    "f1 = (2*tp) / (2*tp + fp + fn)\n",
    "\n",
    "print(f\"\"\"recall: {recall}\n",
    "specificity: {specificity}\n",
    "precision: {precision}\n",
    "f1 score: {f1}\"\"\")"
   ]
  },
  {
   "cell_type": "markdown",
   "metadata": {},
   "source": [
    "## Sentiment Scoring Model Using NLTK Opinion Lexicon"
   ]
  },
  {
   "cell_type": "code",
   "execution_count": 36,
   "metadata": {},
   "outputs": [],
   "source": [
    "import nltk\n",
    "from nltk.corpus import opinion_lexicon\n",
    "from nltk.tokenize import word_tokenize, sent_tokenize"
   ]
  },
  {
   "cell_type": "code",
   "execution_count": 37,
   "metadata": {},
   "outputs": [
    {
     "name": "stderr",
     "output_type": "stream",
     "text": [
      "[nltk_data] Downloading package opinion_lexicon to\n",
      "[nltk_data]     /Users/rickylam/nltk_data...\n",
      "[nltk_data]   Package opinion_lexicon is already up-to-date!\n"
     ]
    },
    {
     "data": {
      "text/plain": [
       "True"
      ]
     },
     "execution_count": 37,
     "metadata": {},
     "output_type": "execute_result"
    }
   ],
   "source": [
    "nltk.download(\"opinion_lexicon\")"
   ]
  },
  {
   "cell_type": "code",
   "execution_count": 38,
   "metadata": {},
   "outputs": [],
   "source": [
    "pos_words = list(opinion_lexicon.positive())\n",
    "neg_words = list(opinion_lexicon.negative())"
   ]
  },
  {
   "cell_type": "code",
   "execution_count": 39,
   "metadata": {},
   "outputs": [
    {
     "data": {
      "text/plain": [
       "['a+', 'abound', 'abounds', 'abundance', 'abundant']"
      ]
     },
     "execution_count": 39,
     "metadata": {},
     "output_type": "execute_result"
    }
   ],
   "source": [
    "pos_words[:5]"
   ]
  },
  {
   "cell_type": "code",
   "execution_count": 40,
   "metadata": {},
   "outputs": [
    {
     "data": {
      "text/plain": [
       "['2-faced', '2-faces', 'abnormal', 'abolish', 'abominable']"
      ]
     },
     "execution_count": 40,
     "metadata": {},
     "output_type": "execute_result"
    }
   ],
   "source": [
    "neg_words[:5]"
   ]
  },
  {
   "cell_type": "code",
   "execution_count": 41,
   "metadata": {},
   "outputs": [],
   "source": [
    "def get_sentiment_score_oplex(text):\n",
    "    \n",
    "    \"\"\"\n",
    "        This method returns the sentiment score of a given text using nltk opinion lexicon.\n",
    "        input: text\n",
    "        output: numeric (double) score, >0 means positive sentiment and <0 means negative sentiment.\n",
    "    \"\"\"    \n",
    "    total_score = 0\n",
    "    raw_sentences = sent_tokenize(text)\n",
    "#     print(f'reviewText {text}')\n",
    "#     print(f'raw_sentences {raw_sentences}')\n",
    "    \n",
    "    for sentence in raw_sentences:\n",
    "        sent_score = 0     \n",
    "        sentence = str(sentence)\n",
    "        sentence = sentence.replace(\"<br />\",\" \").translate(str.maketrans('','',punctuation)).lower()\n",
    "        tokens = TreebankWordTokenizer().tokenize(sentence)\n",
    "#         print(f'tokens {tokens}')\n",
    "        if len(tokens) == 0:\n",
    "            continue\n",
    "    \n",
    "    \n",
    "        for token in tokens:\n",
    "            if token in pos_words:\n",
    "                sent_score = sent_score + 1\n",
    "            elif token in neg_words:\n",
    "                sent_score = sent_score - 1\n",
    "        \n",
    "#         print(f'sent_score {sent_score}')\n",
    "        total_score = total_score + (sent_score / len(tokens))\n",
    "\n",
    "    return total_score"
   ]
  },
  {
   "cell_type": "code",
   "execution_count": 42,
   "metadata": {},
   "outputs": [
    {
     "data": {
      "text/plain": [
       "0.08333333333333333"
      ]
     },
     "execution_count": 42,
     "metadata": {},
     "output_type": "execute_result"
    }
   ],
   "source": [
    "get_sentiment_score_oplex(reviews['reviewText'][654])"
   ]
  },
  {
   "cell_type": "code",
   "execution_count": 43,
   "metadata": {},
   "outputs": [],
   "source": [
    "reviews['oplex_sentiment_score'] = reviews['reviewText'].apply(lambda x: get_sentiment_score_oplex(x))"
   ]
  },
  {
   "cell_type": "code",
   "execution_count": 44,
   "metadata": {},
   "outputs": [
    {
     "data": {
      "text/html": [
       "<div>\n",
       "<style scoped>\n",
       "    .dataframe tbody tr th:only-of-type {\n",
       "        vertical-align: middle;\n",
       "    }\n",
       "\n",
       "    .dataframe tbody tr th {\n",
       "        vertical-align: top;\n",
       "    }\n",
       "\n",
       "    .dataframe thead th {\n",
       "        text-align: right;\n",
       "    }\n",
       "</style>\n",
       "<table border=\"1\" class=\"dataframe\">\n",
       "  <thead>\n",
       "    <tr style=\"text-align: right;\">\n",
       "      <th></th>\n",
       "      <th>reviewText</th>\n",
       "      <th>swn_score</th>\n",
       "      <th>oplex_sentiment_score</th>\n",
       "    </tr>\n",
       "  </thead>\n",
       "  <tbody>\n",
       "    <tr>\n",
       "      <th>256</th>\n",
       "      <td>This controler stinks.  The joystick is messed up and turned at a slight angle (so you have to go slightly up and right to go straight up), the rubber grips fall off in the first week, and worst of all, it's confusing.  I tried programing the buttons (because it's \"fully programable\") and believe it or not it works!  sure you can't train whole sets of commands (like moves in fighting games) in, only replot the buttons but it works.  The only problem comes in when you accidently press the clear button with a light in it and all of the sudden, none of the buttons perform the X action.  Then, this controller will probably be unplugged and sent to the attic just like mine.  Enjoy!:(</td>\n",
       "      <td>-3.454384</td>\n",
       "      <td>0.814148</td>\n",
       "    </tr>\n",
       "    <tr>\n",
       "      <th>1553</th>\n",
       "      <td>The Xbone version is a lot better than the 360 version.\\n\\nIt has better graphics and more players.  This game was designed for the Xbone and PS4, but it feels like the developers lost there way.  The colors in the game are dull and washed.  The game feels like a 6 year old pc game.  The maps feel big , even for 18 players on ground war.  The lag is still present, better than I remember in black ops 2.  doesn't run as smooth as MW2 though.\\n\\nOver all, it feels like a DLC for black Ops 2 and not a standalone game.  I rented it and I can't recommend it to anyone and I don't plan on buy it.\\n\\nHopefully someone can make a quality MP FPS soon.\\n\\nPointlessly shoot zombies/aliens for points/money to buy a gun on a wall ^check.\\nOne hit-kill quickscope Snipers and autoaim-knifing ^ Check .\\nThrowing Knives ^ Check\\nSame Perks/killstreaks ^check\\nGetting shot by someone before you see them ^check\\nGetting shot  after spawning ^check\\nSomeone spawning behind you and killing you ^check\\nCampers ^ Check\\nShotguns overpowered ^ Check\\nPeople Boosting ^check\\nMaps are designed so you always get killed from behind or side.  ^check\\nSound Whoring ^Check</td>\n",
       "      <td>1.964174</td>\n",
       "      <td>0.275389</td>\n",
       "    </tr>\n",
       "    <tr>\n",
       "      <th>2971</th>\n",
       "      <td>This is the first game of the Mass Effect series. A heads-up, it does start off a little bit slow. However, the story eventually picks up and the way they introduce the story up until the end of the game is amazing. Mass Effect 2 and Mass Effect 3 just jump right into the action, which I appreciate. I would definitely recommend this game!</td>\n",
       "      <td>-0.475379</td>\n",
       "      <td>0.237121</td>\n",
       "    </tr>\n",
       "    <tr>\n",
       "      <th>3492</th>\n",
       "      <td>Love it</td>\n",
       "      <td>25.000000</td>\n",
       "      <td>0.500000</td>\n",
       "    </tr>\n",
       "    <tr>\n",
       "      <th>2501</th>\n",
       "      <td>I thought I already wrote a review on this, but maybe not.\\nThis game has all the pros and no cons.  That's right, I\\nhave no complaints.  Everything about the game is fun,\\nand there are no \"stupid\" missions thrown in to just make\\nit more lengthy.  You have multiple ways of completing\\ntasks, which gives it great replay value.  Personally, I\\nhave not lived up to being a Silent Assassin.  I prefer\\nto kill as many people as possible, innocent bystanders if\\nnecessary, to get the job done.  If my ranking isn't\\nmass murderer, then I feel as though I've failed.  There's\\nnothing more satisfying than blasting bad guys in the skull,\\nstripping them down to their boxers and leaving them\\nlaying lifelessly in their own pool of blood.  This game\\nhas a save anywhere feature which most games of this\\nnature seem to neglect.  Of all the PS2 games I now own,\\nthis has to be in my top 5.  Oh yeah, of all the PS2 games\\nI couldn't wait to get rid of, \"No One Lives Forever\" is\\nmy #1.  That game is worthless and I'm ashamed to have been\\na previous owner.  Too bad there's no support groups for\\npeople suffering from ... video games like that one.</td>\n",
       "      <td>0.443942</td>\n",
       "      <td>-0.280769</td>\n",
       "    </tr>\n",
       "  </tbody>\n",
       "</table>\n",
       "</div>"
      ],
      "text/plain": [
       "                                                                                                                                                                                                                                                                                                                                                                                                                                                                                                                                                                                                                                                                                                                                                                                                                                                                                                                                                                                                                                                                                                                                                                                                  reviewText  \\\n",
       "256                                                                                                                                                                                                                                                                                                                                                                                                                                                                                          This controler stinks.  The joystick is messed up and turned at a slight angle (so you have to go slightly up and right to go straight up), the rubber grips fall off in the first week, and worst of all, it's confusing.  I tried programing the buttons (because it's \"fully programable\") and believe it or not it works!  sure you can't train whole sets of commands (like moves in fighting games) in, only replot the buttons but it works.  The only problem comes in when you accidently press the clear button with a light in it and all of the sudden, none of the buttons perform the X action.  Then, this controller will probably be unplugged and sent to the attic just like mine.  Enjoy!:(   \n",
       "1553  The Xbone version is a lot better than the 360 version.\\n\\nIt has better graphics and more players.  This game was designed for the Xbone and PS4, but it feels like the developers lost there way.  The colors in the game are dull and washed.  The game feels like a 6 year old pc game.  The maps feel big , even for 18 players on ground war.  The lag is still present, better than I remember in black ops 2.  doesn't run as smooth as MW2 though.\\n\\nOver all, it feels like a DLC for black Ops 2 and not a standalone game.  I rented it and I can't recommend it to anyone and I don't plan on buy it.\\n\\nHopefully someone can make a quality MP FPS soon.\\n\\nPointlessly shoot zombies/aliens for points/money to buy a gun on a wall ^check.\\nOne hit-kill quickscope Snipers and autoaim-knifing ^ Check .\\nThrowing Knives ^ Check\\nSame Perks/killstreaks ^check\\nGetting shot by someone before you see them ^check\\nGetting shot  after spawning ^check\\nSomeone spawning behind you and killing you ^check\\nCampers ^ Check\\nShotguns overpowered ^ Check\\nPeople Boosting ^check\\nMaps are designed so you always get killed from behind or side.  ^check\\nSound Whoring ^Check   \n",
       "2971                                                                                                                                                                                                                                                                                                                                                                                                                                                                                                                                                                                                                                                                                                                                                                                                                                                    This is the first game of the Mass Effect series. A heads-up, it does start off a little bit slow. However, the story eventually picks up and the way they introduce the story up until the end of the game is amazing. Mass Effect 2 and Mass Effect 3 just jump right into the action, which I appreciate. I would definitely recommend this game!   \n",
       "3492                                                                                                                                                                                                                                                                                                                                                                                                                                                                                                                                                                                                                                                                                                                                                                                                                                                                                                                                                                                                                                                                                                                                                                                                 Love it   \n",
       "2501       I thought I already wrote a review on this, but maybe not.\\nThis game has all the pros and no cons.  That's right, I\\nhave no complaints.  Everything about the game is fun,\\nand there are no \"stupid\" missions thrown in to just make\\nit more lengthy.  You have multiple ways of completing\\ntasks, which gives it great replay value.  Personally, I\\nhave not lived up to being a Silent Assassin.  I prefer\\nto kill as many people as possible, innocent bystanders if\\nnecessary, to get the job done.  If my ranking isn't\\nmass murderer, then I feel as though I've failed.  There's\\nnothing more satisfying than blasting bad guys in the skull,\\nstripping them down to their boxers and leaving them\\nlaying lifelessly in their own pool of blood.  This game\\nhas a save anywhere feature which most games of this\\nnature seem to neglect.  Of all the PS2 games I now own,\\nthis has to be in my top 5.  Oh yeah, of all the PS2 games\\nI couldn't wait to get rid of, \"No One Lives Forever\" is\\nmy #1.  That game is worthless and I'm ashamed to have been\\na previous owner.  Too bad there's no support groups for\\npeople suffering from ... video games like that one.   \n",
       "\n",
       "      swn_score  oplex_sentiment_score  \n",
       "256   -3.454384               0.814148  \n",
       "1553   1.964174               0.275389  \n",
       "2971  -0.475379               0.237121  \n",
       "3492  25.000000               0.500000  \n",
       "2501   0.443942              -0.280769  "
      ]
     },
     "execution_count": 44,
     "metadata": {},
     "output_type": "execute_result"
    }
   ],
   "source": [
    "reviews[['reviewText', 'swn_score', 'oplex_sentiment_score']].sample(5)"
   ]
  },
  {
   "cell_type": "code",
   "execution_count": 45,
   "metadata": {},
   "outputs": [
    {
     "data": {
      "image/png": "[encoded data removed]",
      "text/plain": [
       "<Figure size 1440x720 with 1 Axes>"
      ]
     },
     "metadata": {
      "needs_background": "light"
     },
     "output_type": "display_data"
    }
   ],
   "source": [
    "fig , ax = plt.subplots(nrows=1, ncols=1, figsize=(20,10))\n",
    "sns.histplot(\n",
    "    x = 'oplex_sentiment_score',\n",
    "    data = reviews.query(\"oplex_sentiment_score < 1 and oplex_sentiment_score > -1\"),\n",
    "    ax = ax\n",
    ")\n",
    "plt.show()"
   ]
  },
  {
   "cell_type": "code",
   "execution_count": 46,
   "metadata": {},
   "outputs": [],
   "source": [
    "reviews['oplex_sentiment'] = \\\n",
    "    reviews['oplex_sentiment_score'].apply(lambda x: \"positive\" if x>0.1 else (\"negative\" if x<0 else \"neutral\"))"
   ]
  },
  {
   "cell_type": "code",
   "execution_count": 47,
   "metadata": {},
   "outputs": [
    {
     "data": {
      "text/plain": [
       "positive    2207\n",
       "negative    1362\n",
       "neutral      931\n",
       "Name: oplex_sentiment, dtype: int64"
      ]
     },
     "execution_count": 47,
     "metadata": {},
     "output_type": "execute_result"
    }
   ],
   "source": [
    "reviews['oplex_sentiment'].value_counts(dropna=False)"
   ]
  },
  {
   "cell_type": "code",
   "execution_count": 48,
   "metadata": {},
   "outputs": [
    {
     "data": {
      "text/plain": [
       "<AxesSubplot:xlabel='overall', ylabel='count'>"
      ]
     },
     "execution_count": 48,
     "metadata": {},
     "output_type": "execute_result"
    },
    {
     "data": {
      "image/png": "[encoded data removed]",
      "text/plain": [
       "<Figure size 432x288 with 1 Axes>"
      ]
     },
     "metadata": {
      "needs_background": "light"
     },
     "output_type": "display_data"
    }
   ],
   "source": [
    "sns.countplot(x='overall', hue='oplex_sentiment' ,data = reviews)"
   ]
  },
  {
   "cell_type": "code",
   "execution_count": 49,
   "metadata": {},
   "outputs": [
    {
     "data": {
      "text/plain": [
       "<AxesSubplot:xlabel='oplex_sentiment', ylabel='overall'>"
      ]
     },
     "execution_count": 49,
     "metadata": {},
     "output_type": "execute_result"
    },
    {
     "data": {
      "image/png": "[encoded data removed]",
      "text/plain": [
       "<Figure size 432x288 with 1 Axes>"
      ]
     },
     "metadata": {
      "needs_background": "light"
     },
     "output_type": "display_data"
    }
   ],
   "source": [
    "sns.boxenplot(x='oplex_sentiment', y='overall', data = reviews)"
   ]
  },
  {
   "cell_type": "code",
   "execution_count": 50,
   "metadata": {},
   "outputs": [
    {
     "data": {
      "image/png": "[encoded data removed]",
      "text/plain": [
       "<Figure size 864x504 with 1 Axes>"
      ]
     },
     "metadata": {
      "needs_background": "light"
     },
     "output_type": "display_data"
    }
   ],
   "source": [
    "fig, ax = plt.subplots(nrows=1, ncols=1, figsize = (12,7))\n",
    "sns.boxenplot(x='overall', y='oplex_sentiment_score', data = reviews, ax=ax)\n",
    "plt.show()"
   ]
  },
  {
   "cell_type": "code",
   "execution_count": 51,
   "metadata": {},
   "outputs": [],
   "source": [
    "y_oplex_pred = reviews['oplex_sentiment'].tolist()"
   ]
  },
  {
   "cell_type": "code",
   "execution_count": 52,
   "metadata": {},
   "outputs": [],
   "source": [
    "oplex_cm = confusion_matrix(y_true, y_oplex_pred)"
   ]
  },
  {
   "cell_type": "code",
   "execution_count": 53,
   "metadata": {},
   "outputs": [
    {
     "data": {
      "image/png": "[encoded data removed]",
      "text/plain": [
       "<Figure size 576x432 with 2 Axes>"
      ]
     },
     "metadata": {
      "needs_background": "light"
     },
     "output_type": "display_data"
    }
   ],
   "source": [
    "fig , ax = plt.subplots(nrows=1, ncols=1, figsize=(8,6))\n",
    "sns.heatmap(oplex_cm, cmap='viridis_r', annot=True, fmt='d', square=True, ax=ax)\n",
    "ax.set_xlabel('Predicted')\n",
    "ax.set_ylabel('True');"
   ]
  },
  {
   "cell_type": "code",
   "execution_count": 54,
   "metadata": {},
   "outputs": [],
   "source": [
    "oplex_cm_list = list(oplex_cm.ravel())"
   ]
  },
  {
   "cell_type": "code",
   "execution_count": 55,
   "metadata": {},
   "outputs": [
    {
     "data": {
      "text/plain": [
       "[1074, 424, 502, 139, 123, 238, 149, 384, 1467]"
      ]
     },
     "execution_count": 55,
     "metadata": {},
     "output_type": "execute_result"
    }
   ],
   "source": [
    "oplex_cm_list"
   ]
  },
  {
   "cell_type": "markdown",
   "metadata": {},
   "source": [
    "### Negative Label Assessment"
   ]
  },
  {
   "cell_type": "code",
   "execution_count": 56,
   "metadata": {},
   "outputs": [],
   "source": [
    "tp = oplex_cm_list[0]\n",
    "tn = oplex_cm_list[4] + oplex_cm_list[5] + oplex_cm_list[7] + oplex_cm_list[8]\n",
    "fp = oplex_cm_list[3] + oplex_cm_list[6]\n",
    "fn = oplex_cm_list[1] + oplex_cm_list[2]"
   ]
  },
  {
   "cell_type": "code",
   "execution_count": 57,
   "metadata": {},
   "outputs": [
    {
     "name": "stdout",
     "output_type": "stream",
     "text": [
      "recall: 0.537\n",
      "specificity: 0.8848\n",
      "precision: 0.788546255506608\n",
      "f1 score: 0.6389054134443783\n"
     ]
    }
   ],
   "source": [
    "recall = tp / (tp + fn)\n",
    "specificity = tn / (tn + fp)\n",
    "precision = tp / (tp + fp)\n",
    "f1 = (2*tp) / (2*tp + fp + fn)\n",
    "\n",
    "print(f\"\"\"recall: {recall}\n",
    "specificity: {specificity}\n",
    "precision: {precision}\n",
    "f1 score: {f1}\"\"\")"
   ]
  },
  {
   "cell_type": "markdown",
   "metadata": {},
   "source": [
    "### Positive Label Assessment"
   ]
  },
  {
   "cell_type": "code",
   "execution_count": 58,
   "metadata": {},
   "outputs": [],
   "source": [
    "tp = oplex_cm_list[8]\n",
    "tn = oplex_cm_list[0] + oplex_cm_list[1] + oplex_cm_list[3] + oplex_cm_list[4]\n",
    "fp = oplex_cm_list[2] + oplex_cm_list[5]\n",
    "fn = oplex_cm_list[6] + oplex_cm_list[7]"
   ]
  },
  {
   "cell_type": "code",
   "execution_count": 59,
   "metadata": {},
   "outputs": [
    {
     "name": "stdout",
     "output_type": "stream",
     "text": [
      "recall: 0.7335\n",
      "specificity: 0.704\n",
      "precision: 0.6647032170367014\n",
      "f1 score: 0.6974090801045876\n"
     ]
    }
   ],
   "source": [
    "recall = tp / (tp + fn)\n",
    "specificity = tn / (tn + fp)\n",
    "precision = tp / (tp + fp)\n",
    "f1 = (2*tp) / (2*tp + fp + fn)\n",
    "\n",
    "print(f\"\"\"recall: {recall}\n",
    "specificity: {specificity}\n",
    "precision: {precision}\n",
    "f1 score: {f1}\"\"\")"
   ]
  },
  {
   "cell_type": "markdown",
   "metadata": {},
   "source": [
    "### More "
   ]
  },
  {
   "cell_type": "code",
   "execution_count": 60,
   "metadata": {},
   "outputs": [],
   "source": [
    "swn_oplex_cm = confusion_matrix(y_swn_pred, y_oplex_pred)"
   ]
  },
  {
   "cell_type": "code",
   "execution_count": 61,
   "metadata": {},
   "outputs": [
    {
     "data": {
      "image/png": "[encoded data removed]",
      "text/plain": [
       "<Figure size 576x432 with 2 Axes>"
      ]
     },
     "metadata": {
      "needs_background": "light"
     },
     "output_type": "display_data"
    }
   ],
   "source": [
    "fig , ax = plt.subplots(nrows=1, ncols=1, figsize=(8,6))\n",
    "sns.heatmap(swn_oplex_cm, cmap='viridis_r', annot=True, fmt='d', square=True, ax=ax)\n",
    "ax.set_xlabel('oplex')\n",
    "ax.set_ylabel('SWN');"
   ]
  },
  {
   "cell_type": "code",
   "execution_count": 62,
   "metadata": {},
   "outputs": [
    {
     "data": {
      "text/html": [
       "<div>\n",
       "<style scoped>\n",
       "    .dataframe tbody tr th:only-of-type {\n",
       "        vertical-align: middle;\n",
       "    }\n",
       "\n",
       "    .dataframe tbody tr th {\n",
       "        vertical-align: top;\n",
       "    }\n",
       "\n",
       "    .dataframe thead th {\n",
       "        text-align: right;\n",
       "    }\n",
       "</style>\n",
       "<table border=\"1\" class=\"dataframe\">\n",
       "  <thead>\n",
       "    <tr style=\"text-align: right;\">\n",
       "      <th></th>\n",
       "      <th>overall</th>\n",
       "      <th>verified</th>\n",
       "      <th>reviewTime</th>\n",
       "      <th>reviewerID</th>\n",
       "      <th>asin</th>\n",
       "      <th>reviewerName</th>\n",
       "      <th>reviewText</th>\n",
       "      <th>summary</th>\n",
       "      <th>unixReviewTime</th>\n",
       "      <th>vote</th>\n",
       "      <th>style</th>\n",
       "      <th>image</th>\n",
       "      <th>swn_score</th>\n",
       "      <th>swn_sentiment</th>\n",
       "      <th>true_sentiment</th>\n",
       "      <th>oplex_sentiment_score</th>\n",
       "      <th>oplex_sentiment</th>\n",
       "    </tr>\n",
       "  </thead>\n",
       "  <tbody>\n",
       "    <tr>\n",
       "      <th>1280</th>\n",
       "      <td>1.0</td>\n",
       "      <td>True</td>\n",
       "      <td>04 22, 2017</td>\n",
       "      <td>A13WIP4FMBMS6Q</td>\n",
       "      <td>B000F6W8AE</td>\n",
       "      <td>Amazon Customer</td>\n",
       "      <td>Did not work.</td>\n",
       "      <td>One Star</td>\n",
       "      <td>1492819200</td>\n",
       "      <td>NaN</td>\n",
       "      <td>NaN</td>\n",
       "      <td>NaN</td>\n",
       "      <td>-20.833333</td>\n",
       "      <td>negative</td>\n",
       "      <td>negative</td>\n",
       "      <td>0.333333</td>\n",
       "      <td>positive</td>\n",
       "    </tr>\n",
       "    <tr>\n",
       "      <th>3021</th>\n",
       "      <td>5.0</td>\n",
       "      <td>False</td>\n",
       "      <td>11 20, 2013</td>\n",
       "      <td>A2SEYD5DRDM9AU</td>\n",
       "      <td>B00BMFIXT2</td>\n",
       "      <td>D. Coffee</td>\n",
       "      <td>I've played every Assassin's Creed so far, and I think Black Flag has superseded AC: Brotherhood as the best overall in the entire franchise. I'm extremely happy to be able to say that, because after the tragedy that was AC: Revelations and AC3 which was lukewarm at best, AC4 has renewed my faith in the franchise.\\n\\nWhat's good: ALMOST EVERYTHING\\n\\n- Storyline is phenomenal: long, but never gets boring, with plenty of interesting missions, variety of locations and activities, and characters with depth and personality. It rivals the storyline of AC2, which was, to this point, my undisputed winner for the best story of any AC so far. Additionally, the interspersing of Animus play with time in the \"present day\" is very well-constructed and helps advance the overarching storyline without detracting from the player's chance to rampage through the Caribbean.\\n\\n- Gameplay is AWESOME: Everything that was great about Brotherhood and 3, plus new equipment, combat maneuvers and enemies that add depth of strategy and that truly reward a skilled player. One particular highlight is the mad chaos of boarding a large enemy vessel and the non-stop, frenetic action that comes with slicing, dicing and gunning your way through 20 enemy soldiers in the span of a minute or two.\\n\\n- Graphics are great, although that's not the thing that makes the game. I would not (respectfully) agree with another reviewer who stated that the world is even more diverse and beautiful than Skyrim (I didn't have nearly as many \"Oh my god, this game is BEAUTIFUL\" moments in AC4 as I did in Skyrim), but nonetheless AC4 IS beautiful and well-constructed, with a mix of large cities and smaller remote island locations and underwater wrecks (which are really cool, but SCREW MORAY EELS). Another nice element is that each city has its own unique character and feel.\\n\\n- Economy and Upgrades are far-improved and streamlined from AC3. Gone is the cumbersome economy system of 3, replaced by a much more straightforward method of looting ships and selling cargo, the Kenway's fleet system, and a few other methods of acquiring money. Upgrades are very similar to Far Cry 3, whereby you must hunt and harpoon various wild creatures in order to acquire the necessary materials to craft upgrades. It's simple, but it works very well, and it integrates hunting into the game in a way that is much better than anything AC3 ever did.\\n\\nWhat needs improvement:\\n\\n- There was this ONE TIME in ONE MISSION that I thought was poorly done (overpowered boss crap...).\\n\\nAND THAT'S HONESTLY ALL I CAN THINK OF.\\n\\nAnd to Ubisoft: I hereby forgive you for Revelations.</td>\n",
       "      <td>The Best AC Yet!</td>\n",
       "      <td>1384905600</td>\n",
       "      <td>3.0</td>\n",
       "      <td>{'Format:': ' Video Game'}</td>\n",
       "      <td>NaN</td>\n",
       "      <td>2.658093</td>\n",
       "      <td>positive</td>\n",
       "      <td>positive</td>\n",
       "      <td>0.578645</td>\n",
       "      <td>positive</td>\n",
       "    </tr>\n",
       "    <tr>\n",
       "      <th>1937</th>\n",
       "      <td>2.0</td>\n",
       "      <td>True</td>\n",
       "      <td>03 16, 2015</td>\n",
       "      <td>A2FZJPHJZO58PX</td>\n",
       "      <td>B00BMFIXOW</td>\n",
       "      <td>maria</td>\n",
       "      <td>OK</td>\n",
       "      <td>OK</td>\n",
       "      <td>1426464000</td>\n",
       "      <td>NaN</td>\n",
       "      <td>{'Format:': ' Video Game'}</td>\n",
       "      <td>NaN</td>\n",
       "      <td>0.000000</td>\n",
       "      <td>negative</td>\n",
       "      <td>negative</td>\n",
       "      <td>0.000000</td>\n",
       "      <td>neutral</td>\n",
       "    </tr>\n",
       "    <tr>\n",
       "      <th>632</th>\n",
       "      <td>1.0</td>\n",
       "      <td>False</td>\n",
       "      <td>10 24, 2014</td>\n",
       "      <td>ASRA2UZ3JV87B</td>\n",
       "      <td>B00J128FO6</td>\n",
       "      <td>Navarro Parker</td>\n",
       "      <td>The Playstation 4 was designed to cool itself. Adding a fan unit like this product it only wasting energy and creating more noise. If you are having problems with your PS4 overheating, you should return it. If used in properly ventilated areas, it should never overheat. Do you strap on extra fans to any other device you own? Why do video game consoles need one?</td>\n",
       "      <td>Pointless product. PS4 cools itself just fine.</td>\n",
       "      <td>1414108800</td>\n",
       "      <td>3.0</td>\n",
       "      <td>{'Platform:': ' PlayStation 4'}</td>\n",
       "      <td>NaN</td>\n",
       "      <td>-3.951656</td>\n",
       "      <td>negative</td>\n",
       "      <td>negative</td>\n",
       "      <td>0.064744</td>\n",
       "      <td>neutral</td>\n",
       "    </tr>\n",
       "    <tr>\n",
       "      <th>2545</th>\n",
       "      <td>4.0</td>\n",
       "      <td>False</td>\n",
       "      <td>06 10, 2015</td>\n",
       "      <td>A2IXIWDGJJ6450</td>\n",
       "      <td>B00GZ1GUNO</td>\n",
       "      <td>paul arce</td>\n",
       "      <td>Never was a tomb raider fan but after playing this I can say that the game has been rebooted for the better.\\n\\nStory: it's an origin story of Lara croft that is well written and voice acted. Resolution is 1080p during gameplay and 900p during cutscenes at 30FPS. Game is beautiful and semi open world so not completely linear. The tombs are a fun challenge as well as other side activities. Overall the story is a near perfect point and the only reason to buy this game.\\n\\nMultiplayer: Trash. Tacked on. No point of its existence.\\n\\nBad stuff: really only the multiplayer\\n\\nFinal verdict: This game is worth 60$ so at this price point pick it up now!</td>\n",
       "      <td>Great game that changed my mind about the tomb raider games</td>\n",
       "      <td>1433894400</td>\n",
       "      <td>NaN</td>\n",
       "      <td>{'Format:': ' Video Game'}</td>\n",
       "      <td>NaN</td>\n",
       "      <td>0.747633</td>\n",
       "      <td>neutral</td>\n",
       "      <td>positive</td>\n",
       "      <td>-0.067803</td>\n",
       "      <td>negative</td>\n",
       "    </tr>\n",
       "  </tbody>\n",
       "</table>\n",
       "</div>"
      ],
      "text/plain": [
       "      overall  verified   reviewTime      reviewerID        asin  \\\n",
       "1280      1.0      True  04 22, 2017  A13WIP4FMBMS6Q  B000F6W8AE   \n",
       "3021      5.0     False  11 20, 2013  A2SEYD5DRDM9AU  B00BMFIXT2   \n",
       "1937      2.0      True  03 16, 2015  A2FZJPHJZO58PX  B00BMFIXOW   \n",
       "632       1.0     False  10 24, 2014   ASRA2UZ3JV87B  B00J128FO6   \n",
       "2545      4.0     False  06 10, 2015  A2IXIWDGJJ6450  B00GZ1GUNO   \n",
       "\n",
       "         reviewerName  \\\n",
       "1280  Amazon Customer   \n",
       "3021        D. Coffee   \n",
       "1937            maria   \n",
       "632    Navarro Parker   \n",
       "2545        paul arce   \n",
       "\n",
       "                                                                                                                                                                                                                                                                                                                                                                                                                                                                                                                                                                                                                                                                                                                                                                                                                                                                                                                                                                                                                                                                                                                                                                                                                                                                                                                                                                                                                                                                                                                                                                                                                                                                                                                                                                                                                                                                                                                                                                                                                                                                                                                                                                                                                                                                                                                                                                                                                                                                                                                                                                                                                                                                                                                                             reviewText  \\\n",
       "1280                                                                                                                                                                                                                                                                                                                                                                                                                                                                                                                                                                                                                                                                                                                                                                                                                                                                                                                                                                                                                                                                                                                                                                                                                                                                                                                                                                                                                                                                                                                                                                                                                                                                                                                                                                                                                                                                                                                                                                                                                                                                                                                                                                                                                                                                                                                                                                                                                                                                                                                                                                                                                                                                                                                                      Did not work.   \n",
       "3021  I've played every Assassin's Creed so far, and I think Black Flag has superseded AC: Brotherhood as the best overall in the entire franchise. I'm extremely happy to be able to say that, because after the tragedy that was AC: Revelations and AC3 which was lukewarm at best, AC4 has renewed my faith in the franchise.\\n\\nWhat's good: ALMOST EVERYTHING\\n\\n- Storyline is phenomenal: long, but never gets boring, with plenty of interesting missions, variety of locations and activities, and characters with depth and personality. It rivals the storyline of AC2, which was, to this point, my undisputed winner for the best story of any AC so far. Additionally, the interspersing of Animus play with time in the \"present day\" is very well-constructed and helps advance the overarching storyline without detracting from the player's chance to rampage through the Caribbean.\\n\\n- Gameplay is AWESOME: Everything that was great about Brotherhood and 3, plus new equipment, combat maneuvers and enemies that add depth of strategy and that truly reward a skilled player. One particular highlight is the mad chaos of boarding a large enemy vessel and the non-stop, frenetic action that comes with slicing, dicing and gunning your way through 20 enemy soldiers in the span of a minute or two.\\n\\n- Graphics are great, although that's not the thing that makes the game. I would not (respectfully) agree with another reviewer who stated that the world is even more diverse and beautiful than Skyrim (I didn't have nearly as many \"Oh my god, this game is BEAUTIFUL\" moments in AC4 as I did in Skyrim), but nonetheless AC4 IS beautiful and well-constructed, with a mix of large cities and smaller remote island locations and underwater wrecks (which are really cool, but SCREW MORAY EELS). Another nice element is that each city has its own unique character and feel.\\n\\n- Economy and Upgrades are far-improved and streamlined from AC3. Gone is the cumbersome economy system of 3, replaced by a much more straightforward method of looting ships and selling cargo, the Kenway's fleet system, and a few other methods of acquiring money. Upgrades are very similar to Far Cry 3, whereby you must hunt and harpoon various wild creatures in order to acquire the necessary materials to craft upgrades. It's simple, but it works very well, and it integrates hunting into the game in a way that is much better than anything AC3 ever did.\\n\\nWhat needs improvement:\\n\\n- There was this ONE TIME in ONE MISSION that I thought was poorly done (overpowered boss crap...).\\n\\nAND THAT'S HONESTLY ALL I CAN THINK OF.\\n\\nAnd to Ubisoft: I hereby forgive you for Revelations.   \n",
       "1937                                                                                                                                                                                                                                                                                                                                                                                                                                                                                                                                                                                                                                                                                                                                                                                                                                                                                                                                                                                                                                                                                                                                                                                                                                                                                                                                                                                                                                                                                                                                                                                                                                                                                                                                                                                                                                                                                                                                                                                                                                                                                                                                                                                                                                                                                                                                                                                                                                                                                                                                                                                                                                                                                                                                                 OK   \n",
       "632                                                                                                                                                                                                                                                                                                                                                                                                                                                                                                                                                                                                                                                                                                                                                                                                                                                                                                                                                                                                                                                                                                                                                                                                                                                                                                                                                                                                                                                                                                                                                                                                                                                                                                                                                                                                                                                                                                                                                                                                                                                                                                                                                                                                                                                                                                                                                                         The Playstation 4 was designed to cool itself. Adding a fan unit like this product it only wasting energy and creating more noise. If you are having problems with your PS4 overheating, you should return it. If used in properly ventilated areas, it should never overheat. Do you strap on extra fans to any other device you own? Why do video game consoles need one?   \n",
       "2545                                                                                                                                                                                                                                                                                                                                                                                                                                                                                                                                                                                                                                                                                                                                                                                                                                                                                                                                                                                                                                                                                                                                                                                                                                                                                                                                                                                                                                                                                                                                                                                                                                                                                                                                                                                                                                                                                                                                                                                                                                                                     Never was a tomb raider fan but after playing this I can say that the game has been rebooted for the better.\\n\\nStory: it's an origin story of Lara croft that is well written and voice acted. Resolution is 1080p during gameplay and 900p during cutscenes at 30FPS. Game is beautiful and semi open world so not completely linear. The tombs are a fun challenge as well as other side activities. Overall the story is a near perfect point and the only reason to buy this game.\\n\\nMultiplayer: Trash. Tacked on. No point of its existence.\\n\\nBad stuff: really only the multiplayer\\n\\nFinal verdict: This game is worth 60$ so at this price point pick it up now!   \n",
       "\n",
       "                                                          summary  \\\n",
       "1280                                                     One Star   \n",
       "3021                                             The Best AC Yet!   \n",
       "1937                                                           OK   \n",
       "632                Pointless product. PS4 cools itself just fine.   \n",
       "2545  Great game that changed my mind about the tomb raider games   \n",
       "\n",
       "      unixReviewTime  vote                            style image  swn_score  \\\n",
       "1280      1492819200   NaN                              NaN   NaN -20.833333   \n",
       "3021      1384905600   3.0       {'Format:': ' Video Game'}   NaN   2.658093   \n",
       "1937      1426464000   NaN       {'Format:': ' Video Game'}   NaN   0.000000   \n",
       "632       1414108800   3.0  {'Platform:': ' PlayStation 4'}   NaN  -3.951656   \n",
       "2545      1433894400   NaN       {'Format:': ' Video Game'}   NaN   0.747633   \n",
       "\n",
       "     swn_sentiment true_sentiment  oplex_sentiment_score oplex_sentiment  \n",
       "1280      negative       negative               0.333333        positive  \n",
       "3021      positive       positive               0.578645        positive  \n",
       "1937      negative       negative               0.000000         neutral  \n",
       "632       negative       negative               0.064744         neutral  \n",
       "2545       neutral       positive              -0.067803        negative  "
      ]
     },
     "execution_count": 62,
     "metadata": {},
     "output_type": "execute_result"
    }
   ],
   "source": [
    "reviews.sample(5)"
   ]
  },
  {
   "cell_type": "code",
   "execution_count": null,
   "metadata": {},
   "outputs": [],
   "source": []
  },
  {
   "cell_type": "code",
   "execution_count": null,
   "metadata": {},
   "outputs": [],
   "source": []
  },
  {
   "cell_type": "code",
   "execution_count": null,
   "metadata": {},
   "outputs": [],
   "source": []
  },
  {
   "cell_type": "code",
   "execution_count": null,
   "metadata": {},
   "outputs": [],
   "source": []
  },
  {
   "cell_type": "code",
   "execution_count": null,
   "metadata": {},
   "outputs": [],
   "source": []
  },
  {
   "cell_type": "code",
   "execution_count": null,
   "metadata": {},
   "outputs": [],
   "source": []
  },
  {
   "cell_type": "code",
   "execution_count": null,
   "metadata": {},
   "outputs": [],
   "source": []
  }
 ],
 "metadata": {
  "kernelspec": {
   "display_name": "Python 3",
   "language": "python",
   "name": "python3"
  },
  "language_info": {
   "codemirror_mode": {
    "name": "ipython",
    "version": 3
   },
   "file_extension": ".py",
   "mimetype": "text/x-python",
   "name": "python",
   "nbconvert_exporter": "python",
   "pygments_lexer": "ipython3",
   "version": "3.9.13"
  }
 },
 "nbformat": 4,
 "nbformat_minor": 4
}
