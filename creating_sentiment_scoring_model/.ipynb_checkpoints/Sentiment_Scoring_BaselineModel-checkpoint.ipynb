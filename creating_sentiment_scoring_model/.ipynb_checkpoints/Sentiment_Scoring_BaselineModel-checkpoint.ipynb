{
 "cells": [
  {
   "cell_type": "code",
   "execution_count": 97,
   "metadata": {},
   "outputs": [],
   "source": [
    "import nltk\n",
    "from nltk import sent_tokenize, pos_tag\n",
    "from nltk.tokenize import TreebankWordTokenizer\n",
    "from nltk.stem import WordNetLemmatizer\n",
    "from nltk.corpus import wordnet as wn\n",
    "from nltk.corpus import sentiwordnet as swn\n",
    "from nltk.sentiment.util import mark_negation\n",
    "from string import punctuation\n",
    "from IPython.display import display\n",
    "import pandas as pd\n",
    "import numpy as np\n",
    "import seaborn as sns\n",
    "import matplotlib.pyplot as plt\n",
    "pd.set_option('display.max_columns', None)\n",
    "pd.set_option('display.max_colwidth', None)"
   ]
  },
  {
   "cell_type": "code",
   "execution_count": 98,
   "metadata": {},
   "outputs": [
    {
     "name": "stderr",
     "output_type": "stream",
     "text": [
      "[nltk_data] Downloading package punkt to /Users/rickylam/nltk_data...\n",
      "[nltk_data]   Unzipping tokenizers/punkt.zip.\n"
     ]
    },
    {
     "data": {
      "text/plain": [
       "True"
      ]
     },
     "execution_count": 98,
     "metadata": {},
     "output_type": "execute_result"
    }
   ],
   "source": [
    "nltk.download('punkt')"
   ]
  },
  {
   "cell_type": "markdown",
   "metadata": {},
   "source": [
    "### Sentiment Scoring Using SentiWordNet"
   ]
  },
  {
   "cell_type": "code",
   "execution_count": 5,
   "metadata": {},
   "outputs": [],
   "source": [
    "def penn_to_wn(tag):\n",
    "    \"\"\"\n",
    "        Convert between the PennTreebank tags to simple Wordnet tags\n",
    "    \"\"\"\n",
    "    if tag.startswith('J'):\n",
    "        return wn.ADJ\n",
    "    elif tag.startswith('N'):\n",
    "        return wn.NOUN\n",
    "    elif tag.startswith('R'):\n",
    "        return wn.ADV\n",
    "    elif tag.startswith('V'):\n",
    "        return wn.VERB\n",
    "    return None"
   ]
  },
  {
   "cell_type": "code",
   "execution_count": 158,
   "metadata": {},
   "outputs": [],
   "source": [
    "def get_sentiment_score(text):\n",
    "    \n",
    "    \"\"\"\n",
    "        This method returns the sentiment score of a given text using SentiWordNet sentiment scores.\n",
    "        input: text\n",
    "        output: numeric (double) score, >0 means positive sentiment and <0 means negative sentiment.\n",
    "    \"\"\"    \n",
    "    total_score = 0\n",
    "    #print(text)\n",
    "    raw_sentences = sent_tokenize(text)\n",
    "    #print(raw_sentences)\n",
    "    \n",
    "    for sentence in raw_sentences:\n",
    "\n",
    "        sent_score = 0     \n",
    "        sentence = str(sentence)\n",
    "        #print(sentence)\n",
    "        sentence = sentence.replace(\"<br />\",\" \").translate(str.maketrans('','',punctuation)).lower()\n",
    "        tokens = TreebankWordTokenizer().tokenize(sentence)\n",
    "        if len(tokens) == 0:\n",
    "            continue\n",
    "        tags = pos_tag(tokens)\n",
    "        for word, tag in tags:\n",
    "            wn_tag = penn_to_wn(tag)\n",
    "            if not wn_tag:\n",
    "                continue\n",
    "            lemma = WordNetLemmatizer().lemmatize(word, pos=wn_tag)\n",
    "            if not lemma:\n",
    "                continue\n",
    "            synsets = wn.synsets(lemma, pos=wn_tag)\n",
    "            if not synsets:\n",
    "                continue\n",
    "            synset = synsets[0]\n",
    "            swn_synset = swn.senti_synset(synset.name())\n",
    "            sent_score += swn_synset.pos_score() - swn_synset.neg_score()\n",
    "\n",
    "        total_score = total_score + (sent_score / len(tokens))\n",
    "\n",
    "    \n",
    "    return (total_score / len(raw_sentences)) * 100"
   ]
  },
  {
   "cell_type": "code",
   "execution_count": 169,
   "metadata": {},
   "outputs": [],
   "source": [
    "def get_sentiment_score_breakdown(text):\n",
    "    \n",
    "    \"\"\"\n",
    "        This method returns the sentiment score of a given text using SentiWordNet sentiment scores.\n",
    "        input: text\n",
    "        output: numeric (double) score, >0 means positive sentiment and <0 means negative sentiment.\n",
    "    \"\"\"    \n",
    "    total_score = 0\n",
    "#     print(text)\n",
    "    raw_sentences = sent_tokenize(text)\n",
    "#     print(raw_sentences)\n",
    "    \n",
    "    for sentence in raw_sentences:\n",
    "        print('=====')\n",
    "        \n",
    "        sent_score = 0     \n",
    "        sentence = str(sentence)\n",
    "        print(f'Processing \"{sentence}\"...')\n",
    "        sentence = sentence.replace(\"<br />\",\" \").translate(str.maketrans('','',punctuation)).lower()\n",
    "        tokens = TreebankWordTokenizer().tokenize(sentence)\n",
    "        tags = pos_tag(tokens)\n",
    "        for word, tag in tags:\n",
    "            wn_tag = penn_to_wn(tag)\n",
    "            if not wn_tag:\n",
    "                continue\n",
    "            lemma = WordNetLemmatizer().lemmatize(word, pos=wn_tag)\n",
    "            if not lemma:\n",
    "                continue\n",
    "            synsets = wn.synsets(lemma, pos=wn_tag)\n",
    "            if not synsets:\n",
    "                continue\n",
    "            synset = synsets[0]\n",
    "            swn_synset = swn.senti_synset(synset.name())\n",
    "            print(f'Score for \"{synset.name()}\" is {swn_synset.pos_score() - swn_synset.neg_score()}')\n",
    "            sent_score += swn_synset.pos_score() - swn_synset.neg_score()\n",
    "\n",
    "        print('\\n')\n",
    "        print(f'Score of \"{sentence}\" is {sent_score}')\n",
    "        print(tokens)\n",
    "        print(f'Sentence len {len(tokens)}')\n",
    "        print(f'Average scorce, of each token, is {sent_score / len(tokens)}')\n",
    "#         this average part is interesting\n",
    "        total_score = total_score + (sent_score / len(tokens))\n",
    "    \n",
    "    print('=====')\n",
    "    print('=====')\n",
    "    print(f'Number of sentence in review text is {len(raw_sentences)}')\n",
    "    print(f'Average scorce, of each sentences, is {total_score / len(raw_sentences)}')\n",
    "    return (total_score / len(raw_sentences)) * 100"
   ]
  },
  {
   "cell_type": "code",
   "execution_count": 146,
   "metadata": {},
   "outputs": [],
   "source": [
    "reviews = pd.read_csv(\"../data/sample_corpus.csv\")"
   ]
  },
  {
   "cell_type": "code",
   "execution_count": 147,
   "metadata": {},
   "outputs": [
    {
     "data": {
      "text/plain": [
       "(4500, 12)"
      ]
     },
     "execution_count": 147,
     "metadata": {},
     "output_type": "execute_result"
    }
   ],
   "source": [
    "reviews.shape"
   ]
  },
  {
   "cell_type": "code",
   "execution_count": 148,
   "metadata": {},
   "outputs": [
    {
     "data": {
      "text/html": [
       "<div>\n",
       "<style scoped>\n",
       "    .dataframe tbody tr th:only-of-type {\n",
       "        vertical-align: middle;\n",
       "    }\n",
       "\n",
       "    .dataframe tbody tr th {\n",
       "        vertical-align: top;\n",
       "    }\n",
       "\n",
       "    .dataframe thead th {\n",
       "        text-align: right;\n",
       "    }\n",
       "</style>\n",
       "<table border=\"1\" class=\"dataframe\">\n",
       "  <thead>\n",
       "    <tr style=\"text-align: right;\">\n",
       "      <th></th>\n",
       "      <th>overall</th>\n",
       "      <th>verified</th>\n",
       "      <th>reviewTime</th>\n",
       "      <th>reviewerID</th>\n",
       "      <th>asin</th>\n",
       "      <th>reviewerName</th>\n",
       "      <th>reviewText</th>\n",
       "      <th>summary</th>\n",
       "      <th>unixReviewTime</th>\n",
       "      <th>vote</th>\n",
       "      <th>style</th>\n",
       "      <th>image</th>\n",
       "    </tr>\n",
       "  </thead>\n",
       "  <tbody>\n",
       "    <tr>\n",
       "      <th>0</th>\n",
       "      <td>1.0</td>\n",
       "      <td>False</td>\n",
       "      <td>03 26, 2011</td>\n",
       "      <td>A1SXAR735QEJS0</td>\n",
       "      <td>B002BS47YE</td>\n",
       "      <td>S. J. Baptista</td>\n",
       "      <td>Probably not the best exmaple but you get the point. Oh and it also costs more.\\nIt still a good game but its not the masterpiece that crysis 1 was. A lot of features have been removed from this game, just to name the most favorite ones:\\n-Power struggle allowed you to become super strong on the battlefield and reduce weapon recoil throw greneades longer distances etc.\\n-Speed is not even half the speed of what crysis 1st nanosuit was. ??? I thought nanosuit 2 should improve upon the 1st one and not downgrade itself....\\n-PHYSICS!! You are no longer are able to blow up a small building or take down trees. The enviroment remains the same upon battle and in the end of battle.\\n-Open enviroment, unlike crysis 1 where you were able to flank your enemy at least 90 percent of time. Crysis 2 becomes more linear leading to alley battles and street battles where your flanking opportunities are reduced to 40 percent during the entire game.\\n-GRAPHICS OH GRAPHICS! Last game made support of Dx10 which increased texture quality in some areas, also giving a greater water quality than what dx9 offered. This game is dx9 and there is no word on crytek for dx11. Nvidia removed crysis 2 on their list of dx11 games supported last week. Which leads me to believe that there will be no dx11 patch in the future.\\n\\nThats my review you might not care about this changes and still enjoy the game thats fine you gave it a 5 star score. I respect that.\\nHowever this is my opinion and i give this game a 1 star because I DO MIND the changes made and its obvious that im not thrilled about paying a higher price for a downgrade product. Also im not a big multiplayer fan if thats your argument for why this game is better but i am certain that multiplayer has been doing nothing for me but kicking me out of matches and not being able to join some others while also asking me to re-enter my cd key time and time again.</td>\n",
       "      <td>Its like stepping down from a ferrari to a jaguar</td>\n",
       "      <td>1301097600</td>\n",
       "      <td>21</td>\n",
       "      <td>{'Format:': ' Video Game'}</td>\n",
       "      <td>NaN</td>\n",
       "    </tr>\n",
       "    <tr>\n",
       "      <th>1</th>\n",
       "      <td>1.0</td>\n",
       "      <td>False</td>\n",
       "      <td>03 21, 2017</td>\n",
       "      <td>A1U86MCXJLE57H</td>\n",
       "      <td>B01GW3NY5Q</td>\n",
       "      <td>Andre</td>\n",
       "      <td>This game pretty broken! Very buggy and it suffer bad from an audio glitch!</td>\n",
       "      <td>Trash bag</td>\n",
       "      <td>1490054400</td>\n",
       "      <td>14</td>\n",
       "      <td>{'Edition:': ' Standard', 'Platform:': ' PlayStation 4'}</td>\n",
       "      <td>NaN</td>\n",
       "    </tr>\n",
       "    <tr>\n",
       "      <th>2</th>\n",
       "      <td>1.0</td>\n",
       "      <td>False</td>\n",
       "      <td>06 9, 2009</td>\n",
       "      <td>A2K9BFRX8DL0K5</td>\n",
       "      <td>B0026GQ8WA</td>\n",
       "      <td>SCF</td>\n",
       "      <td>My console and game collection was stolen in a home invasion, so I had to look at the current XBox 360 offering so I could replace my 360 Elite.\\n\\nI was very disappointed with the offerings. It's an XBOX 360 and therefore it lets you play your games, but this far into the product cycle, I'd expect so much more. However, if you want a large drive and HDMI it's the only choice you really have.\\n\\nHere are a list of the problems I encountered, most due to the product itself:\\n\\n[--] It is advertised as \"the newest\" version of the product, yet it is using the older chipset that is prone to E74 errors.\\n\\n[--] The HDMI cable that comes with it is garbage. I plugged the 360 into my Denon 3806 receiver using the HDMI cable and there was no signal. I then plugged the 360 directly into my 60\" Sony SXRD via HDMI and there was no signal. I plugged my Digital Cable box directly into the TV using it and the picture was faded, blurry, snowy, fuzzy, dark, purple, unwatchable. I used another off-the-shelf HDMI cable and everything worked perfectly.\\n\\nMy PS3 didn't come with an HDMI cable at all, but what's the point of providing a component that doesn't even work?\\n\\n[--] The two games come in a single combined case. My case was smashed and green plastic chunks were all over the place inside the product packaging.\\n\\n[--] The headset that comes with the 360 continues to be disposable garbage.\\n\\n[--] At the current price of this product, Microsoft should be providing a rechargeable controller battery by default rather than a pack of AAs.\\n\\n[--] The XBOX 360 Elite packaging itself (the box Microsoft ships it in) had clearly been opened before I got it. The circular adhesive tape that closes one end of the product had been cut open and then a second piece of tape had been placed back over it. To Amazon's credit, when I asked them to confirm if I had a used 360 or a new one, they didn't even bother answering and just told me they had already shipped out a replacement that would arrive in 24 hours (and it did).</td>\n",
       "      <td>Typical 360 Experience - Including Failure</td>\n",
       "      <td>1244505600</td>\n",
       "      <td>13</td>\n",
       "      <td>{'Edition:': ' Elite 120GB Spring 2009 bundle'}</td>\n",
       "      <td>NaN</td>\n",
       "    </tr>\n",
       "    <tr>\n",
       "      <th>3</th>\n",
       "      <td>1.0</td>\n",
       "      <td>False</td>\n",
       "      <td>05 24, 2003</td>\n",
       "      <td>A28WRI6UMF71WX</td>\n",
       "      <td>B00005B4AS</td>\n",
       "      <td>Amazon Customer</td>\n",
       "      <td>It is fun the first hour or so after you buy then it gets boring. It has realy dumb features, and doesnt teach anything you ever need to know. The lessons are way to slow, and boring, the game is all boring in a mater of fact it is so boring it is boring thinking about it. It probaly could have been beter, but microsoft made a good decisian to work more on Flight sim and perfect it which they pretty much have and gave up on dumb train simulator. I wouldnt waste the money to buy this game.</td>\n",
       "      <td>Not so good</td>\n",
       "      <td>1053734400</td>\n",
       "      <td>3</td>\n",
       "      <td>{'Edition:': ' Standard'}</td>\n",
       "      <td>NaN</td>\n",
       "    </tr>\n",
       "    <tr>\n",
       "      <th>4</th>\n",
       "      <td>1.0</td>\n",
       "      <td>False</td>\n",
       "      <td>07 27, 2011</td>\n",
       "      <td>A2GI43A75633P2</td>\n",
       "      <td>B0010YOQIW</td>\n",
       "      <td>Scott</td>\n",
       "      <td>There is some important storyline you need to see but this game is crap other than that. Imagine kingdom hearts with a different totally random slot battle. That is how stupid this game is. Not the final fantasy that I wanted when i went to play this game. This game sucks and it is the last square game i ever played as a result.\\n\\nIf the creators of these final fantasy games want better sales, make the Final Fantasy VII remake we have wanted for so long. The fans deserve BETTER.</td>\n",
       "      <td>It plays itself</td>\n",
       "      <td>1311724800</td>\n",
       "      <td>NaN</td>\n",
       "      <td>{'Edition:': ' Limited'}</td>\n",
       "      <td>NaN</td>\n",
       "    </tr>\n",
       "  </tbody>\n",
       "</table>\n",
       "</div>"
      ],
      "text/plain": [
       "   overall  verified   reviewTime      reviewerID        asin  \\\n",
       "0      1.0     False  03 26, 2011  A1SXAR735QEJS0  B002BS47YE   \n",
       "1      1.0     False  03 21, 2017  A1U86MCXJLE57H  B01GW3NY5Q   \n",
       "2      1.0     False   06 9, 2009  A2K9BFRX8DL0K5  B0026GQ8WA   \n",
       "3      1.0     False  05 24, 2003  A28WRI6UMF71WX  B00005B4AS   \n",
       "4      1.0     False  07 27, 2011  A2GI43A75633P2  B0010YOQIW   \n",
       "\n",
       "      reviewerName  \\\n",
       "0   S. J. Baptista   \n",
       "1            Andre   \n",
       "2              SCF   \n",
       "3  Amazon Customer   \n",
       "4            Scott   \n",
       "\n",
       "                                                                                                                                                                                                                                                                                                                                                                                                                                                                                                                                                                                                                                                                                                                                                                                                                                                                                                                                                                                                                                                                                                                                                                                                                                                                                                                                                                                                                                                                                                                                                                                                                                                                                                                                                                                                                                                                                                                                                                                                                                                                                                      reviewText  \\\n",
       "0                                                                                                                        Probably not the best exmaple but you get the point. Oh and it also costs more.\\nIt still a good game but its not the masterpiece that crysis 1 was. A lot of features have been removed from this game, just to name the most favorite ones:\\n-Power struggle allowed you to become super strong on the battlefield and reduce weapon recoil throw greneades longer distances etc.\\n-Speed is not even half the speed of what crysis 1st nanosuit was. ??? I thought nanosuit 2 should improve upon the 1st one and not downgrade itself....\\n-PHYSICS!! You are no longer are able to blow up a small building or take down trees. The enviroment remains the same upon battle and in the end of battle.\\n-Open enviroment, unlike crysis 1 where you were able to flank your enemy at least 90 percent of time. Crysis 2 becomes more linear leading to alley battles and street battles where your flanking opportunities are reduced to 40 percent during the entire game.\\n-GRAPHICS OH GRAPHICS! Last game made support of Dx10 which increased texture quality in some areas, also giving a greater water quality than what dx9 offered. This game is dx9 and there is no word on crytek for dx11. Nvidia removed crysis 2 on their list of dx11 games supported last week. Which leads me to believe that there will be no dx11 patch in the future.\\n\\nThats my review you might not care about this changes and still enjoy the game thats fine you gave it a 5 star score. I respect that.\\nHowever this is my opinion and i give this game a 1 star because I DO MIND the changes made and its obvious that im not thrilled about paying a higher price for a downgrade product. Also im not a big multiplayer fan if thats your argument for why this game is better but i am certain that multiplayer has been doing nothing for me but kicking me out of matches and not being able to join some others while also asking me to re-enter my cd key time and time again.   \n",
       "1                                                                                                                                                                                                                                                                                                                                                                                                                                                                                                                                                                                                                                                                                                                                                                                                                                                                                                                                                                                                                                                                                                                                                                                                                                                                                                                                                                                                                                                                                                                                                                                                                                                                                                                                                                                                                                                                                                                                                                                                                                    This game pretty broken! Very buggy and it suffer bad from an audio glitch!   \n",
       "2  My console and game collection was stolen in a home invasion, so I had to look at the current XBox 360 offering so I could replace my 360 Elite.\\n\\nI was very disappointed with the offerings. It's an XBOX 360 and therefore it lets you play your games, but this far into the product cycle, I'd expect so much more. However, if you want a large drive and HDMI it's the only choice you really have.\\n\\nHere are a list of the problems I encountered, most due to the product itself:\\n\\n[--] It is advertised as \"the newest\" version of the product, yet it is using the older chipset that is prone to E74 errors.\\n\\n[--] The HDMI cable that comes with it is garbage. I plugged the 360 into my Denon 3806 receiver using the HDMI cable and there was no signal. I then plugged the 360 directly into my 60\" Sony SXRD via HDMI and there was no signal. I plugged my Digital Cable box directly into the TV using it and the picture was faded, blurry, snowy, fuzzy, dark, purple, unwatchable. I used another off-the-shelf HDMI cable and everything worked perfectly.\\n\\nMy PS3 didn't come with an HDMI cable at all, but what's the point of providing a component that doesn't even work?\\n\\n[--] The two games come in a single combined case. My case was smashed and green plastic chunks were all over the place inside the product packaging.\\n\\n[--] The headset that comes with the 360 continues to be disposable garbage.\\n\\n[--] At the current price of this product, Microsoft should be providing a rechargeable controller battery by default rather than a pack of AAs.\\n\\n[--] The XBOX 360 Elite packaging itself (the box Microsoft ships it in) had clearly been opened before I got it. The circular adhesive tape that closes one end of the product had been cut open and then a second piece of tape had been placed back over it. To Amazon's credit, when I asked them to confirm if I had a used 360 or a new one, they didn't even bother answering and just told me they had already shipped out a replacement that would arrive in 24 hours (and it did).   \n",
       "3                                                                                                                                                                                                                                                                                                                                                                                                                                                                                                                                                                                                                                                                                                                                                                                                                                                                                                                                                                                                                                                                                                                                                                                                                                                                                                                                                                                                                                                                                                                                                                                                  It is fun the first hour or so after you buy then it gets boring. It has realy dumb features, and doesnt teach anything you ever need to know. The lessons are way to slow, and boring, the game is all boring in a mater of fact it is so boring it is boring thinking about it. It probaly could have been beter, but microsoft made a good decisian to work more on Flight sim and perfect it which they pretty much have and gave up on dumb train simulator. I wouldnt waste the money to buy this game.   \n",
       "4                                                                                                                                                                                                                                                                                                                                                                                                                                                                                                                                                                                                                                                                                                                                                                                                                                                                                                                                                                                                                                                                                                                                                                                                                                                                                                                                                                                                                                                                                                                                                                                                           There is some important storyline you need to see but this game is crap other than that. Imagine kingdom hearts with a different totally random slot battle. That is how stupid this game is. Not the final fantasy that I wanted when i went to play this game. This game sucks and it is the last square game i ever played as a result.\\n\\nIf the creators of these final fantasy games want better sales, make the Final Fantasy VII remake we have wanted for so long. The fans deserve BETTER.   \n",
       "\n",
       "                                             summary  unixReviewTime vote  \\\n",
       "0  Its like stepping down from a ferrari to a jaguar      1301097600   21   \n",
       "1                                          Trash bag      1490054400   14   \n",
       "2         Typical 360 Experience - Including Failure      1244505600   13   \n",
       "3                                        Not so good      1053734400    3   \n",
       "4                                    It plays itself      1311724800  NaN   \n",
       "\n",
       "                                                      style image  \n",
       "0                                {'Format:': ' Video Game'}   NaN  \n",
       "1  {'Edition:': ' Standard', 'Platform:': ' PlayStation 4'}   NaN  \n",
       "2           {'Edition:': ' Elite 120GB Spring 2009 bundle'}   NaN  \n",
       "3                                 {'Edition:': ' Standard'}   NaN  \n",
       "4                                  {'Edition:': ' Limited'}   NaN  "
      ]
     },
     "execution_count": 148,
     "metadata": {},
     "output_type": "execute_result"
    }
   ],
   "source": [
    "reviews.head()"
   ]
  },
  {
   "cell_type": "code",
   "execution_count": 149,
   "metadata": {},
   "outputs": [],
   "source": [
    "reviews.dropna(subset=['reviewText'], inplace=True)"
   ]
  },
  {
   "cell_type": "code",
   "execution_count": 150,
   "metadata": {},
   "outputs": [
    {
     "data": {
      "text/plain": [
       "(4500, 12)"
      ]
     },
     "execution_count": 150,
     "metadata": {},
     "output_type": "execute_result"
    }
   ],
   "source": [
    "reviews.shape"
   ]
  },
  {
   "cell_type": "code",
   "execution_count": 151,
   "metadata": {},
   "outputs": [
    {
     "name": "stdout",
     "output_type": "stream",
     "text": [
      "<class 'pandas.core.frame.DataFrame'>\n",
      "Int64Index: 4500 entries, 0 to 4499\n",
      "Data columns (total 12 columns):\n",
      " #   Column          Non-Null Count  Dtype  \n",
      "---  ------          --------------  -----  \n",
      " 0   overall         4500 non-null   float64\n",
      " 1   verified        4500 non-null   bool   \n",
      " 2   reviewTime      4500 non-null   object \n",
      " 3   reviewerID      4500 non-null   object \n",
      " 4   asin            4500 non-null   object \n",
      " 5   reviewerName    4498 non-null   object \n",
      " 6   reviewText      4500 non-null   object \n",
      " 7   summary         4500 non-null   object \n",
      " 8   unixReviewTime  4500 non-null   int64  \n",
      " 9   vote            1330 non-null   object \n",
      " 10  style           2603 non-null   object \n",
      " 11  image           37 non-null     object \n",
      "dtypes: bool(1), float64(1), int64(1), object(9)\n",
      "memory usage: 426.3+ KB\n"
     ]
    }
   ],
   "source": [
    "reviews.info()"
   ]
  },
  {
   "cell_type": "code",
   "execution_count": 152,
   "metadata": {},
   "outputs": [
    {
     "data": {
      "text/html": [
       "<div>\n",
       "<style scoped>\n",
       "    .dataframe tbody tr th:only-of-type {\n",
       "        vertical-align: middle;\n",
       "    }\n",
       "\n",
       "    .dataframe tbody tr th {\n",
       "        vertical-align: top;\n",
       "    }\n",
       "\n",
       "    .dataframe thead th {\n",
       "        text-align: right;\n",
       "    }\n",
       "</style>\n",
       "<table border=\"1\" class=\"dataframe\">\n",
       "  <thead>\n",
       "    <tr style=\"text-align: right;\">\n",
       "      <th></th>\n",
       "      <th>reviewText</th>\n",
       "    </tr>\n",
       "  </thead>\n",
       "  <tbody>\n",
       "    <tr>\n",
       "      <th>3114</th>\n",
       "      <td>very realistic. great game.</td>\n",
       "    </tr>\n",
       "    <tr>\n",
       "      <th>1738</th>\n",
       "      <td>i played it for a little while and the game just seemed a little ridiculous. Kind of felt like i was playing a really cheesy game. but maybe its just not my cup of tea.</td>\n",
       "    </tr>\n",
       "    <tr>\n",
       "      <th>516</th>\n",
       "      <td>Games sucked, don't believe the hype. I was looking 4ward 2 playing this collection only 2 b very disappointed. Couldn't find 1 interesting thing about these game. Wouldn't recommend.</td>\n",
       "    </tr>\n",
       "    <tr>\n",
       "      <th>854</th>\n",
       "      <td>The xbox 360 has pasted its day a long time ago, It was better than ps3 when it first came out now ps3 is better in every way. Free online, better games, better graphics. I suggest getting the ps3.</td>\n",
       "    </tr>\n",
       "    <tr>\n",
       "      <th>4057</th>\n",
       "      <td>Disney is always a hit with the little girls. My granddaughter loved the game.</td>\n",
       "    </tr>\n",
       "  </tbody>\n",
       "</table>\n",
       "</div>"
      ],
      "text/plain": [
       "                                                                                                                                                                                                 reviewText\n",
       "3114                                                                                                                                                                            very realistic. great game.\n",
       "1738                               i played it for a little while and the game just seemed a little ridiculous. Kind of felt like i was playing a really cheesy game. but maybe its just not my cup of tea.\n",
       "516                 Games sucked, don't believe the hype. I was looking 4ward 2 playing this collection only 2 b very disappointed. Couldn't find 1 interesting thing about these game. Wouldn't recommend.\n",
       "854   The xbox 360 has pasted its day a long time ago, It was better than ps3 when it first came out now ps3 is better in every way. Free online, better games, better graphics. I suggest getting the ps3.\n",
       "4057                                                                                                                         Disney is always a hit with the little girls. My granddaughter loved the game."
      ]
     },
     "execution_count": 152,
     "metadata": {},
     "output_type": "execute_result"
    }
   ],
   "source": [
    "reviews[reviews['reviewText'].str.len()<=200][['reviewText']].sample(5)"
   ]
  },
  {
   "cell_type": "code",
   "execution_count": 177,
   "metadata": {},
   "outputs": [
    {
     "name": "stdout",
     "output_type": "stream",
     "text": [
      "=====\n",
      "Processing \"<a data-hook=\"product-link-linked\" class=\"a-link-normal\" href=\"/Delaware-St-John-The-Seacliff-Tragedy/dp/B000RQMOV0/ref=cm_cr_arp_d_rvw_txt?ie=UTF8\">Delaware St John: The Seacliff Tragedy</a>\n",
      "this game is fun and you will be playing for hours with this PC game.\"...\n",
      "Score for \"game.n.01\" is 0.0\n",
      "Score for \"be.v.01\" is 0.125\n",
      "Score for \"be.v.01\" is 0.125\n",
      "Score for \"play.v.01\" is 0.0\n",
      "Score for \"hour.n.01\" is 0.0\n",
      "Score for \"personal_computer.n.01\" is 0.0\n",
      "Score for \"game.n.01\" is 0.0\n",
      "\n",
      "\n",
      "Score of \"a datahookproductlinklinked classalinknormal hrefdelawarestjohntheseaclifftragedydpb000rqmov0refcmcrarpdrvwtxtieutf8delaware st john the seacliff tragedya\n",
      "this game is fun and you will be playing for hours with this pc game\" is 0.25\n",
      "['a', 'datahookproductlinklinked', 'classalinknormal', 'hrefdelawarestjohntheseaclifftragedydpb000rqmov0refcmcrarpdrvwtxtieutf8delaware', 'st', 'john', 'the', 'seacliff', 'tragedya', 'this', 'game', 'is', 'fun', 'and', 'you', 'will', 'be', 'playing', 'for', 'hours', 'with', 'this', 'pc', 'game']\n",
      "Sentence len 24\n",
      "Average scorce, of each token, is 0.010416666666666666\n",
      "=====\n",
      "=====\n",
      "Number of sentence in review text is 1\n",
      "Average scorce, of each sentences, is 0.010416666666666666\n"
     ]
    },
    {
     "data": {
      "text/plain": [
       "1.0416666666666665"
      ]
     },
     "execution_count": 177,
     "metadata": {},
     "output_type": "execute_result"
    }
   ],
   "source": [
    "get_sentiment_score_breakdown(reviews['reviewText'][304])"
   ]
  },
  {
   "cell_type": "code",
   "execution_count": 159,
   "metadata": {},
   "outputs": [],
   "source": [
    "reviews['swn_score'] = reviews['reviewText'].apply(lambda text : get_sentiment_score(text))"
   ]
  },
  {
   "cell_type": "code",
   "execution_count": 175,
   "metadata": {},
   "outputs": [
    {
     "data": {
      "text/html": [
       "<div>\n",
       "<style scoped>\n",
       "    .dataframe tbody tr th:only-of-type {\n",
       "        vertical-align: middle;\n",
       "    }\n",
       "\n",
       "    .dataframe tbody tr th {\n",
       "        vertical-align: top;\n",
       "    }\n",
       "\n",
       "    .dataframe thead th {\n",
       "        text-align: right;\n",
       "    }\n",
       "</style>\n",
       "<table border=\"1\" class=\"dataframe\">\n",
       "  <thead>\n",
       "    <tr style=\"text-align: right;\">\n",
       "      <th></th>\n",
       "      <th>reviewText</th>\n",
       "      <th>swn_score</th>\n",
       "    </tr>\n",
       "  </thead>\n",
       "  <tbody>\n",
       "    <tr>\n",
       "      <th>1296</th>\n",
       "      <td>Completely useless. Most of the time when a lens dies it needs to be replaced, not cleaned. I had to find this out the hard way. Now I am looking at replacing it myself somehow, since nintendo wants an arm and a leg.</td>\n",
       "      <td>-3.447712</td>\n",
       "    </tr>\n",
       "    <tr>\n",
       "      <th>304</th>\n",
       "      <td>&lt;a data-hook=\"product-link-linked\" class=\"a-link-normal\" href=\"/Delaware-St-John-The-Seacliff-Tragedy/dp/B000RQMOV0/ref=cm_cr_arp_d_rvw_txt?ie=UTF8\"&gt;Delaware St John: The Seacliff Tragedy&lt;/a&gt;\\nthis game is fun and you will be playing for hours with this PC game.</td>\n",
       "      <td>1.041667</td>\n",
       "    </tr>\n",
       "  </tbody>\n",
       "</table>\n",
       "</div>"
      ],
      "text/plain": [
       "                                                                                                                                                                                                                                                                  reviewText  \\\n",
       "1296                                                Completely useless. Most of the time when a lens dies it needs to be replaced, not cleaned. I had to find this out the hard way. Now I am looking at replacing it myself somehow, since nintendo wants an arm and a leg.   \n",
       "304   <a data-hook=\"product-link-linked\" class=\"a-link-normal\" href=\"/Delaware-St-John-The-Seacliff-Tragedy/dp/B000RQMOV0/ref=cm_cr_arp_d_rvw_txt?ie=UTF8\">Delaware St John: The Seacliff Tragedy</a>\\nthis game is fun and you will be playing for hours with this PC game.   \n",
       "\n",
       "      swn_score  \n",
       "1296  -3.447712  \n",
       "304    1.041667  "
      ]
     },
     "execution_count": 175,
     "metadata": {},
     "output_type": "execute_result"
    }
   ],
   "source": [
    "reviews[['reviewText','swn_score']].sample(2)"
   ]
  },
  {
   "cell_type": "code",
   "execution_count": 176,
   "metadata": {},
   "outputs": [
    {
     "data": {
      "text/html": [
       "<div>\n",
       "<style scoped>\n",
       "    .dataframe tbody tr th:only-of-type {\n",
       "        vertical-align: middle;\n",
       "    }\n",
       "\n",
       "    .dataframe tbody tr th {\n",
       "        vertical-align: top;\n",
       "    }\n",
       "\n",
       "    .dataframe thead th {\n",
       "        text-align: right;\n",
       "    }\n",
       "</style>\n",
       "<table border=\"1\" class=\"dataframe\">\n",
       "  <thead>\n",
       "    <tr style=\"text-align: right;\">\n",
       "      <th></th>\n",
       "      <th>reviewText</th>\n",
       "      <th>swn_score</th>\n",
       "    </tr>\n",
       "  </thead>\n",
       "  <tbody>\n",
       "    <tr>\n",
       "      <th>2439</th>\n",
       "      <td>I only buy Madden every three years.  There is a lot to like about this game but if you want to play MUT then get ready to shell out extra cash.  Also the load time is very long.  I check my email and read online articles while waiting for stuff to load.</td>\n",
       "      <td>1.469494</td>\n",
       "    </tr>\n",
       "    <tr>\n",
       "      <th>2656</th>\n",
       "      <td>As my other reviews will attest, I consider myself to be a Nintendo fan and Wii U supporter. Just realize this comes from the perspective of someone who has never played a Dynasty Warriors game and I am familiar with Zelda but haven't played a Zelda game since the NES version back in the early 90s (the newer games seemed very involved, which I realize a lot of people like).\\n\\nSo... from that perspective... first the pros:\\n- Beautiful graphics. Everything's HD. They did a great job designing the various characters and worlds.\\n- Excellent soundtrack. The theme will undoubtedly get stuck in your head. It also changes to fit what's going on in the battlefield.\\n- The story keeps you interested. I've only completed the first two levels. To me, a good video game has to have a story that engages you. It makes you feel like you are Link fighting of hordes of enemies while you try to save the Princess.\\n- The combat. It's actually pretty fun to destroy literally thousands of enemies in a given level. It just feels right.\\n\\nAnd now the cons:\\n- Seemingly 1-Dimensional gameplay. It feels like playing an old NBA video game on easy. You could run up the score to 200, make 30/40 threes, get a steal or block on every play. It's still fun... because you feel like a powerful warrior on the battlefield where no one else is a match for you... but it's less satisfying because you know how easy it is (would probably be a huge plus for a younger child).\\n- Objectives are confusing. The battlefield is very fast paced. Objectives change often and it's not always clear what you should be doing at a given time.\\n\\nOverall, I'm satisfied. It is fun and the Adventure Mode, variety of characters, DLC, and weapon upgrading system look like they will add plenty of replay value. But the ho-hum/repetitive gameplay keep it from being a truly great game. Probably closer to 3/5 stars, but I gave it the benefit of the doubt.</td>\n",
       "      <td>5.287775</td>\n",
       "    </tr>\n",
       "  </tbody>\n",
       "</table>\n",
       "</div>"
      ],
      "text/plain": [
       "                                                                                                                                                                                                                                                                                                                                                                                                                                                                                                                                                                                                                                                                                                                                                                                                                                                                                                                                                                                                                                                                                                                                                                                                                                                                                                                                                                                                                                                                                                                                                                                                                                                                                                                                                                                                                                                                                                                                                                                                 reviewText  \\\n",
       "2439                                                                                                                                                                                                                                                                                                                                                                                                                                                                                                                                                                                                                                                                                                                                                                                                                                                                                                                                                                                                                                                                                                                                                                                                                                                                                                                                                                                                                                                                                                                                                                                                                                                                                                                                         I only buy Madden every three years.  There is a lot to like about this game but if you want to play MUT then get ready to shell out extra cash.  Also the load time is very long.  I check my email and read online articles while waiting for stuff to load.   \n",
       "2656  As my other reviews will attest, I consider myself to be a Nintendo fan and Wii U supporter. Just realize this comes from the perspective of someone who has never played a Dynasty Warriors game and I am familiar with Zelda but haven't played a Zelda game since the NES version back in the early 90s (the newer games seemed very involved, which I realize a lot of people like).\\n\\nSo... from that perspective... first the pros:\\n- Beautiful graphics. Everything's HD. They did a great job designing the various characters and worlds.\\n- Excellent soundtrack. The theme will undoubtedly get stuck in your head. It also changes to fit what's going on in the battlefield.\\n- The story keeps you interested. I've only completed the first two levels. To me, a good video game has to have a story that engages you. It makes you feel like you are Link fighting of hordes of enemies while you try to save the Princess.\\n- The combat. It's actually pretty fun to destroy literally thousands of enemies in a given level. It just feels right.\\n\\nAnd now the cons:\\n- Seemingly 1-Dimensional gameplay. It feels like playing an old NBA video game on easy. You could run up the score to 200, make 30/40 threes, get a steal or block on every play. It's still fun... because you feel like a powerful warrior on the battlefield where no one else is a match for you... but it's less satisfying because you know how easy it is (would probably be a huge plus for a younger child).\\n- Objectives are confusing. The battlefield is very fast paced. Objectives change often and it's not always clear what you should be doing at a given time.\\n\\nOverall, I'm satisfied. It is fun and the Adventure Mode, variety of characters, DLC, and weapon upgrading system look like they will add plenty of replay value. But the ho-hum/repetitive gameplay keep it from being a truly great game. Probably closer to 3/5 stars, but I gave it the benefit of the doubt.   \n",
       "\n",
       "      swn_score  \n",
       "2439   1.469494  \n",
       "2656   5.287775  "
      ]
     },
     "execution_count": 176,
     "metadata": {},
     "output_type": "execute_result"
    }
   ],
   "source": [
    "reviews[['reviewText','swn_score']].sample(2)"
   ]
  },
  {
   "cell_type": "markdown",
   "metadata": {},
   "source": [
    "### Simple Graph"
   ]
  },
  {
   "cell_type": "code",
   "execution_count": 228,
   "metadata": {},
   "outputs": [],
   "source": [
    "# we will adjust these number later\n",
    "positiveScore = 1\n",
    "negativeScore = 0.5"
   ]
  },
  {
   "cell_type": "code",
   "execution_count": 229,
   "metadata": {},
   "outputs": [
    {
     "data": {
      "image/png": "[encoded data removed]",
      "text/plain": [
       "<Figure size 1440x720 with 1 Axes>"
      ]
     },
     "metadata": {
      "needs_background": "light"
     },
     "output_type": "display_data"
    }
   ],
   "source": [
    "fig , ax = plt.subplots(nrows=1, ncols=1, figsize=(20,10))\n",
    "sns.histplot(x='swn_score', data=reviews.query(\"swn_score < 8 and swn_score > -8\"), ax=ax)\n",
    "# sns.histplot(x='swn_score', data=reviews.query(\"swn_score > 8\"), ax=ax)\n",
    "# sns.histplot(x='swn_score', data=reviews, ax=ax)\n",
    "plt.show()"
   ]
  },
  {
   "cell_type": "code",
   "execution_count": 230,
   "metadata": {},
   "outputs": [],
   "source": [
    "reviews['swn_sentiment'] = reviews['swn_score'].apply(lambda x: \"positive\" if x>positiveScore else (\"negative\" if x<negativeScore else \"neutral\"))"
   ]
  },
  {
   "cell_type": "code",
   "execution_count": 231,
   "metadata": {},
   "outputs": [
    {
     "data": {
      "text/plain": [
       "positive    2204\n",
       "negative    1931\n",
       "neutral      365\n",
       "Name: swn_sentiment, dtype: int64"
      ]
     },
     "execution_count": 231,
     "metadata": {},
     "output_type": "execute_result"
    }
   ],
   "source": [
    "reviews['swn_sentiment'].value_counts(dropna=False)"
   ]
  },
  {
   "cell_type": "code",
   "execution_count": 232,
   "metadata": {},
   "outputs": [
    {
     "data": {
      "text/plain": [
       "<AxesSubplot:xlabel='overall', ylabel='count'>"
      ]
     },
     "execution_count": 232,
     "metadata": {},
     "output_type": "execute_result"
    },
    {
     "data": {
      "image/png": "[encoded data removed]",
      "text/plain": [
       "<Figure size 432x288 with 1 Axes>"
      ]
     },
     "metadata": {
      "needs_background": "light"
     },
     "output_type": "display_data"
    }
   ],
   "source": [
    "sns.countplot(x='overall', hue='swn_sentiment' ,data = reviews)"
   ]
  },
  {
   "cell_type": "code",
   "execution_count": 236,
   "metadata": {},
   "outputs": [
    {
     "data": {
      "text/plain": [
       "<AxesSubplot:xlabel='swn_sentiment', ylabel='overall'>"
      ]
     },
     "execution_count": 236,
     "metadata": {},
     "output_type": "execute_result"
    },
    {
     "data": {
      "image/png": "[encoded data removed]",
      "text/plain": [
       "<Figure size 432x288 with 1 Axes>"
      ]
     },
     "metadata": {
      "needs_background": "light"
     },
     "output_type": "display_data"
    }
   ],
   "source": [
    "sns.boxenplot(x='swn_sentiment', y='overall', data = reviews)"
   ]
  },
  {
   "cell_type": "code",
   "execution_count": 234,
   "metadata": {},
   "outputs": [
    {
     "data": {
      "image/png": "[encoded data removed]",
      "text/plain": [
       "<Figure size 864x504 with 1 Axes>"
      ]
     },
     "metadata": {
      "needs_background": "light"
     },
     "output_type": "display_data"
    }
   ],
   "source": [
    "fig, ax = plt.subplots(nrows=1, ncols=1, figsize = (12,7))\n",
    "sns.boxenplot(x='overall', y='swn_score', data = reviews, ax=ax)\n",
    "plt.show()"
   ]
  },
  {
   "cell_type": "code",
   "execution_count": 244,
   "metadata": {},
   "outputs": [],
   "source": [
    "reviews['true_sentiment'] = \\\n",
    "    reviews['overall'].apply(lambda x: \"positive\" if x>=4 else (\"neutral\" if x==3 else \"negative\"))"
   ]
  },
  {
   "cell_type": "code",
   "execution_count": 261,
   "metadata": {},
   "outputs": [
    {
     "data": {
      "text/html": [
       "<div>\n",
       "<style scoped>\n",
       "    .dataframe tbody tr th:only-of-type {\n",
       "        vertical-align: middle;\n",
       "    }\n",
       "\n",
       "    .dataframe tbody tr th {\n",
       "        vertical-align: top;\n",
       "    }\n",
       "\n",
       "    .dataframe thead th {\n",
       "        text-align: right;\n",
       "    }\n",
       "</style>\n",
       "<table border=\"1\" class=\"dataframe\">\n",
       "  <thead>\n",
       "    <tr style=\"text-align: right;\">\n",
       "      <th></th>\n",
       "      <th>reviewText</th>\n",
       "      <th>overall</th>\n",
       "      <th>true_sentiment</th>\n",
       "      <th>swn_score</th>\n",
       "      <th>swn_sentiment</th>\n",
       "    </tr>\n",
       "  </thead>\n",
       "  <tbody>\n",
       "    <tr>\n",
       "      <th>654</th>\n",
       "      <td>This game is extremely bad. Bad storyline and bad graphic. Looks cheap and cheesy inspite of the effort to make it free roaming. You can get this game used for $20 or less.</td>\n",
       "      <td>1.0</td>\n",
       "      <td>negative</td>\n",
       "      <td>-8.245192</td>\n",
       "      <td>negative</td>\n",
       "    </tr>\n",
       "    <tr>\n",
       "      <th>3296</th>\n",
       "      <td>bought for a Christmas gift and they just love the game.</td>\n",
       "      <td>5.0</td>\n",
       "      <td>positive</td>\n",
       "      <td>6.818182</td>\n",
       "      <td>positive</td>\n",
       "    </tr>\n",
       "    <tr>\n",
       "      <th>315</th>\n",
       "      <td>So dissapointed in this title, I only purchased it for the online play which I expected to be on par or better than MH4U. I can't stress how horrible this game is, I am yet to get the online play to work though I've tried on SEVERAL networks and am more than competent with technology as I work with it (IT) for a living. THIS GAME IS A JOKE, stop putting out garbage titles like this. If I could give it any less stars I would. Stick to MH4U and avoid this trash.</td>\n",
       "      <td>1.0</td>\n",
       "      <td>negative</td>\n",
       "      <td>-0.419643</td>\n",
       "      <td>negative</td>\n",
       "    </tr>\n",
       "    <tr>\n",
       "      <th>2313</th>\n",
       "      <td>This is 2008 and I though that the game would be very well made. Well I was wrong. On PSP the graphics are just cheap. The game feels like its from 2004 or something, even Mortal Combat from 2003 looks better. In general the game is more for younger crowd.</td>\n",
       "      <td>3.0</td>\n",
       "      <td>neutral</td>\n",
       "      <td>0.657242</td>\n",
       "      <td>neutral</td>\n",
       "    </tr>\n",
       "    <tr>\n",
       "      <th>4196</th>\n",
       "      <td>Beauty - check\\nSolid gameplay - check\\nFun online multiplayer - check\\n\\nI don't know if I can find any other games here on Amazon that is still rated 5/5 after 700+ ratings...</td>\n",
       "      <td>5.0</td>\n",
       "      <td>positive</td>\n",
       "      <td>4.166667</td>\n",
       "      <td>positive</td>\n",
       "    </tr>\n",
       "  </tbody>\n",
       "</table>\n",
       "</div>"
      ],
      "text/plain": [
       "                                                                                                                                                                                                                                                                                                                                                                                                                                                                            reviewText  \\\n",
       "654                                                                                                                                                                                                                                                                                                       This game is extremely bad. Bad storyline and bad graphic. Looks cheap and cheesy inspite of the effort to make it free roaming. You can get this game used for $20 or less.   \n",
       "3296                                                                                                                                                                                                                                                                                                                                                                                                                          bought for a Christmas gift and they just love the game.   \n",
       "315   So dissapointed in this title, I only purchased it for the online play which I expected to be on par or better than MH4U. I can't stress how horrible this game is, I am yet to get the online play to work though I've tried on SEVERAL networks and am more than competent with technology as I work with it (IT) for a living. THIS GAME IS A JOKE, stop putting out garbage titles like this. If I could give it any less stars I would. Stick to MH4U and avoid this trash.   \n",
       "2313                                                                                                                                                                                                                  This is 2008 and I though that the game would be very well made. Well I was wrong. On PSP the graphics are just cheap. The game feels like its from 2004 or something, even Mortal Combat from 2003 looks better. In general the game is more for younger crowd.   \n",
       "4196                                                                                                                                                                                                                                                                                                 Beauty - check\\nSolid gameplay - check\\nFun online multiplayer - check\\n\\nI don't know if I can find any other games here on Amazon that is still rated 5/5 after 700+ ratings...   \n",
       "\n",
       "      overall true_sentiment  swn_score swn_sentiment  \n",
       "654       1.0       negative  -8.245192      negative  \n",
       "3296      5.0       positive   6.818182      positive  \n",
       "315       1.0       negative  -0.419643      negative  \n",
       "2313      3.0        neutral   0.657242       neutral  \n",
       "4196      5.0       positive   4.166667      positive  "
      ]
     },
     "execution_count": 261,
     "metadata": {},
     "output_type": "execute_result"
    }
   ],
   "source": [
    "reviews[['reviewText', 'overall', 'true_sentiment','swn_score', 'swn_sentiment']].sample(5)"
   ]
  },
  {
   "cell_type": "code",
   "execution_count": 240,
   "metadata": {},
   "outputs": [],
   "source": [
    "y_swn_pred, y_true = reviews['swn_sentiment'].tolist(), reviews['true_sentiment'].tolist()"
   ]
  },
  {
   "cell_type": "code",
   "execution_count": 241,
   "metadata": {},
   "outputs": [
    {
     "data": {
      "text/plain": [
       "(4500, 4500)"
      ]
     },
     "execution_count": 241,
     "metadata": {},
     "output_type": "execute_result"
    }
   ],
   "source": [
    "len(y_swn_pred), len(y_true)"
   ]
  },
  {
   "cell_type": "code",
   "execution_count": 356,
   "metadata": {},
   "outputs": [],
   "source": [
    "from sklearn.metrics import confusion_matrix\n",
    "swn_cm = confusion_matrix(y_true, y_swn_pred)"
   ]
  },
  {
   "cell_type": "code",
   "execution_count": 357,
   "metadata": {},
   "outputs": [
    {
     "data": {
      "image/png": "[encoded data removed]",
      "text/plain": [
       "<Figure size 576x432 with 2 Axes>"
      ]
     },
     "metadata": {
      "needs_background": "light"
     },
     "output_type": "display_data"
    }
   ],
   "source": [
    "fig , ax = plt.subplots(nrows=1, ncols=1, figsize=(8,6))\n",
    "sns.heatmap(swn_cm, cmap='viridis_r', annot=True, fmt='d', square=True, ax=ax)\n",
    "ax.set_xlabel('Predicted')\n",
    "ax.set_ylabel('True');"
   ]
  },
  {
   "cell_type": "markdown",
   "metadata": {},
   "source": [
    "## Performance Assessment"
   ]
  },
  {
   "cell_type": "code",
   "execution_count": 363,
   "metadata": {},
   "outputs": [],
   "source": [
    "swn_cm_list = list(swn_cm.ravel())"
   ]
  },
  {
   "cell_type": "code",
   "execution_count": 364,
   "metadata": {},
   "outputs": [
    {
     "data": {
      "text/plain": [
       "[1182, 180, 638, 189, 54, 257, 560, 131, 1309]"
      ]
     },
     "execution_count": 364,
     "metadata": {},
     "output_type": "execute_result"
    }
   ],
   "source": [
    "swn_cm_list"
   ]
  },
  {
   "cell_type": "markdown",
   "metadata": {},
   "source": [
    "### Negative Sentiment Prediction Assessment\n",
    "\n",
    "Consider 'negative' sentiment result"
   ]
  },
  {
   "cell_type": "code",
   "execution_count": 365,
   "metadata": {},
   "outputs": [],
   "source": [
    "tp = oplex_cm[0]\n",
    "tn = oplex_cm[4] + oplex_cm[5] + oplex_cm[7] + oplex_cm[8]\n",
    "fp = oplex_cm[3] + oplex_cm[6]\n",
    "fn = oplex_cm[1] + oplex_cm[2]"
   ]
  },
  {
   "cell_type": "code",
   "execution_count": 366,
   "metadata": {},
   "outputs": [
    {
     "name": "stdout",
     "output_type": "stream",
     "text": [
      "recall: 0.5195\n",
      "precision: 0.7788605697151424\n",
      "f1 score: 0.6232753449310138\n"
     ]
    }
   ],
   "source": [
    "recall = tp / (tp + fn)\n",
    "specifity = tn / (tn + fp)\n",
    "precision = tp / (tp + fp)\n",
    "f1 = (2*tp) / (2*tp + fp + fn)\n",
    "\n",
    "print(\"recall: {}\\nprecision: {}\\nf1 score: {}\".format(recall, precision, f1))"
   ]
  },
  {
   "cell_type": "markdown",
   "metadata": {},
   "source": [
    "### Positive Sentiment Prediction Assessment\n",
    "\n",
    "Consider 'positive' sentiment result"
   ]
  },
  {
   "cell_type": "code",
   "execution_count": 367,
   "metadata": {},
   "outputs": [],
   "source": [
    "tp = oplex_cm[8]\n",
    "tn = oplex_cm[0] + oplex_cm[1] + oplex_cm[3] + oplex_cm[4]\n",
    "fp = oplex_cm[2] + oplex_cm[5]\n",
    "fn = oplex_cm[6] + oplex_cm[7]"
   ]
  },
  {
   "cell_type": "code",
   "execution_count": 368,
   "metadata": {},
   "outputs": [
    {
     "name": "stdout",
     "output_type": "stream",
     "text": [
      "recall: 0.729\n",
      "precision: 0.6465631929046564\n",
      "f1 score: 0.6853113983548766\n"
     ]
    }
   ],
   "source": [
    "recall = tp / (tp + fn)\n",
    "specifity = tn / (tn + fp)\n",
    "precision = tp / (tp + fp)\n",
    "f1 = (2*tp) / (2*tp + fp + fn)\n",
    "\n",
    "print(\"recall: {}\\nprecision: {}\\nf1 score: {}\".format(recall, precision, f1))"
   ]
  },
  {
   "cell_type": "markdown",
   "metadata": {},
   "source": [
    "## Sentiment Scoring Model Using NLTK Opinion Lexicon"
   ]
  },
  {
   "cell_type": "code",
   "execution_count": 279,
   "metadata": {},
   "outputs": [],
   "source": [
    "import nltk\n",
    "from nltk.corpus import opinion_lexicon\n",
    "from nltk.tokenize import word_tokenize, sent_tokenize"
   ]
  },
  {
   "cell_type": "code",
   "execution_count": 280,
   "metadata": {},
   "outputs": [
    {
     "name": "stderr",
     "output_type": "stream",
     "text": [
      "[nltk_data] Downloading package opinion_lexicon to\n",
      "[nltk_data]     /Users/rickylam/nltk_data...\n",
      "[nltk_data]   Unzipping corpora/opinion_lexicon.zip.\n"
     ]
    },
    {
     "data": {
      "text/plain": [
       "True"
      ]
     },
     "execution_count": 280,
     "metadata": {},
     "output_type": "execute_result"
    }
   ],
   "source": [
    "nltk.download(\"opinion_lexicon\")"
   ]
  },
  {
   "cell_type": "code",
   "execution_count": 290,
   "metadata": {},
   "outputs": [],
   "source": [
    "pos_words = list(opinion_lexicon.positive())\n",
    "neg_words = list(opinion_lexicon.negative())"
   ]
  },
  {
   "cell_type": "code",
   "execution_count": 291,
   "metadata": {},
   "outputs": [
    {
     "data": {
      "text/plain": [
       "['a+', 'abound', 'abounds', 'abundance', 'abundant']"
      ]
     },
     "execution_count": 291,
     "metadata": {},
     "output_type": "execute_result"
    }
   ],
   "source": [
    "pos_words[:5]"
   ]
  },
  {
   "cell_type": "code",
   "execution_count": 292,
   "metadata": {},
   "outputs": [
    {
     "data": {
      "text/plain": [
       "['2-faced', '2-faces', 'abnormal', 'abolish', 'abominable']"
      ]
     },
     "execution_count": 292,
     "metadata": {},
     "output_type": "execute_result"
    }
   ],
   "source": [
    "neg_words[:5]"
   ]
  },
  {
   "cell_type": "code",
   "execution_count": 320,
   "metadata": {},
   "outputs": [],
   "source": [
    "def get_sentiment_score_oplex(text):\n",
    "    \n",
    "    \"\"\"\n",
    "        This method returns the sentiment score of a given text using nltk opinion lexicon.\n",
    "        input: text\n",
    "        output: numeric (double) score, >0 means positive sentiment and <0 means negative sentiment.\n",
    "    \"\"\"    \n",
    "    total_score = 0\n",
    "    raw_sentences = sent_tokenize(text)\n",
    "#     print(f'reviewText {text}')\n",
    "#     print(f'raw_sentences {raw_sentences}')\n",
    "    \n",
    "    for sentence in raw_sentences:\n",
    "        sent_score = 0     \n",
    "        sentence = str(sentence)\n",
    "        sentence = sentence.replace(\"<br />\",\" \").translate(str.maketrans('','',punctuation)).lower()\n",
    "        tokens = TreebankWordTokenizer().tokenize(sentence)\n",
    "#         print(f'tokens {tokens}')\n",
    "        if len(tokens) == 0:\n",
    "            continue\n",
    "    \n",
    "    \n",
    "        for token in tokens:\n",
    "            if token in pos_words:\n",
    "                sent_score = sent_score + 1\n",
    "            elif token in neg_words:\n",
    "                sent_score = sent_score - 1\n",
    "        \n",
    "#         print(f'sent_score {sent_score}')\n",
    "        total_score = total_score + (sent_score / len(tokens))\n",
    "\n",
    "    return total_score"
   ]
  },
  {
   "cell_type": "code",
   "execution_count": 321,
   "metadata": {},
   "outputs": [
    {
     "data": {
      "text/plain": [
       "-0.676923076923077"
      ]
     },
     "execution_count": 321,
     "metadata": {},
     "output_type": "execute_result"
    }
   ],
   "source": [
    "get_sentiment_score_oplex(reviews['reviewText'][654])"
   ]
  },
  {
   "cell_type": "code",
   "execution_count": 322,
   "metadata": {},
   "outputs": [],
   "source": [
    "reviews['oplex_sentiment_score'] = reviews['reviewText'].apply(lambda x: get_sentiment_score_oplex(x))"
   ]
  },
  {
   "cell_type": "code",
   "execution_count": 325,
   "metadata": {},
   "outputs": [
    {
     "data": {
      "text/html": [
       "<div>\n",
       "<style scoped>\n",
       "    .dataframe tbody tr th:only-of-type {\n",
       "        vertical-align: middle;\n",
       "    }\n",
       "\n",
       "    .dataframe tbody tr th {\n",
       "        vertical-align: top;\n",
       "    }\n",
       "\n",
       "    .dataframe thead th {\n",
       "        text-align: right;\n",
       "    }\n",
       "</style>\n",
       "<table border=\"1\" class=\"dataframe\">\n",
       "  <thead>\n",
       "    <tr style=\"text-align: right;\">\n",
       "      <th></th>\n",
       "      <th>reviewText</th>\n",
       "      <th>swn_score</th>\n",
       "      <th>oplex_sentiment_score</th>\n",
       "    </tr>\n",
       "  </thead>\n",
       "  <tbody>\n",
       "    <tr>\n",
       "      <th>3350</th>\n",
       "      <td>Great game. It's a little easy, but can be made more difficult manually. I love every second of it.</td>\n",
       "      <td>0.883838</td>\n",
       "      <td>0.666667</td>\n",
       "    </tr>\n",
       "    <tr>\n",
       "      <th>2032</th>\n",
       "      <td>I'm very torn in my review.  There are a lot of things I enjoy about this game, but there are also many frustrating elements.\\n\\nI was very excited to play this game because I love post-apocalyptic stories.  This game takes place shortly after a deadly virus has wiped out a large portion of New York.  The graphics are excellent and definitely leaps and bounds above Fallout 4 (which I loved).  The environment is fun to explore and I love the level of detail.\\n\\nThe controls are easy to master.  It's simple to switch weapons, hide behind cover, and access grenades/health packs.  The basic mechanics all work well.\\n\\nMy biggest issue with the game is its difficulty.  I played Fallout 4 on hard and most other game on medium without a problem.  The Division only has normal or hard as difficulty settings.  Even the \"normal\" mode is very frustrating to me.  I end up dying countless times.  I find myself getting very annoyed.  When I come home from work after a difficult day, it's just not enjoyable to die over and over in a game.  You can't go into missions with guns blazing.  You have to take cover and carefully pick off enemies.  The enemies always seem to notice me, even if I am hiding behind something, not moving.  I'm always vastly outnumbered by enemies and all it takes is a couple of shots from an enemy and I die.  On the other hand, I can unload an entire clip on an enemy's head and he doesn't die.  A typical scenario involves me hiding somewhere, finding an enemy to take out, unloading a clip into his head, and then getting killed by one swing of a baseball bat from a random guy coming out of nowhere.\\n\\nThe enemies also seem to have unlimited grenades, while I can only carry three grenades.  I am also limited to two health packs.  My bag is no where near full, but for some reason, the developers decided that a player can have many guns and articles of clothing, but only two health packs.\\n\\nMy other irritation with this game is the extremely limited enemy taunts/complaints.  I'm not usually annoyed by this type of thing, but in The Division, the taunts are very repetitive.  It seems that every enemy is named \"Alex\" and I constantly hear, \"They killed Alex!\"  They also yell the same insults again and again.\\n\\nRight now, I am stuck in this game and am not sure if I will be able to finish.  I'm at a mission where I am the same level as all of the enemies, so it should be relatively easy to beat.  However, there is one super enemy who has a machine gun that kills me after a few hits.  I have managed to unload several clips into his head/body and yet he just won't die.  Then, every time I die, I have to start over from a check point that requires me killing 10 enemies before the guy who won't die finally appears.\\n\\nI really wish the developers of this game had considered more casual players and created an easy mode.  I think skilled players will have no problem with this game and I recommend it for them.  As a casual player, this game has been incredibly frustrating.</td>\n",
       "      <td>-0.990032</td>\n",
       "      <td>-1.482941</td>\n",
       "    </tr>\n",
       "    <tr>\n",
       "      <th>2244</th>\n",
       "      <td>Bought this used and it came in rougher shape than expected from description. Was a little more than lightly used as advertised. Decent scuff marks all around and the grip pad was missing from the left joy stick. Controller was completely functional however which is more than I can say for any you'd find at a pawn shop or local used game store.</td>\n",
       "      <td>0.848958</td>\n",
       "      <td>0.062500</td>\n",
       "    </tr>\n",
       "    <tr>\n",
       "      <th>3637</th>\n",
       "      <td>GREAT game and great gameplay! My xbox thanks me for this bought!</td>\n",
       "      <td>0.892857</td>\n",
       "      <td>0.400000</td>\n",
       "    </tr>\n",
       "    <tr>\n",
       "      <th>2289</th>\n",
       "      <td>its fun but its not fully engaging like you want it to be, my friends and I played through inferno and than its just same old same old all the time but with randomly generated maps that might as well be the same.</td>\n",
       "      <td>3.197674</td>\n",
       "      <td>0.069767</td>\n",
       "    </tr>\n",
       "  </tbody>\n",
       "</table>\n",
       "</div>"
      ],
      "text/plain": [
       "                                                                                                                                                                                                                                                                                                                                                                                                                                                                                                                                                                                                                                                                                                                                                                                                                                                                                                                                                                                                                                                                                                                                                                                                                                                                                                                                                                                                                                                                                                                                                                                                                                                                                                                                                                                                                                                                                                                                                                                                                                                                                                                                                                                                                                                                                                                                                                                                                                                                                                                                                                                                                                                                                                                                                                                                                                                                                                                                                                                                                                                                                                                                         reviewText  \\\n",
       "3350                                                                                                                                                                                                                                                                                                                                                                                                                                                                                                                                                                                                                                                                                                                                                                                                                                                                                                                                                                                                                                                                                                                                                                                                                                                                                                                                                                                                                                                                                                                                                                                                                                                                                                                                                                                                                                                                                                                                                                                                                                                                                                                                                                                                                                                                                                                                                                                                                                                                                                                                                                                                                                                                                                                                                                                                                                                                                                                                                                                                                                            Great game. It's a little easy, but can be made more difficult manually. I love every second of it.   \n",
       "2032  I'm very torn in my review.  There are a lot of things I enjoy about this game, but there are also many frustrating elements.\\n\\nI was very excited to play this game because I love post-apocalyptic stories.  This game takes place shortly after a deadly virus has wiped out a large portion of New York.  The graphics are excellent and definitely leaps and bounds above Fallout 4 (which I loved).  The environment is fun to explore and I love the level of detail.\\n\\nThe controls are easy to master.  It's simple to switch weapons, hide behind cover, and access grenades/health packs.  The basic mechanics all work well.\\n\\nMy biggest issue with the game is its difficulty.  I played Fallout 4 on hard and most other game on medium without a problem.  The Division only has normal or hard as difficulty settings.  Even the \"normal\" mode is very frustrating to me.  I end up dying countless times.  I find myself getting very annoyed.  When I come home from work after a difficult day, it's just not enjoyable to die over and over in a game.  You can't go into missions with guns blazing.  You have to take cover and carefully pick off enemies.  The enemies always seem to notice me, even if I am hiding behind something, not moving.  I'm always vastly outnumbered by enemies and all it takes is a couple of shots from an enemy and I die.  On the other hand, I can unload an entire clip on an enemy's head and he doesn't die.  A typical scenario involves me hiding somewhere, finding an enemy to take out, unloading a clip into his head, and then getting killed by one swing of a baseball bat from a random guy coming out of nowhere.\\n\\nThe enemies also seem to have unlimited grenades, while I can only carry three grenades.  I am also limited to two health packs.  My bag is no where near full, but for some reason, the developers decided that a player can have many guns and articles of clothing, but only two health packs.\\n\\nMy other irritation with this game is the extremely limited enemy taunts/complaints.  I'm not usually annoyed by this type of thing, but in The Division, the taunts are very repetitive.  It seems that every enemy is named \"Alex\" and I constantly hear, \"They killed Alex!\"  They also yell the same insults again and again.\\n\\nRight now, I am stuck in this game and am not sure if I will be able to finish.  I'm at a mission where I am the same level as all of the enemies, so it should be relatively easy to beat.  However, there is one super enemy who has a machine gun that kills me after a few hits.  I have managed to unload several clips into his head/body and yet he just won't die.  Then, every time I die, I have to start over from a check point that requires me killing 10 enemies before the guy who won't die finally appears.\\n\\nI really wish the developers of this game had considered more casual players and created an easy mode.  I think skilled players will have no problem with this game and I recommend it for them.  As a casual player, this game has been incredibly frustrating.   \n",
       "2244                                                                                                                                                                                                                                                                                                                                                                                                                                                                                                                                                                                                                                                                                                                                                                                                                                                                                                                                                                                                                                                                                                                                                                                                                                                                                                                                                                                                                                                                                                                                                                                                                                                                                                                                                                                                                                                                                                                                                                                                                                                                                                                                                                                                                                                                                                                                                                                                                                                                                                                                                                                                                                                                                                                                                                                     Bought this used and it came in rougher shape than expected from description. Was a little more than lightly used as advertised. Decent scuff marks all around and the grip pad was missing from the left joy stick. Controller was completely functional however which is more than I can say for any you'd find at a pawn shop or local used game store.   \n",
       "3637                                                                                                                                                                                                                                                                                                                                                                                                                                                                                                                                                                                                                                                                                                                                                                                                                                                                                                                                                                                                                                                                                                                                                                                                                                                                                                                                                                                                                                                                                                                                                                                                                                                                                                                                                                                                                                                                                                                                                                                                                                                                                                                                                                                                                                                                                                                                                                                                                                                                                                                                                                                                                                                                                                                                                                                                                                                                                                                                                                                                                                                                              GREAT game and great gameplay! My xbox thanks me for this bought!   \n",
       "2289                                                                                                                                                                                                                                                                                                                                                                                                                                                                                                                                                                                                                                                                                                                                                                                                                                                                                                                                                                                                                                                                                                                                                                                                                                                                                                                                                                                                                                                                                                                                                                                                                                                                                                                                                                                                                                                                                                                                                                                                                                                                                                                                                                                                                                                                                                                                                                                                                                                                                                                                                                                                                                                                                                                                                                                                                                                                                                                           its fun but its not fully engaging like you want it to be, my friends and I played through inferno and than its just same old same old all the time but with randomly generated maps that might as well be the same.   \n",
       "\n",
       "      swn_score  oplex_sentiment_score  \n",
       "3350   0.883838               0.666667  \n",
       "2032  -0.990032              -1.482941  \n",
       "2244   0.848958               0.062500  \n",
       "3637   0.892857               0.400000  \n",
       "2289   3.197674               0.069767  "
      ]
     },
     "execution_count": 325,
     "metadata": {},
     "output_type": "execute_result"
    }
   ],
   "source": [
    "reviews[['reviewText', 'swn_score', 'oplex_sentiment_score']].sample(5)"
   ]
  },
  {
   "cell_type": "code",
   "execution_count": 369,
   "metadata": {},
   "outputs": [
    {
     "data": {
      "image/png": "[encoded data removed]",
      "text/plain": [
       "<Figure size 1440x720 with 1 Axes>"
      ]
     },
     "metadata": {
      "needs_background": "light"
     },
     "output_type": "display_data"
    }
   ],
   "source": [
    "fig , ax = plt.subplots(nrows=1, ncols=1, figsize=(20,10))\n",
    "sns.histplot(x='oplex_sentiment_score',\\\n",
    "             data=reviews.query(\"oplex_sentiment_score < 1 and oplex_sentiment_score > -1\"), ax=ax)\n",
    "plt.show()"
   ]
  },
  {
   "cell_type": "code",
   "execution_count": 328,
   "metadata": {},
   "outputs": [],
   "source": [
    "reviews['oplex_sentiment'] = \\\n",
    "    reviews['oplex_sentiment_score'].apply(lambda x: \"positive\" if x>0.1 else (\"negative\" if x<0 else \"neutral\"))"
   ]
  },
  {
   "cell_type": "code",
   "execution_count": 329,
   "metadata": {},
   "outputs": [
    {
     "data": {
      "text/plain": [
       "positive    2255\n",
       "negative    1334\n",
       "neutral      911\n",
       "Name: oplex_sentiment, dtype: int64"
      ]
     },
     "execution_count": 329,
     "metadata": {},
     "output_type": "execute_result"
    }
   ],
   "source": [
    "reviews['oplex_sentiment'].value_counts(dropna=False)"
   ]
  },
  {
   "cell_type": "code",
   "execution_count": 330,
   "metadata": {},
   "outputs": [
    {
     "data": {
      "text/plain": [
       "<AxesSubplot:xlabel='overall', ylabel='count'>"
      ]
     },
     "execution_count": 330,
     "metadata": {},
     "output_type": "execute_result"
    },
    {
     "data": {
      "image/png": "[encoded data removed]",
      "text/plain": [
       "<Figure size 432x288 with 1 Axes>"
      ]
     },
     "metadata": {
      "needs_background": "light"
     },
     "output_type": "display_data"
    }
   ],
   "source": [
    "sns.countplot(x='overall', hue='oplex_sentiment' ,data = reviews)"
   ]
  },
  {
   "cell_type": "code",
   "execution_count": 331,
   "metadata": {},
   "outputs": [
    {
     "data": {
      "text/plain": [
       "<AxesSubplot:xlabel='oplex_sentiment', ylabel='overall'>"
      ]
     },
     "execution_count": 331,
     "metadata": {},
     "output_type": "execute_result"
    },
    {
     "data": {
      "image/png": "[encoded data removed]",
      "text/plain": [
       "<Figure size 432x288 with 1 Axes>"
      ]
     },
     "metadata": {
      "needs_background": "light"
     },
     "output_type": "display_data"
    }
   ],
   "source": [
    "sns.boxenplot(x='oplex_sentiment', y='overall', data = reviews)"
   ]
  },
  {
   "cell_type": "code",
   "execution_count": 332,
   "metadata": {},
   "outputs": [
    {
     "data": {
      "image/png": "[encoded data removed]",
      "text/plain": [
       "<Figure size 864x504 with 1 Axes>"
      ]
     },
     "metadata": {
      "needs_background": "light"
     },
     "output_type": "display_data"
    }
   ],
   "source": [
    "fig, ax = plt.subplots(nrows=1, ncols=1, figsize = (12,7))\n",
    "sns.boxenplot(x='overall', y='oplex_sentiment_score', data = reviews, ax=ax)\n",
    "plt.show()"
   ]
  },
  {
   "cell_type": "code",
   "execution_count": 333,
   "metadata": {},
   "outputs": [],
   "source": [
    "y_oplex_pred = reviews['oplex_sentiment'].tolist()"
   ]
  },
  {
   "cell_type": "code",
   "execution_count": 342,
   "metadata": {},
   "outputs": [],
   "source": [
    "oplex_cm = confusion_matrix(y_true, y_oplex_pred)"
   ]
  },
  {
   "cell_type": "code",
   "execution_count": 344,
   "metadata": {},
   "outputs": [
    {
     "data": {
      "image/png": "[encoded data removed]",
      "text/plain": [
       "<Figure size 576x432 with 2 Axes>"
      ]
     },
     "metadata": {
      "needs_background": "light"
     },
     "output_type": "display_data"
    }
   ],
   "source": [
    "fig , ax = plt.subplots(nrows=1, ncols=1, figsize=(8,6))\n",
    "sns.heatmap(oplex_cm, cmap='viridis_r', annot=True, fmt='d', square=True, ax=ax)\n",
    "ax.set_xlabel('Predicted')\n",
    "ax.set_ylabel('True');"
   ]
  },
  {
   "cell_type": "code",
   "execution_count": 345,
   "metadata": {},
   "outputs": [],
   "source": [
    "oplex_cm_list = list(oplex_cm.ravel())"
   ]
  },
  {
   "cell_type": "code",
   "execution_count": 348,
   "metadata": {},
   "outputs": [
    {
     "data": {
      "text/plain": [
       "[1039, 427, 534, 124, 113, 263, 171, 371, 1458]"
      ]
     },
     "execution_count": 348,
     "metadata": {},
     "output_type": "execute_result"
    }
   ],
   "source": [
    "oplex_cm_list"
   ]
  },
  {
   "cell_type": "markdown",
   "metadata": {},
   "source": [
    "### Negative Label Assessment"
   ]
  },
  {
   "cell_type": "code",
   "execution_count": 349,
   "metadata": {},
   "outputs": [],
   "source": [
    "tp = oplex_cm[0]\n",
    "tn = oplex_cm[4] + oplex_cm[5] + oplex_cm[7] + oplex_cm[8]\n",
    "fp = oplex_cm[3] + oplex_cm[6]\n",
    "fn = oplex_cm[1] + oplex_cm[2]"
   ]
  },
  {
   "cell_type": "code",
   "execution_count": 350,
   "metadata": {},
   "outputs": [
    {
     "name": "stdout",
     "output_type": "stream",
     "text": [
      "recall: 0.5195\n",
      "precision: 0.7788605697151424\n",
      "f1 score: 0.6232753449310138\n"
     ]
    }
   ],
   "source": [
    "recall = tp / (tp + fn)\n",
    "specifity = tn / (tn + fp)\n",
    "precision = tp / (tp + fp)\n",
    "f1 = (2*tp) / (2*tp + fp + fn)\n",
    "\n",
    "print(\"recall: {}\\nprecision: {}\\nf1 score: {}\".format(recall, precision, f1))"
   ]
  },
  {
   "cell_type": "markdown",
   "metadata": {},
   "source": [
    "### Positive Label Assessment"
   ]
  },
  {
   "cell_type": "code",
   "execution_count": 351,
   "metadata": {},
   "outputs": [],
   "source": [
    "tp = oplex_cm[8]\n",
    "tn = oplex_cm[0] + oplex_cm[1] + oplex_cm[3] + oplex_cm[4]\n",
    "fp = oplex_cm[2] + oplex_cm[5]\n",
    "fn = oplex_cm[6] + oplex_cm[7]"
   ]
  },
  {
   "cell_type": "code",
   "execution_count": 352,
   "metadata": {},
   "outputs": [
    {
     "name": "stdout",
     "output_type": "stream",
     "text": [
      "recall: 0.729\n",
      "precission: 0.6465631929046564\n",
      "f1 score: 0.6853113983548766\n"
     ]
    }
   ],
   "source": [
    "recall = tp / (tp + fn)\n",
    "specifity = tn / (tn + fp)\n",
    "precision = tp / (tp + fp)\n",
    "f1 = (2*tp) / (2*tp + fp + fn)\n",
    "\n",
    "print(\"recall: {}\\nprecision: {}\\nf1 score: {}\".format(recall, precision, f1))"
   ]
  },
  {
   "cell_type": "markdown",
   "metadata": {},
   "source": [
    "### More "
   ]
  },
  {
   "cell_type": "code",
   "execution_count": 371,
   "metadata": {},
   "outputs": [],
   "source": [
    "swn_oplex_cm = confusion_matrix(y_swn_pred, y_oplex_pred)"
   ]
  },
  {
   "cell_type": "code",
   "execution_count": 372,
   "metadata": {},
   "outputs": [
    {
     "data": {
      "image/png": "[encoded data removed]",
      "text/plain": [
       "<Figure size 576x432 with 2 Axes>"
      ]
     },
     "metadata": {
      "needs_background": "light"
     },
     "output_type": "display_data"
    }
   ],
   "source": [
    "fig , ax = plt.subplots(nrows=1, ncols=1, figsize=(8,6))\n",
    "sns.heatmap(swn_oplex_cm, cmap='viridis_r', annot=True, fmt='d', square=True, ax=ax)\n",
    "ax.set_xlabel('oplex')\n",
    "ax.set_ylabel('SWN');"
   ]
  },
  {
   "cell_type": "code",
   "execution_count": null,
   "metadata": {},
   "outputs": [],
   "source": []
  }
 ],
 "metadata": {
  "kernelspec": {
   "display_name": "Python 3",
   "language": "python",
   "name": "python3"
  },
  "language_info": {
   "codemirror_mode": {
    "name": "ipython",
    "version": 3
   },
   "file_extension": ".py",
   "mimetype": "text/x-python",
   "name": "python",
   "nbconvert_exporter": "python",
   "pygments_lexer": "ipython3",
   "version": "3.9.13"
  }
 },
 "nbformat": 4,
 "nbformat_minor": 4
}
