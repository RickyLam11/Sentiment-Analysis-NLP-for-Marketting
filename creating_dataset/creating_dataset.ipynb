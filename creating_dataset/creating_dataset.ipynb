{
 "cells": [
  {
   "cell_type": "markdown",
   "metadata": {},
   "source": [
    "## Objective\n",
    "* __Create your own dataset that contains a random sample of reviews__\n",
    "\n",
    "## Workflow\n",
    "\n",
    "1. Read the video game review data. Take a look at the text of the reviews and the ratings, which you will work with in this milestone.Note that your data is not pure JSON, but new line delimited JSON. To be able to read it, install and import  <span style=\"color:red\">ndjson</span>.\n",
    "2. Create a plot of the ratings of the product. Study the distribution of the five categories.\n",
    "3. Take a random sample of the reviews by selecting 1500 reviews with rating 1, 500-500-500 reviews with ratings 2, 3, 4, and 1500 reviews with rating 5. This way you get a smaller __balanced__ corpus, on which you will during Milestones 2-4. \n",
    "4. Take a random sample of the reviews by selecting 100,000 reviews. This way you get a bigger representative corpus, on which you will work in Milestones 4 and 5.\n",
    "    * If you want to get identical results that are provided as a sample solution, use 42 as a random state.\n",
    "5. Export your corpora to two separate .csv files. Both of your tables should contain a column for the reviews and a column for the ratings. From now on we call the review text of the JSON key “reviews” and the overall key “ratings.” Name your corpora small_corpus and big_corpus.\n"
   ]
  },
  {
   "cell_type": "code",
   "execution_count": 1,
   "metadata": {},
   "outputs": [],
   "source": [
    "import ndjson\n",
    "import pandas as pd\n",
    "import numpy as np\n",
    "import seaborn as sns"
   ]
  },
  {
   "cell_type": "code",
   "execution_count": 2,
   "metadata": {},
   "outputs": [],
   "source": [
    "# reading reviews from json file\n",
    "with open('../data/Video_Games_5.json') as f:\n",
    "    data = ndjson.load(f)"
   ]
  },
  {
   "cell_type": "code",
   "execution_count": 3,
   "metadata": {},
   "outputs": [],
   "source": [
    "reviews_df = pd.DataFrame(data)"
   ]
  },
  {
   "cell_type": "code",
   "execution_count": 4,
   "metadata": {},
   "outputs": [
    {
     "data": {
      "text/html": [
       "<div>\n",
       "<style scoped>\n",
       "    .dataframe tbody tr th:only-of-type {\n",
       "        vertical-align: middle;\n",
       "    }\n",
       "\n",
       "    .dataframe tbody tr th {\n",
       "        vertical-align: top;\n",
       "    }\n",
       "\n",
       "    .dataframe thead th {\n",
       "        text-align: right;\n",
       "    }\n",
       "</style>\n",
       "<table border=\"1\" class=\"dataframe\">\n",
       "  <thead>\n",
       "    <tr style=\"text-align: right;\">\n",
       "      <th></th>\n",
       "      <th>overall</th>\n",
       "      <th>verified</th>\n",
       "      <th>reviewTime</th>\n",
       "      <th>reviewerID</th>\n",
       "      <th>asin</th>\n",
       "      <th>reviewerName</th>\n",
       "      <th>reviewText</th>\n",
       "      <th>summary</th>\n",
       "      <th>unixReviewTime</th>\n",
       "      <th>vote</th>\n",
       "      <th>style</th>\n",
       "      <th>image</th>\n",
       "    </tr>\n",
       "  </thead>\n",
       "  <tbody>\n",
       "    <tr>\n",
       "      <th>10511</th>\n",
       "      <td>5.0</td>\n",
       "      <td>True</td>\n",
       "      <td>12 26, 2015</td>\n",
       "      <td>A1G2R5DGP0545K</td>\n",
       "      <td>B000031KJM</td>\n",
       "      <td>NickStRRR</td>\n",
       "      <td>NaN</td>\n",
       "      <td>Five Stars</td>\n",
       "      <td>1451088000</td>\n",
       "      <td>NaN</td>\n",
       "      <td>NaN</td>\n",
       "      <td>NaN</td>\n",
       "    </tr>\n",
       "    <tr>\n",
       "      <th>10923</th>\n",
       "      <td>5.0</td>\n",
       "      <td>True</td>\n",
       "      <td>02 20, 2016</td>\n",
       "      <td>AIZ3LDIWZGZ2S</td>\n",
       "      <td>B000035XR9</td>\n",
       "      <td>Josie smith</td>\n",
       "      <td>NaN</td>\n",
       "      <td>Five Stars</td>\n",
       "      <td>1455926400</td>\n",
       "      <td>NaN</td>\n",
       "      <td>NaN</td>\n",
       "      <td>NaN</td>\n",
       "    </tr>\n",
       "    <tr>\n",
       "      <th>11713</th>\n",
       "      <td>5.0</td>\n",
       "      <td>True</td>\n",
       "      <td>02 20, 2016</td>\n",
       "      <td>AIZ3LDIWZGZ2S</td>\n",
       "      <td>B000035Y6B</td>\n",
       "      <td>Josie smith</td>\n",
       "      <td>NaN</td>\n",
       "      <td>Five Stars</td>\n",
       "      <td>1455926400</td>\n",
       "      <td>NaN</td>\n",
       "      <td>{'Size:': ' 1 Pack', 'Color:': ' Black'}</td>\n",
       "      <td>NaN</td>\n",
       "    </tr>\n",
       "    <tr>\n",
       "      <th>15785</th>\n",
       "      <td>5.0</td>\n",
       "      <td>True</td>\n",
       "      <td>11 7, 2015</td>\n",
       "      <td>A28GUSLMZNR8MV</td>\n",
       "      <td>B00004TC6E</td>\n",
       "      <td>Abby Street</td>\n",
       "      <td>NaN</td>\n",
       "      <td>Five Stars</td>\n",
       "      <td>1446854400</td>\n",
       "      <td>NaN</td>\n",
       "      <td>NaN</td>\n",
       "      <td>NaN</td>\n",
       "    </tr>\n",
       "    <tr>\n",
       "      <th>35564</th>\n",
       "      <td>5.0</td>\n",
       "      <td>False</td>\n",
       "      <td>04 27, 2017</td>\n",
       "      <td>A1LZ5L7E7V4AW9</td>\n",
       "      <td>B0000696CZ</td>\n",
       "      <td>Amazon Customer</td>\n",
       "      <td>NaN</td>\n",
       "      <td>Five Stars</td>\n",
       "      <td>1493251200</td>\n",
       "      <td>NaN</td>\n",
       "      <td>{'Format:': ' Video Game'}</td>\n",
       "      <td>NaN</td>\n",
       "    </tr>\n",
       "    <tr>\n",
       "      <th>...</th>\n",
       "      <td>...</td>\n",
       "      <td>...</td>\n",
       "      <td>...</td>\n",
       "      <td>...</td>\n",
       "      <td>...</td>\n",
       "      <td>...</td>\n",
       "      <td>...</td>\n",
       "      <td>...</td>\n",
       "      <td>...</td>\n",
       "      <td>...</td>\n",
       "      <td>...</td>\n",
       "      <td>...</td>\n",
       "    </tr>\n",
       "    <tr>\n",
       "      <th>481196</th>\n",
       "      <td>5.0</td>\n",
       "      <td>True</td>\n",
       "      <td>05 26, 2016</td>\n",
       "      <td>AMTA0FXWR067H</td>\n",
       "      <td>B004L9WGDA</td>\n",
       "      <td>Rod Rojas</td>\n",
       "      <td>NaN</td>\n",
       "      <td>Five Stars</td>\n",
       "      <td>1464220800</td>\n",
       "      <td>NaN</td>\n",
       "      <td>{'Platform:': ' Xbox 360'}</td>\n",
       "      <td>NaN</td>\n",
       "    </tr>\n",
       "    <tr>\n",
       "      <th>487490</th>\n",
       "      <td>5.0</td>\n",
       "      <td>False</td>\n",
       "      <td>04 22, 2017</td>\n",
       "      <td>A1LZ5L7E7V4AW9</td>\n",
       "      <td>B00CD90R4K</td>\n",
       "      <td>Amazon Customer</td>\n",
       "      <td>NaN</td>\n",
       "      <td>Five Stars</td>\n",
       "      <td>1492819200</td>\n",
       "      <td>NaN</td>\n",
       "      <td>{'Format:': ' Video Game'}</td>\n",
       "      <td>NaN</td>\n",
       "    </tr>\n",
       "    <tr>\n",
       "      <th>490055</th>\n",
       "      <td>5.0</td>\n",
       "      <td>False</td>\n",
       "      <td>09 22, 2017</td>\n",
       "      <td>A3VQ8SIEGCYEAO</td>\n",
       "      <td>B00HQCSHGY</td>\n",
       "      <td>Amazon Customer</td>\n",
       "      <td>NaN</td>\n",
       "      <td>Five Stars</td>\n",
       "      <td>1506038400</td>\n",
       "      <td>NaN</td>\n",
       "      <td>NaN</td>\n",
       "      <td>NaN</td>\n",
       "    </tr>\n",
       "    <tr>\n",
       "      <th>490187</th>\n",
       "      <td>5.0</td>\n",
       "      <td>True</td>\n",
       "      <td>06 10, 2018</td>\n",
       "      <td>A2P6KGP7U2D2NX</td>\n",
       "      <td>B00I19TXQE</td>\n",
       "      <td>abraham</td>\n",
       "      <td>NaN</td>\n",
       "      <td>Five Stars</td>\n",
       "      <td>1528588800</td>\n",
       "      <td>NaN</td>\n",
       "      <td>{'Format:': ' Video Game'}</td>\n",
       "      <td>NaN</td>\n",
       "    </tr>\n",
       "    <tr>\n",
       "      <th>491329</th>\n",
       "      <td>5.0</td>\n",
       "      <td>True</td>\n",
       "      <td>07 7, 2015</td>\n",
       "      <td>A2MWSDGRI9SHV4</td>\n",
       "      <td>B00KQV9TNC</td>\n",
       "      <td>Kevin Bernard</td>\n",
       "      <td>NaN</td>\n",
       "      <td>Five Stars</td>\n",
       "      <td>1436227200</td>\n",
       "      <td>NaN</td>\n",
       "      <td>NaN</td>\n",
       "      <td>NaN</td>\n",
       "    </tr>\n",
       "  </tbody>\n",
       "</table>\n",
       "<p>158 rows × 12 columns</p>\n",
       "</div>"
      ],
      "text/plain": [
       "        overall  verified   reviewTime      reviewerID        asin  \\\n",
       "10511       5.0      True  12 26, 2015  A1G2R5DGP0545K  B000031KJM   \n",
       "10923       5.0      True  02 20, 2016   AIZ3LDIWZGZ2S  B000035XR9   \n",
       "11713       5.0      True  02 20, 2016   AIZ3LDIWZGZ2S  B000035Y6B   \n",
       "15785       5.0      True   11 7, 2015  A28GUSLMZNR8MV  B00004TC6E   \n",
       "35564       5.0     False  04 27, 2017  A1LZ5L7E7V4AW9  B0000696CZ   \n",
       "...         ...       ...          ...             ...         ...   \n",
       "481196      5.0      True  05 26, 2016   AMTA0FXWR067H  B004L9WGDA   \n",
       "487490      5.0     False  04 22, 2017  A1LZ5L7E7V4AW9  B00CD90R4K   \n",
       "490055      5.0     False  09 22, 2017  A3VQ8SIEGCYEAO  B00HQCSHGY   \n",
       "490187      5.0      True  06 10, 2018  A2P6KGP7U2D2NX  B00I19TXQE   \n",
       "491329      5.0      True   07 7, 2015  A2MWSDGRI9SHV4  B00KQV9TNC   \n",
       "\n",
       "           reviewerName reviewText     summary  unixReviewTime vote  \\\n",
       "10511         NickStRRR        NaN  Five Stars      1451088000  NaN   \n",
       "10923       Josie smith        NaN  Five Stars      1455926400  NaN   \n",
       "11713       Josie smith        NaN  Five Stars      1455926400  NaN   \n",
       "15785       Abby Street        NaN  Five Stars      1446854400  NaN   \n",
       "35564   Amazon Customer        NaN  Five Stars      1493251200  NaN   \n",
       "...                 ...        ...         ...             ...  ...   \n",
       "481196        Rod Rojas        NaN  Five Stars      1464220800  NaN   \n",
       "487490  Amazon Customer        NaN  Five Stars      1492819200  NaN   \n",
       "490055  Amazon Customer        NaN  Five Stars      1506038400  NaN   \n",
       "490187          abraham        NaN  Five Stars      1528588800  NaN   \n",
       "491329    Kevin Bernard        NaN  Five Stars      1436227200  NaN   \n",
       "\n",
       "                                           style image  \n",
       "10511                                        NaN   NaN  \n",
       "10923                                        NaN   NaN  \n",
       "11713   {'Size:': ' 1 Pack', 'Color:': ' Black'}   NaN  \n",
       "15785                                        NaN   NaN  \n",
       "35564                 {'Format:': ' Video Game'}   NaN  \n",
       "...                                          ...   ...  \n",
       "481196                {'Platform:': ' Xbox 360'}   NaN  \n",
       "487490                {'Format:': ' Video Game'}   NaN  \n",
       "490055                                       NaN   NaN  \n",
       "490187                {'Format:': ' Video Game'}   NaN  \n",
       "491329                                       NaN   NaN  \n",
       "\n",
       "[158 rows x 12 columns]"
      ]
     },
     "execution_count": 4,
     "metadata": {},
     "output_type": "execute_result"
    }
   ],
   "source": [
    "reviews_df[reviews_df['reviewText'].isna()]"
   ]
  },
  {
   "cell_type": "code",
   "execution_count": 5,
   "metadata": {},
   "outputs": [],
   "source": [
    "reviews_df.dropna(subset=['reviewText'], inplace=True)"
   ]
  },
  {
   "cell_type": "code",
   "execution_count": 6,
   "metadata": {},
   "outputs": [
    {
     "name": "stdout",
     "output_type": "stream",
     "text": [
      "<class 'pandas.core.frame.DataFrame'>\n",
      "Int64Index: 497419 entries, 0 to 497576\n",
      "Data columns (total 12 columns):\n",
      " #   Column          Non-Null Count   Dtype  \n",
      "---  ------          --------------   -----  \n",
      " 0   overall         497419 non-null  float64\n",
      " 1   verified        497419 non-null  bool   \n",
      " 2   reviewTime      497419 non-null  object \n",
      " 3   reviewerID      497419 non-null  object \n",
      " 4   asin            497419 non-null  object \n",
      " 5   reviewerName    497343 non-null  object \n",
      " 6   reviewText      497419 non-null  object \n",
      " 7   summary         497316 non-null  object \n",
      " 8   unixReviewTime  497419 non-null  int64  \n",
      " 9   vote            107784 non-null  object \n",
      " 10  style           289123 non-null  object \n",
      " 11  image           3600 non-null    object \n",
      "dtypes: bool(1), float64(1), int64(1), object(9)\n",
      "memory usage: 46.0+ MB\n"
     ]
    }
   ],
   "source": [
    "reviews_df.info()"
   ]
  },
  {
   "cell_type": "markdown",
   "metadata": {},
   "source": [
    "### Data Dictionry\n",
    "   * __reviewerID__ - ID of the reviewer, e.g. A2SUAM1J3GNN3B\n",
    "   * __asin__ - ID of the product, e.g. 0000013714\n",
    "   * **reviewerName** - name of the reviewer\n",
    "   * **vote** - helpful votes of the review\n",
    "   * **style** - a disctionary of the product metadata, e.g., \"Format\" is \"Hardcover\"\n",
    "   * **reviewText** - text of the review\n",
    "   * **overall** - rating of the product\n",
    "   * **summary** - summary of the review\n",
    "   * **unixReviewTime** - time of the review (unix time)\n",
    "   * **reviewTime** - time of the review (raw)\n",
    "   * **image** - images that users post after they have received the product\n"
   ]
  },
  {
   "cell_type": "code",
   "execution_count": 7,
   "metadata": {},
   "outputs": [
    {
     "data": {
      "text/plain": [
       "(497419, 12)"
      ]
     },
     "execution_count": 7,
     "metadata": {},
     "output_type": "execute_result"
    }
   ],
   "source": [
    "reviews_df.shape"
   ]
  },
  {
   "cell_type": "code",
   "execution_count": 8,
   "metadata": {},
   "outputs": [
    {
     "name": "stdout",
     "output_type": "stream",
     "text": [
      "<class 'pandas.core.frame.DataFrame'>\n",
      "Int64Index: 497419 entries, 0 to 497576\n",
      "Data columns (total 12 columns):\n",
      " #   Column          Non-Null Count   Dtype  \n",
      "---  ------          --------------   -----  \n",
      " 0   overall         497419 non-null  float64\n",
      " 1   verified        497419 non-null  bool   \n",
      " 2   reviewTime      497419 non-null  object \n",
      " 3   reviewerID      497419 non-null  object \n",
      " 4   asin            497419 non-null  object \n",
      " 5   reviewerName    497343 non-null  object \n",
      " 6   reviewText      497419 non-null  object \n",
      " 7   summary         497316 non-null  object \n",
      " 8   unixReviewTime  497419 non-null  int64  \n",
      " 9   vote            107784 non-null  object \n",
      " 10  style           289123 non-null  object \n",
      " 11  image           3600 non-null    object \n",
      "dtypes: bool(1), float64(1), int64(1), object(9)\n",
      "memory usage: 46.0+ MB\n"
     ]
    }
   ],
   "source": [
    "reviews_df.info()"
   ]
  },
  {
   "cell_type": "code",
   "execution_count": 9,
   "metadata": {},
   "outputs": [
    {
     "data": {
      "text/plain": [
       "<AxesSubplot:xlabel='overall', ylabel='count'>"
      ]
     },
     "execution_count": 9,
     "metadata": {},
     "output_type": "execute_result"
    },
    {
     "data": {
      "image/png": "[encoded data removed]",
      "text/plain": [
       "<Figure size 432x288 with 1 Axes>"
      ]
     },
     "metadata": {
      "needs_background": "light"
     },
     "output_type": "display_data"
    }
   ],
   "source": [
    "sns.countplot(data = reviews_df, x='overall')"
   ]
  },
  {
   "cell_type": "code",
   "execution_count": 10,
   "metadata": {},
   "outputs": [
    {
     "data": {
      "text/plain": [
       "B00178630A    1381\n",
       "B000ZK9QCS     905\n",
       "B000XJNTNS     834\n",
       "B00JK00S0S     783\n",
       "B000ZKA0J6     774\n",
       "              ... \n",
       "B000WMJM3W       1\n",
       "B000XJD33E       1\n",
       "B000YI5BZC       1\n",
       "B0017WKITS       1\n",
       "B000W2UJ2A       1\n",
       "Name: asin, Length: 17408, dtype: int64"
      ]
     },
     "execution_count": 10,
     "metadata": {},
     "output_type": "execute_result"
    }
   ],
   "source": [
    "reviews_df['asin'].value_counts(dropna=False)"
   ]
  },
  {
   "cell_type": "code",
   "execution_count": 11,
   "metadata": {},
   "outputs": [
    {
     "data": {
      "text/plain": [
       "5.0    299623\n",
       "4.0     93644\n",
       "3.0     49140\n",
       "1.0     30879\n",
       "2.0     24133\n",
       "Name: overall, dtype: int64"
      ]
     },
     "execution_count": 11,
     "metadata": {},
     "output_type": "execute_result"
    }
   ],
   "source": [
    "reviews_df['overall'].value_counts(dropna=False)"
   ]
  },
  {
   "cell_type": "markdown",
   "metadata": {},
   "source": [
    "### Undersampling of Reviews\n",
    "Taking a random sample of the reviews by selecting 1500 reviews with rating 1, 500-500-500 reviews with ratings 2, 3, 4, and 1500 reviews with rating 5. This way you get a smaller balanced corpus, on which you will during Milestones 2-4.\n"
   ]
  },
  {
   "cell_type": "code",
   "execution_count": 12,
   "metadata": {},
   "outputs": [],
   "source": [
    "one_1500 = reviews_df[reviews_df['overall']==1.0].sample(n=1500)\n",
    "two_500 = reviews_df[reviews_df['overall']==2.0].sample(n=500)\n",
    "three_500 = reviews_df[reviews_df['overall']==3.0].sample(n=500)\n",
    "four_500 = reviews_df[reviews_df['overall']==4.0].sample(n=500)\n",
    "five_1500 = reviews_df[reviews_df['overall']==5.0].sample(n=1500)"
   ]
  },
  {
   "cell_type": "code",
   "execution_count": 13,
   "metadata": {},
   "outputs": [],
   "source": [
    "undersampled_reviews = pd.concat([one_1500, two_500, three_500, four_500, five_1500], axis=0)"
   ]
  },
  {
   "cell_type": "code",
   "execution_count": 14,
   "metadata": {},
   "outputs": [
    {
     "data": {
      "text/html": [
       "<div>\n",
       "<style scoped>\n",
       "    .dataframe tbody tr th:only-of-type {\n",
       "        vertical-align: middle;\n",
       "    }\n",
       "\n",
       "    .dataframe tbody tr th {\n",
       "        vertical-align: top;\n",
       "    }\n",
       "\n",
       "    .dataframe thead th {\n",
       "        text-align: right;\n",
       "    }\n",
       "</style>\n",
       "<table border=\"1\" class=\"dataframe\">\n",
       "  <thead>\n",
       "    <tr style=\"text-align: right;\">\n",
       "      <th></th>\n",
       "      <th>overall</th>\n",
       "      <th>verified</th>\n",
       "      <th>reviewTime</th>\n",
       "      <th>reviewerID</th>\n",
       "      <th>asin</th>\n",
       "      <th>reviewerName</th>\n",
       "      <th>reviewText</th>\n",
       "      <th>summary</th>\n",
       "      <th>unixReviewTime</th>\n",
       "      <th>vote</th>\n",
       "      <th>style</th>\n",
       "      <th>image</th>\n",
       "    </tr>\n",
       "  </thead>\n",
       "  <tbody>\n",
       "    <tr>\n",
       "      <th>259329</th>\n",
       "      <td>1.0</td>\n",
       "      <td>True</td>\n",
       "      <td>06 3, 2015</td>\n",
       "      <td>A392ZB0EJB75NE</td>\n",
       "      <td>B005WWZUQ0</td>\n",
       "      <td>THE 300LB GORILLA</td>\n",
       "      <td>CRAPPY GAME!  COD IS FAR BETTER!!!</td>\n",
       "      <td>JUNK!!!  CALL OF DUTY IS WAY BETTER</td>\n",
       "      <td>1433289600</td>\n",
       "      <td>NaN</td>\n",
       "      <td>{'Edition:': ' Standard', 'Platform:': ' PC'}</td>\n",
       "      <td>NaN</td>\n",
       "    </tr>\n",
       "    <tr>\n",
       "      <th>490504</th>\n",
       "      <td>1.0</td>\n",
       "      <td>False</td>\n",
       "      <td>12 24, 2016</td>\n",
       "      <td>A5I88702K12HM</td>\n",
       "      <td>B00IUGYTOO</td>\n",
       "      <td>Carmilla</td>\n",
       "      <td>First it charged very slowly and now it won't ...</td>\n",
       "      <td>First it charged very slowly and now it won't ...</td>\n",
       "      <td>1482537600</td>\n",
       "      <td>NaN</td>\n",
       "      <td>NaN</td>\n",
       "      <td>NaN</td>\n",
       "    </tr>\n",
       "    <tr>\n",
       "      <th>420264</th>\n",
       "      <td>1.0</td>\n",
       "      <td>True</td>\n",
       "      <td>07 2, 2016</td>\n",
       "      <td>A3OV9EN3IXVBIK</td>\n",
       "      <td>B014US02ZA</td>\n",
       "      <td>Amazon Customer</td>\n",
       "      <td>it doesnt work i have to turn the wheel 1080 d...</td>\n",
       "      <td>Doesnt work...</td>\n",
       "      <td>1467417600</td>\n",
       "      <td>NaN</td>\n",
       "      <td>{'Edition:': ' Basic'}</td>\n",
       "      <td>NaN</td>\n",
       "    </tr>\n",
       "    <tr>\n",
       "      <th>478439</th>\n",
       "      <td>1.0</td>\n",
       "      <td>True</td>\n",
       "      <td>03 14, 2015</td>\n",
       "      <td>A1ATHDILELXROF</td>\n",
       "      <td>B002PDPMMQ</td>\n",
       "      <td>Renee L Williams</td>\n",
       "      <td>I didn't care for this version of Luxor.  I ha...</td>\n",
       "      <td>I didn't like graphics.</td>\n",
       "      <td>1426291200</td>\n",
       "      <td>NaN</td>\n",
       "      <td>NaN</td>\n",
       "      <td>NaN</td>\n",
       "    </tr>\n",
       "    <tr>\n",
       "      <th>440564</th>\n",
       "      <td>1.0</td>\n",
       "      <td>True</td>\n",
       "      <td>04 26, 2017</td>\n",
       "      <td>A122TWEM8AXIQN</td>\n",
       "      <td>B01GHPLYMO</td>\n",
       "      <td>chancy319</td>\n",
       "      <td>It stopped working after six months. The audio...</td>\n",
       "      <td>Trash</td>\n",
       "      <td>1493164800</td>\n",
       "      <td>NaN</td>\n",
       "      <td>NaN</td>\n",
       "      <td>NaN</td>\n",
       "    </tr>\n",
       "  </tbody>\n",
       "</table>\n",
       "</div>"
      ],
      "text/plain": [
       "        overall  verified   reviewTime      reviewerID        asin  \\\n",
       "259329      1.0      True   06 3, 2015  A392ZB0EJB75NE  B005WWZUQ0   \n",
       "490504      1.0     False  12 24, 2016   A5I88702K12HM  B00IUGYTOO   \n",
       "420264      1.0      True   07 2, 2016  A3OV9EN3IXVBIK  B014US02ZA   \n",
       "478439      1.0      True  03 14, 2015  A1ATHDILELXROF  B002PDPMMQ   \n",
       "440564      1.0      True  04 26, 2017  A122TWEM8AXIQN  B01GHPLYMO   \n",
       "\n",
       "             reviewerName                                         reviewText  \\\n",
       "259329  THE 300LB GORILLA                 CRAPPY GAME!  COD IS FAR BETTER!!!   \n",
       "490504           Carmilla  First it charged very slowly and now it won't ...   \n",
       "420264    Amazon Customer  it doesnt work i have to turn the wheel 1080 d...   \n",
       "478439   Renee L Williams  I didn't care for this version of Luxor.  I ha...   \n",
       "440564          chancy319  It stopped working after six months. The audio...   \n",
       "\n",
       "                                                  summary  unixReviewTime  \\\n",
       "259329                JUNK!!!  CALL OF DUTY IS WAY BETTER      1433289600   \n",
       "490504  First it charged very slowly and now it won't ...      1482537600   \n",
       "420264                                     Doesnt work...      1467417600   \n",
       "478439                            I didn't like graphics.      1426291200   \n",
       "440564                                              Trash      1493164800   \n",
       "\n",
       "       vote                                          style image  \n",
       "259329  NaN  {'Edition:': ' Standard', 'Platform:': ' PC'}   NaN  \n",
       "490504  NaN                                            NaN   NaN  \n",
       "420264  NaN                         {'Edition:': ' Basic'}   NaN  \n",
       "478439  NaN                                            NaN   NaN  \n",
       "440564  NaN                                            NaN   NaN  "
      ]
     },
     "execution_count": 14,
     "metadata": {},
     "output_type": "execute_result"
    }
   ],
   "source": [
    "undersampled_reviews.head()"
   ]
  },
  {
   "cell_type": "code",
   "execution_count": 15,
   "metadata": {},
   "outputs": [
    {
     "data": {
      "text/plain": [
       "5.0    1500\n",
       "1.0    1500\n",
       "4.0     500\n",
       "2.0     500\n",
       "3.0     500\n",
       "Name: overall, dtype: int64"
      ]
     },
     "execution_count": 15,
     "metadata": {},
     "output_type": "execute_result"
    }
   ],
   "source": [
    "undersampled_reviews['overall'].value_counts(dropna=False)"
   ]
  },
  {
   "cell_type": "code",
   "execution_count": 16,
   "metadata": {},
   "outputs": [
    {
     "data": {
      "text/plain": [
       "<AxesSubplot:xlabel='overall', ylabel='count'>"
      ]
     },
     "execution_count": 16,
     "metadata": {},
     "output_type": "execute_result"
    },
    {
     "data": {
      "image/png": "[encoded data removed]",
      "text/plain": [
       "<Figure size 432x288 with 1 Axes>"
      ]
     },
     "metadata": {
      "needs_background": "light"
     },
     "output_type": "display_data"
    }
   ],
   "source": [
    "sns.countplot(data=undersampled_reviews, x='overall')"
   ]
  },
  {
   "cell_type": "markdown",
   "metadata": {},
   "source": [
    "### Random Sampling of 100K Reviews"
   ]
  },
  {
   "cell_type": "code",
   "execution_count": 17,
   "metadata": {},
   "outputs": [],
   "source": [
    "sample_100K_revs = reviews_df.sample(n=100000, random_state=42)"
   ]
  },
  {
   "cell_type": "markdown",
   "metadata": {},
   "source": [
    "### Writing Corpora"
   ]
  },
  {
   "cell_type": "code",
   "execution_count": 18,
   "metadata": {},
   "outputs": [],
   "source": [
    "undersampled_reviews.to_csv(\"../data/sample_corpus.csv\", index=False)"
   ]
  },
  {
   "cell_type": "code",
   "execution_count": 19,
   "metadata": {},
   "outputs": [],
   "source": [
    "sample_100K_revs.to_csv(\"../data/big_corpus.csv\", index=False)"
   ]
  },
  {
   "cell_type": "code",
   "execution_count": null,
   "metadata": {},
   "outputs": [],
   "source": []
  }
 ],
 "metadata": {
  "kernelspec": {
   "display_name": "Python 3",
   "language": "python",
   "name": "python3"
  },
  "language_info": {
   "codemirror_mode": {
    "name": "ipython",
    "version": 3
   },
   "file_extension": ".py",
   "mimetype": "text/x-python",
   "name": "python",
   "nbconvert_exporter": "python",
   "pygments_lexer": "ipython3",
   "version": "3.9.13"
  }
 },
 "nbformat": 4,
 "nbformat_minor": 4
}
