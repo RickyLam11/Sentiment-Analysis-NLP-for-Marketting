{
 "cells": [
  {
   "cell_type": "markdown",
   "metadata": {},
   "source": [
    "## Objective\n",
    "* __Create your own dataset that contains a random sample of reviews__\n",
    "\n",
    "## Workflow\n",
    "\n",
    "1. Read the video game review data. Take a look at the text of the reviews and the ratings, which you will work with in this milestone.Note that your data is not pure JSON, but new line delimited JSON. To be able to read it, install and import  <span style=\"color:red\">ndjson</span>.\n",
    "2. Import <span style=\"color:red\">Altair</span> and <span style=\"color:red\">pandas</span>.\n",
    "3. Create a plot of the ratings of the product. Study the distribution of the five categories.\n",
    "4. Take a random sample of the reviews by selecting 1500 reviews with rating 1, 500-500-500 reviews with ratings 2, 3, 4, and 1500 reviews with rating 5. This way you get a smaller __balanced__ corpus, on which you will during Milestones 2-4. \n",
    "    * It is recommended to use <span style=\"color:red\">imblearn.under_sampling.RandomUnderSampler</span> from the <span style=\"color:red\">imbalanced-learn</span> package, which should be first installed, then imported.\n",
    "    * If you want to get identical results that are provided as a sample solution, use 42 as a random state.\n",
    "\n",
    "\n",
    "\n",
    "5. Take a random sample of the reviews by selecting 100,000 reviews. This way you get a bigger representative corpus, on which you will work in Milestones 4 and 5.\n",
    "    * It is recommended to use <span style=\"color:red\">numpy.random.randint</span>.\n",
    "    * If you want to get identical results that are provided as a sample solution, use 42 as a random state.\n",
    "6. Export your corpora to two separate .csv files. Both of your tables should contain a column for the reviews and a column for the ratings. From now on we call the review text of the JSON key “reviews” and the overall key “ratings.” Name your corpora small_corpus and big_corpus.\n"
   ]
  },
  {
   "cell_type": "code",
   "execution_count": null,
   "metadata": {},
   "outputs": [],
   "source": []
  }
 ],
 "metadata": {
  "kernelspec": {
   "display_name": "Python 3",
   "language": "python",
   "name": "python3"
  },
  "language_info": {
   "codemirror_mode": {
    "name": "ipython",
    "version": 3
   },
   "file_extension": ".py",
   "mimetype": "text/x-python",
   "name": "python",
   "nbconvert_exporter": "python",
   "pygments_lexer": "ipython3",
   "version": "3.6.12"
  }
 },
 "nbformat": 4,
 "nbformat_minor": 4
}
