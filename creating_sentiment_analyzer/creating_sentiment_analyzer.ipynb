{
 "cells": [
  {
   "cell_type": "markdown",
   "metadata": {},
   "source": [
    "# Creating a Dictionary-based Sentiment Analyzer"
   ]
  },
  {
   "cell_type": "code",
   "execution_count": 1,
   "metadata": {},
   "outputs": [],
   "source": [
    "import pandas as pd\n",
    "import nltk\n",
    "from IPython.display import display\n",
    "pd.set_option('display.max_columns', None)"
   ]
  },
  {
   "cell_type": "markdown",
   "metadata": {},
   "source": [
    "### Step 1: Loading in the small_corpus .csv file created in the \"creating_dataset\" milestone."
   ]
  },
  {
   "cell_type": "code",
   "execution_count": 2,
   "metadata": {},
   "outputs": [],
   "source": [
    "reviews = pd.read_csv(\"../data/small_corpus.csv\")"
   ]
  },
  {
   "cell_type": "code",
   "execution_count": 3,
   "metadata": {},
   "outputs": [
    {
     "data": {
      "text/html": [
       "<div>\n",
       "<style scoped>\n",
       "    .dataframe tbody tr th:only-of-type {\n",
       "        vertical-align: middle;\n",
       "    }\n",
       "\n",
       "    .dataframe tbody tr th {\n",
       "        vertical-align: top;\n",
       "    }\n",
       "\n",
       "    .dataframe thead th {\n",
       "        text-align: right;\n",
       "    }\n",
       "</style>\n",
       "<table border=\"1\" class=\"dataframe\">\n",
       "  <thead>\n",
       "    <tr style=\"text-align: right;\">\n",
       "      <th></th>\n",
       "      <th>overall</th>\n",
       "      <th>verified</th>\n",
       "      <th>reviewTime</th>\n",
       "      <th>reviewerID</th>\n",
       "      <th>asin</th>\n",
       "      <th>reviewerName</th>\n",
       "      <th>reviewText</th>\n",
       "      <th>summary</th>\n",
       "      <th>unixReviewTime</th>\n",
       "      <th>vote</th>\n",
       "      <th>style</th>\n",
       "      <th>image</th>\n",
       "    </tr>\n",
       "  </thead>\n",
       "  <tbody>\n",
       "    <tr>\n",
       "      <th>0</th>\n",
       "      <td>1.0</td>\n",
       "      <td>True</td>\n",
       "      <td>11 30, 2015</td>\n",
       "      <td>A3AC92K59QLYR8</td>\n",
       "      <td>B00503E8S2</td>\n",
       "      <td>ben</td>\n",
       "      <td>Game freezes over and over its unplayable</td>\n",
       "      <td>it just doesn't work</td>\n",
       "      <td>1448841600</td>\n",
       "      <td>NaN</td>\n",
       "      <td>{'Format:': ' Video Game'}</td>\n",
       "      <td>NaN</td>\n",
       "    </tr>\n",
       "    <tr>\n",
       "      <th>1</th>\n",
       "      <td>1.0</td>\n",
       "      <td>False</td>\n",
       "      <td>05 19, 2012</td>\n",
       "      <td>A334LHR8DWARY8</td>\n",
       "      <td>B00178630A</td>\n",
       "      <td>Xenocide</td>\n",
       "      <td>I have no problem with needing to be online to...</td>\n",
       "      <td>The only real way to show Blizzard our feeling...</td>\n",
       "      <td>1337385600</td>\n",
       "      <td>23</td>\n",
       "      <td>{'Format:': ' Computer Game'}</td>\n",
       "      <td>NaN</td>\n",
       "    </tr>\n",
       "    <tr>\n",
       "      <th>2</th>\n",
       "      <td>1.0</td>\n",
       "      <td>True</td>\n",
       "      <td>10 19, 2014</td>\n",
       "      <td>A28982ODE7ZGVP</td>\n",
       "      <td>B001AWIP7M</td>\n",
       "      <td>Eric Frykberg</td>\n",
       "      <td>NOT GOOD</td>\n",
       "      <td>One Star</td>\n",
       "      <td>1413676800</td>\n",
       "      <td>NaN</td>\n",
       "      <td>{'Format:': ' Video Game'}</td>\n",
       "      <td>NaN</td>\n",
       "    </tr>\n",
       "    <tr>\n",
       "      <th>3</th>\n",
       "      <td>1.0</td>\n",
       "      <td>True</td>\n",
       "      <td>09 6, 2015</td>\n",
       "      <td>A19E85RLQCAMI1</td>\n",
       "      <td>B00NASF4MS</td>\n",
       "      <td>Joe</td>\n",
       "      <td>Really not worth the money to buy this game on...</td>\n",
       "      <td>Really not worth the money to buy this game on...</td>\n",
       "      <td>1441497600</td>\n",
       "      <td>2</td>\n",
       "      <td>{'Format:': ' Video Game'}</td>\n",
       "      <td>NaN</td>\n",
       "    </tr>\n",
       "    <tr>\n",
       "      <th>4</th>\n",
       "      <td>1.0</td>\n",
       "      <td>False</td>\n",
       "      <td>05 28, 2008</td>\n",
       "      <td>AEMQKS13WC4D2</td>\n",
       "      <td>B00140P9BA</td>\n",
       "      <td>Craig</td>\n",
       "      <td>They need to eliminate the Securom. I purchase...</td>\n",
       "      <td>Securom can ruin a great game</td>\n",
       "      <td>1211932800</td>\n",
       "      <td>55</td>\n",
       "      <td>{'Format:': ' DVD-ROM'}</td>\n",
       "      <td>NaN</td>\n",
       "    </tr>\n",
       "  </tbody>\n",
       "</table>\n",
       "</div>"
      ],
      "text/plain": [
       "   overall  verified   reviewTime      reviewerID        asin   reviewerName  \\\n",
       "0      1.0      True  11 30, 2015  A3AC92K59QLYR8  B00503E8S2            ben   \n",
       "1      1.0     False  05 19, 2012  A334LHR8DWARY8  B00178630A       Xenocide   \n",
       "2      1.0      True  10 19, 2014  A28982ODE7ZGVP  B001AWIP7M  Eric Frykberg   \n",
       "3      1.0      True   09 6, 2015  A19E85RLQCAMI1  B00NASF4MS            Joe   \n",
       "4      1.0     False  05 28, 2008   AEMQKS13WC4D2  B00140P9BA          Craig   \n",
       "\n",
       "                                          reviewText  \\\n",
       "0          Game freezes over and over its unplayable   \n",
       "1  I have no problem with needing to be online to...   \n",
       "2                                           NOT GOOD   \n",
       "3  Really not worth the money to buy this game on...   \n",
       "4  They need to eliminate the Securom. I purchase...   \n",
       "\n",
       "                                             summary  unixReviewTime vote  \\\n",
       "0                               it just doesn't work      1448841600  NaN   \n",
       "1  The only real way to show Blizzard our feeling...      1337385600   23   \n",
       "2                                           One Star      1413676800  NaN   \n",
       "3  Really not worth the money to buy this game on...      1441497600    2   \n",
       "4                      Securom can ruin a great game      1211932800   55   \n",
       "\n",
       "                           style image  \n",
       "0     {'Format:': ' Video Game'}   NaN  \n",
       "1  {'Format:': ' Computer Game'}   NaN  \n",
       "2     {'Format:': ' Video Game'}   NaN  \n",
       "3     {'Format:': ' Video Game'}   NaN  \n",
       "4        {'Format:': ' DVD-ROM'}   NaN  "
      ]
     },
     "execution_count": 3,
     "metadata": {},
     "output_type": "execute_result"
    }
   ],
   "source": [
    "reviews.head()"
   ]
  },
  {
   "cell_type": "markdown",
   "metadata": {},
   "source": [
    "### Step 2: Tokenizing the sentences and words of the reviews\n",
    "Here, We're going to test different versions of word tokenizer on reviews. We'll then decide which tokenizer might be better to use."
   ]
  },
  {
   "cell_type": "markdown",
   "metadata": {},
   "source": [
    "### Treebank Word Tokenizer"
   ]
  },
  {
   "cell_type": "code",
   "execution_count": 4,
   "metadata": {},
   "outputs": [],
   "source": [
    "from nltk.tokenize import TreebankWordTokenizer"
   ]
  },
  {
   "cell_type": "code",
   "execution_count": 5,
   "metadata": {},
   "outputs": [],
   "source": [
    "tb_tokenizer = TreebankWordTokenizer()"
   ]
  },
  {
   "cell_type": "code",
   "execution_count": 6,
   "metadata": {},
   "outputs": [],
   "source": [
    "reviews[\"rev_text_lower\"] = reviews['reviewText'].apply(lambda rev: str(rev).lower())"
   ]
  },
  {
   "cell_type": "code",
   "execution_count": 7,
   "metadata": {},
   "outputs": [
    {
     "data": {
      "text/html": [
       "<div>\n",
       "<style scoped>\n",
       "    .dataframe tbody tr th:only-of-type {\n",
       "        vertical-align: middle;\n",
       "    }\n",
       "\n",
       "    .dataframe tbody tr th {\n",
       "        vertical-align: top;\n",
       "    }\n",
       "\n",
       "    .dataframe thead th {\n",
       "        text-align: right;\n",
       "    }\n",
       "</style>\n",
       "<table border=\"1\" class=\"dataframe\">\n",
       "  <thead>\n",
       "    <tr style=\"text-align: right;\">\n",
       "      <th></th>\n",
       "      <th>reviewText</th>\n",
       "      <th>rev_text_lower</th>\n",
       "    </tr>\n",
       "  </thead>\n",
       "  <tbody>\n",
       "    <tr>\n",
       "      <th>1413</th>\n",
       "      <td>We bought this game with several others at Chr...</td>\n",
       "      <td>we bought this game with several others at chr...</td>\n",
       "    </tr>\n",
       "    <tr>\n",
       "      <th>1734</th>\n",
       "      <td>Old style graphics old style interface. I gues...</td>\n",
       "      <td>old style graphics old style interface. i gues...</td>\n",
       "    </tr>\n",
       "  </tbody>\n",
       "</table>\n",
       "</div>"
      ],
      "text/plain": [
       "                                             reviewText  \\\n",
       "1413  We bought this game with several others at Chr...   \n",
       "1734  Old style graphics old style interface. I gues...   \n",
       "\n",
       "                                         rev_text_lower  \n",
       "1413  we bought this game with several others at chr...  \n",
       "1734  old style graphics old style interface. i gues...  "
      ]
     },
     "execution_count": 7,
     "metadata": {},
     "output_type": "execute_result"
    }
   ],
   "source": [
    "reviews[['reviewText','rev_text_lower']].sample(2)"
   ]
  },
  {
   "cell_type": "code",
   "execution_count": 8,
   "metadata": {},
   "outputs": [],
   "source": [
    "reviews[\"tb_tokens\"] = reviews['rev_text_lower'].apply(lambda rev: tb_tokenizer.tokenize(str(rev)))"
   ]
  },
  {
   "cell_type": "code",
   "execution_count": 9,
   "metadata": {},
   "outputs": [],
   "source": [
    "pd.set_option('display.max_colwidth', None)"
   ]
  },
  {
   "cell_type": "code",
   "execution_count": 10,
   "metadata": {},
   "outputs": [
    {
     "data": {
      "text/html": [
       "<div>\n",
       "<style scoped>\n",
       "    .dataframe tbody tr th:only-of-type {\n",
       "        vertical-align: middle;\n",
       "    }\n",
       "\n",
       "    .dataframe tbody tr th {\n",
       "        vertical-align: top;\n",
       "    }\n",
       "\n",
       "    .dataframe thead th {\n",
       "        text-align: right;\n",
       "    }\n",
       "</style>\n",
       "<table border=\"1\" class=\"dataframe\">\n",
       "  <thead>\n",
       "    <tr style=\"text-align: right;\">\n",
       "      <th></th>\n",
       "      <th>reviewText</th>\n",
       "      <th>tb_tokens</th>\n",
       "    </tr>\n",
       "  </thead>\n",
       "  <tbody>\n",
       "    <tr>\n",
       "      <th>2879</th>\n",
       "      <td>Seems like everyone else does...\\nI played the hell out of the first, and I jumped at the chance to grab this one.  It includes the first city, and adds two more.  And the most notable change from the first is it adds a 'jump' button!  You can jump on top of buildings, over cars, everything!\\nThis is a very neat addition.  Ignore the whiners who complain about this, that, and the other.  This is a fun no-brainer game.\\nDidn't one reviewer complaian about not being able to pick up and drop off going full speed?  What was that all about?  Games do have rules, and that is one of the few this game has...</td>\n",
       "      <td>[seems, like, everyone, else, does, ..., i, played, the, hell, out, of, the, first, ,, and, i, jumped, at, the, chance, to, grab, this, one., it, includes, the, first, city, ,, and, adds, two, more., and, the, most, notable, change, from, the, first, is, it, adds, a, 'jump, ', button, !, you, can, jump, on, top, of, buildings, ,, over, cars, ,, everything, !, this, is, a, very, neat, addition., ignore, the, whiners, who, complain, about, this, ,, that, ,, and, the, other., this, is, a, fun, no-brainer, game., did, n't, one, reviewer, complaian, about, not, being, able, to, pick, ...]</td>\n",
       "    </tr>\n",
       "    <tr>\n",
       "      <th>3060</th>\n",
       "      <td>Essential for getting started with our new Nintendo DS Lite! Carrying case seems durable, zips easily . You cant go wrong with this product you couldn't buy the items individually at the price</td>\n",
       "      <td>[essential, for, getting, started, with, our, new, nintendo, ds, lite, !, carrying, case, seems, durable, ,, zips, easily, ., you, cant, go, wrong, with, this, product, you, could, n't, buy, the, items, individually, at, the, price]</td>\n",
       "    </tr>\n",
       "    <tr>\n",
       "      <th>2479</th>\n",
       "      <td>i mean so far after using it for a bit didn't have any problems. There is a lot of damage to the cover . so far no probs.</td>\n",
       "      <td>[i, mean, so, far, after, using, it, for, a, bit, did, n't, have, any, problems., there, is, a, lot, of, damage, to, the, cover, ., so, far, no, probs, .]</td>\n",
       "    </tr>\n",
       "  </tbody>\n",
       "</table>\n",
       "</div>"
      ],
      "text/plain": [
       "                                                                                                                                                                                                                                                                                                                                                                                                                                                                                                                                                                                                                           reviewText  \\\n",
       "2879  Seems like everyone else does...\\nI played the hell out of the first, and I jumped at the chance to grab this one.  It includes the first city, and adds two more.  And the most notable change from the first is it adds a 'jump' button!  You can jump on top of buildings, over cars, everything!\\nThis is a very neat addition.  Ignore the whiners who complain about this, that, and the other.  This is a fun no-brainer game.\\nDidn't one reviewer complaian about not being able to pick up and drop off going full speed?  What was that all about?  Games do have rules, and that is one of the few this game has...   \n",
       "3060                                                                                                                                                                                                                                                                                                                                                                                                                                 Essential for getting started with our new Nintendo DS Lite! Carrying case seems durable, zips easily . You cant go wrong with this product you couldn't buy the items individually at the price   \n",
       "2479                                                                                                                                                                                                                                                                                                                                                                                                                                                                                                        i mean so far after using it for a bit didn't have any problems. There is a lot of damage to the cover . so far no probs.   \n",
       "\n",
       "                                                                                                                                                                                                                                                                                                                                                                                                                                                                                                                                                                                                           tb_tokens  \n",
       "2879  [seems, like, everyone, else, does, ..., i, played, the, hell, out, of, the, first, ,, and, i, jumped, at, the, chance, to, grab, this, one., it, includes, the, first, city, ,, and, adds, two, more., and, the, most, notable, change, from, the, first, is, it, adds, a, 'jump, ', button, !, you, can, jump, on, top, of, buildings, ,, over, cars, ,, everything, !, this, is, a, very, neat, addition., ignore, the, whiners, who, complain, about, this, ,, that, ,, and, the, other., this, is, a, fun, no-brainer, game., did, n't, one, reviewer, complaian, about, not, being, able, to, pick, ...]  \n",
       "3060                                                                                                                                                                                                                                                                                                                                                                        [essential, for, getting, started, with, our, new, nintendo, ds, lite, !, carrying, case, seems, durable, ,, zips, easily, ., you, cant, go, wrong, with, this, product, you, could, n't, buy, the, items, individually, at, the, price]  \n",
       "2479                                                                                                                                                                                                                                                                                                                                                                                                                                                      [i, mean, so, far, after, using, it, for, a, bit, did, n't, have, any, problems., there, is, a, lot, of, damage, to, the, cover, ., so, far, no, probs, .]  "
      ]
     },
     "execution_count": 10,
     "metadata": {},
     "output_type": "execute_result"
    }
   ],
   "source": [
    "reviews[['reviewText','tb_tokens']].sample(3)"
   ]
  },
  {
   "cell_type": "markdown",
   "metadata": {},
   "source": [
    "### Casual Tokenizer"
   ]
  },
  {
   "cell_type": "code",
   "execution_count": 11,
   "metadata": {},
   "outputs": [],
   "source": [
    "from nltk.tokenize.casual import casual_tokenize"
   ]
  },
  {
   "cell_type": "code",
   "execution_count": 12,
   "metadata": {},
   "outputs": [],
   "source": [
    "reviews['casual_tokens'] = reviews['rev_text_lower'].apply(lambda rev: casual_tokenize(str(rev)))"
   ]
  },
  {
   "cell_type": "code",
   "execution_count": 13,
   "metadata": {},
   "outputs": [
    {
     "data": {
      "text/html": [
       "<div>\n",
       "<style scoped>\n",
       "    .dataframe tbody tr th:only-of-type {\n",
       "        vertical-align: middle;\n",
       "    }\n",
       "\n",
       "    .dataframe tbody tr th {\n",
       "        vertical-align: top;\n",
       "    }\n",
       "\n",
       "    .dataframe thead th {\n",
       "        text-align: right;\n",
       "    }\n",
       "</style>\n",
       "<table border=\"1\" class=\"dataframe\">\n",
       "  <thead>\n",
       "    <tr style=\"text-align: right;\">\n",
       "      <th></th>\n",
       "      <th>reviewText</th>\n",
       "      <th>casual_tokens</th>\n",
       "      <th>tb_tokens</th>\n",
       "    </tr>\n",
       "  </thead>\n",
       "  <tbody>\n",
       "    <tr>\n",
       "      <th>766</th>\n",
       "      <td>Characters here have an awful mean demeanor that's not appropriate of good sportsmanship for kids to watch.\\n\\nVirtual Tennis 3 is easier to play and has video game mode that you can hit a ball against a colorful wall.</td>\n",
       "      <td>[characters, here, have, an, awful, mean, demeanor, that's, not, appropriate, of, good, sportsmanship, for, kids, to, watch, ., virtual, tennis, 3, is, easier, to, play, and, has, video, game, mode, that, you, can, hit, a, ball, against, a, colorful, wall, .]</td>\n",
       "      <td>[characters, here, have, an, awful, mean, demeanor, that, 's, not, appropriate, of, good, sportsmanship, for, kids, to, watch., virtual, tennis, 3, is, easier, to, play, and, has, video, game, mode, that, you, can, hit, a, ball, against, a, colorful, wall, .]</td>\n",
       "    </tr>\n",
       "    <tr>\n",
       "      <th>1220</th>\n",
       "      <td>I am writting this review because I love to keep great games and play them years later. The DRM on this product prevents me from doing this. What happens when the game is no longer supported but I haven't used up my 3 activations? Since the DRM wouldn't be able to contact the \"Mothership\", again I am out of luck. No more strolling down memory lane. What happens if the game studio goes out of business, again, the game is no longer usable. What happens if EA goes out of business next week, everyone who is currenly playing this game would be out of luck. Isn't that a nice picture! Then what happens to the DRM still running on your computer. If you are lucky, it doesn't do anything. If you are unlucky, you will be reinstalling your OS and your games again. Oh, btw, you just used up another installation credit for any other games using DRM.\\nYou would like to think the gaming industry would have learned something from the music industry fiasco. Treating your paying customers like crooks will only cause your sales to drop. The harder your squeeze, the more customers you will lose.\\n\\nI have never stolen any games and never will, but this type of treatment won't earn the industy my hard earned money.\\n\\nTo all gamers out there, please take a stand and not purchase games that support this type of treatment. To those people out there who think I am just a whiner, more power to you. Eventually DRM will progress until it finally impacts your fun and then you will understand how your rights have been taken away, one step at a time.</td>\n",
       "      <td>[i, am, writting, this, review, because, i, love, to, keep, great, games, and, play, them, years, later, ., the, drm, on, this, product, prevents, me, from, doing, this, ., what, happens, when, the, game, is, no, longer, supported, but, i, haven't, used, up, my, 3, activations, ?, since, the, drm, wouldn't, be, able, to, contact, the, \", mothership, \", ,, again, i, am, out, of, luck, ., no, more, strolling, down, memory, lane, ., what, happens, if, the, game, studio, goes, out, of, business, ,, again, ,, the, game, is, no, longer, usable, ., what, happens, if, ea, goes, out, ...]</td>\n",
       "      <td>[i, am, writting, this, review, because, i, love, to, keep, great, games, and, play, them, years, later., the, drm, on, this, product, prevents, me, from, doing, this., what, happens, when, the, game, is, no, longer, supported, but, i, have, n't, used, up, my, 3, activations, ?, since, the, drm, would, n't, be, able, to, contact, the, ``, mothership, '', ,, again, i, am, out, of, luck., no, more, strolling, down, memory, lane., what, happens, if, the, game, studio, goes, out, of, business, ,, again, ,, the, game, is, no, longer, usable., what, happens, if, ea, goes, out, of, business, next, ...]</td>\n",
       "    </tr>\n",
       "    <tr>\n",
       "      <th>2962</th>\n",
       "      <td>The sequel to Baten Kaitos, this game is a great addition for fans of that first game. You have real time card strategy action mixed in with an epic storyline.\\n\\nIt's fair enough to say that some people will love this game and other people will not feel the pull of the gameplay style. This is a *strategy* game. If you are a shooter fan, wanting to jump immediately into shooting and killing enemies, you will probably be disappointed. You can spend literally 15 minutes walking around talking and gathering before you're even allowed to enter into your first combat. This is a game that requires patience and dedication.\\n\\nFor people with that time, attention and desire for strategy, they'll get everything they could ask for. Your characters move in real time as you play and attack, their swords flying, their wings moving. Your organize your cards and play them for the maximum effect.\\n\\nIn the world around you, world-shaping events are taking place, and you meet a number of characters, roam through landscapes, and explore this world. It compares with Final Fantasy and other similar games, but with a card base.\\n\\nThe sound is reasonably good, with epic, energizing music pulling you into the gameplay. I found some of the voice actors to be uninspiring, but you find that in most games of this type. You're not expecting drama quality acting.\\n\\nI would recommend people play the first Baten Kaitos before moving on to this one. That way you get a feel for the series and style, and really get a full appreciation for this game.\\n\\nThis is definitely a game that will keep you occupied for WEEKS. Other games out there can be finished in a day. This isn't one of them. Between the side-quests and other things to do, you'll be busy for a long while. Again, depending on your personality, this can be great, or this can be too much.\\n\\nHighly recommended for epic strategy fans who have the time and attention to dedicate to gaming!</td>\n",
       "      <td>[the, sequel, to, baten, kaitos, ,, this, game, is, a, great, addition, for, fans, of, that, first, game, ., you, have, real, time, card, strategy, action, mixed, in, with, an, epic, storyline, ., it's, fair, enough, to, say, that, some, people, will, love, this, game, and, other, people, will, not, feel, the, pull, of, the, gameplay, style, ., this, is, a, *, strategy, *, game, ., if, you, are, a, shooter, fan, ,, wanting, to, jump, immediately, into, shooting, and, killing, enemies, ,, you, will, probably, be, disappointed, ., you, can, spend, literally, 15, minutes, walking, around, talking, and, gathering, ...]</td>\n",
       "      <td>[the, sequel, to, baten, kaitos, ,, this, game, is, a, great, addition, for, fans, of, that, first, game., you, have, real, time, card, strategy, action, mixed, in, with, an, epic, storyline., it, 's, fair, enough, to, say, that, some, people, will, love, this, game, and, other, people, will, not, feel, the, pull, of, the, gameplay, style., this, is, a, *strategy*, game., if, you, are, a, shooter, fan, ,, wanting, to, jump, immediately, into, shooting, and, killing, enemies, ,, you, will, probably, be, disappointed., you, can, spend, literally, 15, minutes, walking, around, talking, and, gathering, before, you, 're, even, allowed, to, ...]</td>\n",
       "    </tr>\n",
       "  </tbody>\n",
       "</table>\n",
       "</div>"
      ],
      "text/plain": [
       "                                                                                                                                                                                                                                                                                                                                                                                                                                                                                                                                                                                                                                                                                                                                                                                                                                                                                                                                                                                                                                                                                                                                                                                                                                                                                                                                                                                                                                                                                                                                                                                                                                                                                                                                                                                                                                                                                                                                                                                                                      reviewText  \\\n",
       "766                                                                                                                                                                                                                                                                                                                                                                                                                                                                                                                                                                                                                                                                                                                                                                                                                                                                                                                                                                                                                                                                                                                                                                                                                                                                                                                                                                                                                                                                                                                                                                                                                                                                                                                                                                                                   Characters here have an awful mean demeanor that's not appropriate of good sportsmanship for kids to watch.\\n\\nVirtual Tennis 3 is easier to play and has video game mode that you can hit a ball against a colorful wall.   \n",
       "1220                                                                                                                                                                                                                                                                                                                                                                                                                   I am writting this review because I love to keep great games and play them years later. The DRM on this product prevents me from doing this. What happens when the game is no longer supported but I haven't used up my 3 activations? Since the DRM wouldn't be able to contact the \"Mothership\", again I am out of luck. No more strolling down memory lane. What happens if the game studio goes out of business, again, the game is no longer usable. What happens if EA goes out of business next week, everyone who is currenly playing this game would be out of luck. Isn't that a nice picture! Then what happens to the DRM still running on your computer. If you are lucky, it doesn't do anything. If you are unlucky, you will be reinstalling your OS and your games again. Oh, btw, you just used up another installation credit for any other games using DRM.\\nYou would like to think the gaming industry would have learned something from the music industry fiasco. Treating your paying customers like crooks will only cause your sales to drop. The harder your squeeze, the more customers you will lose.\\n\\nI have never stolen any games and never will, but this type of treatment won't earn the industy my hard earned money.\\n\\nTo all gamers out there, please take a stand and not purchase games that support this type of treatment. To those people out there who think I am just a whiner, more power to you. Eventually DRM will progress until it finally impacts your fun and then you will understand how your rights have been taken away, one step at a time.   \n",
       "2962  The sequel to Baten Kaitos, this game is a great addition for fans of that first game. You have real time card strategy action mixed in with an epic storyline.\\n\\nIt's fair enough to say that some people will love this game and other people will not feel the pull of the gameplay style. This is a *strategy* game. If you are a shooter fan, wanting to jump immediately into shooting and killing enemies, you will probably be disappointed. You can spend literally 15 minutes walking around talking and gathering before you're even allowed to enter into your first combat. This is a game that requires patience and dedication.\\n\\nFor people with that time, attention and desire for strategy, they'll get everything they could ask for. Your characters move in real time as you play and attack, their swords flying, their wings moving. Your organize your cards and play them for the maximum effect.\\n\\nIn the world around you, world-shaping events are taking place, and you meet a number of characters, roam through landscapes, and explore this world. It compares with Final Fantasy and other similar games, but with a card base.\\n\\nThe sound is reasonably good, with epic, energizing music pulling you into the gameplay. I found some of the voice actors to be uninspiring, but you find that in most games of this type. You're not expecting drama quality acting.\\n\\nI would recommend people play the first Baten Kaitos before moving on to this one. That way you get a feel for the series and style, and really get a full appreciation for this game.\\n\\nThis is definitely a game that will keep you occupied for WEEKS. Other games out there can be finished in a day. This isn't one of them. Between the side-quests and other things to do, you'll be busy for a long while. Again, depending on your personality, this can be great, or this can be too much.\\n\\nHighly recommended for epic strategy fans who have the time and attention to dedicate to gaming!   \n",
       "\n",
       "                                                                                                                                                                                                                                                                                                                                                                                                                                                                                                                                                                                                                                       casual_tokens  \\\n",
       "766                                                                                                                                                                                                                                                                                                                                                                              [characters, here, have, an, awful, mean, demeanor, that's, not, appropriate, of, good, sportsmanship, for, kids, to, watch, ., virtual, tennis, 3, is, easier, to, play, and, has, video, game, mode, that, you, can, hit, a, ball, against, a, colorful, wall, .]   \n",
       "1220                                      [i, am, writting, this, review, because, i, love, to, keep, great, games, and, play, them, years, later, ., the, drm, on, this, product, prevents, me, from, doing, this, ., what, happens, when, the, game, is, no, longer, supported, but, i, haven't, used, up, my, 3, activations, ?, since, the, drm, wouldn't, be, able, to, contact, the, \", mothership, \", ,, again, i, am, out, of, luck, ., no, more, strolling, down, memory, lane, ., what, happens, if, the, game, studio, goes, out, of, business, ,, again, ,, the, game, is, no, longer, usable, ., what, happens, if, ea, goes, out, ...]   \n",
       "2962  [the, sequel, to, baten, kaitos, ,, this, game, is, a, great, addition, for, fans, of, that, first, game, ., you, have, real, time, card, strategy, action, mixed, in, with, an, epic, storyline, ., it's, fair, enough, to, say, that, some, people, will, love, this, game, and, other, people, will, not, feel, the, pull, of, the, gameplay, style, ., this, is, a, *, strategy, *, game, ., if, you, are, a, shooter, fan, ,, wanting, to, jump, immediately, into, shooting, and, killing, enemies, ,, you, will, probably, be, disappointed, ., you, can, spend, literally, 15, minutes, walking, around, talking, and, gathering, ...]   \n",
       "\n",
       "                                                                                                                                                                                                                                                                                                                                                                                                                                                                                                                                                                                                                                                                    tb_tokens  \n",
       "766                                                                                                                                                                                                                                                                                                                                                                                                       [characters, here, have, an, awful, mean, demeanor, that, 's, not, appropriate, of, good, sportsmanship, for, kids, to, watch., virtual, tennis, 3, is, easier, to, play, and, has, video, game, mode, that, you, can, hit, a, ball, against, a, colorful, wall, .]  \n",
       "1220                                               [i, am, writting, this, review, because, i, love, to, keep, great, games, and, play, them, years, later., the, drm, on, this, product, prevents, me, from, doing, this., what, happens, when, the, game, is, no, longer, supported, but, i, have, n't, used, up, my, 3, activations, ?, since, the, drm, would, n't, be, able, to, contact, the, ``, mothership, '', ,, again, i, am, out, of, luck., no, more, strolling, down, memory, lane., what, happens, if, the, game, studio, goes, out, of, business, ,, again, ,, the, game, is, no, longer, usable., what, happens, if, ea, goes, out, of, business, next, ...]  \n",
       "2962  [the, sequel, to, baten, kaitos, ,, this, game, is, a, great, addition, for, fans, of, that, first, game., you, have, real, time, card, strategy, action, mixed, in, with, an, epic, storyline., it, 's, fair, enough, to, say, that, some, people, will, love, this, game, and, other, people, will, not, feel, the, pull, of, the, gameplay, style., this, is, a, *strategy*, game., if, you, are, a, shooter, fan, ,, wanting, to, jump, immediately, into, shooting, and, killing, enemies, ,, you, will, probably, be, disappointed., you, can, spend, literally, 15, minutes, walking, around, talking, and, gathering, before, you, 're, even, allowed, to, ...]  "
      ]
     },
     "execution_count": 13,
     "metadata": {},
     "output_type": "execute_result"
    }
   ],
   "source": [
    "reviews[['reviewText','casual_tokens','tb_tokens']].sample(3)"
   ]
  },
  {
   "cell_type": "markdown",
   "metadata": {},
   "source": [
    "### Removing Punctuations and StopWords"
   ]
  },
  {
   "cell_type": "code",
   "execution_count": 14,
   "metadata": {},
   "outputs": [
    {
     "name": "stderr",
     "output_type": "stream",
     "text": [
      "[nltk_data] Downloading package stopwords to\n",
      "[nltk_data]     /Users/koosha.tahmasebipour/nltk_data...\n",
      "[nltk_data]   Package stopwords is already up-to-date!\n"
     ]
    },
    {
     "data": {
      "text/plain": [
       "True"
      ]
     },
     "execution_count": 14,
     "metadata": {},
     "output_type": "execute_result"
    }
   ],
   "source": [
    "nltk.download('stopwords')"
   ]
  },
  {
   "cell_type": "code",
   "execution_count": 15,
   "metadata": {},
   "outputs": [],
   "source": [
    "stop_words = nltk.corpus.stopwords.words('english')"
   ]
  },
  {
   "cell_type": "code",
   "execution_count": 16,
   "metadata": {},
   "outputs": [
    {
     "data": {
      "text/plain": [
       "['i', 'me', 'my', 'myself', 'we', 'our', 'ours', 'ourselves', 'you', \"you're\"]"
      ]
     },
     "execution_count": 16,
     "metadata": {},
     "output_type": "execute_result"
    }
   ],
   "source": [
    "stop_words[:10]"
   ]
  },
  {
   "cell_type": "code",
   "execution_count": 17,
   "metadata": {},
   "outputs": [
    {
     "data": {
      "text/plain": [
       "179"
      ]
     },
     "execution_count": 17,
     "metadata": {},
     "output_type": "execute_result"
    }
   ],
   "source": [
    "len(stop_words)"
   ]
  },
  {
   "cell_type": "code",
   "execution_count": 18,
   "metadata": {},
   "outputs": [
    {
     "name": "stdout",
     "output_type": "stream",
     "text": [
      "!\"#$%&'()*+,-./:;<=>?@[\\]^_`{|}~\n"
     ]
    }
   ],
   "source": [
    "from string import punctuation\n",
    "print(punctuation)"
   ]
  },
  {
   "cell_type": "code",
   "execution_count": 19,
   "metadata": {},
   "outputs": [],
   "source": [
    "reviews['tokens_nosw'] = reviews['tb_tokens'].\\\n",
    "    apply(lambda words: [w for w in words if w not in stop_words and w not in punctuation and w != \"\"])"
   ]
  },
  {
   "cell_type": "code",
   "execution_count": 20,
   "metadata": {},
   "outputs": [
    {
     "data": {
      "text/html": [
       "<div>\n",
       "<style scoped>\n",
       "    .dataframe tbody tr th:only-of-type {\n",
       "        vertical-align: middle;\n",
       "    }\n",
       "\n",
       "    .dataframe tbody tr th {\n",
       "        vertical-align: top;\n",
       "    }\n",
       "\n",
       "    .dataframe thead th {\n",
       "        text-align: right;\n",
       "    }\n",
       "</style>\n",
       "<table border=\"1\" class=\"dataframe\">\n",
       "  <thead>\n",
       "    <tr style=\"text-align: right;\">\n",
       "      <th></th>\n",
       "      <th>tb_tokens</th>\n",
       "      <th>tokens_nosw</th>\n",
       "    </tr>\n",
       "  </thead>\n",
       "  <tbody>\n",
       "    <tr>\n",
       "      <th>2053</th>\n",
       "      <td>[so, so]</td>\n",
       "      <td>[]</td>\n",
       "    </tr>\n",
       "    <tr>\n",
       "      <th>1063</th>\n",
       "      <td>[i, have, all, the, arenanet, games, ,, due, to, problems, at, arenanet, ,, i, am, unable, to, play, this, game, (, guild, war, 2, ), ,, i, have, the, full, retail, box, version, ..., .it, keeps, tell, me, my, password, is, incorrect, and, it, 's, a, new, install, ..., i, guess, somebody, hacked, the, game, ,, now, nothing, works, right, ..., $, 60, bucks, in, the, trash, ,, this, game, has, no, support]</td>\n",
       "      <td>[arenanet, games, due, problems, arenanet, unable, play, game, guild, war, 2, full, retail, box, version, ..., .it, keeps, tell, password, incorrect, 's, new, install, ..., guess, somebody, hacked, game, nothing, works, right, ..., 60, bucks, trash, game, support]</td>\n",
       "    </tr>\n",
       "    <tr>\n",
       "      <th>4311</th>\n",
       "      <td>[my, daughter, loves, it, .]</td>\n",
       "      <td>[daughter, loves]</td>\n",
       "    </tr>\n",
       "  </tbody>\n",
       "</table>\n",
       "</div>"
      ],
      "text/plain": [
       "                                                                                                                                                                                                                                                                                                                                                                                                                    tb_tokens  \\\n",
       "2053                                                                                                                                                                                                                                                                                                                                                                                                                 [so, so]   \n",
       "1063  [i, have, all, the, arenanet, games, ,, due, to, problems, at, arenanet, ,, i, am, unable, to, play, this, game, (, guild, war, 2, ), ,, i, have, the, full, retail, box, version, ..., .it, keeps, tell, me, my, password, is, incorrect, and, it, 's, a, new, install, ..., i, guess, somebody, hacked, the, game, ,, now, nothing, works, right, ..., $, 60, bucks, in, the, trash, ,, this, game, has, no, support]   \n",
       "4311                                                                                                                                                                                                                                                                                                                                                                                             [my, daughter, loves, it, .]   \n",
       "\n",
       "                                                                                                                                                                                                                                                                   tokens_nosw  \n",
       "2053                                                                                                                                                                                                                                                                        []  \n",
       "1063  [arenanet, games, due, problems, arenanet, unable, play, game, guild, war, 2, full, retail, box, version, ..., .it, keeps, tell, password, incorrect, 's, new, install, ..., guess, somebody, hacked, game, nothing, works, right, ..., 60, bucks, trash, game, support]  \n",
       "4311                                                                                                                                                                                                                                                         [daughter, loves]  "
      ]
     },
     "execution_count": 20,
     "metadata": {},
     "output_type": "execute_result"
    }
   ],
   "source": [
    "reviews[['tb_tokens','tokens_nosw']].sample(3)"
   ]
  },
  {
   "cell_type": "markdown",
   "metadata": {},
   "source": [
    "### Stemming"
   ]
  },
  {
   "cell_type": "code",
   "execution_count": 21,
   "metadata": {},
   "outputs": [],
   "source": [
    "from nltk.stem.porter import PorterStemmer"
   ]
  },
  {
   "cell_type": "code",
   "execution_count": 22,
   "metadata": {},
   "outputs": [],
   "source": [
    "stemmer = PorterStemmer()"
   ]
  },
  {
   "cell_type": "code",
   "execution_count": 23,
   "metadata": {},
   "outputs": [],
   "source": [
    "reviews['tokens_stemmed'] = reviews['tokens_nosw'].apply(lambda words: [stemmer.stem(w) for w in words])"
   ]
  },
  {
   "cell_type": "code",
   "execution_count": 24,
   "metadata": {},
   "outputs": [
    {
     "data": {
      "text/html": [
       "<div>\n",
       "<style scoped>\n",
       "    .dataframe tbody tr th:only-of-type {\n",
       "        vertical-align: middle;\n",
       "    }\n",
       "\n",
       "    .dataframe tbody tr th {\n",
       "        vertical-align: top;\n",
       "    }\n",
       "\n",
       "    .dataframe thead th {\n",
       "        text-align: right;\n",
       "    }\n",
       "</style>\n",
       "<table border=\"1\" class=\"dataframe\">\n",
       "  <thead>\n",
       "    <tr style=\"text-align: right;\">\n",
       "      <th></th>\n",
       "      <th>tokens_nosw</th>\n",
       "      <th>tokens_stemmed</th>\n",
       "    </tr>\n",
       "  </thead>\n",
       "  <tbody>\n",
       "    <tr>\n",
       "      <th>934</th>\n",
       "      <td>[game, good, nothing, positive, say, bout, ..., n't, like, format, players, choosen, developers, character, appearence]</td>\n",
       "      <td>[game, good, noth, posit, say, bout, ..., n't, like, format, player, choosen, develop, charact, appear]</td>\n",
       "    </tr>\n",
       "    <tr>\n",
       "      <th>3487</th>\n",
       "      <td>[excellent, turtle, beach, audio]</td>\n",
       "      <td>[excel, turtl, beach, audio]</td>\n",
       "    </tr>\n",
       "    <tr>\n",
       "      <th>2643</th>\n",
       "      <td>[n't, rpg, like, turn, based, squad, combat., 's, fun, many, different, classes, toy, lots, secret, stuff, find, graphics, sharp., set-up, dialouge, kinda, childish, hey, 's, game, boy, advance, game, expect, worth, buy, enjoy]</td>\n",
       "      <td>[n't, rpg, like, turn, base, squad, combat., 's, fun, mani, differ, class, toy, lot, secret, stuff, find, graphic, sharp., set-up, dialoug, kinda, childish, hey, 's, game, boy, advanc, game, expect, worth, buy, enjoy]</td>\n",
       "    </tr>\n",
       "  </tbody>\n",
       "</table>\n",
       "</div>"
      ],
      "text/plain": [
       "                                                                                                                                                                                                                              tokens_nosw  \\\n",
       "934                                                                                                               [game, good, nothing, positive, say, bout, ..., n't, like, format, players, choosen, developers, character, appearence]   \n",
       "3487                                                                                                                                                                                                    [excellent, turtle, beach, audio]   \n",
       "2643  [n't, rpg, like, turn, based, squad, combat., 's, fun, many, different, classes, toy, lots, secret, stuff, find, graphics, sharp., set-up, dialouge, kinda, childish, hey, 's, game, boy, advance, game, expect, worth, buy, enjoy]   \n",
       "\n",
       "                                                                                                                                                                                                                 tokens_stemmed  \n",
       "934                                                                                                                     [game, good, noth, posit, say, bout, ..., n't, like, format, player, choosen, develop, charact, appear]  \n",
       "3487                                                                                                                                                                                               [excel, turtl, beach, audio]  \n",
       "2643  [n't, rpg, like, turn, base, squad, combat., 's, fun, mani, differ, class, toy, lot, secret, stuff, find, graphic, sharp., set-up, dialoug, kinda, childish, hey, 's, game, boy, advanc, game, expect, worth, buy, enjoy]  "
      ]
     },
     "execution_count": 24,
     "metadata": {},
     "output_type": "execute_result"
    }
   ],
   "source": [
    "reviews[['tokens_nosw','tokens_stemmed']].sample(3)"
   ]
  },
  {
   "cell_type": "markdown",
   "metadata": {},
   "source": [
    "### Sentiment Predictor Baseline Model"
   ]
  },
  {
   "cell_type": "code",
   "execution_count": 28,
   "metadata": {},
   "outputs": [
    {
     "name": "stderr",
     "output_type": "stream",
     "text": [
      "[nltk_data] Downloading package sentiwordnet to\n",
      "[nltk_data]     /Users/koosha.tahmasebipour/nltk_data...\n",
      "[nltk_data]   Unzipping corpora/sentiwordnet.zip.\n"
     ]
    }
   ],
   "source": [
    "nltk.download('sentiwordnet')\n",
    "from nltk.corpus import sentiwordnet as swn"
   ]
  },
  {
   "cell_type": "code",
   "execution_count": 30,
   "metadata": {},
   "outputs": [
    {
     "data": {
      "text/plain": [
       "[SentiSynset('happy.a.01'),\n",
       " SentiSynset('felicitous.s.02'),\n",
       " SentiSynset('glad.s.02'),\n",
       " SentiSynset('happy.s.04')]"
      ]
     },
     "execution_count": 30,
     "metadata": {},
     "output_type": "execute_result"
    }
   ],
   "source": [
    "list(swn.senti_synsets(\"happy\"))"
   ]
  },
  {
   "cell_type": "code",
   "execution_count": 32,
   "metadata": {},
   "outputs": [
    {
     "name": "stdout",
     "output_type": "stream",
     "text": [
      " List      Positive score  Negative Score \n",
      " Joy1      0.500           0.250          \n",
      " Joy2      0.375           0.000          \n",
      " Trouble1  0.000           0.625          \n",
      " Trouble2  0.000           0.500          \n"
     ]
    }
   ],
   "source": [
    "joy1 = swn.senti_synset('joy.n.01')\n",
    "joy2 = swn.senti_synset('joy.n.02')\n",
    " \n",
    "trouble1 = swn.senti_synset('trouble.n.03')\n",
    "trouble2 = swn.senti_synset('trouble.n.04')\n",
    " \n",
    " \n",
    "categories = [\"Joy1\", \"Joy2\", \"Trouble1\", \"Trouble2\"]\n",
    "rows = []\n",
    "rows.append([\"List\", \"Positive score\", \"Negative Score\"])\n",
    "accs = {}\n",
    "accs[\"Joy1\"] = [joy1.pos_score(), joy1.neg_score()]\n",
    "accs[\"Joy2\"] = [joy2.pos_score(), joy2.neg_score()]\n",
    "accs[\"Trouble1\"] = [trouble1.pos_score(), trouble1.neg_score()]\n",
    "accs[\"Trouble2\"] = [trouble2.pos_score(), trouble2.neg_score()]\n",
    "for cat in categories:\n",
    "    rows.append([cat, f\"{accs.get(cat)[0]:.3f}\",\n",
    "                f\"{accs.get(cat)[1]:.3f}\"])\n",
    " \n",
    "columns = zip(*rows)\n",
    "column_widths = [max(len(item) for item in col) for col in columns]\n",
    "for row in rows:\n",
    "    print(''.join(' {:{width}} '.format(row[i], width=column_widths[i])\n",
    "                  for i in range(0, len(row))))"
   ]
  },
  {
   "cell_type": "code",
   "execution_count": null,
   "metadata": {},
   "outputs": [],
   "source": []
  },
  {
   "cell_type": "code",
   "execution_count": null,
   "metadata": {},
   "outputs": [],
   "source": []
  }
 ],
 "metadata": {
  "kernelspec": {
   "display_name": "Python 3",
   "language": "python",
   "name": "python3"
  },
  "language_info": {
   "codemirror_mode": {
    "name": "ipython",
    "version": 3
   },
   "file_extension": ".py",
   "mimetype": "text/x-python",
   "name": "python",
   "nbconvert_exporter": "python",
   "pygments_lexer": "ipython3",
   "version": "3.6.12"
  }
 },
 "nbformat": 4,
 "nbformat_minor": 4
}
