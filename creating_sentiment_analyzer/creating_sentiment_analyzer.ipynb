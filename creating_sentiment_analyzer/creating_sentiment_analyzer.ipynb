{
 "cells": [
  {
   "cell_type": "markdown",
   "metadata": {},
   "source": [
    "# Creating a Dictionary-based Sentiment Analyzer"
   ]
  },
  {
   "cell_type": "code",
   "execution_count": 17,
   "metadata": {},
   "outputs": [],
   "source": [
    "import pandas as pd\n",
    "import nltk\n",
    "from IPython.display import display\n",
    "pd.set_option('display.max_columns', None)"
   ]
  },
  {
   "cell_type": "markdown",
   "metadata": {},
   "source": [
    "### Step 1: Loading in the small_corpus .csv file created in the \"creating_dataset\" milestone."
   ]
  },
  {
   "cell_type": "code",
   "execution_count": 4,
   "metadata": {},
   "outputs": [],
   "source": [
    "reviews = pd.read_csv(\"../data/small_corpus.csv\")"
   ]
  },
  {
   "cell_type": "code",
   "execution_count": 5,
   "metadata": {},
   "outputs": [
    {
     "data": {
      "text/html": [
       "<div>\n",
       "<style scoped>\n",
       "    .dataframe tbody tr th:only-of-type {\n",
       "        vertical-align: middle;\n",
       "    }\n",
       "\n",
       "    .dataframe tbody tr th {\n",
       "        vertical-align: top;\n",
       "    }\n",
       "\n",
       "    .dataframe thead th {\n",
       "        text-align: right;\n",
       "    }\n",
       "</style>\n",
       "<table border=\"1\" class=\"dataframe\">\n",
       "  <thead>\n",
       "    <tr style=\"text-align: right;\">\n",
       "      <th></th>\n",
       "      <th>overall</th>\n",
       "      <th>verified</th>\n",
       "      <th>reviewTime</th>\n",
       "      <th>reviewerID</th>\n",
       "      <th>asin</th>\n",
       "      <th>reviewerName</th>\n",
       "      <th>reviewText</th>\n",
       "      <th>summary</th>\n",
       "      <th>unixReviewTime</th>\n",
       "      <th>vote</th>\n",
       "      <th>style</th>\n",
       "      <th>image</th>\n",
       "    </tr>\n",
       "  </thead>\n",
       "  <tbody>\n",
       "    <tr>\n",
       "      <th>0</th>\n",
       "      <td>1.0</td>\n",
       "      <td>True</td>\n",
       "      <td>11 30, 2015</td>\n",
       "      <td>A3AC92K59QLYR8</td>\n",
       "      <td>B00503E8S2</td>\n",
       "      <td>ben</td>\n",
       "      <td>Game freezes over and over its unplayable</td>\n",
       "      <td>it just doesn't work</td>\n",
       "      <td>1448841600</td>\n",
       "      <td>NaN</td>\n",
       "      <td>{'Format:': ' Video Game'}</td>\n",
       "      <td>NaN</td>\n",
       "    </tr>\n",
       "    <tr>\n",
       "      <th>1</th>\n",
       "      <td>1.0</td>\n",
       "      <td>False</td>\n",
       "      <td>05 19, 2012</td>\n",
       "      <td>A334LHR8DWARY8</td>\n",
       "      <td>B00178630A</td>\n",
       "      <td>Xenocide</td>\n",
       "      <td>I have no problem with needing to be online to...</td>\n",
       "      <td>The only real way to show Blizzard our feeling...</td>\n",
       "      <td>1337385600</td>\n",
       "      <td>23</td>\n",
       "      <td>{'Format:': ' Computer Game'}</td>\n",
       "      <td>NaN</td>\n",
       "    </tr>\n",
       "    <tr>\n",
       "      <th>2</th>\n",
       "      <td>1.0</td>\n",
       "      <td>True</td>\n",
       "      <td>10 19, 2014</td>\n",
       "      <td>A28982ODE7ZGVP</td>\n",
       "      <td>B001AWIP7M</td>\n",
       "      <td>Eric Frykberg</td>\n",
       "      <td>NOT GOOD</td>\n",
       "      <td>One Star</td>\n",
       "      <td>1413676800</td>\n",
       "      <td>NaN</td>\n",
       "      <td>{'Format:': ' Video Game'}</td>\n",
       "      <td>NaN</td>\n",
       "    </tr>\n",
       "    <tr>\n",
       "      <th>3</th>\n",
       "      <td>1.0</td>\n",
       "      <td>True</td>\n",
       "      <td>09 6, 2015</td>\n",
       "      <td>A19E85RLQCAMI1</td>\n",
       "      <td>B00NASF4MS</td>\n",
       "      <td>Joe</td>\n",
       "      <td>Really not worth the money to buy this game on...</td>\n",
       "      <td>Really not worth the money to buy this game on...</td>\n",
       "      <td>1441497600</td>\n",
       "      <td>2</td>\n",
       "      <td>{'Format:': ' Video Game'}</td>\n",
       "      <td>NaN</td>\n",
       "    </tr>\n",
       "    <tr>\n",
       "      <th>4</th>\n",
       "      <td>1.0</td>\n",
       "      <td>False</td>\n",
       "      <td>05 28, 2008</td>\n",
       "      <td>AEMQKS13WC4D2</td>\n",
       "      <td>B00140P9BA</td>\n",
       "      <td>Craig</td>\n",
       "      <td>They need to eliminate the Securom. I purchase...</td>\n",
       "      <td>Securom can ruin a great game</td>\n",
       "      <td>1211932800</td>\n",
       "      <td>55</td>\n",
       "      <td>{'Format:': ' DVD-ROM'}</td>\n",
       "      <td>NaN</td>\n",
       "    </tr>\n",
       "  </tbody>\n",
       "</table>\n",
       "</div>"
      ],
      "text/plain": [
       "   overall  verified   reviewTime      reviewerID        asin   reviewerName  \\\n",
       "0      1.0      True  11 30, 2015  A3AC92K59QLYR8  B00503E8S2            ben   \n",
       "1      1.0     False  05 19, 2012  A334LHR8DWARY8  B00178630A       Xenocide   \n",
       "2      1.0      True  10 19, 2014  A28982ODE7ZGVP  B001AWIP7M  Eric Frykberg   \n",
       "3      1.0      True   09 6, 2015  A19E85RLQCAMI1  B00NASF4MS            Joe   \n",
       "4      1.0     False  05 28, 2008   AEMQKS13WC4D2  B00140P9BA          Craig   \n",
       "\n",
       "                                          reviewText  \\\n",
       "0          Game freezes over and over its unplayable   \n",
       "1  I have no problem with needing to be online to...   \n",
       "2                                           NOT GOOD   \n",
       "3  Really not worth the money to buy this game on...   \n",
       "4  They need to eliminate the Securom. I purchase...   \n",
       "\n",
       "                                             summary  unixReviewTime vote  \\\n",
       "0                               it just doesn't work      1448841600  NaN   \n",
       "1  The only real way to show Blizzard our feeling...      1337385600   23   \n",
       "2                                           One Star      1413676800  NaN   \n",
       "3  Really not worth the money to buy this game on...      1441497600    2   \n",
       "4                      Securom can ruin a great game      1211932800   55   \n",
       "\n",
       "                           style image  \n",
       "0     {'Format:': ' Video Game'}   NaN  \n",
       "1  {'Format:': ' Computer Game'}   NaN  \n",
       "2     {'Format:': ' Video Game'}   NaN  \n",
       "3     {'Format:': ' Video Game'}   NaN  \n",
       "4        {'Format:': ' DVD-ROM'}   NaN  "
      ]
     },
     "execution_count": 5,
     "metadata": {},
     "output_type": "execute_result"
    }
   ],
   "source": [
    "reviews.head()"
   ]
  },
  {
   "cell_type": "markdown",
   "metadata": {},
   "source": [
    "### Step 2: Tokenizing the sentences and words of the reviews\n",
    "Here, We're going to test different versions of word tokenizer on reviews. We'll then decide which tokenizer might be better to use."
   ]
  },
  {
   "cell_type": "markdown",
   "metadata": {},
   "source": [
    "### Treebank Word Tokenizer"
   ]
  },
  {
   "cell_type": "code",
   "execution_count": 10,
   "metadata": {},
   "outputs": [],
   "source": [
    "from nltk.tokenize import TreebankWordTokenizer"
   ]
  },
  {
   "cell_type": "code",
   "execution_count": 11,
   "metadata": {},
   "outputs": [],
   "source": [
    "tb_tokenizer = TreebankWordTokenizer()"
   ]
  },
  {
   "cell_type": "code",
   "execution_count": 47,
   "metadata": {},
   "outputs": [],
   "source": [
    "reviews[\"rev_text_lower\"] = reviews['reviewText'].apply(lambda rev: str(rev).lower())"
   ]
  },
  {
   "cell_type": "code",
   "execution_count": 48,
   "metadata": {},
   "outputs": [
    {
     "data": {
      "text/html": [
       "<div>\n",
       "<style scoped>\n",
       "    .dataframe tbody tr th:only-of-type {\n",
       "        vertical-align: middle;\n",
       "    }\n",
       "\n",
       "    .dataframe tbody tr th {\n",
       "        vertical-align: top;\n",
       "    }\n",
       "\n",
       "    .dataframe thead th {\n",
       "        text-align: right;\n",
       "    }\n",
       "</style>\n",
       "<table border=\"1\" class=\"dataframe\">\n",
       "  <thead>\n",
       "    <tr style=\"text-align: right;\">\n",
       "      <th></th>\n",
       "      <th>reviewText</th>\n",
       "      <th>rev_text_lower</th>\n",
       "    </tr>\n",
       "  </thead>\n",
       "  <tbody>\n",
       "    <tr>\n",
       "      <th>2647</th>\n",
       "      <td>I like this although the 3DS wobbles slightly. Doesn't fit as snugly while docked as I'd like.</td>\n",
       "      <td>i like this although the 3ds wobbles slightly. doesn't fit as snugly while docked as i'd like.</td>\n",
       "    </tr>\n",
       "    <tr>\n",
       "      <th>4362</th>\n",
       "      <td>It's like Ms. Pac Man, but for guys</td>\n",
       "      <td>it's like ms. pac man, but for guys</td>\n",
       "    </tr>\n",
       "  </tbody>\n",
       "</table>\n",
       "</div>"
      ],
      "text/plain": [
       "                                                                                          reviewText  \\\n",
       "2647  I like this although the 3DS wobbles slightly. Doesn't fit as snugly while docked as I'd like.   \n",
       "4362                                                             It's like Ms. Pac Man, but for guys   \n",
       "\n",
       "                                                                                      rev_text_lower  \n",
       "2647  i like this although the 3ds wobbles slightly. doesn't fit as snugly while docked as i'd like.  \n",
       "4362                                                             it's like ms. pac man, but for guys  "
      ]
     },
     "execution_count": 48,
     "metadata": {},
     "output_type": "execute_result"
    }
   ],
   "source": [
    "reviews[['reviewText','rev_text_lower']].sample(2)"
   ]
  },
  {
   "cell_type": "code",
   "execution_count": 49,
   "metadata": {},
   "outputs": [],
   "source": [
    "reviews[\"tb_tokens\"] = reviews['rev_text_lower'].apply(lambda rev: tb_tokenizer.tokenize(str(rev)))"
   ]
  },
  {
   "cell_type": "code",
   "execution_count": 50,
   "metadata": {},
   "outputs": [],
   "source": [
    "pd.set_option('display.max_colwidth', None)"
   ]
  },
  {
   "cell_type": "code",
   "execution_count": 51,
   "metadata": {},
   "outputs": [
    {
     "data": {
      "text/html": [
       "<div>\n",
       "<style scoped>\n",
       "    .dataframe tbody tr th:only-of-type {\n",
       "        vertical-align: middle;\n",
       "    }\n",
       "\n",
       "    .dataframe tbody tr th {\n",
       "        vertical-align: top;\n",
       "    }\n",
       "\n",
       "    .dataframe thead th {\n",
       "        text-align: right;\n",
       "    }\n",
       "</style>\n",
       "<table border=\"1\" class=\"dataframe\">\n",
       "  <thead>\n",
       "    <tr style=\"text-align: right;\">\n",
       "      <th></th>\n",
       "      <th>reviewText</th>\n",
       "      <th>tb_tokens</th>\n",
       "    </tr>\n",
       "  </thead>\n",
       "  <tbody>\n",
       "    <tr>\n",
       "      <th>4103</th>\n",
       "      <td>Oh man what a classic</td>\n",
       "      <td>[oh, man, what, a, classic]</td>\n",
       "    </tr>\n",
       "    <tr>\n",
       "      <th>3293</th>\n",
       "      <td>My friend was thrilled when he got this! it came in fast and complete!</td>\n",
       "      <td>[my, friend, was, thrilled, when, he, got, this, !, it, came, in, fast, and, complete, !]</td>\n",
       "    </tr>\n",
       "    <tr>\n",
       "      <th>4459</th>\n",
       "      <td>very good</td>\n",
       "      <td>[very, good]</td>\n",
       "    </tr>\n",
       "  </tbody>\n",
       "</table>\n",
       "</div>"
      ],
      "text/plain": [
       "                                                                  reviewText  \\\n",
       "4103                                                   Oh man what a classic   \n",
       "3293  My friend was thrilled when he got this! it came in fast and complete!   \n",
       "4459                                                               very good   \n",
       "\n",
       "                                                                                      tb_tokens  \n",
       "4103                                                                [oh, man, what, a, classic]  \n",
       "3293  [my, friend, was, thrilled, when, he, got, this, !, it, came, in, fast, and, complete, !]  \n",
       "4459                                                                               [very, good]  "
      ]
     },
     "execution_count": 51,
     "metadata": {},
     "output_type": "execute_result"
    }
   ],
   "source": [
    "reviews[['reviewText','tb_tokens']].sample(3)"
   ]
  },
  {
   "cell_type": "markdown",
   "metadata": {},
   "source": [
    "### Casual Tokenizer"
   ]
  },
  {
   "cell_type": "code",
   "execution_count": 24,
   "metadata": {},
   "outputs": [],
   "source": [
    "from nltk.tokenize.casual import casual_tokenize"
   ]
  },
  {
   "cell_type": "code",
   "execution_count": 56,
   "metadata": {},
   "outputs": [],
   "source": [
    "reviews['casual_tokens'] = reviews['rev_text_lower'].apply(lambda rev: casual_tokenize(str(rev)))"
   ]
  },
  {
   "cell_type": "code",
   "execution_count": 57,
   "metadata": {},
   "outputs": [
    {
     "data": {
      "text/html": [
       "<div>\n",
       "<style scoped>\n",
       "    .dataframe tbody tr th:only-of-type {\n",
       "        vertical-align: middle;\n",
       "    }\n",
       "\n",
       "    .dataframe tbody tr th {\n",
       "        vertical-align: top;\n",
       "    }\n",
       "\n",
       "    .dataframe thead th {\n",
       "        text-align: right;\n",
       "    }\n",
       "</style>\n",
       "<table border=\"1\" class=\"dataframe\">\n",
       "  <thead>\n",
       "    <tr style=\"text-align: right;\">\n",
       "      <th></th>\n",
       "      <th>reviewText</th>\n",
       "      <th>casual_tokens</th>\n",
       "      <th>tb_tokens</th>\n",
       "    </tr>\n",
       "  </thead>\n",
       "  <tbody>\n",
       "    <tr>\n",
       "      <th>1328</th>\n",
       "      <td>The games are NEVER balanced!! You get a bunch of losers on one team and a bunch of noobs on another team and the game expects you to have fun? Really? They use the worst algorithm to set up games I have ever seen. Also, since when was it ok to respawn people behind you constantly? Did the people who create this game even try it out before they released it? This game has ruined call of duty for me. I will never play again.</td>\n",
       "      <td>[the, games, are, never, balanced, !, !, you, get, a, bunch, of, losers, on, one, team, and, a, bunch, of, noobs, on, another, team, and, the, game, expects, you, to, have, fun, ?, really, ?, they, use, the, worst, algorithm, to, set, up, games, i, have, ever, seen, ., also, ,, since, when, was, it, ok, to, respawn, people, behind, you, constantly, ?, did, the, people, who, create, this, game, even, try, it, out, before, they, released, it, ?, this, game, has, ruined, call, of, duty, for, me, ., i, will, never, play, again, .]</td>\n",
       "      <td>[the, games, are, never, balanced, !, !, you, get, a, bunch, of, losers, on, one, team, and, a, bunch, of, noobs, on, another, team, and, the, game, expects, you, to, have, fun, ?, really, ?, they, use, the, worst, algorithm, to, set, up, games, i, have, ever, seen., also, ,, since, when, was, it, ok, to, respawn, people, behind, you, constantly, ?, did, the, people, who, create, this, game, even, try, it, out, before, they, released, it, ?, this, game, has, ruined, call, of, duty, for, me., i, will, never, play, again, .]</td>\n",
       "    </tr>\n",
       "    <tr>\n",
       "      <th>4088</th>\n",
       "      <td>I really enjoyed the plot of this game.  Homage to Agatha Christie and very intricate twist that fooled me up until the end.  Starts off kind of slow but gets very interesting and involved during the second act.  Loved the atmosphere and story.</td>\n",
       "      <td>[i, really, enjoyed, the, plot, of, this, game, ., homage, to, agatha, christie, and, very, intricate, twist, that, fooled, me, up, until, the, end, ., starts, off, kind, of, slow, but, gets, very, interesting, and, involved, during, the, second, act, ., loved, the, atmosphere, and, story, .]</td>\n",
       "      <td>[i, really, enjoyed, the, plot, of, this, game., homage, to, agatha, christie, and, very, intricate, twist, that, fooled, me, up, until, the, end., starts, off, kind, of, slow, but, gets, very, interesting, and, involved, during, the, second, act., loved, the, atmosphere, and, story, .]</td>\n",
       "    </tr>\n",
       "    <tr>\n",
       "      <th>1674</th>\n",
       "      <td>By far the greatest disappointment in gaming since Duke Nukem Forever came out.  This game was over 11 years in the making and when it finally was released it was filled with bugs, exploits, server issues, and no single player offline mode.  You are required to connect to the servers in order to even play a game by yourself, the reasoning behind this is that it prevents people from making illegal copies and/or duping or hacking the game.  Fine, but what it also does is limit your ability to play a product you paid for, you cannot play if you have no internet connection, if the servers are down or out, or your connection is not \"stable\"  (NZ and Australian players know this fact!).  Why not add a single player mode only that cannot then be transferred online for play for those who wish to enjoy the game when the internet is not an option or the servers are out?\\nAside from the glaring requirement of being connected in order to play there are the issues with the game play itself.  Things like \"rubberbanding\" and latency cause your character to just suddenly die, issues further compounded by insane graphical requirements even at the lowest of settings.  Systems that run over 1 GB of video memory still experience framerate stutter and tearing on a game with graphics less intense than something made 5 years ago.  This is owed to the MPQ files that are used as a resource to render the world, these objects are stored on the Hard Drive and must be accessed constantly to generate the terrain.  This means that they are subject to read time delays, even fast 10,000 RPM disks are going to struggle to keep up.  The best solution has been to store these files on a SSD separately, which is a ridiculous fix that should not need to be implemented simply to make the game run smoothly.\\nThe game itself is a progression, like Diablo 2 or Dungeon Siege 2, beating certain difficulties unlocks more challenging ones.  However the story is exactly the same, the enemies simply get harder to kill.  This means there is no real end game.  For those that have \"seen it all\" and \"done it all\", such as beating the hardest difficulty or mastering the \"Hardcore Mode\" (another failed attempt to challenge players, what good is a 1 death system when things like lag or framerate issues can kill you as surely as any enemy) this means the game has no replay value whatsoever.  There is nothing to do but wait for more content to be released.  A ladder system or PvP such as was introduced in D2 would alleviate this, but Blizzard prefers to invest time in their cash cow, the Real Money Auction House (RMAH).\\nWhich brings me to my final point, the game is custom designed to make good items hard to find so that players will be forced to resort to buying the items they need to proceed.  It is in Blizzard's best interests to make good items hard to get, because if everyone can get them on their own no one will sell them in the RMAH and Blizzard will not receive its commissions.  The economy of the game is of course broken because the people with all the good items are the botters, hackers, exploiters, and cheaters who took advantage of loopholes and continue to take advantage of the game in order to profit.  These people, for the most part, work out places like Korea and China, dedicating untold hours to grinding the game in order to gather their loot which they then sell at premium prices to those too ignorant or desperate to know better than to buy them.\\nThis game was fundamentally flawed in the way it was developed, released, and is now currently being managed.  Blizzard needs to stop the RMAH and increase the drop rates of quality items across the board.  This is a game people play for fun in order to challenge themselves to get better at it, not a money making endeavor that is meant to line the pockets of the company that made it.  For these reasons I have stopped playing the game, since I received my copy for free when I purchased a yearly subscription to World of Warcraft I am one of the few fortunate souls who was not robbed for 60 dollars for a failure of a product.\\nRe-visit in 2015:  The game has not become much more fun in these intervening years.  Playing infrequently I have had really no expectations that the game would get much better, even with the release of the Expansion Reaper of Souls.  I will admit that the loss of the RMAH and inclusion of new \"Seasonal\" play has helped dramatically.  However the game itself has not gotten any \"funner\".  Patches have added new tweaks and items, but overall the game has remained an incessant grind fest.  I own the Console version and find it superior in every way, it is still not an exciting game to play for hours on end on a console...but you feel more rewarded by the drop rates and game mechanics like rolling and kill streak rewards.  Add into that an up to 4 player on screen co-op that can be 3 other people in the same room as you (provided you have the controllers and people willing to play) and the console version just shines.  I like nothing more than playing co-op on the Xbox One version with my neice and nephew who both like the game, but don't find it particularly enjoyable.</td>\n",
       "      <td>[by, far, the, greatest, disappointment, in, gaming, since, duke, nukem, forever, came, out, ., this, game, was, over, 11, years, in, the, making, and, when, it, finally, was, released, it, was, filled, with, bugs, ,, exploits, ,, server, issues, ,, and, no, single, player, offline, mode, ., you, are, required, to, connect, to, the, servers, in, order, to, even, play, a, game, by, yourself, ,, the, reasoning, behind, this, is, that, it, prevents, people, from, making, illegal, copies, and, /, or, duping, or, hacking, the, game, ., fine, ,, but, what, it, also, does, is, limit, your, ability, to, play, ...]</td>\n",
       "      <td>[by, far, the, greatest, disappointment, in, gaming, since, duke, nukem, forever, came, out., this, game, was, over, 11, years, in, the, making, and, when, it, finally, was, released, it, was, filled, with, bugs, ,, exploits, ,, server, issues, ,, and, no, single, player, offline, mode., you, are, required, to, connect, to, the, servers, in, order, to, even, play, a, game, by, yourself, ,, the, reasoning, behind, this, is, that, it, prevents, people, from, making, illegal, copies, and/or, duping, or, hacking, the, game., fine, ,, but, what, it, also, does, is, limit, your, ability, to, play, a, product, you, paid, for, ...]</td>\n",
       "    </tr>\n",
       "  </tbody>\n",
       "</table>\n",
       "</div>"
      ],
      "text/plain": [
       "                                                                                                                                                                                                                                                                                                                                                                                                                                                                                                                                                                                                                                                                                                                                                                                                                                                                                                                                                                                                                                                                                                                                                                                                                                                                                                                                                                                                                                                                                                                                                                                                                                                                                                                                                                                                                                                                                                                                                                                                                                                                                                                                                                                                                                                                                                                                                                                                                                                                                                                                                                                                                                                                                                                                                                                                                                                                                                                                                                                                                                                                                                                                                                                                                                                                                                                                                                                                                                                                                                                                                                                                                                                                                                                                                                                                                                                                                                                                                                                                                                                                                                                                                                                                                                                                                                                                                                                                                                                                                                                                                                                                                                                                                                                                                                                                                                                                                                                                                                                                                                                                                                                                                                                                                                                                                                                                                                                               reviewText  \\\n",
       "1328                                                                                                                                                                                                                                                                                                                                                                                                                                                                                                                                                                                                                                                                                                                                                                                                                                                                                                                                                                                                                                                                                                                                                                                                                                                                                                                                                                                                                                                                                                                                                                                                                                                                                                                                                                                                                                                                                                                                                                                                                                                                                                                                                                                                                                                                                                                                                                                                                                                                                                                                                                                                                                                                                                                                                                                                                                                                                                                                                                                                                                                                                                                                                                                                                                                                                                                                                                                                                                                                                                                                                                                                                                                                                                                                                                                                                                                                                                                                                                                                                                                                                                                                                                                                                                                                                                                                                                                                                                                                                                                                                                                                                                                                                                                                                                                                                                                                                                                                                           The games are NEVER balanced!! You get a bunch of losers on one team and a bunch of noobs on another team and the game expects you to have fun? Really? They use the worst algorithm to set up games I have ever seen. Also, since when was it ok to respawn people behind you constantly? Did the people who create this game even try it out before they released it? This game has ruined call of duty for me. I will never play again.   \n",
       "4088                                                                                                                                                                                                                                                                                                                                                                                                                                                                                                                                                                                                                                                                                                                                                                                                                                                                                                                                                                                                                                                                                                                                                                                                                                                                                                                                                                                                                                                                                                                                                                                                                                                                                                                                                                                                                                                                                                                                                                                                                                                                                                                                                                                                                                                                                                                                                                                                                                                                                                                                                                                                                                                                                                                                                                                                                                                                                                                                                                                                                                                                                                                                                                                                                                                                                                                                                                                                                                                                                                                                                                                                                                                                                                                                                                                                                                                                                                                                                                                                                                                                                                                                                                                                                                                                                                                                                                                                                                                                                                                                                                                                                                                                                                                                                                                                                                                                                                                                                                                                                                                                                                                                                 I really enjoyed the plot of this game.  Homage to Agatha Christie and very intricate twist that fooled me up until the end.  Starts off kind of slow but gets very interesting and involved during the second act.  Loved the atmosphere and story.   \n",
       "1674  By far the greatest disappointment in gaming since Duke Nukem Forever came out.  This game was over 11 years in the making and when it finally was released it was filled with bugs, exploits, server issues, and no single player offline mode.  You are required to connect to the servers in order to even play a game by yourself, the reasoning behind this is that it prevents people from making illegal copies and/or duping or hacking the game.  Fine, but what it also does is limit your ability to play a product you paid for, you cannot play if you have no internet connection, if the servers are down or out, or your connection is not \"stable\"  (NZ and Australian players know this fact!).  Why not add a single player mode only that cannot then be transferred online for play for those who wish to enjoy the game when the internet is not an option or the servers are out?\\nAside from the glaring requirement of being connected in order to play there are the issues with the game play itself.  Things like \"rubberbanding\" and latency cause your character to just suddenly die, issues further compounded by insane graphical requirements even at the lowest of settings.  Systems that run over 1 GB of video memory still experience framerate stutter and tearing on a game with graphics less intense than something made 5 years ago.  This is owed to the MPQ files that are used as a resource to render the world, these objects are stored on the Hard Drive and must be accessed constantly to generate the terrain.  This means that they are subject to read time delays, even fast 10,000 RPM disks are going to struggle to keep up.  The best solution has been to store these files on a SSD separately, which is a ridiculous fix that should not need to be implemented simply to make the game run smoothly.\\nThe game itself is a progression, like Diablo 2 or Dungeon Siege 2, beating certain difficulties unlocks more challenging ones.  However the story is exactly the same, the enemies simply get harder to kill.  This means there is no real end game.  For those that have \"seen it all\" and \"done it all\", such as beating the hardest difficulty or mastering the \"Hardcore Mode\" (another failed attempt to challenge players, what good is a 1 death system when things like lag or framerate issues can kill you as surely as any enemy) this means the game has no replay value whatsoever.  There is nothing to do but wait for more content to be released.  A ladder system or PvP such as was introduced in D2 would alleviate this, but Blizzard prefers to invest time in their cash cow, the Real Money Auction House (RMAH).\\nWhich brings me to my final point, the game is custom designed to make good items hard to find so that players will be forced to resort to buying the items they need to proceed.  It is in Blizzard's best interests to make good items hard to get, because if everyone can get them on their own no one will sell them in the RMAH and Blizzard will not receive its commissions.  The economy of the game is of course broken because the people with all the good items are the botters, hackers, exploiters, and cheaters who took advantage of loopholes and continue to take advantage of the game in order to profit.  These people, for the most part, work out places like Korea and China, dedicating untold hours to grinding the game in order to gather their loot which they then sell at premium prices to those too ignorant or desperate to know better than to buy them.\\nThis game was fundamentally flawed in the way it was developed, released, and is now currently being managed.  Blizzard needs to stop the RMAH and increase the drop rates of quality items across the board.  This is a game people play for fun in order to challenge themselves to get better at it, not a money making endeavor that is meant to line the pockets of the company that made it.  For these reasons I have stopped playing the game, since I received my copy for free when I purchased a yearly subscription to World of Warcraft I am one of the few fortunate souls who was not robbed for 60 dollars for a failure of a product.\\nRe-visit in 2015:  The game has not become much more fun in these intervening years.  Playing infrequently I have had really no expectations that the game would get much better, even with the release of the Expansion Reaper of Souls.  I will admit that the loss of the RMAH and inclusion of new \"Seasonal\" play has helped dramatically.  However the game itself has not gotten any \"funner\".  Patches have added new tweaks and items, but overall the game has remained an incessant grind fest.  I own the Console version and find it superior in every way, it is still not an exciting game to play for hours on end on a console...but you feel more rewarded by the drop rates and game mechanics like rolling and kill streak rewards.  Add into that an up to 4 player on screen co-op that can be 3 other people in the same room as you (provided you have the controllers and people willing to play) and the console version just shines.  I like nothing more than playing co-op on the Xbox One version with my neice and nephew who both like the game, but don't find it particularly enjoyable.   \n",
       "\n",
       "                                                                                                                                                                                                                                                                                                                                                                                                                                                                                                                                                                                                                              casual_tokens  \\\n",
       "1328                                                                                   [the, games, are, never, balanced, !, !, you, get, a, bunch, of, losers, on, one, team, and, a, bunch, of, noobs, on, another, team, and, the, game, expects, you, to, have, fun, ?, really, ?, they, use, the, worst, algorithm, to, set, up, games, i, have, ever, seen, ., also, ,, since, when, was, it, ok, to, respawn, people, behind, you, constantly, ?, did, the, people, who, create, this, game, even, try, it, out, before, they, released, it, ?, this, game, has, ruined, call, of, duty, for, me, ., i, will, never, play, again, .]   \n",
       "4088                                                                                                                                                                                                                                                                                                                                  [i, really, enjoyed, the, plot, of, this, game, ., homage, to, agatha, christie, and, very, intricate, twist, that, fooled, me, up, until, the, end, ., starts, off, kind, of, slow, but, gets, very, interesting, and, involved, during, the, second, act, ., loved, the, atmosphere, and, story, .]   \n",
       "1674  [by, far, the, greatest, disappointment, in, gaming, since, duke, nukem, forever, came, out, ., this, game, was, over, 11, years, in, the, making, and, when, it, finally, was, released, it, was, filled, with, bugs, ,, exploits, ,, server, issues, ,, and, no, single, player, offline, mode, ., you, are, required, to, connect, to, the, servers, in, order, to, even, play, a, game, by, yourself, ,, the, reasoning, behind, this, is, that, it, prevents, people, from, making, illegal, copies, and, /, or, duping, or, hacking, the, game, ., fine, ,, but, what, it, also, does, is, limit, your, ability, to, play, ...]   \n",
       "\n",
       "                                                                                                                                                                                                                                                                                                                                                                                                                                                                                                                                                                                                                                                    tb_tokens  \n",
       "1328                                                                                                         [the, games, are, never, balanced, !, !, you, get, a, bunch, of, losers, on, one, team, and, a, bunch, of, noobs, on, another, team, and, the, game, expects, you, to, have, fun, ?, really, ?, they, use, the, worst, algorithm, to, set, up, games, i, have, ever, seen., also, ,, since, when, was, it, ok, to, respawn, people, behind, you, constantly, ?, did, the, people, who, create, this, game, even, try, it, out, before, they, released, it, ?, this, game, has, ruined, call, of, duty, for, me., i, will, never, play, again, .]  \n",
       "4088                                                                                                                                                                                                                                                                                                                                                          [i, really, enjoyed, the, plot, of, this, game., homage, to, agatha, christie, and, very, intricate, twist, that, fooled, me, up, until, the, end., starts, off, kind, of, slow, but, gets, very, interesting, and, involved, during, the, second, act., loved, the, atmosphere, and, story, .]  \n",
       "1674  [by, far, the, greatest, disappointment, in, gaming, since, duke, nukem, forever, came, out., this, game, was, over, 11, years, in, the, making, and, when, it, finally, was, released, it, was, filled, with, bugs, ,, exploits, ,, server, issues, ,, and, no, single, player, offline, mode., you, are, required, to, connect, to, the, servers, in, order, to, even, play, a, game, by, yourself, ,, the, reasoning, behind, this, is, that, it, prevents, people, from, making, illegal, copies, and/or, duping, or, hacking, the, game., fine, ,, but, what, it, also, does, is, limit, your, ability, to, play, a, product, you, paid, for, ...]  "
      ]
     },
     "execution_count": 57,
     "metadata": {},
     "output_type": "execute_result"
    }
   ],
   "source": [
    "reviews[['reviewText','casual_tokens','tb_tokens']].sample(3)"
   ]
  },
  {
   "cell_type": "markdown",
   "metadata": {},
   "source": [
    "### Removing StopWords"
   ]
  },
  {
   "cell_type": "code",
   "execution_count": 32,
   "metadata": {},
   "outputs": [
    {
     "name": "stderr",
     "output_type": "stream",
     "text": [
      "[nltk_data] Downloading package stopwords to\n",
      "[nltk_data]     /Users/koosha.tahmasebipour/nltk_data...\n",
      "[nltk_data]   Package stopwords is already up-to-date!\n"
     ]
    },
    {
     "data": {
      "text/plain": [
       "True"
      ]
     },
     "execution_count": 32,
     "metadata": {},
     "output_type": "execute_result"
    }
   ],
   "source": [
    "nltk.download('stopwords')"
   ]
  },
  {
   "cell_type": "code",
   "execution_count": 35,
   "metadata": {},
   "outputs": [],
   "source": [
    "stop_words = nltk.corpus.stopwords.words('english')"
   ]
  },
  {
   "cell_type": "code",
   "execution_count": 37,
   "metadata": {},
   "outputs": [
    {
     "data": {
      "text/plain": [
       "['i', 'me', 'my', 'myself', 'we', 'our', 'ours', 'ourselves', 'you', \"you're\"]"
      ]
     },
     "execution_count": 37,
     "metadata": {},
     "output_type": "execute_result"
    }
   ],
   "source": [
    "stop_words[:10]"
   ]
  },
  {
   "cell_type": "code",
   "execution_count": 38,
   "metadata": {},
   "outputs": [
    {
     "data": {
      "text/plain": [
       "179"
      ]
     },
     "execution_count": 38,
     "metadata": {},
     "output_type": "execute_result"
    }
   ],
   "source": [
    "len(stop_words)"
   ]
  },
  {
   "cell_type": "code",
   "execution_count": 54,
   "metadata": {},
   "outputs": [],
   "source": [
    "reviews['tokens_nosw'] = reviews['tb_tokens'].apply(lambda words: [w for w in words if w not in stop_words])"
   ]
  },
  {
   "cell_type": "code",
   "execution_count": 55,
   "metadata": {},
   "outputs": [
    {
     "data": {
      "text/html": [
       "<div>\n",
       "<style scoped>\n",
       "    .dataframe tbody tr th:only-of-type {\n",
       "        vertical-align: middle;\n",
       "    }\n",
       "\n",
       "    .dataframe tbody tr th {\n",
       "        vertical-align: top;\n",
       "    }\n",
       "\n",
       "    .dataframe thead th {\n",
       "        text-align: right;\n",
       "    }\n",
       "</style>\n",
       "<table border=\"1\" class=\"dataframe\">\n",
       "  <thead>\n",
       "    <tr style=\"text-align: right;\">\n",
       "      <th></th>\n",
       "      <th>tb_tokens</th>\n",
       "      <th>tokens_nosw</th>\n",
       "    </tr>\n",
       "  </thead>\n",
       "  <tbody>\n",
       "    <tr>\n",
       "      <th>2533</th>\n",
       "      <td>[i, got, this, game, with, a, gift, card, from, earning, employee, of, the, month., every, free, game, is, a, good, game, .]</td>\n",
       "      <td>[got, game, gift, card, earning, employee, month., every, free, game, good, game, .]</td>\n",
       "    </tr>\n",
       "    <tr>\n",
       "      <th>622</th>\n",
       "      <td>[this, game, is, more, based, on, the, book, then, any, other, lotr, game., but, the, battles, are, terribly, slow, ,, some, items, do, n't, work, ,, things, that, the, game, promised, are, taken, out, ,, the, graphics, are, awful, ,, and, there, are, some, terrible, glitches, in, the, game, ,, especially, the, moria, glitch, which, made, me, go, out, buy, another, one, (, i, thought, the, first, one, was, a, defect, ), and, go, through, the, same, glitch, again., even, if, you, are, a, huge, lotr, fan, you, should, probably, stay, away, from, this, game, .]</td>\n",
       "      <td>[game, based, book, lotr, game., battles, terribly, slow, ,, items, n't, work, ,, things, game, promised, taken, ,, graphics, awful, ,, terrible, glitches, game, ,, especially, moria, glitch, made, go, buy, another, one, (, thought, first, one, defect, ), go, glitch, again., even, huge, lotr, fan, probably, stay, away, game, .]</td>\n",
       "    </tr>\n",
       "    <tr>\n",
       "      <th>3474</th>\n",
       "      <td>[now, i, can, plug, my, nintendo, to, the, flat, screen]</td>\n",
       "      <td>[plug, nintendo, flat, screen]</td>\n",
       "    </tr>\n",
       "  </tbody>\n",
       "</table>\n",
       "</div>"
      ],
      "text/plain": [
       "                                                                                                                                                                                                                                                                                                                                                                                                                                                                                                                                                                                 tb_tokens  \\\n",
       "2533                                                                                                                                                                                                                                                                                                                                                                                                                                                          [i, got, this, game, with, a, gift, card, from, earning, employee, of, the, month., every, free, game, is, a, good, game, .]   \n",
       "622   [this, game, is, more, based, on, the, book, then, any, other, lotr, game., but, the, battles, are, terribly, slow, ,, some, items, do, n't, work, ,, things, that, the, game, promised, are, taken, out, ,, the, graphics, are, awful, ,, and, there, are, some, terrible, glitches, in, the, game, ,, especially, the, moria, glitch, which, made, me, go, out, buy, another, one, (, i, thought, the, first, one, was, a, defect, ), and, go, through, the, same, glitch, again., even, if, you, are, a, huge, lotr, fan, you, should, probably, stay, away, from, this, game, .]   \n",
       "3474                                                                                                                                                                                                                                                                                                                                                                                                                                                                                                                              [now, i, can, plug, my, nintendo, to, the, flat, screen]   \n",
       "\n",
       "                                                                                                                                                                                                                                                                                                                                    tokens_nosw  \n",
       "2533                                                                                                                                                                                                                                                       [got, game, gift, card, earning, employee, month., every, free, game, good, game, .]  \n",
       "622   [game, based, book, lotr, game., battles, terribly, slow, ,, items, n't, work, ,, things, game, promised, taken, ,, graphics, awful, ,, terrible, glitches, game, ,, especially, moria, glitch, made, go, buy, another, one, (, thought, first, one, defect, ), go, glitch, again., even, huge, lotr, fan, probably, stay, away, game, .]  \n",
       "3474                                                                                                                                                                                                                                                                                                             [plug, nintendo, flat, screen]  "
      ]
     },
     "execution_count": 55,
     "metadata": {},
     "output_type": "execute_result"
    }
   ],
   "source": [
    "reviews[['tb_tokens','tokens_nosw']].sample(3)"
   ]
  },
  {
   "cell_type": "code",
   "execution_count": null,
   "metadata": {},
   "outputs": [],
   "source": []
  },
  {
   "cell_type": "code",
   "execution_count": null,
   "metadata": {},
   "outputs": [],
   "source": []
  }
 ],
 "metadata": {
  "kernelspec": {
   "display_name": "Python 3",
   "language": "python",
   "name": "python3"
  },
  "language_info": {
   "codemirror_mode": {
    "name": "ipython",
    "version": 3
   },
   "file_extension": ".py",
   "mimetype": "text/x-python",
   "name": "python",
   "nbconvert_exporter": "python",
   "pygments_lexer": "ipython3",
   "version": "3.6.12"
  }
 },
 "nbformat": 4,
 "nbformat_minor": 4
}
