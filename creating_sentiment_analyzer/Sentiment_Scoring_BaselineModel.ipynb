{
 "cells": [
  {
   "cell_type": "code",
   "execution_count": 23,
   "metadata": {},
   "outputs": [],
   "source": [
    "from nltk import sent_tokenize, pos_tag\n",
    "from nltk.tokenize import TreebankWordTokenizer\n",
    "from nltk.stem import WordNetLemmatizer\n",
    "from nltk.corpus import wordnet as wn\n",
    "from nltk.corpus import sentiwordnet as swn\n",
    "from string import punctuation\n",
    "from IPython.display import display\n",
    "pd.set_option('display.max_columns', None)\n",
    "pd.set_option('display.max_colwidth', None)"
   ]
  },
  {
   "cell_type": "code",
   "execution_count": 2,
   "metadata": {},
   "outputs": [],
   "source": [
    "def penn_to_wn(tag):\n",
    "    \"\"\"\n",
    "        Convert between the PennTreebank tags to simple Wordnet tags\n",
    "    \"\"\"\n",
    "    if tag.startswith('J'):\n",
    "        return wn.ADJ\n",
    "    elif tag.startswith('N'):\n",
    "        return wn.NOUN\n",
    "    elif tag.startswith('R'):\n",
    "        return wn.ADV\n",
    "    elif tag.startswith('V'):\n",
    "        return wn.VERB\n",
    "    return None"
   ]
  },
  {
   "cell_type": "code",
   "execution_count": 14,
   "metadata": {},
   "outputs": [],
   "source": [
    "def get_sentiment_score(text):\n",
    "    \n",
    "    \"\"\"\n",
    "        This method returns the sentiment score of a given text using SentiWordNet sentiment scores.\n",
    "        input: text\n",
    "        output: numeric (double) score, >0 means positive sentiment and <0 means negative sentiment.\n",
    "    \"\"\"    \n",
    "    total_score = 0\n",
    "    #print(text)\n",
    "    raw_sentences = sent_tokenize(text)\n",
    "    #print(raw_sentences)\n",
    "    \n",
    "    for sentence in raw_sentences:\n",
    "\n",
    "        sent_score = 0     \n",
    "        sentence = str(sentence)\n",
    "        #print(sentence)\n",
    "        sentence = sentence.replace(\"<br />\",\" \").translate(str.maketrans('','',punctuation)).lower()\n",
    "        tokens = TreebankWordTokenizer().tokenize(text)\n",
    "        tags = pos_tag(tokens)\n",
    "        for word, tag in tags:\n",
    "            wn_tag = penn_to_wn(tag)\n",
    "            if not wn_tag:\n",
    "                continue\n",
    "            lemma = WordNetLemmatizer().lemmatize(word, pos=wn_tag)\n",
    "            if not lemma:\n",
    "                continue\n",
    "            synsets = wn.synsets(lemma, pos=wn_tag)\n",
    "            if not synsets:\n",
    "                continue\n",
    "            synset = synsets[0]\n",
    "            swn_synset = swn.senti_synset(synset.name())\n",
    "            sent_score += (swn_synset.pos_score() - swn_synset.neg_score())\n",
    "\n",
    "        total_score = total_score + 1 if sent_score>0 else total_score - 1\n",
    "\n",
    "    \n",
    "    return total_score"
   ]
  },
  {
   "cell_type": "code",
   "execution_count": 4,
   "metadata": {},
   "outputs": [],
   "source": [
    "import pandas as pd\n",
    "import numpy as np\n",
    "from IPython.display import display\n",
    "pd.set_option('display.max_columns', None)"
   ]
  },
  {
   "cell_type": "code",
   "execution_count": 5,
   "metadata": {},
   "outputs": [],
   "source": [
    "reviews = pd.read_csv(\"../data/small_corpus.csv\")"
   ]
  },
  {
   "cell_type": "code",
   "execution_count": 10,
   "metadata": {},
   "outputs": [
    {
     "data": {
      "text/plain": [
       "(4500, 12)"
      ]
     },
     "execution_count": 10,
     "metadata": {},
     "output_type": "execute_result"
    }
   ],
   "source": [
    "reviews.shape"
   ]
  },
  {
   "cell_type": "code",
   "execution_count": 6,
   "metadata": {},
   "outputs": [
    {
     "data": {
      "text/html": [
       "<div>\n",
       "<style scoped>\n",
       "    .dataframe tbody tr th:only-of-type {\n",
       "        vertical-align: middle;\n",
       "    }\n",
       "\n",
       "    .dataframe tbody tr th {\n",
       "        vertical-align: top;\n",
       "    }\n",
       "\n",
       "    .dataframe thead th {\n",
       "        text-align: right;\n",
       "    }\n",
       "</style>\n",
       "<table border=\"1\" class=\"dataframe\">\n",
       "  <thead>\n",
       "    <tr style=\"text-align: right;\">\n",
       "      <th></th>\n",
       "      <th>overall</th>\n",
       "      <th>verified</th>\n",
       "      <th>reviewTime</th>\n",
       "      <th>reviewerID</th>\n",
       "      <th>asin</th>\n",
       "      <th>reviewerName</th>\n",
       "      <th>reviewText</th>\n",
       "      <th>summary</th>\n",
       "      <th>unixReviewTime</th>\n",
       "      <th>vote</th>\n",
       "      <th>style</th>\n",
       "      <th>image</th>\n",
       "    </tr>\n",
       "  </thead>\n",
       "  <tbody>\n",
       "    <tr>\n",
       "      <th>0</th>\n",
       "      <td>1.0</td>\n",
       "      <td>True</td>\n",
       "      <td>11 30, 2015</td>\n",
       "      <td>A3AC92K59QLYR8</td>\n",
       "      <td>B00503E8S2</td>\n",
       "      <td>ben</td>\n",
       "      <td>Game freezes over and over its unplayable</td>\n",
       "      <td>it just doesn't work</td>\n",
       "      <td>1448841600</td>\n",
       "      <td>NaN</td>\n",
       "      <td>{'Format:': ' Video Game'}</td>\n",
       "      <td>NaN</td>\n",
       "    </tr>\n",
       "    <tr>\n",
       "      <th>1</th>\n",
       "      <td>1.0</td>\n",
       "      <td>False</td>\n",
       "      <td>05 19, 2012</td>\n",
       "      <td>A334LHR8DWARY8</td>\n",
       "      <td>B00178630A</td>\n",
       "      <td>Xenocide</td>\n",
       "      <td>I have no problem with needing to be online to...</td>\n",
       "      <td>The only real way to show Blizzard our feeling...</td>\n",
       "      <td>1337385600</td>\n",
       "      <td>23</td>\n",
       "      <td>{'Format:': ' Computer Game'}</td>\n",
       "      <td>NaN</td>\n",
       "    </tr>\n",
       "    <tr>\n",
       "      <th>2</th>\n",
       "      <td>1.0</td>\n",
       "      <td>True</td>\n",
       "      <td>10 19, 2014</td>\n",
       "      <td>A28982ODE7ZGVP</td>\n",
       "      <td>B001AWIP7M</td>\n",
       "      <td>Eric Frykberg</td>\n",
       "      <td>NOT GOOD</td>\n",
       "      <td>One Star</td>\n",
       "      <td>1413676800</td>\n",
       "      <td>NaN</td>\n",
       "      <td>{'Format:': ' Video Game'}</td>\n",
       "      <td>NaN</td>\n",
       "    </tr>\n",
       "    <tr>\n",
       "      <th>3</th>\n",
       "      <td>1.0</td>\n",
       "      <td>True</td>\n",
       "      <td>09 6, 2015</td>\n",
       "      <td>A19E85RLQCAMI1</td>\n",
       "      <td>B00NASF4MS</td>\n",
       "      <td>Joe</td>\n",
       "      <td>Really not worth the money to buy this game on...</td>\n",
       "      <td>Really not worth the money to buy this game on...</td>\n",
       "      <td>1441497600</td>\n",
       "      <td>2</td>\n",
       "      <td>{'Format:': ' Video Game'}</td>\n",
       "      <td>NaN</td>\n",
       "    </tr>\n",
       "    <tr>\n",
       "      <th>4</th>\n",
       "      <td>1.0</td>\n",
       "      <td>False</td>\n",
       "      <td>05 28, 2008</td>\n",
       "      <td>AEMQKS13WC4D2</td>\n",
       "      <td>B00140P9BA</td>\n",
       "      <td>Craig</td>\n",
       "      <td>They need to eliminate the Securom. I purchase...</td>\n",
       "      <td>Securom can ruin a great game</td>\n",
       "      <td>1211932800</td>\n",
       "      <td>55</td>\n",
       "      <td>{'Format:': ' DVD-ROM'}</td>\n",
       "      <td>NaN</td>\n",
       "    </tr>\n",
       "  </tbody>\n",
       "</table>\n",
       "</div>"
      ],
      "text/plain": [
       "   overall  verified   reviewTime      reviewerID        asin   reviewerName  \\\n",
       "0      1.0      True  11 30, 2015  A3AC92K59QLYR8  B00503E8S2            ben   \n",
       "1      1.0     False  05 19, 2012  A334LHR8DWARY8  B00178630A       Xenocide   \n",
       "2      1.0      True  10 19, 2014  A28982ODE7ZGVP  B001AWIP7M  Eric Frykberg   \n",
       "3      1.0      True   09 6, 2015  A19E85RLQCAMI1  B00NASF4MS            Joe   \n",
       "4      1.0     False  05 28, 2008   AEMQKS13WC4D2  B00140P9BA          Craig   \n",
       "\n",
       "                                          reviewText  \\\n",
       "0          Game freezes over and over its unplayable   \n",
       "1  I have no problem with needing to be online to...   \n",
       "2                                           NOT GOOD   \n",
       "3  Really not worth the money to buy this game on...   \n",
       "4  They need to eliminate the Securom. I purchase...   \n",
       "\n",
       "                                             summary  unixReviewTime vote  \\\n",
       "0                               it just doesn't work      1448841600  NaN   \n",
       "1  The only real way to show Blizzard our feeling...      1337385600   23   \n",
       "2                                           One Star      1413676800  NaN   \n",
       "3  Really not worth the money to buy this game on...      1441497600    2   \n",
       "4                      Securom can ruin a great game      1211932800   55   \n",
       "\n",
       "                           style image  \n",
       "0     {'Format:': ' Video Game'}   NaN  \n",
       "1  {'Format:': ' Computer Game'}   NaN  \n",
       "2     {'Format:': ' Video Game'}   NaN  \n",
       "3     {'Format:': ' Video Game'}   NaN  \n",
       "4        {'Format:': ' DVD-ROM'}   NaN  "
      ]
     },
     "execution_count": 6,
     "metadata": {},
     "output_type": "execute_result"
    }
   ],
   "source": [
    "reviews.head()"
   ]
  },
  {
   "cell_type": "code",
   "execution_count": 12,
   "metadata": {},
   "outputs": [],
   "source": [
    "reviews.dropna(subset=['reviewText'], inplace=True)"
   ]
  },
  {
   "cell_type": "code",
   "execution_count": 13,
   "metadata": {},
   "outputs": [
    {
     "data": {
      "text/plain": [
       "(4499, 12)"
      ]
     },
     "execution_count": 13,
     "metadata": {},
     "output_type": "execute_result"
    }
   ],
   "source": [
    "reviews.shape"
   ]
  },
  {
   "cell_type": "code",
   "execution_count": 15,
   "metadata": {},
   "outputs": [],
   "source": [
    "reviews['sentiment'] = reviews['reviewText'].apply(lambda text : get_sentiment_score(text))"
   ]
  },
  {
   "cell_type": "code",
   "execution_count": 24,
   "metadata": {},
   "outputs": [
    {
     "data": {
      "text/html": [
       "<div>\n",
       "<style scoped>\n",
       "    .dataframe tbody tr th:only-of-type {\n",
       "        vertical-align: middle;\n",
       "    }\n",
       "\n",
       "    .dataframe tbody tr th {\n",
       "        vertical-align: top;\n",
       "    }\n",
       "\n",
       "    .dataframe thead th {\n",
       "        text-align: right;\n",
       "    }\n",
       "</style>\n",
       "<table border=\"1\" class=\"dataframe\">\n",
       "  <thead>\n",
       "    <tr style=\"text-align: right;\">\n",
       "      <th></th>\n",
       "      <th>reviewText</th>\n",
       "      <th>sentiment</th>\n",
       "    </tr>\n",
       "  </thead>\n",
       "  <tbody>\n",
       "    <tr>\n",
       "      <th>3239</th>\n",
       "      <td>loved it</td>\n",
       "      <td>1</td>\n",
       "    </tr>\n",
       "    <tr>\n",
       "      <th>2995</th>\n",
       "      <td>Sale buy. I got it for $15, was worth that at least. Don't expect much; it's an EA game.</td>\n",
       "      <td>3</td>\n",
       "    </tr>\n",
       "    <tr>\n",
       "      <th>1508</th>\n",
       "      <td>The game was good for the first 60 levels, then it became clear that Jay Wilson and the team had slighted the majority of the die hard Diablo fans. It's a year after the game was released and it's still pretty much in beta. It's kind of sad, actually. The game was worth the money I paid (I suppose) because I got plenty of game hours in. It's just not the Diablo game I expected. I will wait for it to become what it could be, but I'm skeptical.</td>\n",
       "      <td>-6</td>\n",
       "    </tr>\n",
       "    <tr>\n",
       "      <th>2048</th>\n",
       "      <td>God of War and God of War 2, originally for the PS2, are both present in this game.  I'll get to the games themselves later.  First, however, is the presentation, which is the main draw of this collection.  The games are remastered in high definition during the gameplay sections, which look fantastic, but the cutscenes are not remastered and are of noticeably lower quality.  However, this doesn't detract from the overall quality.  There is added trophy support, which are a bit on the easy side.  Most of the trophies are story-related, however other trophies include collecting bonus items and beating challenges.  Basically, if you are fans of these games, you will enjoy this presentation, so stop reading and go buy it (or, buy the 5 game God of War saga collection)  However, for newcomers, here is my opinion of the game:\\n\\nYou play as Kratos, a warrior with a troubled past.  Your quest consists of Kratos trying to appease the gods so they will rid him of the memories that trouble him.  Throughout this quest, you basically go down hallways and through rooms killing seemingly endless swarms of monsters.  You have a few weapons and powers to use in an attempt to fight off your enemies.  Occasionally, you come across a puzzle, which usually require pushing objects around, though there are a few others.  Some quick-time events where you have to push a button displayed on the screen during the cutscene.  There isn't much more to the game than going from room to room fighting the same few enemies over and over again with a puzzle here or there, so if that sounds like fun to you, by all means, get it.  I find doing the same thing in every single room to be dull.\\n\\nOverall, if you enjoy hack n slash action games, then pick up either this collection or the God of War Saga collection.  They are easily the best version of these games.  However, other HD collections that came later have better presentation (namely HD cutscenes) and more varied gameplay, so I give the collection 3 stars.</td>\n",
       "      <td>18</td>\n",
       "    </tr>\n",
       "    <tr>\n",
       "      <th>1713</th>\n",
       "      <td>I got this thinking it would cure my Sim City burn out from previous versions. It didn't. It's still a decent kids game.</td>\n",
       "      <td>3</td>\n",
       "    </tr>\n",
       "  </tbody>\n",
       "</table>\n",
       "</div>"
      ],
      "text/plain": [
       "                                                                                                                                                                                                                                                                                                                                                                                                                                                                                                                                                                                                                                                                                                                                                                                                                                                                                                                                                                                                                                                                                                                                                                                                                                                                                                                                                                                                                                                                                                                                                                                                                                                                                                                                                                                                                                                                                                                                                                                                                                                                                     reviewText  \\\n",
       "3239                                                                                                                                                                                                                                                                                                                                                                                                                                                                                                                                                                                                                                                                                                                                                                                                                                                                                                                                                                                                                                                                                                                                                                                                                                                                                                                                                                                                                                                                                                                                                                                                                                                                                                                                                                                                                                                                                                                                                                                                                                                                                   loved it   \n",
       "2995                                                                                                                                                                                                                                                                                                                                                                                                                                                                                                                                                                                                                                                                                                                                                                                                                                                                                                                                                                                                                                                                                                                                                                                                                                                                                                                                                                                                                                                                                                                                                                                                                                                                                                                                                                                                                                                                                                                                                                                                   Sale buy. I got it for $15, was worth that at least. Don't expect much; it's an EA game.   \n",
       "1508                                                                                                                                                                                                                                                                                                                                                                                                                                                                                                                                                                                                                                                                                                                                                                                                                                                                                                                                                                                                                                                                                                                                                                                                                                                                                                                                                                                                                                                                                                                                                                                                                             The game was good for the first 60 levels, then it became clear that Jay Wilson and the team had slighted the majority of the die hard Diablo fans. It's a year after the game was released and it's still pretty much in beta. It's kind of sad, actually. The game was worth the money I paid (I suppose) because I got plenty of game hours in. It's just not the Diablo game I expected. I will wait for it to become what it could be, but I'm skeptical.   \n",
       "2048  God of War and God of War 2, originally for the PS2, are both present in this game.  I'll get to the games themselves later.  First, however, is the presentation, which is the main draw of this collection.  The games are remastered in high definition during the gameplay sections, which look fantastic, but the cutscenes are not remastered and are of noticeably lower quality.  However, this doesn't detract from the overall quality.  There is added trophy support, which are a bit on the easy side.  Most of the trophies are story-related, however other trophies include collecting bonus items and beating challenges.  Basically, if you are fans of these games, you will enjoy this presentation, so stop reading and go buy it (or, buy the 5 game God of War saga collection)  However, for newcomers, here is my opinion of the game:\\n\\nYou play as Kratos, a warrior with a troubled past.  Your quest consists of Kratos trying to appease the gods so they will rid him of the memories that trouble him.  Throughout this quest, you basically go down hallways and through rooms killing seemingly endless swarms of monsters.  You have a few weapons and powers to use in an attempt to fight off your enemies.  Occasionally, you come across a puzzle, which usually require pushing objects around, though there are a few others.  Some quick-time events where you have to push a button displayed on the screen during the cutscene.  There isn't much more to the game than going from room to room fighting the same few enemies over and over again with a puzzle here or there, so if that sounds like fun to you, by all means, get it.  I find doing the same thing in every single room to be dull.\\n\\nOverall, if you enjoy hack n slash action games, then pick up either this collection or the God of War Saga collection.  They are easily the best version of these games.  However, other HD collections that came later have better presentation (namely HD cutscenes) and more varied gameplay, so I give the collection 3 stars.   \n",
       "1713                                                                                                                                                                                                                                                                                                                                                                                                                                                                                                                                                                                                                                                                                                                                                                                                                                                                                                                                                                                                                                                                                                                                                                                                                                                                                                                                                                                                                                                                                                                                                                                                                                                                                                                                                                                                                                                                                                                                                                   I got this thinking it would cure my Sim City burn out from previous versions. It didn't. It's still a decent kids game.   \n",
       "\n",
       "      sentiment  \n",
       "3239          1  \n",
       "2995          3  \n",
       "1508         -6  \n",
       "2048         18  \n",
       "1713          3  "
      ]
     },
     "execution_count": 24,
     "metadata": {},
     "output_type": "execute_result"
    }
   ],
   "source": [
    "reviews[['reviewText','sentiment']].sample(5)"
   ]
  },
  {
   "cell_type": "code",
   "execution_count": 25,
   "metadata": {},
   "outputs": [
    {
     "data": {
      "text/html": [
       "<div>\n",
       "<style scoped>\n",
       "    .dataframe tbody tr th:only-of-type {\n",
       "        vertical-align: middle;\n",
       "    }\n",
       "\n",
       "    .dataframe tbody tr th {\n",
       "        vertical-align: top;\n",
       "    }\n",
       "\n",
       "    .dataframe thead th {\n",
       "        text-align: right;\n",
       "    }\n",
       "</style>\n",
       "<table border=\"1\" class=\"dataframe\">\n",
       "  <thead>\n",
       "    <tr style=\"text-align: right;\">\n",
       "      <th></th>\n",
       "      <th>reviewText</th>\n",
       "      <th>sentiment</th>\n",
       "    </tr>\n",
       "  </thead>\n",
       "  <tbody>\n",
       "    <tr>\n",
       "      <th>2517</th>\n",
       "      <td>It seems to me that if you have to qualify an RPG as a Japanese RPG on the XBox 360 to apply the word 'best' then somehow the point has been missed.  So before I give what will really be a positive review let me point out that Magna Carta II is not the best RPG on the XBox 360, and arguably not the best JRPG either.  And if the rushes for FF XIII are any indicator, even if Magna Carta II was a 'best' it wouldn't be so for very long.  All that being said, MC2 is actually a good game with a lot going for it and a few things going against it.\\n\\nThe plot is intricate - Juto, a boy who has lost his memory is building a life on an island.  His friend (and boss) is Melissa, who is charged with the defense of the island.  A revolution is in process and Juto finds himself thrust between opposing forces as the war overtakes the peaceful villagers.  Tragedy strikes and Juto chooses his side (the Southern forces) and swears revenge.  He meets his teamates - spell casters and combate specialists - and the game is off and running.  The female lead is Zephie (Princess Rzephilda) who is trying to regain the kingdom she lost when the inevitable, evil prime miniter kills her mother.\\n\\nThe plot is complex, but fairly linear.  There are any number of quests to clear to provide breaks, and you can often get away for some level building.  However, for all the twists and turns, progress is often forced.  And the quest structure does not always harmonize with the main story.  The characters take a while to grow on you.  All of them are irritating when they start out and they can take over half of the game to become likeable.  Still the story tries to show an occasional bit of originality and captures the players interest, which is a vast improvement over a few other games.\\n\\nThe artwork and music are several steps above average.  Lots of good CGI clips, the use of several styles to mark differences in narrative, and good looking characters make up the visual environment.  Characters actually have gestures and expressions.  The battle artwork is a little less satisfactory but is almost good enough.  Occasionally I found it hard to make out what was what in a busy scene.  Like when you are trying to pick off the healers in a crowd of enemies.  But that's the only real flaw, and the backgrounds and buildings ate very nicely don't.  This is a good game to look at.\\n\\nIt is a less good game to play in when you find yourself in battle.  Magna Carta II has one of those inordantly complex fight systems that take forever to adjust to and send fingers flying over the controller.  You are perpetual shifting characters, changing spells and attacks, and working up to combinations.  Usually by the time you get a character lined up to deliver the final blow the freeze from exhaustion and you have to bring up andther character and fit them in as well.  There never seems to be a rhythm to the battle, and if I were to pick out the game's worst flaw this would be it.\\n\\nAnother issue I have is being dragged thru conflicts with little or no access to a save area.  This doesn't always happen, but it's tedious to have to run back and several scenes in order to save and then run forward again in order to slay more enemies.  Over all, though, there are more good things than bad in Magna Carta II.  If you like intricate plots, curvacious heroines, and frantic battles you will find the game to your liking and I'd happily recommend it to RPG players</td>\n",
       "      <td>34</td>\n",
       "    </tr>\n",
       "    <tr>\n",
       "      <th>3178</th>\n",
       "      <td>An outstanding game that fit my tastes perfectly.\\nAmazing music, story line and everything. It may not have the depth for some people, but I got many hours of enjoyment out of it. There's a large amount of dialogue and little cutscenes that are fully voice acted by a cast of famous Japanese actors that you may recognize. By some people's standards, the game isn't graphically impressive, but I'm not one for realism.</td>\n",
       "      <td>5</td>\n",
       "    </tr>\n",
       "    <tr>\n",
       "      <th>1214</th>\n",
       "      <td>I am so very disappointed in these.\\n-Mic is very quiet, even at 100% (where the PS4 says you're screaming at people while whispering)\\n-Sound is ok, but chat and game volume don't separate in all games.  Often chat and in-game sound are tied to the right ear 'chat' volume\\n-they are very very tight.  I have a small head (loose on the tightest baseball cap hole) and these were very tight, and also pressed on the top of my head no matter how far extended.  The also had tiny ear cups and were heavy.\\n-sound cancellation is awful .. it works, but in headache-inducing.  without it, there is an audible buzz not present without the headphones on.\\n\\nOverall, I can't think of a single positive thing to say about these \"top-of-the-line\" wireless headphones.  Buy at your own risk.</td>\n",
       "      <td>-9</td>\n",
       "    </tr>\n",
       "    <tr>\n",
       "      <th>4229</th>\n",
       "      <td>Great quality product that is also affordable, couldn't recommend more.</td>\n",
       "      <td>1</td>\n",
       "    </tr>\n",
       "    <tr>\n",
       "      <th>3568</th>\n",
       "      <td>good, pleasant to use</td>\n",
       "      <td>1</td>\n",
       "    </tr>\n",
       "  </tbody>\n",
       "</table>\n",
       "</div>"
      ],
      "text/plain": [
       "                                                                                                                                                                                                                                                                                                                                                                                                                                                                                                                                                                                                                                                                                                                                                                                                                                                                                                                                                                                                                                                                                                                                                                                                                                                                                                                                                                                                                                                                                                                                                                                                                                                                                                                                                                                                                                                                                                                                                                                                                                                                                                                                                                                                                                                                                                                                                                                                                                                                                                                                                                                                                                                                                                                                                                                                                                                                                                                                                                                                                                                                                                                                                                                                                                                                                                                                                                                                                                                                                                                                                                                                     reviewText  \\\n",
       "2517  It seems to me that if you have to qualify an RPG as a Japanese RPG on the XBox 360 to apply the word 'best' then somehow the point has been missed.  So before I give what will really be a positive review let me point out that Magna Carta II is not the best RPG on the XBox 360, and arguably not the best JRPG either.  And if the rushes for FF XIII are any indicator, even if Magna Carta II was a 'best' it wouldn't be so for very long.  All that being said, MC2 is actually a good game with a lot going for it and a few things going against it.\\n\\nThe plot is intricate - Juto, a boy who has lost his memory is building a life on an island.  His friend (and boss) is Melissa, who is charged with the defense of the island.  A revolution is in process and Juto finds himself thrust between opposing forces as the war overtakes the peaceful villagers.  Tragedy strikes and Juto chooses his side (the Southern forces) and swears revenge.  He meets his teamates - spell casters and combate specialists - and the game is off and running.  The female lead is Zephie (Princess Rzephilda) who is trying to regain the kingdom she lost when the inevitable, evil prime miniter kills her mother.\\n\\nThe plot is complex, but fairly linear.  There are any number of quests to clear to provide breaks, and you can often get away for some level building.  However, for all the twists and turns, progress is often forced.  And the quest structure does not always harmonize with the main story.  The characters take a while to grow on you.  All of them are irritating when they start out and they can take over half of the game to become likeable.  Still the story tries to show an occasional bit of originality and captures the players interest, which is a vast improvement over a few other games.\\n\\nThe artwork and music are several steps above average.  Lots of good CGI clips, the use of several styles to mark differences in narrative, and good looking characters make up the visual environment.  Characters actually have gestures and expressions.  The battle artwork is a little less satisfactory but is almost good enough.  Occasionally I found it hard to make out what was what in a busy scene.  Like when you are trying to pick off the healers in a crowd of enemies.  But that's the only real flaw, and the backgrounds and buildings ate very nicely don't.  This is a good game to look at.\\n\\nIt is a less good game to play in when you find yourself in battle.  Magna Carta II has one of those inordantly complex fight systems that take forever to adjust to and send fingers flying over the controller.  You are perpetual shifting characters, changing spells and attacks, and working up to combinations.  Usually by the time you get a character lined up to deliver the final blow the freeze from exhaustion and you have to bring up andther character and fit them in as well.  There never seems to be a rhythm to the battle, and if I were to pick out the game's worst flaw this would be it.\\n\\nAnother issue I have is being dragged thru conflicts with little or no access to a save area.  This doesn't always happen, but it's tedious to have to run back and several scenes in order to save and then run forward again in order to slay more enemies.  Over all, though, there are more good things than bad in Magna Carta II.  If you like intricate plots, curvacious heroines, and frantic battles you will find the game to your liking and I'd happily recommend it to RPG players   \n",
       "3178                                                                                                                                                                                                                                                                                                                                                                                                                                                                                                                                                                                                                                                                                                                                                                                                                                                                                                                                                                                                                                                                                                                                                                                                                                                                                                                                                                                                                                                                                                                                                                                                                                                                                                                                                                                                                                                                                                                                                                                                                                                                                                                                                                                                                                                                                                                                                                                                                                                                                                                                                                                                                                                                                                                                                                                                                                                                                                                                                                                                                                                                                                                                                                        An outstanding game that fit my tastes perfectly.\\nAmazing music, story line and everything. It may not have the depth for some people, but I got many hours of enjoyment out of it. There's a large amount of dialogue and little cutscenes that are fully voice acted by a cast of famous Japanese actors that you may recognize. By some people's standards, the game isn't graphically impressive, but I'm not one for realism.   \n",
       "1214                                                                                                                                                                                                                                                                                                                                                                                                                                                                                                                                                                                                                                                                                                                                                                                                                                                                                                                                                                                                                                                                                                                                                                                                                                                                                                                                                                                                                                                                                                                                                                                                                                                                                                                                                                                                                                                                                                                                                                                                                                                                                                                                                                                                                                                                                                                                                                                                                                                                                                                                                                                                                                                                                                                                                                                             I am so very disappointed in these.\\n-Mic is very quiet, even at 100% (where the PS4 says you're screaming at people while whispering)\\n-Sound is ok, but chat and game volume don't separate in all games.  Often chat and in-game sound are tied to the right ear 'chat' volume\\n-they are very very tight.  I have a small head (loose on the tightest baseball cap hole) and these were very tight, and also pressed on the top of my head no matter how far extended.  The also had tiny ear cups and were heavy.\\n-sound cancellation is awful .. it works, but in headache-inducing.  without it, there is an audible buzz not present without the headphones on.\\n\\nOverall, I can't think of a single positive thing to say about these \"top-of-the-line\" wireless headphones.  Buy at your own risk.   \n",
       "4229                                                                                                                                                                                                                                                                                                                                                                                                                                                                                                                                                                                                                                                                                                                                                                                                                                                                                                                                                                                                                                                                                                                                                                                                                                                                                                                                                                                                                                                                                                                                                                                                                                                                                                                                                                                                                                                                                                                                                                                                                                                                                                                                                                                                                                                                                                                                                                                                                                                                                                                                                                                                                                                                                                                                                                                                                                                                                                                                                                                                                                                                                                                                                                                                                                                                                                                                                                                                                                                                                                                                    Great quality product that is also affordable, couldn't recommend more.   \n",
       "3568                                                                                                                                                                                                                                                                                                                                                                                                                                                                                                                                                                                                                                                                                                                                                                                                                                                                                                                                                                                                                                                                                                                                                                                                                                                                                                                                                                                                                                                                                                                                                                                                                                                                                                                                                                                                                                                                                                                                                                                                                                                                                                                                                                                                                                                                                                                                                                                                                                                                                                                                                                                                                                                                                                                                                                                                                                                                                                                                                                                                                                                                                                                                                                                                                                                                                                                                                                                                                                                                                                                                                                                      good, pleasant to use   \n",
       "\n",
       "      sentiment  \n",
       "2517         34  \n",
       "3178          5  \n",
       "1214         -9  \n",
       "4229          1  \n",
       "3568          1  "
      ]
     },
     "execution_count": 25,
     "metadata": {},
     "output_type": "execute_result"
    }
   ],
   "source": [
    "reviews[['reviewText','sentiment']].sample(5)"
   ]
  },
  {
   "cell_type": "code",
   "execution_count": null,
   "metadata": {},
   "outputs": [],
   "source": []
  }
 ],
 "metadata": {
  "kernelspec": {
   "display_name": "Python 3",
   "language": "python",
   "name": "python3"
  },
  "language_info": {
   "codemirror_mode": {
    "name": "ipython",
    "version": 3
   },
   "file_extension": ".py",
   "mimetype": "text/x-python",
   "name": "python",
   "nbconvert_exporter": "python",
   "pygments_lexer": "ipython3",
   "version": "3.6.12"
  }
 },
 "nbformat": 4,
 "nbformat_minor": 4
}
