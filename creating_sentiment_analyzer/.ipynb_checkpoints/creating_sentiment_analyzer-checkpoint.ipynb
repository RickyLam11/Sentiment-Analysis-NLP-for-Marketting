{
 "cells": [
  {
   "cell_type": "markdown",
   "metadata": {},
   "source": [
    "# Creating a Dictionary-based Sentiment Analyzer"
   ]
  },
  {
   "cell_type": "code",
   "execution_count": 1,
   "metadata": {},
   "outputs": [],
   "source": [
    "import pandas as pd\n",
    "import nltk\n",
    "from IPython.display import display\n",
    "pd.set_option('display.max_columns', None)"
   ]
  },
  {
   "cell_type": "markdown",
   "metadata": {},
   "source": [
    "### Step 1: Loading in the small_corpus .csv file created in the \"creating_dataset\" milestone."
   ]
  },
  {
   "cell_type": "code",
   "execution_count": 2,
   "metadata": {},
   "outputs": [],
   "source": [
    "reviews = pd.read_csv(\"../data/small_corpus.csv\")"
   ]
  },
  {
   "cell_type": "code",
   "execution_count": 3,
   "metadata": {},
   "outputs": [
    {
     "data": {
      "text/html": [
       "<div>\n",
       "<style scoped>\n",
       "    .dataframe tbody tr th:only-of-type {\n",
       "        vertical-align: middle;\n",
       "    }\n",
       "\n",
       "    .dataframe tbody tr th {\n",
       "        vertical-align: top;\n",
       "    }\n",
       "\n",
       "    .dataframe thead th {\n",
       "        text-align: right;\n",
       "    }\n",
       "</style>\n",
       "<table border=\"1\" class=\"dataframe\">\n",
       "  <thead>\n",
       "    <tr style=\"text-align: right;\">\n",
       "      <th></th>\n",
       "      <th>overall</th>\n",
       "      <th>verified</th>\n",
       "      <th>reviewTime</th>\n",
       "      <th>reviewerID</th>\n",
       "      <th>asin</th>\n",
       "      <th>reviewerName</th>\n",
       "      <th>reviewText</th>\n",
       "      <th>summary</th>\n",
       "      <th>unixReviewTime</th>\n",
       "      <th>vote</th>\n",
       "      <th>style</th>\n",
       "      <th>image</th>\n",
       "    </tr>\n",
       "  </thead>\n",
       "  <tbody>\n",
       "    <tr>\n",
       "      <th>0</th>\n",
       "      <td>1.0</td>\n",
       "      <td>True</td>\n",
       "      <td>11 30, 2015</td>\n",
       "      <td>A3AC92K59QLYR8</td>\n",
       "      <td>B00503E8S2</td>\n",
       "      <td>ben</td>\n",
       "      <td>Game freezes over and over its unplayable</td>\n",
       "      <td>it just doesn't work</td>\n",
       "      <td>1448841600</td>\n",
       "      <td>NaN</td>\n",
       "      <td>{'Format:': ' Video Game'}</td>\n",
       "      <td>NaN</td>\n",
       "    </tr>\n",
       "    <tr>\n",
       "      <th>1</th>\n",
       "      <td>1.0</td>\n",
       "      <td>False</td>\n",
       "      <td>05 19, 2012</td>\n",
       "      <td>A334LHR8DWARY8</td>\n",
       "      <td>B00178630A</td>\n",
       "      <td>Xenocide</td>\n",
       "      <td>I have no problem with needing to be online to...</td>\n",
       "      <td>The only real way to show Blizzard our feeling...</td>\n",
       "      <td>1337385600</td>\n",
       "      <td>23</td>\n",
       "      <td>{'Format:': ' Computer Game'}</td>\n",
       "      <td>NaN</td>\n",
       "    </tr>\n",
       "    <tr>\n",
       "      <th>2</th>\n",
       "      <td>1.0</td>\n",
       "      <td>True</td>\n",
       "      <td>10 19, 2014</td>\n",
       "      <td>A28982ODE7ZGVP</td>\n",
       "      <td>B001AWIP7M</td>\n",
       "      <td>Eric Frykberg</td>\n",
       "      <td>NOT GOOD</td>\n",
       "      <td>One Star</td>\n",
       "      <td>1413676800</td>\n",
       "      <td>NaN</td>\n",
       "      <td>{'Format:': ' Video Game'}</td>\n",
       "      <td>NaN</td>\n",
       "    </tr>\n",
       "    <tr>\n",
       "      <th>3</th>\n",
       "      <td>1.0</td>\n",
       "      <td>True</td>\n",
       "      <td>09 6, 2015</td>\n",
       "      <td>A19E85RLQCAMI1</td>\n",
       "      <td>B00NASF4MS</td>\n",
       "      <td>Joe</td>\n",
       "      <td>Really not worth the money to buy this game on...</td>\n",
       "      <td>Really not worth the money to buy this game on...</td>\n",
       "      <td>1441497600</td>\n",
       "      <td>2</td>\n",
       "      <td>{'Format:': ' Video Game'}</td>\n",
       "      <td>NaN</td>\n",
       "    </tr>\n",
       "    <tr>\n",
       "      <th>4</th>\n",
       "      <td>1.0</td>\n",
       "      <td>False</td>\n",
       "      <td>05 28, 2008</td>\n",
       "      <td>AEMQKS13WC4D2</td>\n",
       "      <td>B00140P9BA</td>\n",
       "      <td>Craig</td>\n",
       "      <td>They need to eliminate the Securom. I purchase...</td>\n",
       "      <td>Securom can ruin a great game</td>\n",
       "      <td>1211932800</td>\n",
       "      <td>55</td>\n",
       "      <td>{'Format:': ' DVD-ROM'}</td>\n",
       "      <td>NaN</td>\n",
       "    </tr>\n",
       "  </tbody>\n",
       "</table>\n",
       "</div>"
      ],
      "text/plain": [
       "   overall  verified   reviewTime      reviewerID        asin   reviewerName  \\\n",
       "0      1.0      True  11 30, 2015  A3AC92K59QLYR8  B00503E8S2            ben   \n",
       "1      1.0     False  05 19, 2012  A334LHR8DWARY8  B00178630A       Xenocide   \n",
       "2      1.0      True  10 19, 2014  A28982ODE7ZGVP  B001AWIP7M  Eric Frykberg   \n",
       "3      1.0      True   09 6, 2015  A19E85RLQCAMI1  B00NASF4MS            Joe   \n",
       "4      1.0     False  05 28, 2008   AEMQKS13WC4D2  B00140P9BA          Craig   \n",
       "\n",
       "                                          reviewText  \\\n",
       "0          Game freezes over and over its unplayable   \n",
       "1  I have no problem with needing to be online to...   \n",
       "2                                           NOT GOOD   \n",
       "3  Really not worth the money to buy this game on...   \n",
       "4  They need to eliminate the Securom. I purchase...   \n",
       "\n",
       "                                             summary  unixReviewTime vote  \\\n",
       "0                               it just doesn't work      1448841600  NaN   \n",
       "1  The only real way to show Blizzard our feeling...      1337385600   23   \n",
       "2                                           One Star      1413676800  NaN   \n",
       "3  Really not worth the money to buy this game on...      1441497600    2   \n",
       "4                      Securom can ruin a great game      1211932800   55   \n",
       "\n",
       "                           style image  \n",
       "0     {'Format:': ' Video Game'}   NaN  \n",
       "1  {'Format:': ' Computer Game'}   NaN  \n",
       "2     {'Format:': ' Video Game'}   NaN  \n",
       "3     {'Format:': ' Video Game'}   NaN  \n",
       "4        {'Format:': ' DVD-ROM'}   NaN  "
      ]
     },
     "execution_count": 3,
     "metadata": {},
     "output_type": "execute_result"
    }
   ],
   "source": [
    "reviews.head()"
   ]
  },
  {
   "cell_type": "markdown",
   "metadata": {},
   "source": [
    "### Step 2: Tokenizing the sentences and words of the reviews\n",
    "Here, We're going to test different versions of word tokenizer on reviews. We'll then decide which tokenizer might be better to use."
   ]
  },
  {
   "cell_type": "markdown",
   "metadata": {},
   "source": [
    "### Treebank Word Tokenizer"
   ]
  },
  {
   "cell_type": "code",
   "execution_count": 4,
   "metadata": {},
   "outputs": [],
   "source": [
    "from nltk.tokenize import TreebankWordTokenizer"
   ]
  },
  {
   "cell_type": "code",
   "execution_count": 5,
   "metadata": {},
   "outputs": [],
   "source": [
    "tb_tokenizer = TreebankWordTokenizer()"
   ]
  },
  {
   "cell_type": "code",
   "execution_count": 6,
   "metadata": {},
   "outputs": [],
   "source": [
    "reviews[\"rev_text_lower\"] = reviews['reviewText'].apply(lambda rev: str(rev).lower())"
   ]
  },
  {
   "cell_type": "code",
   "execution_count": 7,
   "metadata": {},
   "outputs": [
    {
     "data": {
      "text/html": [
       "<div>\n",
       "<style scoped>\n",
       "    .dataframe tbody tr th:only-of-type {\n",
       "        vertical-align: middle;\n",
       "    }\n",
       "\n",
       "    .dataframe tbody tr th {\n",
       "        vertical-align: top;\n",
       "    }\n",
       "\n",
       "    .dataframe thead th {\n",
       "        text-align: right;\n",
       "    }\n",
       "</style>\n",
       "<table border=\"1\" class=\"dataframe\">\n",
       "  <thead>\n",
       "    <tr style=\"text-align: right;\">\n",
       "      <th></th>\n",
       "      <th>reviewText</th>\n",
       "      <th>rev_text_lower</th>\n",
       "    </tr>\n",
       "  </thead>\n",
       "  <tbody>\n",
       "    <tr>\n",
       "      <th>2971</th>\n",
       "      <td>Game still works great with my older instrumen...</td>\n",
       "      <td>game still works great with my older instrumen...</td>\n",
       "    </tr>\n",
       "    <tr>\n",
       "      <th>2924</th>\n",
       "      <td>Classic, I wish I would have been told the ope...</td>\n",
       "      <td>classic, i wish i would have been told the ope...</td>\n",
       "    </tr>\n",
       "  </tbody>\n",
       "</table>\n",
       "</div>"
      ],
      "text/plain": [
       "                                             reviewText  \\\n",
       "2971  Game still works great with my older instrumen...   \n",
       "2924  Classic, I wish I would have been told the ope...   \n",
       "\n",
       "                                         rev_text_lower  \n",
       "2971  game still works great with my older instrumen...  \n",
       "2924  classic, i wish i would have been told the ope...  "
      ]
     },
     "execution_count": 7,
     "metadata": {},
     "output_type": "execute_result"
    }
   ],
   "source": [
    "reviews[['reviewText','rev_text_lower']].sample(2)"
   ]
  },
  {
   "cell_type": "code",
   "execution_count": 8,
   "metadata": {},
   "outputs": [],
   "source": [
    "reviews[\"tb_tokens\"] = reviews['rev_text_lower'].apply(lambda rev: tb_tokenizer.tokenize(str(rev)))"
   ]
  },
  {
   "cell_type": "code",
   "execution_count": 9,
   "metadata": {},
   "outputs": [],
   "source": [
    "pd.set_option('display.max_colwidth', None)"
   ]
  },
  {
   "cell_type": "code",
   "execution_count": 10,
   "metadata": {},
   "outputs": [
    {
     "data": {
      "text/html": [
       "<div>\n",
       "<style scoped>\n",
       "    .dataframe tbody tr th:only-of-type {\n",
       "        vertical-align: middle;\n",
       "    }\n",
       "\n",
       "    .dataframe tbody tr th {\n",
       "        vertical-align: top;\n",
       "    }\n",
       "\n",
       "    .dataframe thead th {\n",
       "        text-align: right;\n",
       "    }\n",
       "</style>\n",
       "<table border=\"1\" class=\"dataframe\">\n",
       "  <thead>\n",
       "    <tr style=\"text-align: right;\">\n",
       "      <th></th>\n",
       "      <th>reviewText</th>\n",
       "      <th>tb_tokens</th>\n",
       "    </tr>\n",
       "  </thead>\n",
       "  <tbody>\n",
       "    <tr>\n",
       "      <th>485</th>\n",
       "      <td>Couldnt even put in a full hour,before switching to something else.\\nI cant even find the words to describe how bad this is.\\nEverythings bad. And was done better 10 to 15 years ago.\\nThis is nowhere near the old Baldur's Gates or Champions of Norrath games.</td>\n",
       "      <td>[couldnt, even, put, in, a, full, hour, ,, before, switching, to, something, else., i, cant, even, find, the, words, to, describe, how, bad, this, is., everythings, bad., and, was, done, better, 10, to, 15, years, ago., this, is, nowhere, near, the, old, baldur, 's, gates, or, champions, of, norrath, games, .]</td>\n",
       "    </tr>\n",
       "    <tr>\n",
       "      <th>419</th>\n",
       "      <td>I was really excited to get this game. I popped it in and was disappointed from the start. Do you see how small the people are? It should be called Grand Theft Ants. Good graphics but the people are small and very hard to see. Not worth anything.</td>\n",
       "      <td>[i, was, really, excited, to, get, this, game., i, popped, it, in, and, was, disappointed, from, the, start., do, you, see, how, small, the, people, are, ?, it, should, be, called, grand, theft, ants., good, graphics, but, the, people, are, small, and, very, hard, to, see., not, worth, anything, .]</td>\n",
       "    </tr>\n",
       "    <tr>\n",
       "      <th>3655</th>\n",
       "      <td>this mouse is great</td>\n",
       "      <td>[this, mouse, is, great]</td>\n",
       "    </tr>\n",
       "  </tbody>\n",
       "</table>\n",
       "</div>"
      ],
      "text/plain": [
       "                                                                                                                                                                                                                                                              reviewText  \\\n",
       "485   Couldnt even put in a full hour,before switching to something else.\\nI cant even find the words to describe how bad this is.\\nEverythings bad. And was done better 10 to 15 years ago.\\nThis is nowhere near the old Baldur's Gates or Champions of Norrath games.   \n",
       "419               I was really excited to get this game. I popped it in and was disappointed from the start. Do you see how small the people are? It should be called Grand Theft Ants. Good graphics but the people are small and very hard to see. Not worth anything.   \n",
       "3655                                                                                                                                                                                                                                                 this mouse is great   \n",
       "\n",
       "                                                                                                                                                                                                                                                                                                                    tb_tokens  \n",
       "485   [couldnt, even, put, in, a, full, hour, ,, before, switching, to, something, else., i, cant, even, find, the, words, to, describe, how, bad, this, is., everythings, bad., and, was, done, better, 10, to, 15, years, ago., this, is, nowhere, near, the, old, baldur, 's, gates, or, champions, of, norrath, games, .]  \n",
       "419               [i, was, really, excited, to, get, this, game., i, popped, it, in, and, was, disappointed, from, the, start., do, you, see, how, small, the, people, are, ?, it, should, be, called, grand, theft, ants., good, graphics, but, the, people, are, small, and, very, hard, to, see., not, worth, anything, .]  \n",
       "3655                                                                                                                                                                                                                                                                                                 [this, mouse, is, great]  "
      ]
     },
     "execution_count": 10,
     "metadata": {},
     "output_type": "execute_result"
    }
   ],
   "source": [
    "reviews[['reviewText','tb_tokens']].sample(3)"
   ]
  },
  {
   "cell_type": "markdown",
   "metadata": {},
   "source": [
    "### Casual Tokenizer"
   ]
  },
  {
   "cell_type": "code",
   "execution_count": 11,
   "metadata": {},
   "outputs": [],
   "source": [
    "from nltk.tokenize.casual import casual_tokenize"
   ]
  },
  {
   "cell_type": "code",
   "execution_count": 12,
   "metadata": {},
   "outputs": [],
   "source": [
    "reviews['casual_tokens'] = reviews['rev_text_lower'].apply(lambda rev: casual_tokenize(str(rev)))"
   ]
  },
  {
   "cell_type": "code",
   "execution_count": 13,
   "metadata": {},
   "outputs": [
    {
     "data": {
      "text/html": [
       "<div>\n",
       "<style scoped>\n",
       "    .dataframe tbody tr th:only-of-type {\n",
       "        vertical-align: middle;\n",
       "    }\n",
       "\n",
       "    .dataframe tbody tr th {\n",
       "        vertical-align: top;\n",
       "    }\n",
       "\n",
       "    .dataframe thead th {\n",
       "        text-align: right;\n",
       "    }\n",
       "</style>\n",
       "<table border=\"1\" class=\"dataframe\">\n",
       "  <thead>\n",
       "    <tr style=\"text-align: right;\">\n",
       "      <th></th>\n",
       "      <th>reviewText</th>\n",
       "      <th>casual_tokens</th>\n",
       "      <th>tb_tokens</th>\n",
       "    </tr>\n",
       "  </thead>\n",
       "  <tbody>\n",
       "    <tr>\n",
       "      <th>3348</th>\n",
       "      <td>No one can resist the urge to keep playing Resistance: Fall of Man once the game is started. Chapter after chapter of exhilarating battles against a plethora of creatures that you use a plethora of weapons to defeat (and they'll use them against you too).\\n\\nTo really put the plot of the game in context (if you care about the plot), it's well worth the visit to the official Resistance: Fall of Man web site; there's a ton of story there that I'd bet 90% of the people who start the game are unaware of. For me, the story helped me \"get into character\" for the game. If you just want to start wasting some nasty beasts, \"Get to it, soldier!\" Rest assured, the story won't help you beat the enemies or evade the barrage of defenses that will be fired at you by them.\\n\\nAs a relatively new gamer, I'm glad that I played Call of Duty 3&amp;nbsp;&lt;a data-hook=\"product-link-linked\" class=\"a-link-normal\" href=\"/Call-of-Duty-3/dp/B000GA73O0/ref=cm_cr_arp_d_rvw_txt?ie=UTF8\"&gt;Call of Duty 3&lt;/a&gt;&amp;nbsp;before I cracked open Resistance: Fall of Man. It was good FPS training (set in approximately the same time period) for this much more difficult PS3 title.\\n\\nResistance has an M (mature gamers only) rating which miffs me a bit, but then I'm a bit more liberal when it comes to what I think might warp the little minds of kids these days.  I've seen this classified as a Horror title, but I think that Sci-fi Action is much more fitting. Resistance deserved a T (teen) rating. My kids and I get hung up all too often on sunny days playing Resistance's Co-op Mode when we should be outside playing ball. And hopefully that alone speaks volumes as to how addictively fun this game is.\\n\\nCo-op Mode is split screen of course because the game is FPS; it would be nice if some games could give the option of switching to a single screen, third person view for Co-op in order to negate the need for split screen, but that would distinctly change to look, range, feel and some of the weaponry...so I assume that's why it's never offered on Co-op mode.\\n\\nMulti-player is very cool. Multi-player is not like Co-op where you play the Campaign Mode with a partner. In Multi-player you battle against your friends offline (4 player max/split screen) or online (40 player max/full screen). You get some areas of battle to play in that you encountered in Campaign Mode and some new map scematics.\\n\\nBut Resistance's real challenge is in single player Campaign Mode.\\n\\nYour weapons are plentiful. You start with a pretty standard machine gun (M5A2) that includes a grenade launcher that will become your best \"little friend\" in the game. It's very useful on the enemies that you encounter most throughout the game. You also get several mean weapons that you pick up from your fallen comrades and defeated beasts including the enemy's main machine gun (The Bullseye...very handy), grenades, a shotgun, a sniper rifle, a radiation blaster (The Auger), a mine thrower, a rapid fire subsonic bolt dispenser (The Hailstorm) and a rocket launcher.\\n\\nGrenades are key to survival...use them, but you'll want to keep in mind that you can run out real real fast...so use them pretty much exclusively to take down groups of enemies.\\n\\n(And five other weapons aside from the ones that I mentioned above are unlocked only after beating/completing the game once on medium difficulty or higher.)\\n\\nIf you missed the countless gamer magazines' synopsises of the creature types and the power of the individual weapons, there are some great gamer help web sites that are worth taking a look at to help you strategize (just click on my profile above and email me if you'd like me to point you in the right direction).\\n\\nAnd speaking of getting pointed in the right direction, part of the fun of this game is figuring out on your own how to get from chapter to chapter. There are no maps, which at times was frustrating. Let me tell you that if the phrase \"the best route is not always the most obvious\" ever applied to trying to get from here to there it applies in this game on more than one occasion.\\n\\nYou'll also need to at times navigate a jeep and a tank.\\n\\nSo what exactly are you fighting? Where exactly did they come from? If you're up to the challenge to find out....You're Sgt. Nathan Hale, and you're the only one with a Resistance to the Fall of Man. Prepare for some serious battle.</td>\n",
       "      <td>[no, one, can, resist, the, urge, to, keep, playing, resistance, :, fall, of, man, once, the, game, is, started, ., chapter, after, chapter, of, exhilarating, battles, against, a, plethora, of, creatures, that, you, use, a, plethora, of, weapons, to, defeat, (, and, they'll, use, them, against, you, too, ), ., to, really, put, the, plot, of, the, game, in, context, (, if, you, care, about, the, plot, ), ,, it's, well, worth, the, visit, to, the, official, resistance, :, fall, of, man, web, site, ;, there's, a, ton, of, story, there, that, i'd, bet, 90, %, of, the, people, who, ...]</td>\n",
       "      <td>[no, one, can, resist, the, urge, to, keep, playing, resistance, :, fall, of, man, once, the, game, is, started., chapter, after, chapter, of, exhilarating, battles, against, a, plethora, of, creatures, that, you, use, a, plethora, of, weapons, to, defeat, (, and, they, 'll, use, them, against, you, too, ), ., to, really, put, the, plot, of, the, game, in, context, (, if, you, care, about, the, plot, ), ,, it, 's, well, worth, the, visit, to, the, official, resistance, :, fall, of, man, web, site, ;, there, 's, a, ton, of, story, there, that, i, 'd, bet, 90, %, of, ...]</td>\n",
       "    </tr>\n",
       "    <tr>\n",
       "      <th>1352</th>\n",
       "      <td>This Certified Refurbished product is tested and certified by the manufacturer or by a third-party refurbisher to look and work like new, with limited to no signs of wear.</td>\n",
       "      <td>[this, certified, refurbished, product, is, tested, and, certified, by, the, manufacturer, or, by, a, third-party, refurbisher, to, look, and, work, like, new, ,, with, limited, to, no, signs, of, wear, .]</td>\n",
       "      <td>[this, certified, refurbished, product, is, tested, and, certified, by, the, manufacturer, or, by, a, third-party, refurbisher, to, look, and, work, like, new, ,, with, limited, to, no, signs, of, wear, .]</td>\n",
       "    </tr>\n",
       "    <tr>\n",
       "      <th>3538</th>\n",
       "      <td>Another fun Lego game. A large open world with a lot of familiar characters and places. Extra content is great and will definitely keep you occupied for a while. If you like Lego games and Marvel characters this is for you.</td>\n",
       "      <td>[another, fun, lego, game, ., a, large, open, world, with, a, lot, of, familiar, characters, and, places, ., extra, content, is, great, and, will, definitely, keep, you, occupied, for, a, while, ., if, you, like, lego, games, and, marvel, characters, this, is, for, you, .]</td>\n",
       "      <td>[another, fun, lego, game., a, large, open, world, with, a, lot, of, familiar, characters, and, places., extra, content, is, great, and, will, definitely, keep, you, occupied, for, a, while., if, you, like, lego, games, and, marvel, characters, this, is, for, you, .]</td>\n",
       "    </tr>\n",
       "  </tbody>\n",
       "</table>\n",
       "</div>"
      ],
      "text/plain": [
       "                                                                                                                                                                                                                                                                                                                                                                                                                                                                                                                                                                                                                                                                                                                                                                                                                                                                                                                                                                                                                                                                                                                                                                                                                                                                                                                                                                                                                                                                                                                                                                                                                                                                                                                                                                                                                                                                                                                                                                                                                                                                                                                                                                                                                                                                                                                                                                                                                                                                                                                                                                                                                                                                                                                                                                                                                                                                                                                                                                                                                                                                                                                                                                                                                                                                                                                                                                                                                                                                                                                                                                                                                                                                                                                                                                                                                                                                                                                                                                                                                                                                                                                                                                                                                                                                                                                                                                                                                                                                                                                                        reviewText  \\\n",
       "3348  No one can resist the urge to keep playing Resistance: Fall of Man once the game is started. Chapter after chapter of exhilarating battles against a plethora of creatures that you use a plethora of weapons to defeat (and they'll use them against you too).\\n\\nTo really put the plot of the game in context (if you care about the plot), it's well worth the visit to the official Resistance: Fall of Man web site; there's a ton of story there that I'd bet 90% of the people who start the game are unaware of. For me, the story helped me \"get into character\" for the game. If you just want to start wasting some nasty beasts, \"Get to it, soldier!\" Rest assured, the story won't help you beat the enemies or evade the barrage of defenses that will be fired at you by them.\\n\\nAs a relatively new gamer, I'm glad that I played Call of Duty 3&nbsp;<a data-hook=\"product-link-linked\" class=\"a-link-normal\" href=\"/Call-of-Duty-3/dp/B000GA73O0/ref=cm_cr_arp_d_rvw_txt?ie=UTF8\">Call of Duty 3</a>&nbsp;before I cracked open Resistance: Fall of Man. It was good FPS training (set in approximately the same time period) for this much more difficult PS3 title.\\n\\nResistance has an M (mature gamers only) rating which miffs me a bit, but then I'm a bit more liberal when it comes to what I think might warp the little minds of kids these days.  I've seen this classified as a Horror title, but I think that Sci-fi Action is much more fitting. Resistance deserved a T (teen) rating. My kids and I get hung up all too often on sunny days playing Resistance's Co-op Mode when we should be outside playing ball. And hopefully that alone speaks volumes as to how addictively fun this game is.\\n\\nCo-op Mode is split screen of course because the game is FPS; it would be nice if some games could give the option of switching to a single screen, third person view for Co-op in order to negate the need for split screen, but that would distinctly change to look, range, feel and some of the weaponry...so I assume that's why it's never offered on Co-op mode.\\n\\nMulti-player is very cool. Multi-player is not like Co-op where you play the Campaign Mode with a partner. In Multi-player you battle against your friends offline (4 player max/split screen) or online (40 player max/full screen). You get some areas of battle to play in that you encountered in Campaign Mode and some new map scematics.\\n\\nBut Resistance's real challenge is in single player Campaign Mode.\\n\\nYour weapons are plentiful. You start with a pretty standard machine gun (M5A2) that includes a grenade launcher that will become your best \"little friend\" in the game. It's very useful on the enemies that you encounter most throughout the game. You also get several mean weapons that you pick up from your fallen comrades and defeated beasts including the enemy's main machine gun (The Bullseye...very handy), grenades, a shotgun, a sniper rifle, a radiation blaster (The Auger), a mine thrower, a rapid fire subsonic bolt dispenser (The Hailstorm) and a rocket launcher.\\n\\nGrenades are key to survival...use them, but you'll want to keep in mind that you can run out real real fast...so use them pretty much exclusively to take down groups of enemies.\\n\\n(And five other weapons aside from the ones that I mentioned above are unlocked only after beating/completing the game once on medium difficulty or higher.)\\n\\nIf you missed the countless gamer magazines' synopsises of the creature types and the power of the individual weapons, there are some great gamer help web sites that are worth taking a look at to help you strategize (just click on my profile above and email me if you'd like me to point you in the right direction).\\n\\nAnd speaking of getting pointed in the right direction, part of the fun of this game is figuring out on your own how to get from chapter to chapter. There are no maps, which at times was frustrating. Let me tell you that if the phrase \"the best route is not always the most obvious\" ever applied to trying to get from here to there it applies in this game on more than one occasion.\\n\\nYou'll also need to at times navigate a jeep and a tank.\\n\\nSo what exactly are you fighting? Where exactly did they come from? If you're up to the challenge to find out....You're Sgt. Nathan Hale, and you're the only one with a Resistance to the Fall of Man. Prepare for some serious battle.   \n",
       "1352                                                                                                                                                                                                                                                                                                                                                                                                                                                                                                                                                                                                                                                                                                                                                                                                                                                                                                                                                                                                                                                                                                                                                                                                                                                                                                                                                                                                                                                                                                                                                                                                                                                                                                                                                                                                                                                                                                                                                                                                                                                                                                                                                                                                                                                                                                                                                                                                                                                                                                                                                                                                                                                                                                                                                                                                                                                                                                                                                                                                                                                                                                                                                                                                                                                                                                                                                                                                                                                                                                                                                                                                                                                                                                                                                                                                                                                                                                                                                                                                                                                                                                                                                                                                                                                                                                                                                                   This Certified Refurbished product is tested and certified by the manufacturer or by a third-party refurbisher to look and work like new, with limited to no signs of wear.   \n",
       "3538                                                                                                                                                                                                                                                                                                                                                                                                                                                                                                                                                                                                                                                                                                                                                                                                                                                                                                                                                                                                                                                                                                                                                                                                                                                                                                                                                                                                                                                                                                                                                                                                                                                                                                                                                                                                                                                                                                                                                                                                                                                                                                                                                                                                                                                                                                                                                                                                                                                                                                                                                                                                                                                                                                                                                                                                                                                                                                                                                                                                                                                                                                                                                                                                                                                                                                                                                                                                                                                                                                                                                                                                                                                                                                                                                                                                                                                                                                                                                                                                                                                                                                                                                                                                                                                                                                               Another fun Lego game. A large open world with a lot of familiar characters and places. Extra content is great and will definitely keep you occupied for a while. If you like Lego games and Marvel characters this is for you.   \n",
       "\n",
       "                                                                                                                                                                                                                                                                                                                                                                                                                                                                                                                                                                                                     casual_tokens  \\\n",
       "3348  [no, one, can, resist, the, urge, to, keep, playing, resistance, :, fall, of, man, once, the, game, is, started, ., chapter, after, chapter, of, exhilarating, battles, against, a, plethora, of, creatures, that, you, use, a, plethora, of, weapons, to, defeat, (, and, they'll, use, them, against, you, too, ), ., to, really, put, the, plot, of, the, game, in, context, (, if, you, care, about, the, plot, ), ,, it's, well, worth, the, visit, to, the, official, resistance, :, fall, of, man, web, site, ;, there's, a, ton, of, story, there, that, i'd, bet, 90, %, of, the, people, who, ...]   \n",
       "1352                                                                                                                                                                                                                                                                                                                                                                                                 [this, certified, refurbished, product, is, tested, and, certified, by, the, manufacturer, or, by, a, third-party, refurbisher, to, look, and, work, like, new, ,, with, limited, to, no, signs, of, wear, .]   \n",
       "3538                                                                                                                                                                                                                                                                                                                             [another, fun, lego, game, ., a, large, open, world, with, a, lot, of, familiar, characters, and, places, ., extra, content, is, great, and, will, definitely, keep, you, occupied, for, a, while, ., if, you, like, lego, games, and, marvel, characters, this, is, for, you, .]   \n",
       "\n",
       "                                                                                                                                                                                                                                                                                                                                                                                                                                                                                                                                                                                             tb_tokens  \n",
       "3348  [no, one, can, resist, the, urge, to, keep, playing, resistance, :, fall, of, man, once, the, game, is, started., chapter, after, chapter, of, exhilarating, battles, against, a, plethora, of, creatures, that, you, use, a, plethora, of, weapons, to, defeat, (, and, they, 'll, use, them, against, you, too, ), ., to, really, put, the, plot, of, the, game, in, context, (, if, you, care, about, the, plot, ), ,, it, 's, well, worth, the, visit, to, the, official, resistance, :, fall, of, man, web, site, ;, there, 's, a, ton, of, story, there, that, i, 'd, bet, 90, %, of, ...]  \n",
       "1352                                                                                                                                                                                                                                                                                                                                                                                     [this, certified, refurbished, product, is, tested, and, certified, by, the, manufacturer, or, by, a, third-party, refurbisher, to, look, and, work, like, new, ,, with, limited, to, no, signs, of, wear, .]  \n",
       "3538                                                                                                                                                                                                                                                                                                                       [another, fun, lego, game., a, large, open, world, with, a, lot, of, familiar, characters, and, places., extra, content, is, great, and, will, definitely, keep, you, occupied, for, a, while., if, you, like, lego, games, and, marvel, characters, this, is, for, you, .]  "
      ]
     },
     "execution_count": 13,
     "metadata": {},
     "output_type": "execute_result"
    }
   ],
   "source": [
    "reviews[['reviewText','casual_tokens','tb_tokens']].sample(3)"
   ]
  },
  {
   "cell_type": "markdown",
   "metadata": {},
   "source": [
    "### Removing StopWords"
   ]
  },
  {
   "cell_type": "code",
   "execution_count": 14,
   "metadata": {},
   "outputs": [
    {
     "name": "stderr",
     "output_type": "stream",
     "text": [
      "[nltk_data] Downloading package stopwords to\n",
      "[nltk_data]     /Users/koosha.tahmasebipour/nltk_data...\n",
      "[nltk_data]   Package stopwords is already up-to-date!\n"
     ]
    },
    {
     "data": {
      "text/plain": [
       "True"
      ]
     },
     "execution_count": 14,
     "metadata": {},
     "output_type": "execute_result"
    }
   ],
   "source": [
    "nltk.download('stopwords')"
   ]
  },
  {
   "cell_type": "code",
   "execution_count": 15,
   "metadata": {},
   "outputs": [],
   "source": [
    "stop_words = nltk.corpus.stopwords.words('english')"
   ]
  },
  {
   "cell_type": "code",
   "execution_count": 16,
   "metadata": {},
   "outputs": [
    {
     "data": {
      "text/plain": [
       "['i', 'me', 'my', 'myself', 'we', 'our', 'ours', 'ourselves', 'you', \"you're\"]"
      ]
     },
     "execution_count": 16,
     "metadata": {},
     "output_type": "execute_result"
    }
   ],
   "source": [
    "stop_words[:10]"
   ]
  },
  {
   "cell_type": "code",
   "execution_count": 17,
   "metadata": {},
   "outputs": [
    {
     "data": {
      "text/plain": [
       "179"
      ]
     },
     "execution_count": 17,
     "metadata": {},
     "output_type": "execute_result"
    }
   ],
   "source": [
    "len(stop_words)"
   ]
  },
  {
   "cell_type": "code",
   "execution_count": 25,
   "metadata": {},
   "outputs": [],
   "source": [
    "reviews['tokens_nosw'] = reviews['tb_tokens'].apply(lambda words: [w for w in words if w not in stop_words and w != ''])"
   ]
  },
  {
   "cell_type": "code",
   "execution_count": 26,
   "metadata": {},
   "outputs": [
    {
     "data": {
      "text/html": [
       "<div>\n",
       "<style scoped>\n",
       "    .dataframe tbody tr th:only-of-type {\n",
       "        vertical-align: middle;\n",
       "    }\n",
       "\n",
       "    .dataframe tbody tr th {\n",
       "        vertical-align: top;\n",
       "    }\n",
       "\n",
       "    .dataframe thead th {\n",
       "        text-align: right;\n",
       "    }\n",
       "</style>\n",
       "<table border=\"1\" class=\"dataframe\">\n",
       "  <thead>\n",
       "    <tr style=\"text-align: right;\">\n",
       "      <th></th>\n",
       "      <th>tb_tokens</th>\n",
       "      <th>tokens_nosw</th>\n",
       "    </tr>\n",
       "  </thead>\n",
       "  <tbody>\n",
       "    <tr>\n",
       "      <th>1931</th>\n",
       "      <td>[and, it, will, !, first, one, broke, at, the, flex, point, swivel, (, where, the, earcup, attaches, to, the, band, ), ., second, one, just, broke., this, was, after, about, a, year, of, moderate, use., for, this, price, ,, this, thing, should, hold, together, better, .]</td>\n",
       "      <td>[!, first, one, broke, flex, point, swivel, (, earcup, attaches, band, ), ., second, one, broke., year, moderate, use., price, ,, thing, hold, together, better, .]</td>\n",
       "    </tr>\n",
       "    <tr>\n",
       "      <th>3589</th>\n",
       "      <td>[excellent, game]</td>\n",
       "      <td>[excellent, game]</td>\n",
       "    </tr>\n",
       "    <tr>\n",
       "      <th>1098</th>\n",
       "      <td>[it, kills, me, to, do, this, considering, i, 've, purchased, every, single, c, &amp;, c, game, that, 's, been, released, to, date., this, is, a, good, game, ,, nope, a, fantastic, game, locked, in, a, bad, package., there, is, no, way, to, justify, the, drm, that, comes, with, ea, 's, recent, pc, releases., please, note, this, is, not, whining., securom, can, seriously, mess, up, your, system, and, uninstalling, the, game, wo, n't, remove, it, either., what, it, really, comes, down, to, is, taking, a, stand., ask, yourself, this, ,, do, you, really, want, to, pay, $, 50, for, a, game, ...]</td>\n",
       "      <td>[kills, considering, 've, purchased, every, single, c, &amp;, c, game, 's, released, date., good, game, ,, nope, fantastic, game, locked, bad, package., way, justify, drm, comes, ea, 's, recent, pc, releases., please, note, whining., securom, seriously, mess, system, uninstalling, game, wo, n't, remove, either., really, comes, taking, stand., ask, ,, really, want, pay, $, 50, game, makes, jump, hoops, anyone, really, wants, get, free, copy, without, much, hassle, ?]</td>\n",
       "    </tr>\n",
       "  </tbody>\n",
       "</table>\n",
       "</div>"
      ],
      "text/plain": [
       "                                                                                                                                                                                                                                                                                                                                                                                                                                                                                                                                                                                                              tb_tokens  \\\n",
       "1931                                                                                                                                                                                                                                                                                                                                    [and, it, will, !, first, one, broke, at, the, flex, point, swivel, (, where, the, earcup, attaches, to, the, band, ), ., second, one, just, broke., this, was, after, about, a, year, of, moderate, use., for, this, price, ,, this, thing, should, hold, together, better, .]   \n",
       "3589                                                                                                                                                                                                                                                                                                                                                                                                                                                                                                                                                                                                  [excellent, game]   \n",
       "1098  [it, kills, me, to, do, this, considering, i, 've, purchased, every, single, c, &, c, game, that, 's, been, released, to, date., this, is, a, good, game, ,, nope, a, fantastic, game, locked, in, a, bad, package., there, is, no, way, to, justify, the, drm, that, comes, with, ea, 's, recent, pc, releases., please, note, this, is, not, whining., securom, can, seriously, mess, up, your, system, and, uninstalling, the, game, wo, n't, remove, it, either., what, it, really, comes, down, to, is, taking, a, stand., ask, yourself, this, ,, do, you, really, want, to, pay, $, 50, for, a, game, ...]   \n",
       "\n",
       "                                                                                                                                                                                                                                                                                                                                                                                                                                                                             tokens_nosw  \n",
       "1931                                                                                                                                                                                                                                                                                                                 [!, first, one, broke, flex, point, swivel, (, earcup, attaches, band, ), ., second, one, broke., year, moderate, use., price, ,, thing, hold, together, better, .]  \n",
       "3589                                                                                                                                                                                                                                                                                                                                                                                                                                                                   [excellent, game]  \n",
       "1098  [kills, considering, 've, purchased, every, single, c, &, c, game, 's, released, date., good, game, ,, nope, fantastic, game, locked, bad, package., way, justify, drm, comes, ea, 's, recent, pc, releases., please, note, whining., securom, seriously, mess, system, uninstalling, game, wo, n't, remove, either., really, comes, taking, stand., ask, ,, really, want, pay, $, 50, game, makes, jump, hoops, anyone, really, wants, get, free, copy, without, much, hassle, ?]  "
      ]
     },
     "execution_count": 26,
     "metadata": {},
     "output_type": "execute_result"
    }
   ],
   "source": [
    "reviews[['tb_tokens','tokens_nosw']].sample(3)"
   ]
  },
  {
   "cell_type": "markdown",
   "metadata": {},
   "source": [
    "### Stemming"
   ]
  },
  {
   "cell_type": "code",
   "execution_count": 20,
   "metadata": {},
   "outputs": [],
   "source": [
    "from nltk.stem.porter import PorterStemmer"
   ]
  },
  {
   "cell_type": "code",
   "execution_count": 21,
   "metadata": {},
   "outputs": [],
   "source": [
    "stemmer = PorterStemmer()"
   ]
  },
  {
   "cell_type": "code",
   "execution_count": 27,
   "metadata": {},
   "outputs": [],
   "source": [
    "reviews['tokens_stemmed'] = reviews['tokens_nosw'].apply(lambda words: [stemmer.stem(w) for w in words])"
   ]
  },
  {
   "cell_type": "code",
   "execution_count": 28,
   "metadata": {},
   "outputs": [
    {
     "data": {
      "text/html": [
       "<div>\n",
       "<style scoped>\n",
       "    .dataframe tbody tr th:only-of-type {\n",
       "        vertical-align: middle;\n",
       "    }\n",
       "\n",
       "    .dataframe tbody tr th {\n",
       "        vertical-align: top;\n",
       "    }\n",
       "\n",
       "    .dataframe thead th {\n",
       "        text-align: right;\n",
       "    }\n",
       "</style>\n",
       "<table border=\"1\" class=\"dataframe\">\n",
       "  <thead>\n",
       "    <tr style=\"text-align: right;\">\n",
       "      <th></th>\n",
       "      <th>tokens_nosw</th>\n",
       "      <th>tokens_stemmed</th>\n",
       "    </tr>\n",
       "  </thead>\n",
       "  <tbody>\n",
       "    <tr>\n",
       "      <th>2618</th>\n",
       "      <td>[great, less, expensive, xbox, one, windows, pc, controller., buttons, ,, sticks, bumpers, almost, exactly, size, place, controller, official, microsoft, controller., 's, solidly, built, controller, easy, hold, weight, microsoft, controller., 8, foot, usb, cable, standard, usb, mini, connector, disconnected, ,, lose, cable, need, longer/shorter, one, reason, ,, substitute, another, cheap, usb, cable., use, controller, without, cable, though, (, 's, wireless, ), ., connect, headset, 3.5mm, jack, controller., controller, also, includes, extra, ``, audio, '', button, right, stick, use, control, game, volume, ,, game/chat, balance, ,, mute, microphone., drawback, find, controller, (, wireless, ,, 's, deal, breaker, ), ,, buttons, bit, harder, ...]</td>\n",
       "      <td>[great, less, expens, xbox, one, window, pc, controller., button, ,, stick, bumper, almost, exactli, size, place, control, offici, microsoft, controller., 's, solidli, built, control, easi, hold, weight, microsoft, controller., 8, foot, usb, cabl, standard, usb, mini, connector, disconnect, ,, lose, cabl, need, longer/short, one, reason, ,, substitut, anoth, cheap, usb, cable., use, control, without, cabl, though, (, 's, wireless, ), ., connect, headset, 3.5mm, jack, controller., control, also, includ, extra, ``, audio, '', button, right, stick, use, control, game, volum, ,, game/chat, balanc, ,, mute, microphone., drawback, find, control, (, wireless, ,, 's, deal, breaker, ), ,, button, bit, harder, ...]</td>\n",
       "    </tr>\n",
       "    <tr>\n",
       "      <th>805</th>\n",
       "      <td>[played, tropico, 3, mac, ,, tried, ps4, disappointing., tutorial, hard, ,, plus, tv, 40, inches, ,, big, enough, game, ton, text, like, one., honestly, ,, wish, bought, computer, version, .]</td>\n",
       "      <td>[play, tropico, 3, mac, ,, tri, ps4, disappointing., tutori, hard, ,, plu, tv, 40, inch, ,, big, enough, game, ton, text, like, one., honestli, ,, wish, bought, comput, version, .]</td>\n",
       "    </tr>\n",
       "    <tr>\n",
       "      <th>669</th>\n",
       "      <td>[game, ,, nasty, !, everything, sick, gory, !, buy, !, hate, !, hate, !]</td>\n",
       "      <td>[game, ,, nasti, !, everyth, sick, gori, !, buy, !, hate, !, hate, !]</td>\n",
       "    </tr>\n",
       "  </tbody>\n",
       "</table>\n",
       "</div>"
      ],
      "text/plain": [
       "                                                                                                                                                                                                                                                                                                                                                                                                                                                                                                                                                                                                                                                                                                                                                                            tokens_nosw  \\\n",
       "2618  [great, less, expensive, xbox, one, windows, pc, controller., buttons, ,, sticks, bumpers, almost, exactly, size, place, controller, official, microsoft, controller., 's, solidly, built, controller, easy, hold, weight, microsoft, controller., 8, foot, usb, cable, standard, usb, mini, connector, disconnected, ,, lose, cable, need, longer/shorter, one, reason, ,, substitute, another, cheap, usb, cable., use, controller, without, cable, though, (, 's, wireless, ), ., connect, headset, 3.5mm, jack, controller., controller, also, includes, extra, ``, audio, '', button, right, stick, use, control, game, volume, ,, game/chat, balance, ,, mute, microphone., drawback, find, controller, (, wireless, ,, 's, deal, breaker, ), ,, buttons, bit, harder, ...]   \n",
       "805                                                                                                                                                                                                                                                                                                                                                                                                                                                                                                                                                                                     [played, tropico, 3, mac, ,, tried, ps4, disappointing., tutorial, hard, ,, plus, tv, 40, inches, ,, big, enough, game, ton, text, like, one., honestly, ,, wish, bought, computer, version, .]   \n",
       "669                                                                                                                                                                                                                                                                                                                                                                                                                                                                                                                                                                                                                                                                                                            [game, ,, nasty, !, everything, sick, gory, !, buy, !, hate, !, hate, !]   \n",
       "\n",
       "                                                                                                                                                                                                                                                                                                                                                                                                                                                                                                                                                                                                                                                                                                                                  tokens_stemmed  \n",
       "2618  [great, less, expens, xbox, one, window, pc, controller., button, ,, stick, bumper, almost, exactli, size, place, control, offici, microsoft, controller., 's, solidli, built, control, easi, hold, weight, microsoft, controller., 8, foot, usb, cabl, standard, usb, mini, connector, disconnect, ,, lose, cabl, need, longer/short, one, reason, ,, substitut, anoth, cheap, usb, cable., use, control, without, cabl, though, (, 's, wireless, ), ., connect, headset, 3.5mm, jack, controller., control, also, includ, extra, ``, audio, '', button, right, stick, use, control, game, volum, ,, game/chat, balanc, ,, mute, microphone., drawback, find, control, (, wireless, ,, 's, deal, breaker, ), ,, button, bit, harder, ...]  \n",
       "805                                                                                                                                                                                                                                                                                                                                                                                                                                                                                                                                                         [play, tropico, 3, mac, ,, tri, ps4, disappointing., tutori, hard, ,, plu, tv, 40, inch, ,, big, enough, game, ton, text, like, one., honestli, ,, wish, bought, comput, version, .]  \n",
       "669                                                                                                                                                                                                                                                                                                                                                                                                                                                                                                                                                                                                                                                                        [game, ,, nasti, !, everyth, sick, gori, !, buy, !, hate, !, hate, !]  "
      ]
     },
     "execution_count": 28,
     "metadata": {},
     "output_type": "execute_result"
    }
   ],
   "source": [
    "reviews[['tokens_nosw','tokens_stemmed']].sample(3)"
   ]
  },
  {
   "cell_type": "code",
   "execution_count": null,
   "metadata": {},
   "outputs": [],
   "source": []
  }
 ],
 "metadata": {
  "kernelspec": {
   "display_name": "Python 3",
   "language": "python",
   "name": "python3"
  },
  "language_info": {
   "codemirror_mode": {
    "name": "ipython",
    "version": 3
   },
   "file_extension": ".py",
   "mimetype": "text/x-python",
   "name": "python",
   "nbconvert_exporter": "python",
   "pygments_lexer": "ipython3",
   "version": "3.6.12"
  }
 },
 "nbformat": 4,
 "nbformat_minor": 4
}
