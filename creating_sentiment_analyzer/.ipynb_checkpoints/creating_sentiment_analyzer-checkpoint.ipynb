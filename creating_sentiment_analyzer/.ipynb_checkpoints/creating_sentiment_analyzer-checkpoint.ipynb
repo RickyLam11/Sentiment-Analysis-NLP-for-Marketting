{
 "cells": [
  {
   "cell_type": "markdown",
   "metadata": {},
   "source": [
    "# Creating a Dictionary-based Sentiment Analyzer"
   ]
  },
  {
   "cell_type": "code",
   "execution_count": 1,
   "metadata": {},
   "outputs": [],
   "source": [
    "import pandas as pd\n",
    "import nltk\n",
    "from IPython.display import display\n",
    "pd.set_option('display.max_columns', None)"
   ]
  },
  {
   "cell_type": "markdown",
   "metadata": {},
   "source": [
    "### Step 1: Loading in the small_corpus .csv file created in the \"creating_dataset\" milestone."
   ]
  },
  {
   "cell_type": "code",
   "execution_count": 2,
   "metadata": {},
   "outputs": [],
   "source": [
    "reviews = pd.read_csv(\"../data/small_corpus.csv\")"
   ]
  },
  {
   "cell_type": "code",
   "execution_count": 3,
   "metadata": {},
   "outputs": [
    {
     "data": {
      "text/html": [
       "<div>\n",
       "<style scoped>\n",
       "    .dataframe tbody tr th:only-of-type {\n",
       "        vertical-align: middle;\n",
       "    }\n",
       "\n",
       "    .dataframe tbody tr th {\n",
       "        vertical-align: top;\n",
       "    }\n",
       "\n",
       "    .dataframe thead th {\n",
       "        text-align: right;\n",
       "    }\n",
       "</style>\n",
       "<table border=\"1\" class=\"dataframe\">\n",
       "  <thead>\n",
       "    <tr style=\"text-align: right;\">\n",
       "      <th></th>\n",
       "      <th>overall</th>\n",
       "      <th>verified</th>\n",
       "      <th>reviewTime</th>\n",
       "      <th>reviewerID</th>\n",
       "      <th>asin</th>\n",
       "      <th>reviewerName</th>\n",
       "      <th>reviewText</th>\n",
       "      <th>summary</th>\n",
       "      <th>unixReviewTime</th>\n",
       "      <th>vote</th>\n",
       "      <th>style</th>\n",
       "      <th>image</th>\n",
       "    </tr>\n",
       "  </thead>\n",
       "  <tbody>\n",
       "    <tr>\n",
       "      <th>0</th>\n",
       "      <td>1.0</td>\n",
       "      <td>True</td>\n",
       "      <td>11 30, 2015</td>\n",
       "      <td>A3AC92K59QLYR8</td>\n",
       "      <td>B00503E8S2</td>\n",
       "      <td>ben</td>\n",
       "      <td>Game freezes over and over its unplayable</td>\n",
       "      <td>it just doesn't work</td>\n",
       "      <td>1448841600</td>\n",
       "      <td>NaN</td>\n",
       "      <td>{'Format:': ' Video Game'}</td>\n",
       "      <td>NaN</td>\n",
       "    </tr>\n",
       "    <tr>\n",
       "      <th>1</th>\n",
       "      <td>1.0</td>\n",
       "      <td>False</td>\n",
       "      <td>05 19, 2012</td>\n",
       "      <td>A334LHR8DWARY8</td>\n",
       "      <td>B00178630A</td>\n",
       "      <td>Xenocide</td>\n",
       "      <td>I have no problem with needing to be online to...</td>\n",
       "      <td>The only real way to show Blizzard our feeling...</td>\n",
       "      <td>1337385600</td>\n",
       "      <td>23</td>\n",
       "      <td>{'Format:': ' Computer Game'}</td>\n",
       "      <td>NaN</td>\n",
       "    </tr>\n",
       "    <tr>\n",
       "      <th>2</th>\n",
       "      <td>1.0</td>\n",
       "      <td>True</td>\n",
       "      <td>10 19, 2014</td>\n",
       "      <td>A28982ODE7ZGVP</td>\n",
       "      <td>B001AWIP7M</td>\n",
       "      <td>Eric Frykberg</td>\n",
       "      <td>NOT GOOD</td>\n",
       "      <td>One Star</td>\n",
       "      <td>1413676800</td>\n",
       "      <td>NaN</td>\n",
       "      <td>{'Format:': ' Video Game'}</td>\n",
       "      <td>NaN</td>\n",
       "    </tr>\n",
       "    <tr>\n",
       "      <th>3</th>\n",
       "      <td>1.0</td>\n",
       "      <td>True</td>\n",
       "      <td>09 6, 2015</td>\n",
       "      <td>A19E85RLQCAMI1</td>\n",
       "      <td>B00NASF4MS</td>\n",
       "      <td>Joe</td>\n",
       "      <td>Really not worth the money to buy this game on...</td>\n",
       "      <td>Really not worth the money to buy this game on...</td>\n",
       "      <td>1441497600</td>\n",
       "      <td>2</td>\n",
       "      <td>{'Format:': ' Video Game'}</td>\n",
       "      <td>NaN</td>\n",
       "    </tr>\n",
       "    <tr>\n",
       "      <th>4</th>\n",
       "      <td>1.0</td>\n",
       "      <td>False</td>\n",
       "      <td>05 28, 2008</td>\n",
       "      <td>AEMQKS13WC4D2</td>\n",
       "      <td>B00140P9BA</td>\n",
       "      <td>Craig</td>\n",
       "      <td>They need to eliminate the Securom. I purchase...</td>\n",
       "      <td>Securom can ruin a great game</td>\n",
       "      <td>1211932800</td>\n",
       "      <td>55</td>\n",
       "      <td>{'Format:': ' DVD-ROM'}</td>\n",
       "      <td>NaN</td>\n",
       "    </tr>\n",
       "  </tbody>\n",
       "</table>\n",
       "</div>"
      ],
      "text/plain": [
       "   overall  verified   reviewTime      reviewerID        asin   reviewerName  \\\n",
       "0      1.0      True  11 30, 2015  A3AC92K59QLYR8  B00503E8S2            ben   \n",
       "1      1.0     False  05 19, 2012  A334LHR8DWARY8  B00178630A       Xenocide   \n",
       "2      1.0      True  10 19, 2014  A28982ODE7ZGVP  B001AWIP7M  Eric Frykberg   \n",
       "3      1.0      True   09 6, 2015  A19E85RLQCAMI1  B00NASF4MS            Joe   \n",
       "4      1.0     False  05 28, 2008   AEMQKS13WC4D2  B00140P9BA          Craig   \n",
       "\n",
       "                                          reviewText  \\\n",
       "0          Game freezes over and over its unplayable   \n",
       "1  I have no problem with needing to be online to...   \n",
       "2                                           NOT GOOD   \n",
       "3  Really not worth the money to buy this game on...   \n",
       "4  They need to eliminate the Securom. I purchase...   \n",
       "\n",
       "                                             summary  unixReviewTime vote  \\\n",
       "0                               it just doesn't work      1448841600  NaN   \n",
       "1  The only real way to show Blizzard our feeling...      1337385600   23   \n",
       "2                                           One Star      1413676800  NaN   \n",
       "3  Really not worth the money to buy this game on...      1441497600    2   \n",
       "4                      Securom can ruin a great game      1211932800   55   \n",
       "\n",
       "                           style image  \n",
       "0     {'Format:': ' Video Game'}   NaN  \n",
       "1  {'Format:': ' Computer Game'}   NaN  \n",
       "2     {'Format:': ' Video Game'}   NaN  \n",
       "3     {'Format:': ' Video Game'}   NaN  \n",
       "4        {'Format:': ' DVD-ROM'}   NaN  "
      ]
     },
     "execution_count": 3,
     "metadata": {},
     "output_type": "execute_result"
    }
   ],
   "source": [
    "reviews.head()"
   ]
  },
  {
   "cell_type": "markdown",
   "metadata": {},
   "source": [
    "### Step 2: Tokenizing the sentences and words of the reviews\n",
    "Here, We're going to test different versions of word tokenizer on reviews. We'll then decide which tokenizer might be better to use."
   ]
  },
  {
   "cell_type": "markdown",
   "metadata": {},
   "source": [
    "### Treebank Word Tokenizer"
   ]
  },
  {
   "cell_type": "code",
   "execution_count": 4,
   "metadata": {},
   "outputs": [],
   "source": [
    "from nltk.tokenize import TreebankWordTokenizer\n",
    "from string import punctuation\n",
    "import string"
   ]
  },
  {
   "cell_type": "code",
   "execution_count": 5,
   "metadata": {},
   "outputs": [],
   "source": [
    "tb_tokenizer = TreebankWordTokenizer()"
   ]
  },
  {
   "cell_type": "code",
   "execution_count": 6,
   "metadata": {},
   "outputs": [],
   "source": [
    "reviews[\"rev_text_lower\"] = reviews['reviewText'].apply(lambda rev: str(rev)\\\n",
    "                                                        .translate(str.maketrans('', '', punctuation))\\\n",
    "                                                        .replace(\"<br />\", \" \")\\\n",
    "                                                        .lower())"
   ]
  },
  {
   "cell_type": "code",
   "execution_count": 7,
   "metadata": {},
   "outputs": [
    {
     "data": {
      "text/html": [
       "<div>\n",
       "<style scoped>\n",
       "    .dataframe tbody tr th:only-of-type {\n",
       "        vertical-align: middle;\n",
       "    }\n",
       "\n",
       "    .dataframe tbody tr th {\n",
       "        vertical-align: top;\n",
       "    }\n",
       "\n",
       "    .dataframe thead th {\n",
       "        text-align: right;\n",
       "    }\n",
       "</style>\n",
       "<table border=\"1\" class=\"dataframe\">\n",
       "  <thead>\n",
       "    <tr style=\"text-align: right;\">\n",
       "      <th></th>\n",
       "      <th>reviewText</th>\n",
       "      <th>rev_text_lower</th>\n",
       "    </tr>\n",
       "  </thead>\n",
       "  <tbody>\n",
       "    <tr>\n",
       "      <th>2434</th>\n",
       "      <td>Super Ghouls 'N Ghosts is impossible.  Nah it'...</td>\n",
       "      <td>super ghouls n ghosts is impossible  nah its n...</td>\n",
       "    </tr>\n",
       "    <tr>\n",
       "      <th>3007</th>\n",
       "      <td>I was originally going to buy this game on ste...</td>\n",
       "      <td>i was originally going to buy this game on ste...</td>\n",
       "    </tr>\n",
       "  </tbody>\n",
       "</table>\n",
       "</div>"
      ],
      "text/plain": [
       "                                             reviewText  \\\n",
       "2434  Super Ghouls 'N Ghosts is impossible.  Nah it'...   \n",
       "3007  I was originally going to buy this game on ste...   \n",
       "\n",
       "                                         rev_text_lower  \n",
       "2434  super ghouls n ghosts is impossible  nah its n...  \n",
       "3007  i was originally going to buy this game on ste...  "
      ]
     },
     "execution_count": 7,
     "metadata": {},
     "output_type": "execute_result"
    }
   ],
   "source": [
    "reviews[['reviewText','rev_text_lower']].sample(2)"
   ]
  },
  {
   "cell_type": "code",
   "execution_count": 8,
   "metadata": {},
   "outputs": [],
   "source": [
    "reviews[\"tb_tokens\"] = reviews['rev_text_lower'].apply(lambda rev: tb_tokenizer.tokenize(str(rev)))"
   ]
  },
  {
   "cell_type": "code",
   "execution_count": 9,
   "metadata": {},
   "outputs": [],
   "source": [
    "pd.set_option('display.max_colwidth', None)"
   ]
  },
  {
   "cell_type": "code",
   "execution_count": 10,
   "metadata": {},
   "outputs": [
    {
     "data": {
      "text/html": [
       "<div>\n",
       "<style scoped>\n",
       "    .dataframe tbody tr th:only-of-type {\n",
       "        vertical-align: middle;\n",
       "    }\n",
       "\n",
       "    .dataframe tbody tr th {\n",
       "        vertical-align: top;\n",
       "    }\n",
       "\n",
       "    .dataframe thead th {\n",
       "        text-align: right;\n",
       "    }\n",
       "</style>\n",
       "<table border=\"1\" class=\"dataframe\">\n",
       "  <thead>\n",
       "    <tr style=\"text-align: right;\">\n",
       "      <th></th>\n",
       "      <th>reviewText</th>\n",
       "      <th>tb_tokens</th>\n",
       "    </tr>\n",
       "  </thead>\n",
       "  <tbody>\n",
       "    <tr>\n",
       "      <th>2395</th>\n",
       "      <td>I bought this game expecting DLC But then, all i got is cheap crap dlc, but i got mass effect so overall im happy with this product! MASS EFFECT 3 SUCKS! ITS SO TERRIBLE!</td>\n",
       "      <td>[i, bought, this, game, expecting, dlc, but, then, all, i, got, is, cheap, crap, dlc, but, i, got, mass, effect, so, overall, im, happy, with, this, product, mass, effect, 3, sucks, its, so, terrible]</td>\n",
       "    </tr>\n",
       "    <tr>\n",
       "      <th>3368</th>\n",
       "      <td>Yeah, Doom 3 is great. There's tension, darkness, a forboding feeling, and some awesome looking demons coming to tear you apart and drag you to hell.\\n\\nI'm sure someone's already said that the fact that you can't equip the flashlight at the same time as a gun really makes things a little scarier.\\n\\nThe game is good. It starts to feel like it's getting a bit long, but then you get attacked by a new enemy or you get rocketted into Hell or something like that and you're suddenly loving it again.\\n\\nThe game can get to be pretty hard, but it's nothing you can't get through after a couple tries.\\n\\nAs for the Collector's Edition, I'd say only get it if you're a big fan of the Doom series. Of course. You've got some interviews and such, some concept art, and the original Dooms. There's really no reason to get it for Doom and Doom 2 unless you HAVE to have them on xbox for some reason. It is fun to get some friends together and play some deathmatches on the XBOX, but beyond that, there's really not much use to them when you could easily just get them for your computer and have the real experience.\\n\\nI really only bought the XBOX version of Doom 3 because my computer would never run it. So yeah. If you have a computer capable of running Doom 3 you shouldn't even be thinking about the XBOX version.</td>\n",
       "      <td>[yeah, doom, 3, is, great, theres, tension, darkness, a, forboding, feeling, and, some, awesome, looking, demons, coming, to, tear, you, apart, and, drag, you, to, hell, im, sure, someones, already, said, that, the, fact, that, you, cant, equip, the, flashlight, at, the, same, time, as, a, gun, really, makes, things, a, little, scarier, the, game, is, good, it, starts, to, feel, like, its, getting, a, bit, long, but, then, you, get, attacked, by, a, new, enemy, or, you, get, rocketted, into, hell, or, something, like, that, and, youre, suddenly, loving, it, again, the, game, can, get, to, be, pretty, hard, ...]</td>\n",
       "    </tr>\n",
       "    <tr>\n",
       "      <th>3326</th>\n",
       "      <td>PDP has impressed me lately with their line of Xbox One &amp; PC accessories, and this wired controller is no exception. PDP's controllers feel almost as good as the Microsoft variety, and they're just as responsive in games. On top of that, the PDP controller has an extra button that, when used in conjunction with the D-Pad, gives you audio controls for a headset via the built-in headphone jack.\\n\\nButtons are sufficiently clicky and triggers have nice resistance. The analog sticks aren't too stiff or too loose, and they have a nice divot in them to make your thumbs sit solidly in place when gaming. The dark camo design looks good, and since it's a wired controller, this feels a bit lighter than an wireless Xbox One controller with batteries. PDP also includes a really nice, long USB cord so you aren't tethered too close to your PC or console.\\n\\nIf you're looking for a nice alternative to the first-party Microsoft controller, you'll be pleased with PDP's offering. The price is decent, the build is nice, and you won't miss a step in your gaming. Five stars, all the way.</td>\n",
       "      <td>[pdp, has, impressed, me, lately, with, their, line, of, xbox, one, pc, accessories, and, this, wired, controller, is, no, exception, pdps, controllers, feel, almost, as, good, as, the, microsoft, variety, and, theyre, just, as, responsive, in, games, on, top, of, that, the, pdp, controller, has, an, extra, button, that, when, used, in, conjunction, with, the, dpad, gives, you, audio, controls, for, a, headset, via, the, builtin, headphone, jack, buttons, are, sufficiently, clicky, and, triggers, have, nice, resistance, the, analog, sticks, arent, too, stiff, or, too, loose, and, they, have, a, nice, divot, in, them, to, make, your, thumbs, sit, solidly, ...]</td>\n",
       "    </tr>\n",
       "  </tbody>\n",
       "</table>\n",
       "</div>"
      ],
      "text/plain": [
       "                                                                                                                                                                                                                                                                                                                                                                                                                                                                                                                                                                                                                                                                                                                                                                                                                                                                                                                                                                                                                                                                                                                                                                                                                                                                                                                                                             reviewText  \\\n",
       "2395                                                                                                                                                                                                                                                                                                                                                                                                                                                                                                                                                                                                                                                                                                                                                                                                                                                                                                                                                                                                                                                                                                                                                                                         I bought this game expecting DLC But then, all i got is cheap crap dlc, but i got mass effect so overall im happy with this product! MASS EFFECT 3 SUCKS! ITS SO TERRIBLE!   \n",
       "3368  Yeah, Doom 3 is great. There's tension, darkness, a forboding feeling, and some awesome looking demons coming to tear you apart and drag you to hell.\\n\\nI'm sure someone's already said that the fact that you can't equip the flashlight at the same time as a gun really makes things a little scarier.\\n\\nThe game is good. It starts to feel like it's getting a bit long, but then you get attacked by a new enemy or you get rocketted into Hell or something like that and you're suddenly loving it again.\\n\\nThe game can get to be pretty hard, but it's nothing you can't get through after a couple tries.\\n\\nAs for the Collector's Edition, I'd say only get it if you're a big fan of the Doom series. Of course. You've got some interviews and such, some concept art, and the original Dooms. There's really no reason to get it for Doom and Doom 2 unless you HAVE to have them on xbox for some reason. It is fun to get some friends together and play some deathmatches on the XBOX, but beyond that, there's really not much use to them when you could easily just get them for your computer and have the real experience.\\n\\nI really only bought the XBOX version of Doom 3 because my computer would never run it. So yeah. If you have a computer capable of running Doom 3 you shouldn't even be thinking about the XBOX version.   \n",
       "3326                                                                                                                                                                                                                                        PDP has impressed me lately with their line of Xbox One & PC accessories, and this wired controller is no exception. PDP's controllers feel almost as good as the Microsoft variety, and they're just as responsive in games. On top of that, the PDP controller has an extra button that, when used in conjunction with the D-Pad, gives you audio controls for a headset via the built-in headphone jack.\\n\\nButtons are sufficiently clicky and triggers have nice resistance. The analog sticks aren't too stiff or too loose, and they have a nice divot in them to make your thumbs sit solidly in place when gaming. The dark camo design looks good, and since it's a wired controller, this feels a bit lighter than an wireless Xbox One controller with batteries. PDP also includes a really nice, long USB cord so you aren't tethered too close to your PC or console.\\n\\nIf you're looking for a nice alternative to the first-party Microsoft controller, you'll be pleased with PDP's offering. The price is decent, the build is nice, and you won't miss a step in your gaming. Five stars, all the way.   \n",
       "\n",
       "                                                                                                                                                                                                                                                                                                                                                                                                                                                                                                                                                                                                                                                                                        tb_tokens  \n",
       "2395                                                                                                                                                                                                                                                                                                                                                                                                                                                                                     [i, bought, this, game, expecting, dlc, but, then, all, i, got, is, cheap, crap, dlc, but, i, got, mass, effect, so, overall, im, happy, with, this, product, mass, effect, 3, sucks, its, so, terrible]  \n",
       "3368                                                   [yeah, doom, 3, is, great, theres, tension, darkness, a, forboding, feeling, and, some, awesome, looking, demons, coming, to, tear, you, apart, and, drag, you, to, hell, im, sure, someones, already, said, that, the, fact, that, you, cant, equip, the, flashlight, at, the, same, time, as, a, gun, really, makes, things, a, little, scarier, the, game, is, good, it, starts, to, feel, like, its, getting, a, bit, long, but, then, you, get, attacked, by, a, new, enemy, or, you, get, rocketted, into, hell, or, something, like, that, and, youre, suddenly, loving, it, again, the, game, can, get, to, be, pretty, hard, ...]  \n",
       "3326  [pdp, has, impressed, me, lately, with, their, line, of, xbox, one, pc, accessories, and, this, wired, controller, is, no, exception, pdps, controllers, feel, almost, as, good, as, the, microsoft, variety, and, theyre, just, as, responsive, in, games, on, top, of, that, the, pdp, controller, has, an, extra, button, that, when, used, in, conjunction, with, the, dpad, gives, you, audio, controls, for, a, headset, via, the, builtin, headphone, jack, buttons, are, sufficiently, clicky, and, triggers, have, nice, resistance, the, analog, sticks, arent, too, stiff, or, too, loose, and, they, have, a, nice, divot, in, them, to, make, your, thumbs, sit, solidly, ...]  "
      ]
     },
     "execution_count": 10,
     "metadata": {},
     "output_type": "execute_result"
    }
   ],
   "source": [
    "reviews[['reviewText','tb_tokens']].sample(3)"
   ]
  },
  {
   "cell_type": "markdown",
   "metadata": {},
   "source": [
    "### Casual Tokenizer"
   ]
  },
  {
   "cell_type": "code",
   "execution_count": 11,
   "metadata": {},
   "outputs": [],
   "source": [
    "from nltk.tokenize.casual import casual_tokenize"
   ]
  },
  {
   "cell_type": "code",
   "execution_count": 12,
   "metadata": {},
   "outputs": [],
   "source": [
    "reviews['casual_tokens'] = reviews['rev_text_lower'].apply(lambda rev: casual_tokenize(str(rev)))"
   ]
  },
  {
   "cell_type": "code",
   "execution_count": 13,
   "metadata": {},
   "outputs": [
    {
     "data": {
      "text/html": [
       "<div>\n",
       "<style scoped>\n",
       "    .dataframe tbody tr th:only-of-type {\n",
       "        vertical-align: middle;\n",
       "    }\n",
       "\n",
       "    .dataframe tbody tr th {\n",
       "        vertical-align: top;\n",
       "    }\n",
       "\n",
       "    .dataframe thead th {\n",
       "        text-align: right;\n",
       "    }\n",
       "</style>\n",
       "<table border=\"1\" class=\"dataframe\">\n",
       "  <thead>\n",
       "    <tr style=\"text-align: right;\">\n",
       "      <th></th>\n",
       "      <th>reviewText</th>\n",
       "      <th>casual_tokens</th>\n",
       "      <th>tb_tokens</th>\n",
       "    </tr>\n",
       "  </thead>\n",
       "  <tbody>\n",
       "    <tr>\n",
       "      <th>3880</th>\n",
       "      <td>A story of love, hatred, betrayal, mystery, and action. The next WB movie? No, even better: Sonic adventure 2: Battle. In SA2:BSB, you'll play as Sonic, Tails &amp; Knuckles (Hero side), or Dr. Eggman and newcomers Shadow the Hedgehog &amp; Rouge the Bat. I'm going to give you sneaky story previews right now:\\n*HERO SIDE STORY*\\nSonic has been framed for stealing none other than the Chaos Emerald! The military team G.U.N. won't believe him though, and Sonic is captured and taken to Prison Island. Tails and Amy come to rescue him, though, but before he leaves, he battles a strange black hedgehog. Who is he, and what does he want with -- the Chaos Emerald?\\n*DARK SIDE STORY*\\nEggman has received traces of a project called Project Shadow, an attempt to create the World's Ultimate Lifeform, a.k.a. Shadow. Eggman finds Shadow, and sets him free of his 50-year prison in an attempt to take over the world. THey team up with the sneaky Rouge the Bat. But what is Shadow's past, and true purpose?\\nYou didn't really think I'd give you the rest, did you? Nope! You'll have to play it yourself to find out what happens. I'll give you a hint though: Both sides will join forces in the final battle against evil! Nothing more.\\nP.S. I heard the original SA for Dreamcast had a much better storyline. How Sonic Team could cook up a plot better than this one is beyond me.....</td>\n",
       "      <td>[a, story, of, love, hatred, betrayal, mystery, and, action, the, next, wb, movie, no, even, better, sonic, adventure, 2, battle, in, sa2bsb, youll, play, as, sonic, tails, knuckles, hero, side, or, dr, eggman, and, newcomers, shadow, the, hedgehog, rouge, the, bat, im, going, to, give, you, sneaky, story, previews, right, now, hero, side, story, sonic, has, been, framed, for, stealing, none, other, than, the, chaos, emerald, the, military, team, gun, wont, believe, him, though, and, sonic, is, captured, and, taken, to, prison, island, tails, and, amy, come, to, rescue, him, though, but, before, he, leaves, he, battles, a, strange, black, ...]</td>\n",
       "      <td>[a, story, of, love, hatred, betrayal, mystery, and, action, the, next, wb, movie, no, even, better, sonic, adventure, 2, battle, in, sa2bsb, youll, play, as, sonic, tails, knuckles, hero, side, or, dr, eggman, and, newcomers, shadow, the, hedgehog, rouge, the, bat, im, going, to, give, you, sneaky, story, previews, right, now, hero, side, story, sonic, has, been, framed, for, stealing, none, other, than, the, chaos, emerald, the, military, team, gun, wont, believe, him, though, and, sonic, is, captured, and, taken, to, prison, island, tails, and, amy, come, to, rescue, him, though, but, before, he, leaves, he, battles, a, strange, black, ...]</td>\n",
       "    </tr>\n",
       "    <tr>\n",
       "      <th>843</th>\n",
       "      <td>poor quality, breaks after two weeks</td>\n",
       "      <td>[poor, quality, breaks, after, two, weeks]</td>\n",
       "      <td>[poor, quality, breaks, after, two, weeks]</td>\n",
       "    </tr>\n",
       "    <tr>\n",
       "      <th>3042</th>\n",
       "      <td>love it</td>\n",
       "      <td>[love, it]</td>\n",
       "      <td>[love, it]</td>\n",
       "    </tr>\n",
       "  </tbody>\n",
       "</table>\n",
       "</div>"
      ],
      "text/plain": [
       "                                                                                                                                                                                                                                                                                                                                                                                                                                                                                                                                                                                                                                                                                                                                                                                                                                                                                                                                                                                                                                                                                                                                                                                                                                                                                                                                                                                                                  reviewText  \\\n",
       "3880  A story of love, hatred, betrayal, mystery, and action. The next WB movie? No, even better: Sonic adventure 2: Battle. In SA2:BSB, you'll play as Sonic, Tails & Knuckles (Hero side), or Dr. Eggman and newcomers Shadow the Hedgehog & Rouge the Bat. I'm going to give you sneaky story previews right now:\\n*HERO SIDE STORY*\\nSonic has been framed for stealing none other than the Chaos Emerald! The military team G.U.N. won't believe him though, and Sonic is captured and taken to Prison Island. Tails and Amy come to rescue him, though, but before he leaves, he battles a strange black hedgehog. Who is he, and what does he want with -- the Chaos Emerald?\\n*DARK SIDE STORY*\\nEggman has received traces of a project called Project Shadow, an attempt to create the World's Ultimate Lifeform, a.k.a. Shadow. Eggman finds Shadow, and sets him free of his 50-year prison in an attempt to take over the world. THey team up with the sneaky Rouge the Bat. But what is Shadow's past, and true purpose?\\nYou didn't really think I'd give you the rest, did you? Nope! You'll have to play it yourself to find out what happens. I'll give you a hint though: Both sides will join forces in the final battle against evil! Nothing more.\\nP.S. I heard the original SA for Dreamcast had a much better storyline. How Sonic Team could cook up a plot better than this one is beyond me.....   \n",
       "843                                                                                                                                                                                                                                                                                                                                                                                                                                                                                                                                                                                                                                                                                                                                                                                                                                                                                                                                                                                                                                                                                                                                                                                                                                                                                                                                                                                     poor quality, breaks after two weeks   \n",
       "3042                                                                                                                                                                                                                                                                                                                                                                                                                                                                                                                                                                                                                                                                                                                                                                                                                                                                                                                                                                                                                                                                                                                                                                                                                                                                                                                                                                                                                 love it   \n",
       "\n",
       "                                                                                                                                                                                                                                                                                                                                                                                                                                                                                                                                                                                                                                                                    casual_tokens  \\\n",
       "3880  [a, story, of, love, hatred, betrayal, mystery, and, action, the, next, wb, movie, no, even, better, sonic, adventure, 2, battle, in, sa2bsb, youll, play, as, sonic, tails, knuckles, hero, side, or, dr, eggman, and, newcomers, shadow, the, hedgehog, rouge, the, bat, im, going, to, give, you, sneaky, story, previews, right, now, hero, side, story, sonic, has, been, framed, for, stealing, none, other, than, the, chaos, emerald, the, military, team, gun, wont, believe, him, though, and, sonic, is, captured, and, taken, to, prison, island, tails, and, amy, come, to, rescue, him, though, but, before, he, leaves, he, battles, a, strange, black, ...]   \n",
       "843                                                                                                                                                                                                                                                                                                                                                                                                                                                                                                                                                                                                                                    [poor, quality, breaks, after, two, weeks]   \n",
       "3042                                                                                                                                                                                                                                                                                                                                                                                                                                                                                                                                                                                                                                                                   [love, it]   \n",
       "\n",
       "                                                                                                                                                                                                                                                                                                                                                                                                                                                                                                                                                                                                                                                                        tb_tokens  \n",
       "3880  [a, story, of, love, hatred, betrayal, mystery, and, action, the, next, wb, movie, no, even, better, sonic, adventure, 2, battle, in, sa2bsb, youll, play, as, sonic, tails, knuckles, hero, side, or, dr, eggman, and, newcomers, shadow, the, hedgehog, rouge, the, bat, im, going, to, give, you, sneaky, story, previews, right, now, hero, side, story, sonic, has, been, framed, for, stealing, none, other, than, the, chaos, emerald, the, military, team, gun, wont, believe, him, though, and, sonic, is, captured, and, taken, to, prison, island, tails, and, amy, come, to, rescue, him, though, but, before, he, leaves, he, battles, a, strange, black, ...]  \n",
       "843                                                                                                                                                                                                                                                                                                                                                                                                                                                                                                                                                                                                                                    [poor, quality, breaks, after, two, weeks]  \n",
       "3042                                                                                                                                                                                                                                                                                                                                                                                                                                                                                                                                                                                                                                                                   [love, it]  "
      ]
     },
     "execution_count": 13,
     "metadata": {},
     "output_type": "execute_result"
    }
   ],
   "source": [
    "reviews[['reviewText','casual_tokens','tb_tokens']].sample(3)"
   ]
  },
  {
   "cell_type": "markdown",
   "metadata": {},
   "source": [
    "### Removing Punctuations and StopWords"
   ]
  },
  {
   "cell_type": "code",
   "execution_count": 14,
   "metadata": {},
   "outputs": [
    {
     "name": "stderr",
     "output_type": "stream",
     "text": [
      "[nltk_data] Downloading package stopwords to\n",
      "[nltk_data]     /Users/koosha.tahmasebipour/nltk_data...\n",
      "[nltk_data]   Package stopwords is already up-to-date!\n"
     ]
    },
    {
     "data": {
      "text/plain": [
       "True"
      ]
     },
     "execution_count": 14,
     "metadata": {},
     "output_type": "execute_result"
    }
   ],
   "source": [
    "nltk.download('stopwords')"
   ]
  },
  {
   "cell_type": "code",
   "execution_count": 46,
   "metadata": {},
   "outputs": [],
   "source": [
    "stop_words = nltk.corpus.stopwords.words('english')"
   ]
  },
  {
   "cell_type": "code",
   "execution_count": 47,
   "metadata": {},
   "outputs": [],
   "source": [
    "stop_words.remove(\"no\")"
   ]
  },
  {
   "cell_type": "code",
   "execution_count": 48,
   "metadata": {},
   "outputs": [],
   "source": [
    "stop_words.remove(\"not\")"
   ]
  },
  {
   "cell_type": "code",
   "execution_count": 49,
   "metadata": {},
   "outputs": [
    {
     "data": {
      "text/plain": [
       "['i', 'me', 'my', 'myself', 'we', 'our', 'ours', 'ourselves', 'you', \"you're\"]"
      ]
     },
     "execution_count": 49,
     "metadata": {},
     "output_type": "execute_result"
    }
   ],
   "source": [
    "stop_words[:10]"
   ]
  },
  {
   "cell_type": "code",
   "execution_count": 51,
   "metadata": {},
   "outputs": [
    {
     "data": {
      "text/plain": [
       "False"
      ]
     },
     "execution_count": 51,
     "metadata": {},
     "output_type": "execute_result"
    }
   ],
   "source": [
    "\"not\" in stop_words"
   ]
  },
  {
   "cell_type": "code",
   "execution_count": 17,
   "metadata": {},
   "outputs": [
    {
     "data": {
      "text/plain": [
       "179"
      ]
     },
     "execution_count": 17,
     "metadata": {},
     "output_type": "execute_result"
    }
   ],
   "source": [
    "len(stop_words)"
   ]
  },
  {
   "cell_type": "code",
   "execution_count": 18,
   "metadata": {},
   "outputs": [
    {
     "name": "stdout",
     "output_type": "stream",
     "text": [
      "!\"#$%&'()*+,-./:;<=>?@[\\]^_`{|}~\n"
     ]
    }
   ],
   "source": [
    "from string import punctuation\n",
    "print(punctuation)"
   ]
  },
  {
   "cell_type": "code",
   "execution_count": 19,
   "metadata": {},
   "outputs": [],
   "source": [
    "reviews['tokens_nosw'] = reviews['tb_tokens'].\\\n",
    "    apply(lambda words: [w for w in words if w not in stop_words and w not in punctuation and w != \"\"])"
   ]
  },
  {
   "cell_type": "code",
   "execution_count": 20,
   "metadata": {},
   "outputs": [
    {
     "data": {
      "text/html": [
       "<div>\n",
       "<style scoped>\n",
       "    .dataframe tbody tr th:only-of-type {\n",
       "        vertical-align: middle;\n",
       "    }\n",
       "\n",
       "    .dataframe tbody tr th {\n",
       "        vertical-align: top;\n",
       "    }\n",
       "\n",
       "    .dataframe thead th {\n",
       "        text-align: right;\n",
       "    }\n",
       "</style>\n",
       "<table border=\"1\" class=\"dataframe\">\n",
       "  <thead>\n",
       "    <tr style=\"text-align: right;\">\n",
       "      <th></th>\n",
       "      <th>tb_tokens</th>\n",
       "      <th>tokens_nosw</th>\n",
       "    </tr>\n",
       "  </thead>\n",
       "  <tbody>\n",
       "    <tr>\n",
       "      <th>2929</th>\n",
       "      <td>[i, have, to, admit, the, thing, looked, really, suspect, when, it, showed, up, but, it, works, as, well, as, a, branded, cable, no, complaints]</td>\n",
       "      <td>[admit, thing, looked, really, suspect, showed, works, well, branded, cable, complaints]</td>\n",
       "    </tr>\n",
       "    <tr>\n",
       "      <th>493</th>\n",
       "      <td>[total, junk, waste, of, money, should, have, brought, a, gears, 4, xbox, one, or, ps4, pro, instead, u, cant, wear, this, thing, for, hours, or, even, a, hour, for, that, matter, without, feeling, sick, and, the, games, dont, even, look, clear]</td>\n",
       "      <td>[total, junk, waste, money, brought, gears, 4, xbox, one, ps4, pro, instead, u, cant, wear, thing, hours, even, hour, matter, without, feeling, sick, games, dont, even, look, clear]</td>\n",
       "    </tr>\n",
       "    <tr>\n",
       "      <th>319</th>\n",
       "      <td>[good, game, but, i, must, stress, my, disappointment, in, the, lack, of, information, given, apparently, the, online, servers, for, this, game, are, no, longer, active, amazon, shouldve, noted, this, in, the, games, description, me, and, a, couple, friends, bought, this, game, knowing, that, it, did, originally, have, online, play, capability, when, it, was, released]</td>\n",
       "      <td>[good, game, must, stress, disappointment, lack, information, given, apparently, online, servers, game, longer, active, amazon, shouldve, noted, games, description, couple, friends, bought, game, knowing, originally, online, play, capability, released]</td>\n",
       "    </tr>\n",
       "  </tbody>\n",
       "</table>\n",
       "</div>"
      ],
      "text/plain": [
       "                                                                                                                                                                                                                                                                                                                                                                                tb_tokens  \\\n",
       "2929                                                                                                                                                                                                                                     [i, have, to, admit, the, thing, looked, really, suspect, when, it, showed, up, but, it, works, as, well, as, a, branded, cable, no, complaints]   \n",
       "493                                                                                                                                 [total, junk, waste, of, money, should, have, brought, a, gears, 4, xbox, one, or, ps4, pro, instead, u, cant, wear, this, thing, for, hours, or, even, a, hour, for, that, matter, without, feeling, sick, and, the, games, dont, even, look, clear]   \n",
       "319   [good, game, but, i, must, stress, my, disappointment, in, the, lack, of, information, given, apparently, the, online, servers, for, this, game, are, no, longer, active, amazon, shouldve, noted, this, in, the, games, description, me, and, a, couple, friends, bought, this, game, knowing, that, it, did, originally, have, online, play, capability, when, it, was, released]   \n",
       "\n",
       "                                                                                                                                                                                                                                                       tokens_nosw  \n",
       "2929                                                                                                                                                                      [admit, thing, looked, really, suspect, showed, works, well, branded, cable, complaints]  \n",
       "493                                                                          [total, junk, waste, money, brought, gears, 4, xbox, one, ps4, pro, instead, u, cant, wear, thing, hours, even, hour, matter, without, feeling, sick, games, dont, even, look, clear]  \n",
       "319   [good, game, must, stress, disappointment, lack, information, given, apparently, online, servers, game, longer, active, amazon, shouldve, noted, games, description, couple, friends, bought, game, knowing, originally, online, play, capability, released]  "
      ]
     },
     "execution_count": 20,
     "metadata": {},
     "output_type": "execute_result"
    }
   ],
   "source": [
    "reviews[['tb_tokens','tokens_nosw']].sample(3)"
   ]
  },
  {
   "cell_type": "markdown",
   "metadata": {},
   "source": [
    "### Stemming"
   ]
  },
  {
   "cell_type": "code",
   "execution_count": 21,
   "metadata": {},
   "outputs": [],
   "source": [
    "from nltk.stem.porter import PorterStemmer"
   ]
  },
  {
   "cell_type": "code",
   "execution_count": 22,
   "metadata": {},
   "outputs": [],
   "source": [
    "stemmer = PorterStemmer()"
   ]
  },
  {
   "cell_type": "code",
   "execution_count": 23,
   "metadata": {},
   "outputs": [],
   "source": [
    "reviews['tokens_stemmed'] = reviews['tokens_nosw'].apply(lambda words: [stemmer.stem(w) for w in words])"
   ]
  },
  {
   "cell_type": "code",
   "execution_count": 24,
   "metadata": {},
   "outputs": [
    {
     "data": {
      "text/html": [
       "<div>\n",
       "<style scoped>\n",
       "    .dataframe tbody tr th:only-of-type {\n",
       "        vertical-align: middle;\n",
       "    }\n",
       "\n",
       "    .dataframe tbody tr th {\n",
       "        vertical-align: top;\n",
       "    }\n",
       "\n",
       "    .dataframe thead th {\n",
       "        text-align: right;\n",
       "    }\n",
       "</style>\n",
       "<table border=\"1\" class=\"dataframe\">\n",
       "  <thead>\n",
       "    <tr style=\"text-align: right;\">\n",
       "      <th></th>\n",
       "      <th>tokens_nosw</th>\n",
       "      <th>tokens_stemmed</th>\n",
       "    </tr>\n",
       "  </thead>\n",
       "  <tbody>\n",
       "    <tr>\n",
       "      <th>962</th>\n",
       "      <td>[one, regretted, game, ever, bought, life, game, simply, horrible, graphic, look, like, made, 10, years, ago, problems, supporting, graphic, cardsthe, audio, sounds, like, separate, game, main, character, talking, sounds, like, hes, recording, room, game, targeting, somehow, broken, put, whole, clip, bullets, someone, perfectly, standing, ai, super, stupid, nothing, good, game, id, say, id, rather, give, money, sister, let, buy, clothes]</td>\n",
       "      <td>[one, regret, game, ever, bought, life, game, simpli, horribl, graphic, look, like, made, 10, year, ago, problem, support, graphic, cardsth, audio, sound, like, separ, game, main, charact, talk, sound, like, he, record, room, game, target, somehow, broken, put, whole, clip, bullet, someon, perfectli, stand, ai, super, stupid, noth, good, game, id, say, id, rather, give, money, sister, let, buy, cloth]</td>\n",
       "    </tr>\n",
       "    <tr>\n",
       "      <th>2312</th>\n",
       "      <td>[game, probably, good, played, internet, linking, systems, would, probably, lot, fun, playing, death, matches, developers, didnt, think, include, little, feature, ive, played, single, player, game, thats, fairly, rate, id, probably, give, 2, half, dont, xbox, live, cant, rate, aspect, game, three, friends, three, xboxes, cant, accurately, review, linking, feature, review, single, player, mode, ok]</td>\n",
       "      <td>[game, probabl, good, play, internet, link, system, would, probabl, lot, fun, play, death, match, develop, didnt, think, includ, littl, featur, ive, play, singl, player, game, that, fairli, rate, id, probabl, give, 2, half, dont, xbox, live, cant, rate, aspect, game, three, friend, three, xbox, cant, accur, review, link, featur, review, singl, player, mode, ok]</td>\n",
       "    </tr>\n",
       "    <tr>\n",
       "      <th>4353</th>\n",
       "      <td>[fun, game, beat, ita, good, sequel, reboot]</td>\n",
       "      <td>[fun, game, beat, ita, good, sequel, reboot]</td>\n",
       "    </tr>\n",
       "  </tbody>\n",
       "</table>\n",
       "</div>"
      ],
      "text/plain": [
       "                                                                                                                                                                                                                                                                                                                                                                                                                                                    tokens_nosw  \\\n",
       "962   [one, regretted, game, ever, bought, life, game, simply, horrible, graphic, look, like, made, 10, years, ago, problems, supporting, graphic, cardsthe, audio, sounds, like, separate, game, main, character, talking, sounds, like, hes, recording, room, game, targeting, somehow, broken, put, whole, clip, bullets, someone, perfectly, standing, ai, super, stupid, nothing, good, game, id, say, id, rather, give, money, sister, let, buy, clothes]   \n",
       "2312                                           [game, probably, good, played, internet, linking, systems, would, probably, lot, fun, playing, death, matches, developers, didnt, think, include, little, feature, ive, played, single, player, game, thats, fairly, rate, id, probably, give, 2, half, dont, xbox, live, cant, rate, aspect, game, three, friends, three, xboxes, cant, accurately, review, linking, feature, review, single, player, mode, ok]   \n",
       "4353                                                                                                                                                                                                                                                                                                                                                                                                               [fun, game, beat, ita, good, sequel, reboot]   \n",
       "\n",
       "                                                                                                                                                                                                                                                                                                                                                                                                            tokens_stemmed  \n",
       "962   [one, regret, game, ever, bought, life, game, simpli, horribl, graphic, look, like, made, 10, year, ago, problem, support, graphic, cardsth, audio, sound, like, separ, game, main, charact, talk, sound, like, he, record, room, game, target, somehow, broken, put, whole, clip, bullet, someon, perfectli, stand, ai, super, stupid, noth, good, game, id, say, id, rather, give, money, sister, let, buy, cloth]  \n",
       "2312                                           [game, probabl, good, play, internet, link, system, would, probabl, lot, fun, play, death, match, develop, didnt, think, includ, littl, featur, ive, play, singl, player, game, that, fairli, rate, id, probabl, give, 2, half, dont, xbox, live, cant, rate, aspect, game, three, friend, three, xbox, cant, accur, review, link, featur, review, singl, player, mode, ok]  \n",
       "4353                                                                                                                                                                                                                                                                                                                                                                          [fun, game, beat, ita, good, sequel, reboot]  "
      ]
     },
     "execution_count": 24,
     "metadata": {},
     "output_type": "execute_result"
    }
   ],
   "source": [
    "reviews[['tokens_nosw','tokens_stemmed']].sample(3)"
   ]
  },
  {
   "cell_type": "markdown",
   "metadata": {},
   "source": [
    "### Lemmatisation"
   ]
  },
  {
   "cell_type": "code",
   "execution_count": 25,
   "metadata": {},
   "outputs": [],
   "source": [
    "from nltk.stem import WordNetLemmatizer\n",
    "from nltk.corpus import wordnet as wn\n",
    "from nltk.corpus import sentiwordnet as swn\n",
    "from nltk import sent_tokenize, word_tokenize, pos_tag"
   ]
  },
  {
   "cell_type": "code",
   "execution_count": 26,
   "metadata": {},
   "outputs": [],
   "source": [
    "def penn_to_wn(tag):\n",
    "    \"\"\"\n",
    "        Convert between the PennTreebank tags to simple Wordnet tags\n",
    "    \"\"\"\n",
    "    if tag.startswith('J'):\n",
    "        return wn.ADJ\n",
    "    elif tag.startswith('N'):\n",
    "        return wn.NOUN\n",
    "    elif tag.startswith('R'):\n",
    "        return wn.ADV\n",
    "    elif tag.startswith('V'):\n",
    "        return wn.VERB\n",
    "    return None"
   ]
  },
  {
   "cell_type": "code",
   "execution_count": 27,
   "metadata": {},
   "outputs": [],
   "source": [
    "lemmatizer = WordNetLemmatizer()\n",
    "def get_lemas(tokens):\n",
    "    lemmas = []\n",
    "    for token in tokens:\n",
    "        pos = penn_to_wn(pos_tag([token])[0][1])\n",
    "        if pos:\n",
    "            lemma = lemmatizer.lemmatize(token, pos)\n",
    "            if lemma:\n",
    "                lemmas.append(lemma)\n",
    "    return lemmas"
   ]
  },
  {
   "cell_type": "code",
   "execution_count": 28,
   "metadata": {},
   "outputs": [],
   "source": [
    "reviews['lemmas'] = reviews['tokens_nosw'].apply(lambda tokens: get_lemas(tokens))"
   ]
  },
  {
   "cell_type": "code",
   "execution_count": 36,
   "metadata": {},
   "outputs": [
    {
     "data": {
      "text/html": [
       "<div>\n",
       "<style scoped>\n",
       "    .dataframe tbody tr th:only-of-type {\n",
       "        vertical-align: middle;\n",
       "    }\n",
       "\n",
       "    .dataframe tbody tr th {\n",
       "        vertical-align: top;\n",
       "    }\n",
       "\n",
       "    .dataframe thead th {\n",
       "        text-align: right;\n",
       "    }\n",
       "</style>\n",
       "<table border=\"1\" class=\"dataframe\">\n",
       "  <thead>\n",
       "    <tr style=\"text-align: right;\">\n",
       "      <th></th>\n",
       "      <th>reviewText</th>\n",
       "      <th>tokens_stemmed</th>\n",
       "      <th>lemmas</th>\n",
       "    </tr>\n",
       "  </thead>\n",
       "  <tbody>\n",
       "    <tr>\n",
       "      <th>3825</th>\n",
       "      <td>It was great</td>\n",
       "      <td>[great]</td>\n",
       "      <td>[great]</td>\n",
       "    </tr>\n",
       "    <tr>\n",
       "      <th>3326</th>\n",
       "      <td>PDP has impressed me lately with their line of Xbox One &amp; PC accessories, and this wired controller is no exception. PDP's controllers feel almost as good as the Microsoft variety, and they're just as responsive in games. On top of that, the PDP controller has an extra button that, when used in conjunction with the D-Pad, gives you audio controls for a headset via the built-in headphone jack.\\n\\nButtons are sufficiently clicky and triggers have nice resistance. The analog sticks aren't too stiff or too loose, and they have a nice divot in them to make your thumbs sit solidly in place when gaming. The dark camo design looks good, and since it's a wired controller, this feels a bit lighter than an wireless Xbox One controller with batteries. PDP also includes a really nice, long USB cord so you aren't tethered too close to your PC or console.\\n\\nIf you're looking for a nice alternative to the first-party Microsoft controller, you'll be pleased with PDP's offering. The price is decent, the build is nice, and you won't miss a step in your gaming. Five stars, all the way.</td>\n",
       "      <td>[pdp, impress, late, line, xbox, one, pc, accessori, wire, control, except, pdp, control, feel, almost, good, microsoft, varieti, theyr, respons, game, top, pdp, control, extra, button, use, conjunct, dpad, give, audio, control, headset, via, builtin, headphon, jack, button, suffici, clicki, trigger, nice, resist, analog, stick, arent, stiff, loos, nice, divot, make, thumb, sit, solidli, place, game, dark, camo, design, look, good, sinc, wire, control, feel, bit, lighter, wireless, xbox, one, control, batteri, pdp, also, includ, realli, nice, long, usb, cord, arent, tether, close, pc, consol, your, look, nice, altern, firstparti, microsoft, control, youll, pleas, pdp, offer, price, decent, build, nice, ...]</td>\n",
       "      <td>[pdp, impressed, lately, line, xbox, pc, accessory, wire, controller, exception, pdps, controller, feel, almost, good, microsoft, variety, theyre, responsive, game, top, pdp, controller, extra, button, use, conjunction, dpad, give, audio, control, headset, builtin, headphone, jack, button, sufficiently, clicky, trigger, nice, resistance, analog, stick, arent, stiff, loose, nice, divot, make, thumb, sit, solidly, place, game, dark, camo, design, look, good, wire, controller, feel, bit, lighter, wireless, xbox, controller, battery, pdp, also, include, really, nice, long, usb, cord, arent, tether, close, pc, console, youre, look, nice, alternative, firstparty, microsoft, controller, youll, pleased, pdps, offering, price, decent, build, nice, wont, miss, step, game, ...]</td>\n",
       "    </tr>\n",
       "    <tr>\n",
       "      <th>2812</th>\n",
       "      <td>Yes there are some things missing.  No training camp for instance.  There are some other things missing.  However.  There is no better football game out on the XBOX 360.  IN fact there is no other football game.  So this is it.  Will it do ok?  Yes.  It is still a pretty darn fine little football game.  Was everyone expecting more?  You bet.  But let's not completely discount that this is still Madden and still holds most of the charm of the former entries in the series.\\n\\nBottom Line:  If you are a football nut will you like this game?  Yes.  Will you friends like it?  They may be miffed at some exclusions and changes, but they will be in awe of it's beauty.  Good game.  Get it if you need a football game.</td>\n",
       "      <td>[ye, thing, miss, train, camp, instanc, thing, miss, howev, better, footbal, game, xbox, 360, fact, footbal, game, ok, ye, still, pretti, darn, fine, littl, footbal, game, everyon, expect, bet, let, complet, discount, still, madden, still, hold, charm, former, entri, seri, bottom, line, footbal, nut, like, game, ye, friend, like, may, mif, exclus, chang, awe, beauti, good, game, get, need, footbal, game]</td>\n",
       "      <td>[yes, thing, miss, training, camp, instance, thing, miss, however, well, football, game, xbox, fact, football, game, ok, yes, still, pretty, darn, fine, little, football, game, everyone, expect, bet, let, completely, discount, still, madden, still, hold, charm, former, entry, series, bottom, line, football, nut, game, yes, friend, miffed, exclusion, change, awe, beauty, good, game, get, need, football, game]</td>\n",
       "    </tr>\n",
       "  </tbody>\n",
       "</table>\n",
       "</div>"
      ],
      "text/plain": [
       "                                                                                                                                                                                                                                                                                                                                                                                                                                                                                                                                                                                                                                                                                                                                                                                                                                                                                                                                                                                                                                                                                                                       reviewText  \\\n",
       "3825                                                                                                                                                                                                                                                                                                                                                                                                                                                                                                                                                                                                                                                                                                                                                                                                                                                                                                                                                                                                                                                                                                                 It was great   \n",
       "3326  PDP has impressed me lately with their line of Xbox One & PC accessories, and this wired controller is no exception. PDP's controllers feel almost as good as the Microsoft variety, and they're just as responsive in games. On top of that, the PDP controller has an extra button that, when used in conjunction with the D-Pad, gives you audio controls for a headset via the built-in headphone jack.\\n\\nButtons are sufficiently clicky and triggers have nice resistance. The analog sticks aren't too stiff or too loose, and they have a nice divot in them to make your thumbs sit solidly in place when gaming. The dark camo design looks good, and since it's a wired controller, this feels a bit lighter than an wireless Xbox One controller with batteries. PDP also includes a really nice, long USB cord so you aren't tethered too close to your PC or console.\\n\\nIf you're looking for a nice alternative to the first-party Microsoft controller, you'll be pleased with PDP's offering. The price is decent, the build is nice, and you won't miss a step in your gaming. Five stars, all the way.   \n",
       "2812                                                                                                                                                                                                                                                                                                                                                                                Yes there are some things missing.  No training camp for instance.  There are some other things missing.  However.  There is no better football game out on the XBOX 360.  IN fact there is no other football game.  So this is it.  Will it do ok?  Yes.  It is still a pretty darn fine little football game.  Was everyone expecting more?  You bet.  But let's not completely discount that this is still Madden and still holds most of the charm of the former entries in the series.\\n\\nBottom Line:  If you are a football nut will you like this game?  Yes.  Will you friends like it?  They may be miffed at some exclusions and changes, but they will be in awe of it's beauty.  Good game.  Get it if you need a football game.   \n",
       "\n",
       "                                                                                                                                                                                                                                                                                                                                                                                                                                                                                                                                                                                                                                                                                                                                    tokens_stemmed  \\\n",
       "3825                                                                                                                                                                                                                                                                                                                                                                                                                                                                                                                                                                                                                                                                                                                                       [great]   \n",
       "3326  [pdp, impress, late, line, xbox, one, pc, accessori, wire, control, except, pdp, control, feel, almost, good, microsoft, varieti, theyr, respons, game, top, pdp, control, extra, button, use, conjunct, dpad, give, audio, control, headset, via, builtin, headphon, jack, button, suffici, clicki, trigger, nice, resist, analog, stick, arent, stiff, loos, nice, divot, make, thumb, sit, solidli, place, game, dark, camo, design, look, good, sinc, wire, control, feel, bit, lighter, wireless, xbox, one, control, batteri, pdp, also, includ, realli, nice, long, usb, cord, arent, tether, close, pc, consol, your, look, nice, altern, firstparti, microsoft, control, youll, pleas, pdp, offer, price, decent, build, nice, ...]   \n",
       "2812                                                                                                                                                                                                                                                                                                                       [ye, thing, miss, train, camp, instanc, thing, miss, howev, better, footbal, game, xbox, 360, fact, footbal, game, ok, ye, still, pretti, darn, fine, littl, footbal, game, everyon, expect, bet, let, complet, discount, still, madden, still, hold, charm, former, entri, seri, bottom, line, footbal, nut, like, game, ye, friend, like, may, mif, exclus, chang, awe, beauti, good, game, get, need, footbal, game]   \n",
       "\n",
       "                                                                                                                                                                                                                                                                                                                                                                                                                                                                                                                                                                                                                                                                                                                                                                                                         lemmas  \n",
       "3825                                                                                                                                                                                                                                                                                                                                                                                                                                                                                                                                                                                                                                                                                                                                                                                                    [great]  \n",
       "3326  [pdp, impressed, lately, line, xbox, pc, accessory, wire, controller, exception, pdps, controller, feel, almost, good, microsoft, variety, theyre, responsive, game, top, pdp, controller, extra, button, use, conjunction, dpad, give, audio, control, headset, builtin, headphone, jack, button, sufficiently, clicky, trigger, nice, resistance, analog, stick, arent, stiff, loose, nice, divot, make, thumb, sit, solidly, place, game, dark, camo, design, look, good, wire, controller, feel, bit, lighter, wireless, xbox, controller, battery, pdp, also, include, really, nice, long, usb, cord, arent, tether, close, pc, console, youre, look, nice, alternative, firstparty, microsoft, controller, youll, pleased, pdps, offering, price, decent, build, nice, wont, miss, step, game, ...]  \n",
       "2812                                                                                                                                                                                                                                                                                                                                                                                [yes, thing, miss, training, camp, instance, thing, miss, however, well, football, game, xbox, fact, football, game, ok, yes, still, pretty, darn, fine, little, football, game, everyone, expect, bet, let, completely, discount, still, madden, still, hold, charm, former, entry, series, bottom, line, football, nut, game, yes, friend, miffed, exclusion, change, awe, beauty, good, game, get, need, football, game]  "
      ]
     },
     "execution_count": 36,
     "metadata": {},
     "output_type": "execute_result"
    }
   ],
   "source": [
    "reviews[['reviewText','tokens_stemmed','lemmas']].sample(3)"
   ]
  },
  {
   "cell_type": "markdown",
   "metadata": {},
   "source": [
    "### Sentiment Predictor Baseline Model"
   ]
  },
  {
   "cell_type": "code",
   "execution_count": null,
   "metadata": {},
   "outputs": [],
   "source": []
  },
  {
   "cell_type": "code",
   "execution_count": null,
   "metadata": {},
   "outputs": [],
   "source": []
  },
  {
   "cell_type": "code",
   "execution_count": null,
   "metadata": {},
   "outputs": [],
   "source": []
  },
  {
   "cell_type": "code",
   "execution_count": null,
   "metadata": {},
   "outputs": [],
   "source": []
  },
  {
   "cell_type": "code",
   "execution_count": null,
   "metadata": {},
   "outputs": [],
   "source": []
  },
  {
   "cell_type": "code",
   "execution_count": null,
   "metadata": {},
   "outputs": [],
   "source": []
  },
  {
   "cell_type": "code",
   "execution_count": null,
   "metadata": {},
   "outputs": [],
   "source": []
  },
  {
   "cell_type": "code",
   "execution_count": null,
   "metadata": {},
   "outputs": [],
   "source": []
  },
  {
   "cell_type": "code",
   "execution_count": null,
   "metadata": {},
   "outputs": [],
   "source": []
  },
  {
   "cell_type": "code",
   "execution_count": null,
   "metadata": {},
   "outputs": [],
   "source": []
  },
  {
   "cell_type": "code",
   "execution_count": 30,
   "metadata": {},
   "outputs": [],
   "source": [
    "from nltk import pos_tag"
   ]
  },
  {
   "cell_type": "code",
   "execution_count": 31,
   "metadata": {},
   "outputs": [
    {
     "data": {
      "text/plain": [
       "[('Hi', 'NNP'),\n",
       " ('how', 'WRB'),\n",
       " ('are', 'VBP'),\n",
       " ('you', 'PRP'),\n",
       " ('exactly', 'RB'),\n",
       " ('my', 'PRP$'),\n",
       " ('dear', 'NN')]"
      ]
     },
     "execution_count": 31,
     "metadata": {},
     "output_type": "execute_result"
    }
   ],
   "source": [
    "pos_tag(\"Hi how are you exactly my dear\".split())"
   ]
  },
  {
   "cell_type": "code",
   "execution_count": 32,
   "metadata": {},
   "outputs": [
    {
     "name": "stderr",
     "output_type": "stream",
     "text": [
      "[nltk_data] Downloading package sentiwordnet to\n",
      "[nltk_data]     /Users/koosha.tahmasebipour/nltk_data...\n",
      "[nltk_data]   Package sentiwordnet is already up-to-date!\n"
     ]
    }
   ],
   "source": [
    "nltk.download('sentiwordnet')\n",
    "from nltk.corpus import sentiwordnet as swn"
   ]
  },
  {
   "cell_type": "code",
   "execution_count": 33,
   "metadata": {},
   "outputs": [
    {
     "data": {
      "text/plain": [
       "[SentiSynset('happy.a.01'),\n",
       " SentiSynset('felicitous.s.02'),\n",
       " SentiSynset('glad.s.02'),\n",
       " SentiSynset('happy.s.04')]"
      ]
     },
     "execution_count": 33,
     "metadata": {},
     "output_type": "execute_result"
    }
   ],
   "source": [
    "list(swn.senti_synsets(\"happy\"))"
   ]
  },
  {
   "cell_type": "code",
   "execution_count": 34,
   "metadata": {},
   "outputs": [
    {
     "data": {
      "text/plain": [
       "SentiSynset('sad.a.01')"
      ]
     },
     "execution_count": 34,
     "metadata": {},
     "output_type": "execute_result"
    }
   ],
   "source": [
    "list(swn.senti_synsets(\"sad\"))[0]"
   ]
  },
  {
   "cell_type": "code",
   "execution_count": 35,
   "metadata": {},
   "outputs": [
    {
     "name": "stdout",
     "output_type": "stream",
     "text": [
      " List      Positive score  Negative Score \n",
      " Joy1      0.500           0.250          \n",
      " Joy2      0.375           0.000          \n",
      " Trouble1  0.000           0.625          \n",
      " Trouble2  0.000           0.500          \n"
     ]
    }
   ],
   "source": [
    "joy1 = swn.senti_synset('joy.n.01')\n",
    "joy2 = swn.senti_synset('joy.n.02')\n",
    " \n",
    "trouble1 = swn.senti_synset('trouble.n.03')\n",
    "trouble2 = swn.senti_synset('trouble.n.04')\n",
    " \n",
    " \n",
    "categories = [\"Joy1\", \"Joy2\", \"Trouble1\", \"Trouble2\"]\n",
    "rows = []\n",
    "rows.append([\"List\", \"Positive score\", \"Negative Score\"])\n",
    "accs = {}\n",
    "accs[\"Joy1\"] = [joy1.pos_score(), joy1.neg_score()]\n",
    "accs[\"Joy2\"] = [joy2.pos_score(), joy2.neg_score()]\n",
    "accs[\"Trouble1\"] = [trouble1.pos_score(), trouble1.neg_score()]\n",
    "accs[\"Trouble2\"] = [trouble2.pos_score(), trouble2.neg_score()]\n",
    "for cat in categories:\n",
    "    rows.append([cat, f\"{accs.get(cat)[0]:.3f}\",\n",
    "                f\"{accs.get(cat)[1]:.3f}\"])\n",
    " \n",
    "columns = zip(*rows)\n",
    "column_widths = [max(len(item) for item in col) for col in columns]\n",
    "for row in rows:\n",
    "    print(''.join(' {:{width}} '.format(row[i], width=column_widths[i])\n",
    "                  for i in range(0, len(row))))"
   ]
  },
  {
   "cell_type": "code",
   "execution_count": null,
   "metadata": {},
   "outputs": [],
   "source": []
  },
  {
   "cell_type": "code",
   "execution_count": null,
   "metadata": {},
   "outputs": [],
   "source": []
  }
 ],
 "metadata": {
  "kernelspec": {
   "display_name": "Python 3",
   "language": "python",
   "name": "python3"
  },
  "language_info": {
   "codemirror_mode": {
    "name": "ipython",
    "version": 3
   },
   "file_extension": ".py",
   "mimetype": "text/x-python",
   "name": "python",
   "nbconvert_exporter": "python",
   "pygments_lexer": "ipython3",
   "version": "3.6.12"
  }
 },
 "nbformat": 4,
 "nbformat_minor": 4
}
